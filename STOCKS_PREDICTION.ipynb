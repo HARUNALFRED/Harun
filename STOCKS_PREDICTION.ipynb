{
 "cells": [
  {
   "cell_type": "code",
   "execution_count": 1,
   "id": "f3241cff-6bf5-4017-86fc-70f4c69b13ea",
   "metadata": {
    "tags": []
   },
   "outputs": [
    {
     "name": "stdout",
     "output_type": "stream",
     "text": [
      "[*********************100%***********************]  1 of 1 completed\n"
     ]
    }
   ],
   "source": [
    "import pandas as pd\n",
    "import yfinance as yf\n",
    "from datetime import datetime, timedelta\n",
    "\n",
    "# Set the ticker symbol for SPY (SPDR S&P 500 ETF Trust)\n",
    "ticker_symbol = \"SPY\"\n",
    "\n",
    "# Calculate the date 2 years ago from the current date\n",
    "end_date = datetime.now()\n",
    "start_date = end_date - timedelta(days=40*365)  # Assuming an average year has 365 days\n",
    "\n",
    "# Fetch historical data from Yahoo Finance for the past 2 years up to the current date\n",
    "sp500 = yf.download(ticker_symbol, start=start_date, end=end_date)\n",
    "\n",
    "# Print the data\n",
    "# print(sp500)\n"
   ]
  },
  {
   "cell_type": "code",
   "execution_count": 2,
   "id": "fd473d3a-ccd2-43dc-8a5d-84aa27982072",
   "metadata": {
    "tags": []
   },
   "outputs": [],
   "source": [
    "# import pandas as pd\n",
    "# import yfinance as yf\n",
    "\n",
    "# # Set the ticker symbol for SPY (SPDR S&P 500 ETF Trust)\n",
    "# ticker_symbol = \"SPY\"\n",
    "\n",
    "# # Fetch historical data from Yahoo Finance\n",
    "# sp500 = yf.download(ticker_symbol, period=\"max\")\n",
    "\n",
    "# # Trim data to recent dates\n",
    "# recent_sp500 = sp500.tail(100)  # Select the most recent 100 rows\n",
    "\n",
    "# # Print the trimmed data\n",
    "# print(recent_sp500)\n"
   ]
  },
  {
   "cell_type": "code",
   "execution_count": 3,
   "id": "f5e0628b-d625-47d1-a973-58275a884360",
   "metadata": {
    "tags": []
   },
   "outputs": [
    {
     "data": {
      "text/html": [
       "<div>\n",
       "<style scoped>\n",
       "    .dataframe tbody tr th:only-of-type {\n",
       "        vertical-align: middle;\n",
       "    }\n",
       "\n",
       "    .dataframe tbody tr th {\n",
       "        vertical-align: top;\n",
       "    }\n",
       "\n",
       "    .dataframe thead th {\n",
       "        text-align: right;\n",
       "    }\n",
       "</style>\n",
       "<table border=\"1\" class=\"dataframe\">\n",
       "  <thead>\n",
       "    <tr style=\"text-align: right;\">\n",
       "      <th></th>\n",
       "      <th>Open</th>\n",
       "      <th>High</th>\n",
       "      <th>Low</th>\n",
       "      <th>Close</th>\n",
       "      <th>Adj Close</th>\n",
       "      <th>Volume</th>\n",
       "    </tr>\n",
       "    <tr>\n",
       "      <th>Date</th>\n",
       "      <th></th>\n",
       "      <th></th>\n",
       "      <th></th>\n",
       "      <th></th>\n",
       "      <th></th>\n",
       "      <th></th>\n",
       "    </tr>\n",
       "  </thead>\n",
       "  <tbody>\n",
       "    <tr>\n",
       "      <th>1993-01-29</th>\n",
       "      <td>43.968750</td>\n",
       "      <td>43.968750</td>\n",
       "      <td>43.750000</td>\n",
       "      <td>43.937500</td>\n",
       "      <td>24.941393</td>\n",
       "      <td>1003200</td>\n",
       "    </tr>\n",
       "    <tr>\n",
       "      <th>1993-02-01</th>\n",
       "      <td>43.968750</td>\n",
       "      <td>44.250000</td>\n",
       "      <td>43.968750</td>\n",
       "      <td>44.250000</td>\n",
       "      <td>25.118797</td>\n",
       "      <td>480500</td>\n",
       "    </tr>\n",
       "    <tr>\n",
       "      <th>1993-02-02</th>\n",
       "      <td>44.218750</td>\n",
       "      <td>44.375000</td>\n",
       "      <td>44.125000</td>\n",
       "      <td>44.343750</td>\n",
       "      <td>25.172012</td>\n",
       "      <td>201300</td>\n",
       "    </tr>\n",
       "    <tr>\n",
       "      <th>1993-02-03</th>\n",
       "      <td>44.406250</td>\n",
       "      <td>44.843750</td>\n",
       "      <td>44.375000</td>\n",
       "      <td>44.812500</td>\n",
       "      <td>25.438095</td>\n",
       "      <td>529400</td>\n",
       "    </tr>\n",
       "    <tr>\n",
       "      <th>1993-02-04</th>\n",
       "      <td>44.968750</td>\n",
       "      <td>45.093750</td>\n",
       "      <td>44.468750</td>\n",
       "      <td>45.000000</td>\n",
       "      <td>25.544537</td>\n",
       "      <td>531500</td>\n",
       "    </tr>\n",
       "    <tr>\n",
       "      <th>...</th>\n",
       "      <td>...</td>\n",
       "      <td>...</td>\n",
       "      <td>...</td>\n",
       "      <td>...</td>\n",
       "      <td>...</td>\n",
       "      <td>...</td>\n",
       "    </tr>\n",
       "    <tr>\n",
       "      <th>2023-11-30</th>\n",
       "      <td>455.480011</td>\n",
       "      <td>456.760010</td>\n",
       "      <td>453.339996</td>\n",
       "      <td>456.399994</td>\n",
       "      <td>456.399994</td>\n",
       "      <td>79752700</td>\n",
       "    </tr>\n",
       "    <tr>\n",
       "      <th>2023-12-01</th>\n",
       "      <td>455.769989</td>\n",
       "      <td>459.649994</td>\n",
       "      <td>455.160004</td>\n",
       "      <td>459.100006</td>\n",
       "      <td>459.100006</td>\n",
       "      <td>89097900</td>\n",
       "    </tr>\n",
       "    <tr>\n",
       "      <th>2023-12-04</th>\n",
       "      <td>455.600006</td>\n",
       "      <td>459.119995</td>\n",
       "      <td>454.339996</td>\n",
       "      <td>456.690002</td>\n",
       "      <td>456.690002</td>\n",
       "      <td>72430900</td>\n",
       "    </tr>\n",
       "    <tr>\n",
       "      <th>2023-12-05</th>\n",
       "      <td>455.260010</td>\n",
       "      <td>457.589996</td>\n",
       "      <td>454.869995</td>\n",
       "      <td>456.600006</td>\n",
       "      <td>456.600006</td>\n",
       "      <td>69687100</td>\n",
       "    </tr>\n",
       "    <tr>\n",
       "      <th>2023-12-06</th>\n",
       "      <td>458.809998</td>\n",
       "      <td>458.832489</td>\n",
       "      <td>455.600006</td>\n",
       "      <td>456.015015</td>\n",
       "      <td>456.015015</td>\n",
       "      <td>30786628</td>\n",
       "    </tr>\n",
       "  </tbody>\n",
       "</table>\n",
       "<p>7770 rows × 6 columns</p>\n",
       "</div>"
      ],
      "text/plain": [
       "                  Open        High         Low       Close   Adj Close  \\\n",
       "Date                                                                     \n",
       "1993-01-29   43.968750   43.968750   43.750000   43.937500   24.941393   \n",
       "1993-02-01   43.968750   44.250000   43.968750   44.250000   25.118797   \n",
       "1993-02-02   44.218750   44.375000   44.125000   44.343750   25.172012   \n",
       "1993-02-03   44.406250   44.843750   44.375000   44.812500   25.438095   \n",
       "1993-02-04   44.968750   45.093750   44.468750   45.000000   25.544537   \n",
       "...                ...         ...         ...         ...         ...   \n",
       "2023-11-30  455.480011  456.760010  453.339996  456.399994  456.399994   \n",
       "2023-12-01  455.769989  459.649994  455.160004  459.100006  459.100006   \n",
       "2023-12-04  455.600006  459.119995  454.339996  456.690002  456.690002   \n",
       "2023-12-05  455.260010  457.589996  454.869995  456.600006  456.600006   \n",
       "2023-12-06  458.809998  458.832489  455.600006  456.015015  456.015015   \n",
       "\n",
       "              Volume  \n",
       "Date                  \n",
       "1993-01-29   1003200  \n",
       "1993-02-01    480500  \n",
       "1993-02-02    201300  \n",
       "1993-02-03    529400  \n",
       "1993-02-04    531500  \n",
       "...              ...  \n",
       "2023-11-30  79752700  \n",
       "2023-12-01  89097900  \n",
       "2023-12-04  72430900  \n",
       "2023-12-05  69687100  \n",
       "2023-12-06  30786628  \n",
       "\n",
       "[7770 rows x 6 columns]"
      ]
     },
     "execution_count": 3,
     "metadata": {},
     "output_type": "execute_result"
    }
   ],
   "source": [
    "sp500"
   ]
  },
  {
   "cell_type": "code",
   "execution_count": 4,
   "id": "91647d78-2b89-4345-8d65-b86d6e8e587f",
   "metadata": {
    "tags": []
   },
   "outputs": [
    {
     "data": {
      "text/plain": [
       "<bound method NDFrame._add_numeric_operations.<locals>.mean of                   Open        High         Low       Close   Adj Close  \\\n",
       "Date                                                                     \n",
       "1993-01-29   43.968750   43.968750   43.750000   43.937500   24.941393   \n",
       "1993-02-01   43.968750   44.250000   43.968750   44.250000   25.118797   \n",
       "1993-02-02   44.218750   44.375000   44.125000   44.343750   25.172012   \n",
       "1993-02-03   44.406250   44.843750   44.375000   44.812500   25.438095   \n",
       "1993-02-04   44.968750   45.093750   44.468750   45.000000   25.544537   \n",
       "...                ...         ...         ...         ...         ...   \n",
       "2023-11-30  455.480011  456.760010  453.339996  456.399994  456.399994   \n",
       "2023-12-01  455.769989  459.649994  455.160004  459.100006  459.100006   \n",
       "2023-12-04  455.600006  459.119995  454.339996  456.690002  456.690002   \n",
       "2023-12-05  455.260010  457.589996  454.869995  456.600006  456.600006   \n",
       "2023-12-06  458.809998  458.832489  455.600006  456.015015  456.015015   \n",
       "\n",
       "              Volume  \n",
       "Date                  \n",
       "1993-01-29   1003200  \n",
       "1993-02-01    480500  \n",
       "1993-02-02    201300  \n",
       "1993-02-03    529400  \n",
       "1993-02-04    531500  \n",
       "...              ...  \n",
       "2023-11-30  79752700  \n",
       "2023-12-01  89097900  \n",
       "2023-12-04  72430900  \n",
       "2023-12-05  69687100  \n",
       "2023-12-06  30786628  \n",
       "\n",
       "[7770 rows x 6 columns]>"
      ]
     },
     "execution_count": 4,
     "metadata": {},
     "output_type": "execute_result"
    }
   ],
   "source": [
    "sp500.mean"
   ]
  },
  {
   "cell_type": "code",
   "execution_count": 5,
   "id": "c981d3ab-6ebb-44a1-91de-ab32b92622c9",
   "metadata": {
    "tags": []
   },
   "outputs": [
    {
     "data": {
      "text/plain": [
       "<bound method DataFrame.mode of                   Open        High         Low       Close   Adj Close  \\\n",
       "Date                                                                     \n",
       "1993-01-29   43.968750   43.968750   43.750000   43.937500   24.941393   \n",
       "1993-02-01   43.968750   44.250000   43.968750   44.250000   25.118797   \n",
       "1993-02-02   44.218750   44.375000   44.125000   44.343750   25.172012   \n",
       "1993-02-03   44.406250   44.843750   44.375000   44.812500   25.438095   \n",
       "1993-02-04   44.968750   45.093750   44.468750   45.000000   25.544537   \n",
       "...                ...         ...         ...         ...         ...   \n",
       "2023-11-30  455.480011  456.760010  453.339996  456.399994  456.399994   \n",
       "2023-12-01  455.769989  459.649994  455.160004  459.100006  459.100006   \n",
       "2023-12-04  455.600006  459.119995  454.339996  456.690002  456.690002   \n",
       "2023-12-05  455.260010  457.589996  454.869995  456.600006  456.600006   \n",
       "2023-12-06  458.809998  458.832489  455.600006  456.015015  456.015015   \n",
       "\n",
       "              Volume  \n",
       "Date                  \n",
       "1993-01-29   1003200  \n",
       "1993-02-01    480500  \n",
       "1993-02-02    201300  \n",
       "1993-02-03    529400  \n",
       "1993-02-04    531500  \n",
       "...              ...  \n",
       "2023-11-30  79752700  \n",
       "2023-12-01  89097900  \n",
       "2023-12-04  72430900  \n",
       "2023-12-05  69687100  \n",
       "2023-12-06  30786628  \n",
       "\n",
       "[7770 rows x 6 columns]>"
      ]
     },
     "execution_count": 5,
     "metadata": {},
     "output_type": "execute_result"
    }
   ],
   "source": [
    "sp500.mode"
   ]
  },
  {
   "cell_type": "code",
   "execution_count": 6,
   "id": "d4f22982-3ef4-4eee-a7a1-1b58b6c3ef5e",
   "metadata": {
    "tags": []
   },
   "outputs": [
    {
     "data": {
      "text/html": [
       "<div>\n",
       "<style scoped>\n",
       "    .dataframe tbody tr th:only-of-type {\n",
       "        vertical-align: middle;\n",
       "    }\n",
       "\n",
       "    .dataframe tbody tr th {\n",
       "        vertical-align: top;\n",
       "    }\n",
       "\n",
       "    .dataframe thead th {\n",
       "        text-align: right;\n",
       "    }\n",
       "</style>\n",
       "<table border=\"1\" class=\"dataframe\">\n",
       "  <thead>\n",
       "    <tr style=\"text-align: right;\">\n",
       "      <th></th>\n",
       "      <th>Open</th>\n",
       "      <th>High</th>\n",
       "      <th>Low</th>\n",
       "      <th>Close</th>\n",
       "      <th>Adj Close</th>\n",
       "      <th>Volume</th>\n",
       "    </tr>\n",
       "  </thead>\n",
       "  <tbody>\n",
       "    <tr>\n",
       "      <th>count</th>\n",
       "      <td>7770.000000</td>\n",
       "      <td>7770.000000</td>\n",
       "      <td>7770.000000</td>\n",
       "      <td>7770.000000</td>\n",
       "      <td>7770.000000</td>\n",
       "      <td>7.770000e+03</td>\n",
       "    </tr>\n",
       "    <tr>\n",
       "      <th>mean</th>\n",
       "      <td>169.834751</td>\n",
       "      <td>170.854882</td>\n",
       "      <td>168.712514</td>\n",
       "      <td>169.841970</td>\n",
       "      <td>141.959571</td>\n",
       "      <td>8.447380e+07</td>\n",
       "    </tr>\n",
       "    <tr>\n",
       "      <th>std</th>\n",
       "      <td>105.883612</td>\n",
       "      <td>106.454959</td>\n",
       "      <td>105.274768</td>\n",
       "      <td>105.906979</td>\n",
       "      <td>112.018885</td>\n",
       "      <td>9.242434e+07</td>\n",
       "    </tr>\n",
       "    <tr>\n",
       "      <th>min</th>\n",
       "      <td>43.343750</td>\n",
       "      <td>43.531250</td>\n",
       "      <td>42.812500</td>\n",
       "      <td>43.406250</td>\n",
       "      <td>24.639828</td>\n",
       "      <td>5.200000e+03</td>\n",
       "    </tr>\n",
       "    <tr>\n",
       "      <th>25%</th>\n",
       "      <td>105.200003</td>\n",
       "      <td>106.012503</td>\n",
       "      <td>104.352499</td>\n",
       "      <td>105.181875</td>\n",
       "      <td>70.883951</td>\n",
       "      <td>9.942825e+06</td>\n",
       "    </tr>\n",
       "    <tr>\n",
       "      <th>50%</th>\n",
       "      <td>132.071251</td>\n",
       "      <td>132.860001</td>\n",
       "      <td>131.070007</td>\n",
       "      <td>131.974998</td>\n",
       "      <td>93.763607</td>\n",
       "      <td>6.295260e+07</td>\n",
       "    </tr>\n",
       "    <tr>\n",
       "      <th>75%</th>\n",
       "      <td>209.932499</td>\n",
       "      <td>210.792503</td>\n",
       "      <td>209.107502</td>\n",
       "      <td>210.070007</td>\n",
       "      <td>181.609989</td>\n",
       "      <td>1.160220e+08</td>\n",
       "    </tr>\n",
       "    <tr>\n",
       "      <th>max</th>\n",
       "      <td>479.220001</td>\n",
       "      <td>479.980011</td>\n",
       "      <td>476.059998</td>\n",
       "      <td>477.709991</td>\n",
       "      <td>464.923401</td>\n",
       "      <td>8.710263e+08</td>\n",
       "    </tr>\n",
       "  </tbody>\n",
       "</table>\n",
       "</div>"
      ],
      "text/plain": [
       "              Open         High          Low        Close    Adj Close  \\\n",
       "count  7770.000000  7770.000000  7770.000000  7770.000000  7770.000000   \n",
       "mean    169.834751   170.854882   168.712514   169.841970   141.959571   \n",
       "std     105.883612   106.454959   105.274768   105.906979   112.018885   \n",
       "min      43.343750    43.531250    42.812500    43.406250    24.639828   \n",
       "25%     105.200003   106.012503   104.352499   105.181875    70.883951   \n",
       "50%     132.071251   132.860001   131.070007   131.974998    93.763607   \n",
       "75%     209.932499   210.792503   209.107502   210.070007   181.609989   \n",
       "max     479.220001   479.980011   476.059998   477.709991   464.923401   \n",
       "\n",
       "             Volume  \n",
       "count  7.770000e+03  \n",
       "mean   8.447380e+07  \n",
       "std    9.242434e+07  \n",
       "min    5.200000e+03  \n",
       "25%    9.942825e+06  \n",
       "50%    6.295260e+07  \n",
       "75%    1.160220e+08  \n",
       "max    8.710263e+08  "
      ]
     },
     "execution_count": 6,
     "metadata": {},
     "output_type": "execute_result"
    }
   ],
   "source": [
    "sp500.describe()"
   ]
  },
  {
   "cell_type": "code",
   "execution_count": 7,
   "id": "2bf1cbcd-19da-4408-a759-bc7ef3777e9f",
   "metadata": {
    "tags": []
   },
   "outputs": [
    {
     "data": {
      "text/plain": [
       "<bound method DataFrame.corr of                   Open        High         Low       Close   Adj Close  \\\n",
       "Date                                                                     \n",
       "1993-01-29   43.968750   43.968750   43.750000   43.937500   24.941393   \n",
       "1993-02-01   43.968750   44.250000   43.968750   44.250000   25.118797   \n",
       "1993-02-02   44.218750   44.375000   44.125000   44.343750   25.172012   \n",
       "1993-02-03   44.406250   44.843750   44.375000   44.812500   25.438095   \n",
       "1993-02-04   44.968750   45.093750   44.468750   45.000000   25.544537   \n",
       "...                ...         ...         ...         ...         ...   \n",
       "2023-11-30  455.480011  456.760010  453.339996  456.399994  456.399994   \n",
       "2023-12-01  455.769989  459.649994  455.160004  459.100006  459.100006   \n",
       "2023-12-04  455.600006  459.119995  454.339996  456.690002  456.690002   \n",
       "2023-12-05  455.260010  457.589996  454.869995  456.600006  456.600006   \n",
       "2023-12-06  458.809998  458.832489  455.600006  456.015015  456.015015   \n",
       "\n",
       "              Volume  \n",
       "Date                  \n",
       "1993-01-29   1003200  \n",
       "1993-02-01    480500  \n",
       "1993-02-02    201300  \n",
       "1993-02-03    529400  \n",
       "1993-02-04    531500  \n",
       "...              ...  \n",
       "2023-11-30  79752700  \n",
       "2023-12-01  89097900  \n",
       "2023-12-04  72430900  \n",
       "2023-12-05  69687100  \n",
       "2023-12-06  30786628  \n",
       "\n",
       "[7770 rows x 6 columns]>"
      ]
     },
     "execution_count": 7,
     "metadata": {},
     "output_type": "execute_result"
    }
   ],
   "source": [
    "sp500.corr"
   ]
  },
  {
   "cell_type": "code",
   "execution_count": null,
   "id": "d6f2731c-0327-4e5d-837c-fe9507708afe",
   "metadata": {
    "tags": []
   },
   "outputs": [],
   "source": [
    "import seaborn as sns\n",
    "import matplotlib.pyplot as plt\n",
    "\n",
    "# Calculate correlation matrix\n",
    "corr_matrix = sp500.corr()\n",
    "\n",
    "# Visualize correlation matrix using a heatmap\n",
    "plt.figure(figsize=(10, 8))\n",
    "sns.heatmap(corr_matrix, annot=True, cmap='coolwarm')\n",
    "plt.title('Correlation Matrix')\n",
    "plt.show()\n"
   ]
  },
  {
   "cell_type": "markdown",
   "id": "9a4824a8-1543-45d1-a6ae-0ce094d76e18",
   "metadata": {},
   "source": [
    "***CHECKING FOR OUTLIERS IN  ORIGINAL DATASET***"
   ]
  },
  {
   "cell_type": "code",
   "execution_count": null,
   "id": "d2f90618-567e-46b1-8249-53ccb4efa6dd",
   "metadata": {
    "tags": []
   },
   "outputs": [],
   "source": [
    "# # Specify the column(s) to check for outliers\n",
    "# columns_to_check = ['Open', 'High', 'Low','Volume','Close','Adj Close',]  # Update with your actual column names\n",
    "\n",
    "# # Iterate over each column and identify outliers\n",
    "# for column in columns_to_check:\n",
    "#     data = sp500[column]\n",
    "#     Q1 = data.quantile(0.25)\n",
    "#     Q3 = data.quantile(0.75)\n",
    "#     IQR = Q3 - Q1\n",
    "\n",
    "#     # Calculate lower and upper bounds for outliers\n",
    "#     lower_bound = Q1 - 1.5 * IQR\n",
    "#     upper_bound = Q3 + 1.5 * IQR\n",
    "\n",
    "#     # Identify outliers\n",
    "#     outliers = data[(data < lower_bound) | (data > upper_bound)]\n",
    "\n",
    "#     # Print the column name and corresponding outliers (if any)\n",
    "#     if len(outliers) > 0:\n",
    "#         print(f\"Outliers in {column}:\")\n",
    "#         print(outliers)\n",
    "#         print(\"------------------------\")\n"
   ]
  },
  {
   "cell_type": "markdown",
   "id": "c5044293-eb64-412f-b417-73525e8dcabd",
   "metadata": {},
   "source": [
    "**CAPPING TO CONTAIN OUTLIERS***"
   ]
  },
  {
   "cell_type": "code",
   "execution_count": null,
   "id": "57ddf532-add2-4067-9d38-6f7b9a46a499",
   "metadata": {
    "tags": []
   },
   "outputs": [],
   "source": [
    "# import numpy as np\n",
    "# # Define the lower and upper percentile thresholds for truncation\n",
    "# lower_percentile = 5\n",
    "# upper_percentile = 95\n",
    "\n",
    "# # Calculate the percentile values\n",
    "# lower_threshold = np.percentile(sp500, lower_percentile)\n",
    "# upper_threshold = np.percentile(sp500, upper_percentile)\n",
    "\n",
    "# # Truncate the extreme values below the lower percentile\n",
    "# sp500[sp500 < lower_threshold] = lower_threshold\n",
    "\n",
    "# # Truncate the extreme values above the upper percentile\n",
    "# sp500[sp500 > upper_threshold] = upper_threshold\n"
   ]
  },
  {
   "cell_type": "markdown",
   "id": "ba46aaec-a8ed-439f-88ba-8556d23572d3",
   "metadata": {},
   "source": [
    "**NEW D.F AFTER HANDLING OUTLIERS**"
   ]
  },
  {
   "cell_type": "code",
   "execution_count": null,
   "id": "6a2f19ec-bd31-4e4e-bd69-da65b1ca65be",
   "metadata": {
    "tags": []
   },
   "outputs": [],
   "source": [
    "# Display the updated DataFrame\n",
    "# print(sp500)"
   ]
  },
  {
   "cell_type": "code",
   "execution_count": null,
   "id": "7f9d837d-b44a-4d0e-be99-b22caf9c693c",
   "metadata": {
    "tags": []
   },
   "outputs": [],
   "source": [
    "# import matplotlib.pyplot as plt\n",
    "# # Create box plots\n",
    "# sp500.boxplot()\n",
    "\n",
    "# # Show the box plots\n",
    "# plt.show()\n"
   ]
  },
  {
   "cell_type": "code",
   "execution_count": null,
   "id": "7a83b4a6-d6a5-428d-9faa-1694371e55fa",
   "metadata": {
    "tags": []
   },
   "outputs": [],
   "source": [
    "# import numpy as np\n",
    "# # Define a z-score threshold (e.g., 3 standard deviations)\n",
    "# z_score_threshold = 3\n",
    "\n",
    "# # Calculate the z-scores for each column\n",
    "# z_scores = np.abs((sp500 - sp500.mean()) / sp500.std())\n",
    "\n",
    "# # Identify outliers by comparing z-scores to the threshold\n",
    "# outliers = sp500[(z_scores > z_score_threshold).any(axis=1)]\n",
    "\n",
    "# # Drop the outliers from the dataset\n",
    "# data_no_outliers = sp500.drop(outliers.index)\n",
    "\n",
    "# # Print the original dataset without outliers\n",
    "# print(data_no_outliers)\n"
   ]
  },
  {
   "cell_type": "code",
   "execution_count": null,
   "id": "1b69a162-d1ff-4232-9af6-5c203d0f9bc2",
   "metadata": {
    "tags": []
   },
   "outputs": [],
   "source": [
    "# sp500=data_no_outliers"
   ]
  },
  {
   "cell_type": "code",
   "execution_count": 15,
   "id": "145fe6f3-3f06-4292-bff4-d7475f3d1718",
   "metadata": {
    "tags": []
   },
   "outputs": [
    {
     "data": {
      "text/plain": [
       "<Axes: xlabel='Date'>"
      ]
     },
     "execution_count": 15,
     "metadata": {},
     "output_type": "execute_result"
    },
    {
     "data": {
      "image/png": "[encoded data removed]",
      "text/plain": [
       "<Figure size 640x480 with 1 Axes>"
      ]
     },
     "metadata": {},
     "output_type": "display_data"
    }
   ],
   "source": [
    "sp500.plot.line(y=\"Close\", use_index=True)\n"
   ]
  },
  {
   "cell_type": "code",
   "execution_count": 16,
   "id": "ecbf4a67-7f0b-42ea-9090-36ce8c959d6d",
   "metadata": {
    "tags": []
   },
   "outputs": [
    {
     "data": {
      "text/html": [
       "<div>\n",
       "<style scoped>\n",
       "    .dataframe tbody tr th:only-of-type {\n",
       "        vertical-align: middle;\n",
       "    }\n",
       "\n",
       "    .dataframe tbody tr th {\n",
       "        vertical-align: top;\n",
       "    }\n",
       "\n",
       "    .dataframe thead th {\n",
       "        text-align: right;\n",
       "    }\n",
       "</style>\n",
       "<table border=\"1\" class=\"dataframe\">\n",
       "  <thead>\n",
       "    <tr style=\"text-align: right;\">\n",
       "      <th></th>\n",
       "      <th>Open</th>\n",
       "      <th>High</th>\n",
       "      <th>Low</th>\n",
       "      <th>Close</th>\n",
       "      <th>Adj Close</th>\n",
       "      <th>Volume</th>\n",
       "    </tr>\n",
       "    <tr>\n",
       "      <th>Date</th>\n",
       "      <th></th>\n",
       "      <th></th>\n",
       "      <th></th>\n",
       "      <th></th>\n",
       "      <th></th>\n",
       "      <th></th>\n",
       "    </tr>\n",
       "  </thead>\n",
       "  <tbody>\n",
       "    <tr>\n",
       "      <th>2003-12-11</th>\n",
       "      <td>106.680000</td>\n",
       "      <td>108.099998</td>\n",
       "      <td>106.669998</td>\n",
       "      <td>107.930000</td>\n",
       "      <td>73.565819</td>\n",
       "      <td>45304000</td>\n",
       "    </tr>\n",
       "    <tr>\n",
       "      <th>2003-12-12</th>\n",
       "      <td>107.970001</td>\n",
       "      <td>108.199997</td>\n",
       "      <td>107.389999</td>\n",
       "      <td>108.139999</td>\n",
       "      <td>73.708969</td>\n",
       "      <td>34142200</td>\n",
       "    </tr>\n",
       "    <tr>\n",
       "      <th>2003-12-15</th>\n",
       "      <td>109.169998</td>\n",
       "      <td>109.230003</td>\n",
       "      <td>107.480003</td>\n",
       "      <td>107.599998</td>\n",
       "      <td>73.340897</td>\n",
       "      <td>38693400</td>\n",
       "    </tr>\n",
       "    <tr>\n",
       "      <th>2003-12-16</th>\n",
       "      <td>107.680000</td>\n",
       "      <td>108.500000</td>\n",
       "      <td>107.519997</td>\n",
       "      <td>108.160004</td>\n",
       "      <td>73.722603</td>\n",
       "      <td>32894200</td>\n",
       "    </tr>\n",
       "    <tr>\n",
       "      <th>2003-12-17</th>\n",
       "      <td>108.059998</td>\n",
       "      <td>108.500000</td>\n",
       "      <td>107.800003</td>\n",
       "      <td>108.500000</td>\n",
       "      <td>73.954323</td>\n",
       "      <td>23198800</td>\n",
       "    </tr>\n",
       "    <tr>\n",
       "      <th>...</th>\n",
       "      <td>...</td>\n",
       "      <td>...</td>\n",
       "      <td>...</td>\n",
       "      <td>...</td>\n",
       "      <td>...</td>\n",
       "      <td>...</td>\n",
       "    </tr>\n",
       "    <tr>\n",
       "      <th>2023-11-29</th>\n",
       "      <td>457.149994</td>\n",
       "      <td>458.320007</td>\n",
       "      <td>454.200012</td>\n",
       "      <td>454.609985</td>\n",
       "      <td>454.609985</td>\n",
       "      <td>63146000</td>\n",
       "    </tr>\n",
       "    <tr>\n",
       "      <th>2023-11-30</th>\n",
       "      <td>455.480011</td>\n",
       "      <td>456.760010</td>\n",
       "      <td>453.339996</td>\n",
       "      <td>456.399994</td>\n",
       "      <td>456.399994</td>\n",
       "      <td>79752700</td>\n",
       "    </tr>\n",
       "    <tr>\n",
       "      <th>2023-12-01</th>\n",
       "      <td>455.769989</td>\n",
       "      <td>459.649994</td>\n",
       "      <td>455.160004</td>\n",
       "      <td>459.100006</td>\n",
       "      <td>459.100006</td>\n",
       "      <td>89097900</td>\n",
       "    </tr>\n",
       "    <tr>\n",
       "      <th>2023-12-04</th>\n",
       "      <td>455.600006</td>\n",
       "      <td>459.119995</td>\n",
       "      <td>454.339996</td>\n",
       "      <td>456.690002</td>\n",
       "      <td>456.690002</td>\n",
       "      <td>72430900</td>\n",
       "    </tr>\n",
       "    <tr>\n",
       "      <th>2023-12-05</th>\n",
       "      <td>455.260010</td>\n",
       "      <td>457.589996</td>\n",
       "      <td>454.869995</td>\n",
       "      <td>456.339996</td>\n",
       "      <td>456.339996</td>\n",
       "      <td>42854586</td>\n",
       "    </tr>\n",
       "  </tbody>\n",
       "</table>\n",
       "<p>5030 rows × 6 columns</p>\n",
       "</div>"
      ],
      "text/plain": [
       "                  Open        High         Low       Close   Adj Close  \\\n",
       "Date                                                                     \n",
       "2003-12-11  106.680000  108.099998  106.669998  107.930000   73.565819   \n",
       "2003-12-12  107.970001  108.199997  107.389999  108.139999   73.708969   \n",
       "2003-12-15  109.169998  109.230003  107.480003  107.599998   73.340897   \n",
       "2003-12-16  107.680000  108.500000  107.519997  108.160004   73.722603   \n",
       "2003-12-17  108.059998  108.500000  107.800003  108.500000   73.954323   \n",
       "...                ...         ...         ...         ...         ...   \n",
       "2023-11-29  457.149994  458.320007  454.200012  454.609985  454.609985   \n",
       "2023-11-30  455.480011  456.760010  453.339996  456.399994  456.399994   \n",
       "2023-12-01  455.769989  459.649994  455.160004  459.100006  459.100006   \n",
       "2023-12-04  455.600006  459.119995  454.339996  456.690002  456.690002   \n",
       "2023-12-05  455.260010  457.589996  454.869995  456.339996  456.339996   \n",
       "\n",
       "              Volume  \n",
       "Date                  \n",
       "2003-12-11  45304000  \n",
       "2003-12-12  34142200  \n",
       "2003-12-15  38693400  \n",
       "2003-12-16  32894200  \n",
       "2003-12-17  23198800  \n",
       "...              ...  \n",
       "2023-11-29  63146000  \n",
       "2023-11-30  79752700  \n",
       "2023-12-01  89097900  \n",
       "2023-12-04  72430900  \n",
       "2023-12-05  42854586  \n",
       "\n",
       "[5030 rows x 6 columns]"
      ]
     },
     "execution_count": 16,
     "metadata": {},
     "output_type": "execute_result"
    }
   ],
   "source": [
    "sp500"
   ]
  },
  {
   "cell_type": "code",
   "execution_count": 17,
   "id": "ce0cd0b9-1fe8-4eb5-b71f-12579b4e7aea",
   "metadata": {
    "tags": []
   },
   "outputs": [],
   "source": [
    "# sp500[\"Tomorrow\"]: This part of the code indicates that a new column named \"next_hour\" is being created within the EURUSD DataFrame. The square brackets [\"Tomorrow\"] are used to specify the name of the new column.\n",
    "# sp500[\"Tomorrow\"].shift(-1): This part of the code takes the values from the existing \"Close\" column of the sp500 DataFrame and performs a shifting operation on these values. The .shift(-1) function is used to shift the values one step backwards (upwards) in the DataFrame. This essentially means that each value in the \"Close\" column will be replaced with the value of the subsequent row's \"Close\" value.\n",
    "# Combining both parts of the code, sp500[\"Tomorrow\"] is assigned the values obtained from shifting the \"Close\" values by -1. This means that each value in the \"Tomorrow\" column will hold the \"Close\" value of the subsequent row (i.e., the value corresponding to the next hour in the time series).\n",
    "sp500[\"Tomorrow\"] = sp500[\"Close\"].shift(-1)\n"
   ]
  },
  {
   "cell_type": "code",
   "execution_count": 18,
   "id": "6f53f67c-ee18-42f9-9e3a-0027a4a92050",
   "metadata": {
    "tags": []
   },
   "outputs": [],
   "source": [
    "# sp500[\"Target\"]: This part of the code indicates that a new column named \"Target\" is being created within the EURUSD DataFrame.\n",
    "# sp500[\"Target\"] > sp500[\"Close\"]): This part of the code performs a comparison between the values in the \"Tommorow\" column and the corresponding values in the \"Close\" column. Specifically, it checks if the \"next_hour\" value is greater than the \"Close\" value for each row in the DataFrame. This comparison results in a boolean series where each element is True if the condition is met (next hour's price is greater than the current hour's price) and False otherwise.\n",
    "# .astype(int): This part of the code converts the boolean values obtained from the comparison into integer values. In Python, True is equivalent to 1 and False is equivalent to 0. So, by using .astype(int), the boolean values are converted to integers, resulting in a series of 1s and 0s.\n",
    "# Combining all parts of the code, sp500[\"Target\"] is assigned the values obtained from the comparison and conversion operation. This means that each value in the \"Target\" column will be 1 if the next hour's price is greater than the current hour's price, and 0 if it is not.\n",
    "\n",
    "sp500[\"Target\"] = (sp500[\"Tomorrow\"] > sp500[\"Close\"]).astype(int)\n",
    "# this code adds a new column \"Target\" to the sp500 DataFrame, where each value is 1 if the price of sp500 stock is expected to increase on the next day, and 0 if it is not expected to increase. This kind of operation is often used in the context of creating labels or targets for machine learning models that aim to predict price movements.\n"
   ]
  },
  {
   "cell_type": "code",
   "execution_count": 19,
   "id": "a5a9dc6a-6279-446d-976b-619b5dbfb5ef",
   "metadata": {
    "tags": []
   },
   "outputs": [
    {
     "name": "stdout",
     "output_type": "stream",
     "text": [
      "Tomorrow     1.000000\n",
      "Close        0.999693\n",
      "Low          0.999619\n",
      "High         0.999605\n",
      "Open         0.999537\n",
      "Adj Close    0.998560\n",
      "Target      -0.000049\n",
      "Volume      -0.367222\n",
      "Name: Tomorrow, dtype: float64\n"
     ]
    }
   ],
   "source": [
    "# Compute the correlation matrix\n",
    "correlation_matrix = sp500.corr()\n",
    "\n",
    "# Extract the correlation values with the target variable (assuming 'target' is the column name)\n",
    "correlation_with_Target = correlation_matrix['Tomorrow']\n",
    "\n",
    "# Print the correlation values in descending order\n",
    "print(correlation_with_Target.sort_values(ascending=False))\n"
   ]
  },
  {
   "cell_type": "markdown",
   "id": "2fc89540-ce5f-4530-8034-b2ddafaa4d5f",
   "metadata": {},
   "source": [
    "**Since Volume column has very minimal correlatoion to my target varriable then I will drop it**"
   ]
  },
  {
   "cell_type": "code",
   "execution_count": 20,
   "id": "3be54a43-6ea9-4e25-b89b-0385f35a773f",
   "metadata": {
    "tags": []
   },
   "outputs": [],
   "source": [
    "sp500.drop(\"Volume\", axis=1, inplace=True)\n"
   ]
  },
  {
   "cell_type": "markdown",
   "id": "a9e5c72f-0aa9-4575-b216-eda2543d4358",
   "metadata": {},
   "source": [
    "***CHECKING FOR CORRELATION BETWEEN PREDICTORS AND TARGET***"
   ]
  },
  {
   "cell_type": "code",
   "execution_count": 21,
   "id": "8090337b-5ebb-4a21-a3c4-9df5210d00ee",
   "metadata": {
    "tags": []
   },
   "outputs": [
    {
     "data": {
      "image/png": "[encoded data removed]",
      "text/plain": [
       "<Figure size 1000x800 with 2 Axes>"
      ]
     },
     "metadata": {},
     "output_type": "display_data"
    }
   ],
   "source": [
    "import seaborn as sns\n",
    "import matplotlib.pyplot as plt\n",
    "\n",
    "# Calculate correlation matrix\n",
    "corr_matrix = sp500.corr()\n",
    "\n",
    "# Visualize correlation matrix using a heatmap\n",
    "plt.figure(figsize=(10, 8))\n",
    "sns.heatmap(corr_matrix, annot=True, cmap='coolwarm')\n",
    "plt.title('Correlation Matrix')\n",
    "plt.show()\n"
   ]
  },
  {
   "cell_type": "code",
   "execution_count": 22,
   "id": "80a66fe0-2054-4c1e-83a2-f2b230241b82",
   "metadata": {
    "tags": []
   },
   "outputs": [
    {
     "data": {
      "image/png": "[encoded data removed]",
      "text/plain": [
       "<Figure size 640x480 with 1 Axes>"
      ]
     },
     "metadata": {},
     "output_type": "display_data"
    }
   ],
   "source": [
    "import matplotlib.pyplot as plt\n",
    "# Create box plots\n",
    "sp500.boxplot()\n",
    "\n",
    "# Show the box plots\n",
    "plt.show()\n"
   ]
  },
  {
   "cell_type": "code",
   "execution_count": 23,
   "id": "83af6f92-2724-4c65-980f-7f5c3d817545",
   "metadata": {
    "tags": []
   },
   "outputs": [],
   "source": [
    "import pandas as pd\n",
    "\n",
    "# Assuming sp500_data is your DataFrame containing the S&P 500 data\n",
    "# Drop rows with NaN values in the \"Tomorrow\" column\n",
    "# sp500 = sp500.dropna(subset=['Tomorrow'])\n",
    "\n",
    "# Now, the DataFrame sp500_data will not contain rows with NaN values in the \"Tomorrow\" column\n"
   ]
  },
  {
   "cell_type": "code",
   "execution_count": 24,
   "id": "afad5701-756c-4315-ac0e-be81b6a6364c",
   "metadata": {
    "tags": []
   },
   "outputs": [],
   "source": [
    "# nan_rows = X_test[X_test.isna().any(axis=1)]\n",
    "# print(nan_rows)\n"
   ]
  },
  {
   "cell_type": "markdown",
   "id": "c7838f13-1ce3-4d78-97d0-acbc8471bb1c",
   "metadata": {},
   "source": [
    "***SPLITTING INTO TRAIN AND TEST***"
   ]
  },
  {
   "cell_type": "code",
   "execution_count": 25,
   "id": "0e855f02-c359-49f7-b8e1-49bf2f43f8d7",
   "metadata": {
    "tags": []
   },
   "outputs": [],
   "source": [
    "# import pandas as pd\n",
    "# from sklearn.model_selection import train_test_split\n",
    "# from sklearn.ensemble import RandomForestClassifier\n",
    "# from sklearn.metrics import accuracy_score, precision_score, recall_score, f1_score\n",
    "# from sklearn.impute import SimpleImputer  # Import the SimpleImputer\n",
    "\n",
    "# # Specify the features (X) and target variable (y)\n",
    "# # Replace 'target_column' with the name of the column you want to predict\n",
    "# X = sp500.drop(columns=['Target'])\n",
    "# y = sp500['Target']\n",
    "\n",
    "# # Split the data into training and testing sets\n",
    "# # The test_size parameter determines the proportion of data to be used for testing (e.g., 0.2 for 20% testing data)\n",
    "# X_train, X_test, y_train, y_test = train_test_split(X, y, test_size=0.2, random_state=42)\n",
    "\n",
    "# # Instantiate the imputer with a strategy (e.g., mean)\n",
    "# imputer = SimpleImputer(strategy='mean')\n",
    "\n",
    "# # Fit and transform the imputer on your feature matrix X\n",
    "# X_train_imputed = imputer.fit_transform(X_train)\n",
    "# X_test_imputed = imputer.transform(X_test)\n",
    "\n",
    "# # Train your classifier (RandomForestClassifier in this case) on the imputed data\n",
    "# clf = RandomForestClassifier(random_state=42)\n",
    "# clf.fit(X_train_imputed, y_train)\n",
    "\n",
    "# # Make predictions on the test set\n",
    "# y_pred = clf.predict(X_test_imputed)\n",
    "\n",
    "# # Define Metrics\n",
    "# # Calculate metrics using the correct variables\n",
    "# accuracy = accuracy_score(y_test, y_pred)\n",
    "# precision = precision_score(y_test, y_pred)\n",
    "# recall = recall_score(y_test, y_pred)\n",
    "# f1 = f1_score(y_test, y_pred)\n",
    "\n",
    "# # Create a DataFrame with the original features, true target values, and predicted values\n",
    "# final_df = pd.DataFrame({\n",
    "#     'Features': X_test.index,  # You can adjust this based on your actual feature columns\n",
    "#     'True_Target': y_test,\n",
    "#     'Predicted_Target': y_pred\n",
    "# })\n",
    "\n",
    "# # Print the shapes of the resulting datasets to verify the split\n",
    "# print(f\"X_train shape: {X_train.shape}\")\n",
    "# print(f\"X_test shape: {X_test.shape}\")\n",
    "# print(f\"y_train shape: {y_train.shape}\")\n",
    "# print(f\"y_test shape: {y_test.shape}\")\n",
    "# print(\"Accuracy:\", accuracy)\n",
    "# print(\"Precision:\", precision)\n",
    "# print(\"Recall:\", recall)\n",
    "# print(\"F1 Score:\", f1)\n",
    "\n",
    "# # Print the final DataFrame with features, true target, and predicted target\n",
    "# print(final_df)\n"
   ]
  },
  {
   "cell_type": "markdown",
   "id": "90bb727a-9c1a-482b-94bc-dbc8be55f04e",
   "metadata": {
    "tags": []
   },
   "source": [
    "import pandas as pd\n",
    "from sklearn.ensemble import RandomForestClassifier\n",
    "from sklearn.impute import SimpleImputer\n",
    "from sklearn.metrics import accuracy_score, precision_score, recall_score, f1_score\n",
    "from sklearn.model_selection import train_test_split\n",
    "\n",
    "# Specify the features (X) and target variable (y)\n",
    "# Replace 'target_column' with the name of the column you want to predict\n",
    "X = sp500.drop(columns=['Target'])\n",
    "y = sp500['Target']\n",
    "\n",
    "# Split the data into training (80%) and testing (20%) sets\n",
    "X_train, X_test, y_train, y_test = train_test_split(X, y, test_size=0.2, random_state=42)\n",
    "\n",
    "# Instantiate the imputer with a strategy (e.g., mean)\n",
    "imputer = SimpleImputer(strategy='mean')\n",
    "\n",
    "# Fit and transform the imputer on your feature matrix X_train\n",
    "X_train_imputed = imputer.fit_transform(X_train)\n",
    "\n",
    "# Train your classifier (RandomForestClassifier in this case) on the training dataset\n",
    "clf = RandomForestClassifier(random_state=42)\n",
    "clf.fit(X_train_imputed, y_train)\n",
    "\n",
    "# Make predictions on the testing dataset\n",
    "X_test_imputed = imputer.transform(X_test)  # Use transform, not fit_transform\n",
    "y_pred = clf.predict(X_test_imputed)\n",
    "\n",
    "# Define Metrics\n",
    "# Calculate metrics using the correct variables\n",
    "accuracy = accuracy_score(y_test, y_pred)\n",
    "precision = precision_score(y_test, y_pred)\n",
    "recall = recall_score(y_test, y_pred)\n",
    "f1 = f1_score(y_test, y_pred)\n",
    "\n",
    "# Create a DataFrame with the true target values and predicted values\n",
    "final_df = pd.DataFrame({\n",
    "    'True_Target': y_test,\n",
    "    'Predicted_Target': y_pred\n",
    "})\n",
    "\n",
    "# Print the shapes of the resulting datasets to verify\n",
    "print(f\"X_train shape: {X_train.shape}\")\n",
    "print(f\"y_train shape: {y_train.shape}\")\n",
    "print(f\"X_test shape: {X_test.shape}\")\n",
    "print(f\"y_test shape: {y_test.shape}\")\n",
    "print(\"Accuracy:\", accuracy)\n",
    "print(\"Precision:\", precision)\n",
    "print(\"Recall:\", recall)\n",
    "print\n"
   ]
  },
  {
   "cell_type": "code",
   "execution_count": 26,
   "id": "c03e832f-e285-4724-b24f-f0bf9710b854",
   "metadata": {
    "tags": []
   },
   "outputs": [],
   "source": [
    "# import pandas as pd\n",
    "# from sklearn.ensemble import RandomForestClassifier\n",
    "# from sklearn.impute import SimpleImputer\n",
    "# from sklearn.metrics import accuracy_score, precision_score, recall_score, f1_score\n",
    "# from sklearn.model_selection import train_test_split\n",
    "\n",
    "# # Specify the features (X) and target variable (y)\n",
    "# # Replace 'target_column' with the name of the column you want to predict\n",
    "# X = sp500.drop(columns=['Target'])\n",
    "# y = sp500['Target']\n",
    "\n",
    "# # Instantiate the imputer with a strategy (e.g., mean)\n",
    "# imputer = SimpleImputer(strategy='mean')\n",
    "\n",
    "# # Fit and transform the imputer on your feature matrix X\n",
    "# X_imputed = imputer.fit_transform(X)\n",
    "\n",
    "# # Train your classifier (RandomForestClassifier in this case) on the entire dataset\n",
    "# clf = RandomForestClassifier(random_state=42)\n",
    "# clf.fit(X_imputed, y)\n",
    "\n",
    "# # Make predictions on the entire dataset\n",
    "# y_pred = clf.predict(X_imputed)\n",
    "\n",
    "# # Define Metrics\n",
    "# # Calculate metrics using the correct variables\n",
    "# accuracy = accuracy_score(y, y_pred)\n",
    "# precision = precision_score(y, y_pred)\n",
    "# recall = recall_score(y, y_pred)\n",
    "# f1 = f1_score(y, y_pred)\n",
    "\n",
    "# # Create a DataFrame with the true target values and predicted values for the entire dataset\n",
    "# final_df = pd.DataFrame({\n",
    "#     'True_Target': y,\n",
    "#     'Predicted_Target': y_pred\n",
    "# })\n",
    "\n",
    "# # Print the shapes of the resulting datasets to verify\n",
    "# print(f\"X shape: {X.shape}\")\n",
    "# print(f\"y shape: {y.shape}\")\n",
    "# print(\"Accuracy:\", accuracy)\n",
    "# print(\"Precision:\", precision)\n",
    "# print(\"Recall:\", recall)\n",
    "# print(\"F1 Score:\", f1)\n"
   ]
  },
  {
   "cell_type": "code",
   "execution_count": 27,
   "id": "fabb5c48-fb40-4c6a-b87f-1407b6d3758f",
   "metadata": {
    "tags": []
   },
   "outputs": [],
   "source": [
    "# import pandas as pd\n",
    "# from sklearn.ensemble import RandomForestClassifier\n",
    "# from sklearn.impute import SimpleImputer\n",
    "# from sklearn.metrics import accuracy_score, precision_score, recall_score, f1_score\n",
    "# from sklearn.model_selection import train_test_split\n",
    "\n",
    "# # Assuming 'Target' is the column name you want to predict\n",
    "# X = sp500.drop(columns=['Target'])\n",
    "# y = sp500['Target']\n",
    "\n",
    "# # Split the data into train, validation, and test sets\n",
    "# X_train_val, X_test, y_train_val, y_test = train_test_split(X, y, test_size=0.2, random_state=42)\n",
    "# X_train, X_val, y_train, y_val = train_test_split(X_train_val, y_train_val, test_size=0.25, random_state=42)\n",
    "\n",
    "# # Instantiate the imputer with a strategy (e.g., mean)\n",
    "# imputer = SimpleImputer(strategy='mean')\n",
    "\n",
    "# # Fit and transform the imputer on your feature matrices\n",
    "# X_train_imputed = imputer.fit_transform(X_train)\n",
    "# X_val_imputed = imputer.transform(X_val)\n",
    "# X_test_imputed = imputer.transform(X_test)\n",
    "\n",
    "# # Train your classifier (RandomForestClassifier in this case) on the training set\n",
    "# clf = RandomForestClassifier(random_state=42)\n",
    "# clf.fit(X_train_imputed, y_train)\n",
    "\n",
    "# # Make predictions on the validation set\n",
    "# y_val_pred = clf.predict(X_val_imputed)\n",
    "\n",
    "# # Define Metrics for Validation Set\n",
    "# accuracy_val = accuracy_score(y_val, y_val_pred)\n",
    "# precision_val = precision_score(y_val, y_val_pred)\n",
    "# recall_val = recall_score(y_val, y_val_pred)\n",
    "# f1_val = f1_score(y_val, y_val_pred)\n",
    "\n",
    "# # Make predictions on the test set\n",
    "# y_test_pred = clf.predict(X_test_imputed)\n",
    "\n",
    "# # Define Metrics for Test Set\n",
    "# accuracy_test = accuracy_score(y_test, y_test_pred)\n",
    "# precision_test = precision_score(y_test, y_test_pred)\n",
    "# recall_test = recall_score(y_test, y_test_pred)\n",
    "# f1_test = f1_score(y_test, y_test_pred)\n",
    "\n",
    "# # Create DataFrames with the true target values and predicted values for validation and test sets\n",
    "# val_df = pd.DataFrame({'True_Target': y_val, 'Predicted_Target': y_val_pred})\n",
    "# test_df = pd.DataFrame({'True_Target': y_test, 'Predicted_Target': y_test_pred})\n",
    "\n",
    "# # Concatenate validation and test results into a single DataFrame\n",
    "# final_df = pd.concat([val_df, test_df])\n",
    "\n",
    "# # Print the metrics for validation and test sets\n",
    "# print(\"Validation Set Metrics:\")\n",
    "# print(\"Accuracy:\", accuracy_val)\n",
    "# print(\"Precision:\", precision_val)\n",
    "# print(\"Recall:\", recall_val)\n",
    "# print(\"F1 Score:\", f1_val)\n",
    "# print(\"\\nTest Set Metrics:\")\n",
    "# print(\"Accuracy:\", accuracy_test)\n",
    "# print(\"Precision:\", precision_test)\n",
    "# print(\"Recall:\", recall_test)\n",
    "# print(\"F1 Score:\", f1_test)\n"
   ]
  },
  {
   "cell_type": "code",
   "execution_count": 28,
   "id": "9ec9a20f-9c80-415f-a6da-b7d7d31f9d56",
   "metadata": {
    "tags": []
   },
   "outputs": [
    {
     "name": "stdout",
     "output_type": "stream",
     "text": [
      "Validation Set Metrics:\n",
      "Accuracy: 0.805168986083499\n",
      "Precision: 0.8072916666666666\n",
      "Recall: 0.8454545454545455\n",
      "F1 Score: 0.8259325044404973\n",
      "\n",
      "Test Set Metrics:\n",
      "Accuracy: 0.7882703777335984\n",
      "Precision: 0.7791741472172352\n",
      "Recall: 0.8282442748091603\n",
      "F1 Score: 0.8029602220166512\n"
     ]
    }
   ],
   "source": [
    "import pandas as pd\n",
    "from sklearn.ensemble import RandomForestClassifier\n",
    "from sklearn.impute import SimpleImputer\n",
    "from sklearn.metrics import accuracy_score, precision_score, recall_score, f1_score\n",
    "from sklearn.model_selection import train_test_split\n",
    "\n",
    "# Assuming 'Target' is the column name you want to predict\n",
    "X = sp500.drop(columns=['Target'])\n",
    "y = sp500['Target']\n",
    "\n",
    "# Split the data into train, validation, and test sets\n",
    "X_train_val, X_test, y_train_val, y_test = train_test_split(X, y, test_size=0.2, random_state=42)\n",
    "X_train, X_val, y_train, y_val = train_test_split(X_train_val, y_train_val, test_size=0.25, random_state=42)\n",
    "\n",
    "# Assuming the 'Date' column exists in your data\n",
    "date_train_val = X_train_val.index\n",
    "date_train = X_train.index\n",
    "date_val = X_val.index\n",
    "date_test = X_test.index\n",
    "\n",
    "# Instantiate the imputer with a strategy (e.g., mean)\n",
    "imputer = SimpleImputer(strategy='mean')\n",
    "\n",
    "# Fit and transform the imputer on your feature matrices\n",
    "X_train_imputed = imputer.fit_transform(X_train)\n",
    "X_val_imputed = imputer.transform(X_val)\n",
    "X_test_imputed = imputer.transform(X_test)\n",
    "\n",
    "# Train your classifier (RandomForestClassifier in this case) on the training set\n",
    "clf = RandomForestClassifier(random_state=42)\n",
    "clf.fit(X_train_imputed, y_train)\n",
    "\n",
    "# Make predictions on the validation set\n",
    "y_val_pred = clf.predict(X_val_imputed)\n",
    "\n",
    "# Define Metrics for Validation Set\n",
    "accuracy_val = accuracy_score(y_val, y_val_pred)\n",
    "precision_val = precision_score(y_val, y_val_pred)\n",
    "recall_val = recall_score(y_val, y_val_pred)\n",
    "f1_val = f1_score(y_val, y_val_pred)\n",
    "\n",
    "# Make predictions on the test set\n",
    "y_test_pred = clf.predict(X_test_imputed)\n",
    "\n",
    "# Define Metrics for Test Set\n",
    "accuracy_test = accuracy_score(y_test, y_test_pred)\n",
    "precision_test = precision_score(y_test, y_test_pred)\n",
    "recall_test = recall_score(y_test, y_test_pred)\n",
    "f1_test = f1_score(y_test, y_test_pred)\n",
    "\n",
    "# Create DataFrames for training set with Date index\n",
    "y_train_pred = clf.predict(X_train_imputed)\n",
    "train_df = pd.DataFrame({'True_Target': y_train, 'Predicted_Target': y_train_pred}, index=date_train)\n",
    "\n",
    "# Concatenate training, validation, and test results into a single DataFrame\n",
    "val_df = pd.DataFrame({'True_Target': y_val, 'Predicted_Target': y_val_pred}, index=date_val)\n",
    "test_df = pd.DataFrame({'True_Target': y_test, 'Predicted_Target': y_test_pred}, index=date_test)\n",
    "final_df = pd.concat([train_df, val_df, test_df])\n",
    "\n",
    "# Sort the DataFrame by Date index\n",
    "final_df = final_df.sort_index()\n",
    "\n",
    "# Print the metrics for validation and test sets\n",
    "print(\"Validation Set Metrics:\")\n",
    "print(\"Accuracy:\", accuracy_val)\n",
    "print(\"Precision:\", precision_val)\n",
    "print(\"Recall:\", recall_val)\n",
    "print(\"F1 Score:\", f1_val)\n",
    "print(\"\\nTest Set Metrics:\")\n",
    "print(\"Accuracy:\", accuracy_test)\n",
    "print(\"Precision:\", precision_test)\n",
    "print(\"Recall:\", recall_test)\n",
    "print(\"F1 Score:\", f1_test)\n"
   ]
  },
  {
   "cell_type": "code",
   "execution_count": 29,
   "id": "46e4c742-d6bd-4a57-9e2e-784b50622db5",
   "metadata": {
    "tags": []
   },
   "outputs": [
    {
     "data": {
      "text/html": [
       "<div>\n",
       "<style scoped>\n",
       "    .dataframe tbody tr th:only-of-type {\n",
       "        vertical-align: middle;\n",
       "    }\n",
       "\n",
       "    .dataframe tbody tr th {\n",
       "        vertical-align: top;\n",
       "    }\n",
       "\n",
       "    .dataframe thead th {\n",
       "        text-align: right;\n",
       "    }\n",
       "</style>\n",
       "<table border=\"1\" class=\"dataframe\">\n",
       "  <thead>\n",
       "    <tr style=\"text-align: right;\">\n",
       "      <th></th>\n",
       "      <th>True_Target</th>\n",
       "      <th>Predicted_Target</th>\n",
       "    </tr>\n",
       "    <tr>\n",
       "      <th>Date</th>\n",
       "      <th></th>\n",
       "      <th></th>\n",
       "    </tr>\n",
       "  </thead>\n",
       "  <tbody>\n",
       "    <tr>\n",
       "      <th>2003-12-11</th>\n",
       "      <td>1</td>\n",
       "      <td>1</td>\n",
       "    </tr>\n",
       "    <tr>\n",
       "      <th>2003-12-12</th>\n",
       "      <td>0</td>\n",
       "      <td>1</td>\n",
       "    </tr>\n",
       "    <tr>\n",
       "      <th>2003-12-15</th>\n",
       "      <td>1</td>\n",
       "      <td>1</td>\n",
       "    </tr>\n",
       "    <tr>\n",
       "      <th>2003-12-16</th>\n",
       "      <td>1</td>\n",
       "      <td>1</td>\n",
       "    </tr>\n",
       "    <tr>\n",
       "      <th>2003-12-17</th>\n",
       "      <td>1</td>\n",
       "      <td>1</td>\n",
       "    </tr>\n",
       "    <tr>\n",
       "      <th>...</th>\n",
       "      <td>...</td>\n",
       "      <td>...</td>\n",
       "    </tr>\n",
       "    <tr>\n",
       "      <th>2023-11-29</th>\n",
       "      <td>1</td>\n",
       "      <td>1</td>\n",
       "    </tr>\n",
       "    <tr>\n",
       "      <th>2023-11-30</th>\n",
       "      <td>1</td>\n",
       "      <td>1</td>\n",
       "    </tr>\n",
       "    <tr>\n",
       "      <th>2023-12-01</th>\n",
       "      <td>0</td>\n",
       "      <td>0</td>\n",
       "    </tr>\n",
       "    <tr>\n",
       "      <th>2023-12-04</th>\n",
       "      <td>0</td>\n",
       "      <td>0</td>\n",
       "    </tr>\n",
       "    <tr>\n",
       "      <th>2023-12-05</th>\n",
       "      <td>0</td>\n",
       "      <td>0</td>\n",
       "    </tr>\n",
       "  </tbody>\n",
       "</table>\n",
       "<p>5030 rows × 2 columns</p>\n",
       "</div>"
      ],
      "text/plain": [
       "            True_Target  Predicted_Target\n",
       "Date                                     \n",
       "2003-12-11            1                 1\n",
       "2003-12-12            0                 1\n",
       "2003-12-15            1                 1\n",
       "2003-12-16            1                 1\n",
       "2003-12-17            1                 1\n",
       "...                 ...               ...\n",
       "2023-11-29            1                 1\n",
       "2023-11-30            1                 1\n",
       "2023-12-01            0                 0\n",
       "2023-12-04            0                 0\n",
       "2023-12-05            0                 0\n",
       "\n",
       "[5030 rows x 2 columns]"
      ]
     },
     "execution_count": 29,
     "metadata": {},
     "output_type": "execute_result"
    }
   ],
   "source": [
    "final_df"
   ]
  },
  {
   "cell_type": "code",
   "execution_count": 30,
   "id": "f807dfb9-d4f0-4559-a82e-2c8004476921",
   "metadata": {
    "tags": []
   },
   "outputs": [
    {
     "name": "stdout",
     "output_type": "stream",
     "text": [
      "Confusion Matrix for Test Set:\n",
      "[[359 123]\n",
      " [ 90 434]]\n"
     ]
    }
   ],
   "source": [
    "from sklearn.metrics import confusion_matrix\n",
    "\n",
    "# Calculate the confusion matrix for the test set predictions\n",
    "conf_matrix = confusion_matrix(y_test, y_test_pred)\n",
    "\n",
    "# Print the confusion matrix\n",
    "print(\"Confusion Matrix for Test Set:\")\n",
    "print(conf_matrix)\n"
   ]
  },
  {
   "cell_type": "code",
   "execution_count": 31,
   "id": "4439a0dc-59c5-4bdc-86cb-0666a8c6405d",
   "metadata": {
    "tags": []
   },
   "outputs": [
    {
     "data": {
      "image/png": "[encoded data removed]",
      "text/plain": [
       "<Figure size 1000x600 with 1 Axes>"
      ]
     },
     "metadata": {},
     "output_type": "display_data"
    }
   ],
   "source": [
    "import numpy as np\n",
    "import matplotlib.pyplot as plt\n",
    "from sklearn.model_selection import learning_curve\n",
    "\n",
    "# Define your RandomForestClassifier model as 'clf'\n",
    "\n",
    "# Assuming you have already prepared your training and validation sets with imputed values\n",
    "# X_train_imputed, y_train, X_val_imputed, y_val\n",
    "\n",
    "# Set the parameters for the learning curve\n",
    "train_sizes, train_scores, validation_scores = learning_curve(\n",
    "    clf, X_train_imputed, y_train, train_sizes=np.linspace(0.1, 1.0, 10),\n",
    "    cv=5, scoring='accuracy', n_jobs=-1\n",
    ")\n",
    "\n",
    "# Calculate the mean and standard deviation of training and validation scores\n",
    "train_mean = np.mean(train_scores, axis=1)\n",
    "train_std = np.std(train_scores, axis=1)\n",
    "validation_mean = np.mean(validation_scores, axis=1)\n",
    "validation_std = np.std(validation_scores, axis=1)\n",
    "\n",
    "# Plot the learning curve\n",
    "plt.figure(figsize=(10, 6))\n",
    "plt.fill_between(train_sizes, train_mean - train_std, train_mean + train_std, alpha=0.1, color='blue')\n",
    "plt.fill_between(train_sizes, validation_mean - validation_std, validation_mean + validation_std, alpha=0.1, color='orange')\n",
    "plt.plot(train_sizes, train_mean, label='Training Accuracy', color='blue', marker='o')\n",
    "plt.plot(train_sizes, validation_mean, label='Validation Accuracy', color='orange', marker='o')\n",
    "\n",
    "# Add labels and title\n",
    "plt.xlabel('Number of training examples')\n",
    "plt.ylabel('Accuracy')\n",
    "plt.title('Learning Curve')\n",
    "plt.legend()\n",
    "plt.grid()\n",
    "\n",
    "# Show plot\n",
    "plt.show()\n"
   ]
  },
  {
   "cell_type": "code",
   "execution_count": null,
   "id": "8c37c2b5-4474-4857-a827-99223931d1b0",
   "metadata": {},
   "outputs": [],
   "source": []
  },
  {
   "cell_type": "code",
   "execution_count": null,
   "id": "34fc9cd8-34fb-4600-acbb-97452bf27eb7",
   "metadata": {},
   "outputs": [],
   "source": []
  },
  {
   "cell_type": "code",
   "execution_count": null,
   "id": "afd3251c-5e89-4c29-91ef-2b4e3f921a99",
   "metadata": {},
   "outputs": [],
   "source": []
  },
  {
   "cell_type": "markdown",
   "id": "3bcda75e-92cf-4a26-896a-7b4d17b430f2",
   "metadata": {},
   "source": [
    "# HYPERPARAMETER TUNNING"
   ]
  },
  {
   "cell_type": "code",
   "execution_count": 31,
   "id": "0c5c4d75-b5be-4c8d-a674-e8d9c22e8a37",
   "metadata": {
    "tags": []
   },
   "outputs": [
    {
     "name": "stdout",
     "output_type": "stream",
     "text": [
      "Best Parameters: {'max_depth': None, 'min_samples_leaf': 1, 'min_samples_split': 2, 'n_estimators': 300}\n",
      "\n",
      "Test Set Metrics with Best Classifier:\n",
      "Accuracy: 0.8577863577863578\n",
      "Precision: 0.8473988439306358\n",
      "Recall: 0.8917274939172749\n",
      "F1 Score: 0.8689982216953172\n"
     ]
    }
   ],
   "source": [
    "from sklearn.model_selection import GridSearchCV\n",
    "\n",
    "# Define the parameter grid for hyperparameter tuning\n",
    "param_grid = {\n",
    "    'n_estimators': [100, 200, 300],\n",
    "    'max_depth': [None, 10, 20],\n",
    "    'min_samples_split': [2, 5, 10],\n",
    "    'min_samples_leaf': [1, 2, 4]\n",
    "}\n",
    "\n",
    "# Create a RandomForestClassifier instance\n",
    "clf = RandomForestClassifier(random_state=42)\n",
    "\n",
    "# Instantiate GridSearchCV\n",
    "grid_search = GridSearchCV(clf, param_grid, cv=5, scoring='accuracy', n_jobs=-1)\n",
    "\n",
    "# Fit the GridSearchCV to the data (using only the training set for tuning)\n",
    "grid_search.fit(X_train_imputed, y_train)\n",
    "\n",
    "# Get the best parameters found by GridSearchCV\n",
    "best_params = grid_search.best_params_\n",
    "\n",
    "# Instantiate a new RandomForestClassifier using the best parameters found\n",
    "best_clf = RandomForestClassifier(**best_params, random_state=42)\n",
    "\n",
    "# Train the best classifier on the combined train and validation sets\n",
    "X_train_val_imputed = imputer.fit_transform(X_train_val)\n",
    "best_clf.fit(X_train_val_imputed, y_train_val)\n",
    "\n",
    "# Make predictions on the test set using the best classifier\n",
    "y_test_pred_best = best_clf.predict(X_test_imputed)\n",
    "\n",
    "# Define Metrics for Test Set using the best classifier\n",
    "accuracy_test_best = accuracy_score(y_test, y_test_pred_best)\n",
    "precision_test_best = precision_score(y_test, y_test_pred_best)\n",
    "recall_test_best = recall_score(y_test, y_test_pred_best)\n",
    "f1_test_best = f1_score(y_test, y_test_pred_best)\n",
    "\n",
    "# Print the best parameters found by GridSearchCV\n",
    "print(\"Best Parameters:\", best_params)\n",
    "\n",
    "# Print the metrics for the test set using the best classifier\n",
    "print(\"\\nTest Set Metrics with Best Classifier:\")\n",
    "print(\"Accuracy:\", accuracy_test_best)\n",
    "print(\"Precision:\", precision_test_best)\n",
    "print(\"Recall:\", recall_test_best)\n",
    "print(\"F1 Score:\", f1_test_best)\n"
   ]
  },
  {
   "cell_type": "markdown",
   "id": "30aaf674-d069-48b2-a881-02087c2585e7",
   "metadata": {},
   "source": [
    "# Using my Parameters on the Model"
   ]
  },
  {
   "cell_type": "code",
   "execution_count": 32,
   "id": "87e279f5-07d0-4931-931b-24152ca036f9",
   "metadata": {
    "tags": []
   },
   "outputs": [
    {
     "name": "stdout",
     "output_type": "stream",
     "text": [
      "Validation Set Metrics:\n",
      "Accuracy: 1.0\n",
      "Precision: 1.0\n",
      "Recall: 1.0\n",
      "F1 Score: 1.0\n",
      "\n",
      "Test Set Metrics:\n",
      "Accuracy: 0.8131212723658051\n",
      "Precision: 0.8\n",
      "Recall: 0.8549618320610687\n",
      "F1 Score: 0.8265682656826568\n"
     ]
    }
   ],
   "source": [
    "\n",
    "\n",
    "# Assuming 'Target' is the column name you want to predict\n",
    "X = sp500.drop(columns=['Target'])\n",
    "y = sp500['Target']\n",
    "\n",
    "# Split the data into train, validation, and test sets\n",
    "X_train_val, X_test, y_train_val, y_test = train_test_split(X, y, test_size=0.2, random_state=42)\n",
    "X_train, X_val, y_train, y_val = train_test_split(X_train_val, y_train_val, test_size=0.25, random_state=42)\n",
    "\n",
    "# Instantiate the imputer with a strategy (e.g., mean)\n",
    "imputer = SimpleImputer(strategy='mean')\n",
    "\n",
    "# Fit and transform the imputer on your feature matrices\n",
    "X_train_imputed = imputer.fit_transform(X_train)\n",
    "X_val_imputed = imputer.transform(X_val)\n",
    "X_test_imputed = imputer.transform(X_test)\n",
    "\n",
    "# Use the best parameters found during hyperparameter tuning\n",
    "best_params = {'max_depth': None, 'min_samples_leaf': 1, 'min_samples_split': 2, 'n_estimators': 300}\n",
    "clf = RandomForestClassifier(**best_params, random_state=42)\n",
    "\n",
    "# Train your classifier (RandomForestClassifier with best parameters) on the combined train and validation set\n",
    "X_train_val_imputed = imputer.fit_transform(X_train_val)\n",
    "clf.fit(X_train_val_imputed, y_train_val)\n",
    "\n",
    "# Make predictions on the validation set\n",
    "y_val_pred = clf.predict(X_val_imputed)\n",
    "\n",
    "# Define Metrics for Validation Set\n",
    "accuracy_val = accuracy_score(y_val, y_val_pred)\n",
    "precision_val = precision_score(y_val, y_val_pred)\n",
    "recall_val = recall_score(y_val, y_val_pred)\n",
    "f1_val = f1_score(y_val, y_val_pred)\n",
    "\n",
    "# Make predictions on the test set\n",
    "y_test_pred = clf.predict(X_test_imputed)\n",
    "\n",
    "# Define Metrics for Test Set\n",
    "accuracy_test = accuracy_score(y_test, y_test_pred)\n",
    "precision_test = precision_score(y_test, y_test_pred)\n",
    "recall_test = recall_score(y_test, y_test_pred)\n",
    "f1_test = f1_score(y_test, y_test_pred)\n",
    "\n",
    "# Create DataFrames for training set with Date index\n",
    "y_train_pred = clf.predict(X_train_imputed)\n",
    "train_df = pd.DataFrame({'True_Target': y_train, 'Predicted_Target': y_train_pred}, index=date_train)\n",
    "\n",
    "# Concatenate training, validation, and test results into a single DataFrame\n",
    "val_df = pd.DataFrame({'True_Target': y_val, 'Predicted_Target': y_val_pred}, index=date_val)\n",
    "test_df = pd.DataFrame({'True_Target': y_test, 'Predicted_Target': y_test_pred}, index=date_test)\n",
    "final_df = pd.concat([train_df, val_df, test_df])\n",
    "\n",
    "# Sort the DataFrame by Date index\n",
    "final_df = final_df.sort_index()\n",
    "\n",
    "# Print the metrics for validation and test sets\n",
    "print(\"Validation Set Metrics:\")\n",
    "print(\"Accuracy:\", accuracy_val)\n",
    "print(\"Precision:\", precision_val)\n",
    "print(\"Recall:\", recall_val)\n",
    "print(\"F1 Score:\", f1_val)\n",
    "print(\"\\nTest Set Metrics:\")\n",
    "print(\"Accuracy:\", accuracy_test)\n",
    "print(\"Precision:\", precision_test)\n",
    "print(\"Recall:\", recall_test)\n",
    "print(\"F1 Score:\", f1_test)\n"
   ]
  },
  {
   "cell_type": "code",
   "execution_count": 33,
   "id": "7e71be13-8039-4185-9793-3ad81a47f539",
   "metadata": {
    "tags": []
   },
   "outputs": [
    {
     "name": "stdout",
     "output_type": "stream",
     "text": [
      "Confusion Matrix for Test Set:\n",
      "[[370 112]\n",
      " [ 76 448]]\n"
     ]
    }
   ],
   "source": [
    "from sklearn.metrics import confusion_matrix\n",
    "\n",
    "# Calculate the confusion matrix for the test set predictions\n",
    "conf_matrix = confusion_matrix(y_test, y_test_pred)\n",
    "\n",
    "# Print the confusion matrix\n",
    "print(\"Confusion Matrix for Test Set:\")\n",
    "print(conf_matrix)\n"
   ]
  },
  {
   "cell_type": "markdown",
   "id": "095b1c47-81ba-4ad7-b381-48acf2b1b670",
   "metadata": {},
   "source": [
    "# Plotting the Learning Curve"
   ]
  },
  {
   "cell_type": "code",
   "execution_count": 34,
   "id": "30e20c5e-f766-4dec-a0f6-07e83c19bee3",
   "metadata": {
    "tags": []
   },
   "outputs": [],
   "source": [
    "import numpy as np\n",
    "import matplotlib.pyplot as plt\n",
    "from sklearn.model_selection import learning_curve\n"
   ]
  },
  {
   "cell_type": "code",
   "execution_count": 35,
   "id": "5c6d9537-a118-4c68-ad66-2dafc53c729d",
   "metadata": {
    "tags": []
   },
   "outputs": [
    {
     "data": {
      "image/png": "[encoded data removed]",
      "text/plain": [
       "<Figure size 1000x600 with 1 Axes>"
      ]
     },
     "metadata": {},
     "output_type": "display_data"
    }
   ],
   "source": [
    "# Set the parameters for the learning curve\n",
    "train_sizes, train_scores, validation_scores = learning_curve(\n",
    "    clf, X_train_val_imputed, y_train_val, train_sizes=np.linspace(0.1, 1.0, 10),\n",
    "    cv=5, scoring='accuracy', n_jobs=-1\n",
    ")\n",
    "\n",
    "# Calculate the mean and standard deviation of training and validation scores\n",
    "train_mean = np.mean(train_scores, axis=1)\n",
    "train_std = np.std(train_scores, axis=1)\n",
    "validation_mean = np.mean(validation_scores, axis=1)\n",
    "validation_std = np.std(validation_scores, axis=1)\n",
    "\n",
    "# Plot the learning curve\n",
    "plt.figure(figsize=(10, 6))\n",
    "plt.fill_between(train_sizes, train_mean - train_std, train_mean + train_std, alpha=0.1, color='blue')\n",
    "plt.fill_between(train_sizes, validation_mean - validation_std, validation_mean + validation_std, alpha=0.1, color='orange')\n",
    "plt.plot(train_sizes, train_mean, label='Training Accuracy', color='blue', marker='o')\n",
    "plt.plot(train_sizes, validation_mean, label='Validation Accuracy', color='orange', marker='o')\n",
    "\n",
    "# Add labels and title\n",
    "plt.xlabel('Number of training examples')\n",
    "plt.ylabel('Accuracy')\n",
    "plt.title('Learning Curve')\n",
    "plt.legend()\n",
    "plt.grid()\n",
    "\n",
    "# Show plot\n",
    "plt.show()\n"
   ]
  },
  {
   "cell_type": "code",
   "execution_count": null,
   "id": "296f8d8c-5745-4f92-bbc5-b82dd1738019",
   "metadata": {},
   "outputs": [],
   "source": []
  },
  {
   "cell_type": "code",
   "execution_count": 34,
   "id": "1f283177-eb16-410b-8f26-8f75f2a911fc",
   "metadata": {
    "tags": []
   },
   "outputs": [
    {
     "data": {
      "text/html": [
       "<div>\n",
       "<style scoped>\n",
       "    .dataframe tbody tr th:only-of-type {\n",
       "        vertical-align: middle;\n",
       "    }\n",
       "\n",
       "    .dataframe tbody tr th {\n",
       "        vertical-align: top;\n",
       "    }\n",
       "\n",
       "    .dataframe thead th {\n",
       "        text-align: right;\n",
       "    }\n",
       "</style>\n",
       "<table border=\"1\" class=\"dataframe\">\n",
       "  <thead>\n",
       "    <tr style=\"text-align: right;\">\n",
       "      <th></th>\n",
       "      <th>True_Target</th>\n",
       "      <th>Predicted_Target</th>\n",
       "    </tr>\n",
       "    <tr>\n",
       "      <th>Date</th>\n",
       "      <th></th>\n",
       "      <th></th>\n",
       "    </tr>\n",
       "  </thead>\n",
       "  <tbody>\n",
       "    <tr>\n",
       "      <th>2003-12-11</th>\n",
       "      <td>1</td>\n",
       "      <td>1</td>\n",
       "    </tr>\n",
       "    <tr>\n",
       "      <th>2003-12-12</th>\n",
       "      <td>0</td>\n",
       "      <td>0</td>\n",
       "    </tr>\n",
       "    <tr>\n",
       "      <th>2003-12-15</th>\n",
       "      <td>1</td>\n",
       "      <td>1</td>\n",
       "    </tr>\n",
       "    <tr>\n",
       "      <th>2003-12-16</th>\n",
       "      <td>1</td>\n",
       "      <td>1</td>\n",
       "    </tr>\n",
       "    <tr>\n",
       "      <th>2003-12-17</th>\n",
       "      <td>1</td>\n",
       "      <td>1</td>\n",
       "    </tr>\n",
       "    <tr>\n",
       "      <th>...</th>\n",
       "      <td>...</td>\n",
       "      <td>...</td>\n",
       "    </tr>\n",
       "    <tr>\n",
       "      <th>2023-11-29</th>\n",
       "      <td>1</td>\n",
       "      <td>1</td>\n",
       "    </tr>\n",
       "    <tr>\n",
       "      <th>2023-11-30</th>\n",
       "      <td>1</td>\n",
       "      <td>1</td>\n",
       "    </tr>\n",
       "    <tr>\n",
       "      <th>2023-12-01</th>\n",
       "      <td>0</td>\n",
       "      <td>0</td>\n",
       "    </tr>\n",
       "    <tr>\n",
       "      <th>2023-12-04</th>\n",
       "      <td>0</td>\n",
       "      <td>0</td>\n",
       "    </tr>\n",
       "    <tr>\n",
       "      <th>2023-12-05</th>\n",
       "      <td>0</td>\n",
       "      <td>0</td>\n",
       "    </tr>\n",
       "  </tbody>\n",
       "</table>\n",
       "<p>5030 rows × 2 columns</p>\n",
       "</div>"
      ],
      "text/plain": [
       "            True_Target  Predicted_Target\n",
       "Date                                     \n",
       "2003-12-11            1                 1\n",
       "2003-12-12            0                 0\n",
       "2003-12-15            1                 1\n",
       "2003-12-16            1                 1\n",
       "2003-12-17            1                 1\n",
       "...                 ...               ...\n",
       "2023-11-29            1                 1\n",
       "2023-11-30            1                 1\n",
       "2023-12-01            0                 0\n",
       "2023-12-04            0                 0\n",
       "2023-12-05            0                 0\n",
       "\n",
       "[5030 rows x 2 columns]"
      ]
     },
     "execution_count": 34,
     "metadata": {},
     "output_type": "execute_result"
    }
   ],
   "source": [
    "final_df"
   ]
  },
  {
   "cell_type": "code",
   "execution_count": null,
   "id": "6a28c4f1-87ba-42b9-8fa0-0a5ef347df9a",
   "metadata": {},
   "outputs": [],
   "source": []
  },
  {
   "cell_type": "code",
   "execution_count": null,
   "id": "55f3077d-a183-4044-8bdf-c96405911530",
   "metadata": {},
   "outputs": [],
   "source": []
  },
  {
   "cell_type": "code",
   "execution_count": null,
   "id": "3d4877c8-2b51-4b91-b212-40773a003eb0",
   "metadata": {},
   "outputs": [],
   "source": []
  },
  {
   "cell_type": "code",
   "execution_count": null,
   "id": "328bbaea-5f77-4bc2-bcf2-c26e5731d9eb",
   "metadata": {},
   "outputs": [],
   "source": []
  },
  {
   "cell_type": "code",
   "execution_count": null,
   "id": "6e945d9e-f1f6-47e7-8f60-5d055b737048",
   "metadata": {},
   "outputs": [],
   "source": []
  },
  {
   "cell_type": "code",
   "execution_count": null,
   "id": "08336a57-0fd4-4996-af17-7f76de0759ad",
   "metadata": {},
   "outputs": [],
   "source": []
  },
  {
   "cell_type": "code",
   "execution_count": null,
   "id": "64983e6c-8515-4bb4-ac20-865ead8f4296",
   "metadata": {},
   "outputs": [],
   "source": []
  },
  {
   "cell_type": "code",
   "execution_count": null,
   "id": "2e59a6b1-2f6d-4e4e-89fa-2e1e15a65b55",
   "metadata": {},
   "outputs": [],
   "source": []
  },
  {
   "cell_type": "code",
   "execution_count": null,
   "id": "f2913296-7d44-4778-8ebf-259a5cc12742",
   "metadata": {},
   "outputs": [],
   "source": []
  },
  {
   "cell_type": "code",
   "execution_count": null,
   "id": "40e93d4f-d6a6-4fb4-811d-334b263a4755",
   "metadata": {},
   "outputs": [],
   "source": []
  },
  {
   "cell_type": "code",
   "execution_count": null,
   "id": "c83e04a0-3b5e-4a07-a692-2e33f52b9143",
   "metadata": {},
   "outputs": [],
   "source": []
  },
  {
   "cell_type": "code",
   "execution_count": null,
   "id": "5ee0cfaf-91fd-4916-b41f-223000ec8e76",
   "metadata": {},
   "outputs": [],
   "source": []
  },
  {
   "cell_type": "code",
   "execution_count": null,
   "id": "9aa95ded-85c7-4828-aa75-859681d9c987",
   "metadata": {},
   "outputs": [],
   "source": []
  },
  {
   "cell_type": "code",
   "execution_count": 30,
   "id": "d93b1d65-af92-432d-bbfb-5c1f5eaef14c",
   "metadata": {
    "tags": []
   },
   "outputs": [
    {
     "name": "stdout",
     "output_type": "stream",
     "text": [
      "Validation Set Metrics:\n",
      "Accuracy: 0.5437580437580437\n",
      "Precision: 0.5437580437580437\n",
      "Recall: 1.0\n",
      "F1 Score: 0.7044601917465609\n",
      "\n",
      "Test Set Metrics:\n",
      "Accuracy: 0.528957528957529\n",
      "Precision: 0.528957528957529\n",
      "Recall: 1.0\n",
      "F1 Score: 0.6919191919191919\n"
     ]
    }
   ],
   "source": [
    "import pandas as pd\n",
    "from sklearn.linear_model import LogisticRegression\n",
    "from sklearn.impute import SimpleImputer\n",
    "from sklearn.metrics import accuracy_score, precision_score, recall_score, f1_score\n",
    "from sklearn.model_selection import train_test_split\n",
    "\n",
    "# Assuming 'Target' is the column name you want to predict\n",
    "X = sp500.drop(columns=['Target'])\n",
    "y = sp500['Target']\n",
    "\n",
    "# Split the data into train, validation, and test sets\n",
    "X_train_val, X_test, y_train_val, y_test = train_test_split(X, y, test_size=0.2, random_state=42)\n",
    "X_train, X_val, y_train, y_val = train_test_split(X_train_val, y_train_val, test_size=0.25, random_state=42)\n",
    "\n",
    "# Instantiate the imputer with a strategy (e.g., mean)\n",
    "imputer = SimpleImputer(strategy='mean')\n",
    "\n",
    "# Fit and transform the imputer on your feature matrices\n",
    "X_train_imputed = imputer.fit_transform(X_train)\n",
    "X_val_imputed = imputer.transform(X_val)\n",
    "X_test_imputed = imputer.transform(X_test)\n",
    "\n",
    "# Train your logistic regression model on the training set\n",
    "log_reg = LogisticRegression(random_state=42)\n",
    "log_reg.fit(X_train_imputed, y_train)\n",
    "\n",
    "# Make predictions on the validation set\n",
    "y_val_pred = log_reg.predict(X_val_imputed)\n",
    "\n",
    "# Define Metrics for Validation Set\n",
    "accuracy_val = accuracy_score(y_val, y_val_pred)\n",
    "precision_val = precision_score(y_val, y_val_pred)\n",
    "recall_val = recall_score(y_val, y_val_pred)\n",
    "f1_val = f1_score(y_val, y_val_pred)\n",
    "\n",
    "# Make predictions on the test set\n",
    "y_test_pred = log_reg.predict(X_test_imputed)\n",
    "\n",
    "# Define Metrics for Test Set\n",
    "accuracy_test = accuracy_score(y_test, y_test_pred)\n",
    "precision_test = precision_score(y_test, y_test_pred)\n",
    "recall_test = recall_score(y_test, y_test_pred)\n",
    "f1_test = f1_score(y_test, y_test_pred)\n",
    "\n",
    "# Create DataFrames with the true target values and predicted values for validation and test sets\n",
    "val_df = pd.DataFrame({'True_Target': y_val, 'Predicted_Target': y_val_pred})\n",
    "test_df = pd.DataFrame({'True_Target': y_test, 'Predicted_Target': y_test_pred})\n",
    "\n",
    "# Concatenate validation and test results into a single DataFrame\n",
    "final_df1 = pd.concat([val_df, test_df])\n",
    "\n",
    "# Print the metrics for validation and test sets\n",
    "print(\"Validation Set Metrics:\")\n",
    "print(\"Accuracy:\", accuracy_val)\n",
    "print(\"Precision:\", precision_val)\n",
    "print(\"Recall:\", recall_val)\n",
    "print(\"F1 Score:\", f1_val)\n",
    "print(\"\\nTest Set Metrics:\")\n",
    "print(\"Accuracy:\", accuracy_test)\n",
    "print(\"Precision:\", precision_test)\n",
    "print(\"Recall:\", recall_test)\n",
    "print(\"F1 Score:\", f1_test)\n"
   ]
  },
  {
   "cell_type": "code",
   "execution_count": 31,
   "id": "d9381209-0bf6-46ab-b1da-25e853eab9b6",
   "metadata": {
    "tags": []
   },
   "outputs": [
    {
     "data": {
      "text/html": [
       "<div>\n",
       "<style scoped>\n",
       "    .dataframe tbody tr th:only-of-type {\n",
       "        vertical-align: middle;\n",
       "    }\n",
       "\n",
       "    .dataframe tbody tr th {\n",
       "        vertical-align: top;\n",
       "    }\n",
       "\n",
       "    .dataframe thead th {\n",
       "        text-align: right;\n",
       "    }\n",
       "</style>\n",
       "<table border=\"1\" class=\"dataframe\">\n",
       "  <thead>\n",
       "    <tr style=\"text-align: right;\">\n",
       "      <th></th>\n",
       "      <th>True_Target</th>\n",
       "      <th>Predicted_Target</th>\n",
       "    </tr>\n",
       "    <tr>\n",
       "      <th>Date</th>\n",
       "      <th></th>\n",
       "      <th></th>\n",
       "    </tr>\n",
       "  </thead>\n",
       "  <tbody>\n",
       "    <tr>\n",
       "      <th>2000-01-21</th>\n",
       "      <td>0</td>\n",
       "      <td>1</td>\n",
       "    </tr>\n",
       "    <tr>\n",
       "      <th>2020-06-19</th>\n",
       "      <td>1</td>\n",
       "      <td>1</td>\n",
       "    </tr>\n",
       "    <tr>\n",
       "      <th>1998-08-10</th>\n",
       "      <td>0</td>\n",
       "      <td>1</td>\n",
       "    </tr>\n",
       "    <tr>\n",
       "      <th>2002-04-23</th>\n",
       "      <td>0</td>\n",
       "      <td>1</td>\n",
       "    </tr>\n",
       "    <tr>\n",
       "      <th>2004-06-14</th>\n",
       "      <td>1</td>\n",
       "      <td>1</td>\n",
       "    </tr>\n",
       "    <tr>\n",
       "      <th>...</th>\n",
       "      <td>...</td>\n",
       "      <td>...</td>\n",
       "    </tr>\n",
       "    <tr>\n",
       "      <th>2011-11-29</th>\n",
       "      <td>1</td>\n",
       "      <td>1</td>\n",
       "    </tr>\n",
       "    <tr>\n",
       "      <th>2015-01-26</th>\n",
       "      <td>0</td>\n",
       "      <td>1</td>\n",
       "    </tr>\n",
       "    <tr>\n",
       "      <th>1996-08-27</th>\n",
       "      <td>0</td>\n",
       "      <td>1</td>\n",
       "    </tr>\n",
       "    <tr>\n",
       "      <th>1998-10-20</th>\n",
       "      <td>0</td>\n",
       "      <td>1</td>\n",
       "    </tr>\n",
       "    <tr>\n",
       "      <th>2021-12-31</th>\n",
       "      <td>1</td>\n",
       "      <td>1</td>\n",
       "    </tr>\n",
       "  </tbody>\n",
       "</table>\n",
       "<p>3108 rows × 2 columns</p>\n",
       "</div>"
      ],
      "text/plain": [
       "            True_Target  Predicted_Target\n",
       "Date                                     \n",
       "2000-01-21            0                 1\n",
       "2020-06-19            1                 1\n",
       "1998-08-10            0                 1\n",
       "2002-04-23            0                 1\n",
       "2004-06-14            1                 1\n",
       "...                 ...               ...\n",
       "2011-11-29            1                 1\n",
       "2015-01-26            0                 1\n",
       "1996-08-27            0                 1\n",
       "1998-10-20            0                 1\n",
       "2021-12-31            1                 1\n",
       "\n",
       "[3108 rows x 2 columns]"
      ]
     },
     "execution_count": 31,
     "metadata": {},
     "output_type": "execute_result"
    }
   ],
   "source": [
    "final_df1"
   ]
  },
  {
   "cell_type": "code",
   "execution_count": null,
   "id": "93a2ae95-e01f-44a5-afff-b4f2cfecafc0",
   "metadata": {},
   "outputs": [],
   "source": []
  },
  {
   "cell_type": "code",
   "execution_count": 32,
   "id": "f7547f28-a0f4-4ebf-b055-914f1bd5e367",
   "metadata": {
    "tags": []
   },
   "outputs": [
    {
     "data": {
      "image/png": "[encoded data removed]",
      "text/plain": [
       "<Figure size 800x400 with 1 Axes>"
      ]
     },
     "metadata": {},
     "output_type": "display_data"
    },
    {
     "name": "stdout",
     "output_type": "stream",
     "text": [
      "Mean Accuracy across 5 folds: 0.48\n",
      "           Date  Actual_Target  Predicted_Target\n",
      "0    1998-03-19              1                 1\n",
      "1    1998-03-20              0                 1\n",
      "2    1998-03-23              1                 1\n",
      "3    1998-03-24              0                 1\n",
      "4    1998-03-25              0                 1\n",
      "...         ...            ...               ...\n",
      "6465 2023-11-27              1                 0\n",
      "6466 2023-11-28              0                 0\n",
      "6467 2023-11-29              1                 0\n",
      "6468 2023-11-30              1                 0\n",
      "6469 2023-12-01              0                 0\n",
      "\n",
      "[6470 rows x 3 columns]\n"
     ]
    }
   ],
   "source": [
    "import numpy as np\n",
    "import pandas as pd\n",
    "from sklearn.model_selection import TimeSeriesSplit\n",
    "from sklearn.ensemble import RandomForestClassifier\n",
    "from sklearn.metrics import accuracy_score\n",
    "import matplotlib.pyplot as plt\n",
    "\n",
    "# Load your S&P 500 dataset (replace this with your actual data loading code)\n",
    "# Example:\n",
    "# sp500 = pd.read_csv('your_sp500_data.csv', index_col='Date', parse_dates=True)\n",
    "\n",
    "# Assuming your dataset has a 'Target' column (0 or 1) for binary classification\n",
    "y = sp500['Target'].values\n",
    "\n",
    "# Create a TimeSeriesSplit object with the desired number of splits\n",
    "n_splits = 5  # Adjust the number of splits as needed\n",
    "tscv = TimeSeriesSplit(n_splits=n_splits)\n",
    "\n",
    "# Initialize lists to store the model's performance metrics\n",
    "accuracy_scores = []\n",
    "predictions = []  # Store predictions for all folds\n",
    "\n",
    "# Loop through the time-based train-test splits\n",
    "for train_index, test_index in tscv.split(y):\n",
    "    # Split the target variable into train and test sets\n",
    "    y_train, y_test = y[train_index], y[test_index]\n",
    "\n",
    "    # Generate an index range corresponding to the test set\n",
    "    test_index_range = sp500.index[test_index]\n",
    "\n",
    "    # Train a Random Forest Classifier model for binary classification\n",
    "    model = RandomForestClassifier(random_state=42)  # You can adjust hyperparameters\n",
    "    model.fit(np.arange(len(y_train)).reshape(-1, 1), y_train)\n",
    "\n",
    "    # Make binary predictions on the test set\n",
    "    y_pred = model.predict(np.arange(len(y_train), len(y_train) + len(y_test)).reshape(-1, 1))\n",
    "\n",
    "    # Calculate accuracy for this fold\n",
    "    accuracy = accuracy_score(y_test, y_pred)\n",
    "    accuracy_scores.append(accuracy)\n",
    "\n",
    "    # Store binary predictions for this fold\n",
    "    fold_predictions = pd.DataFrame({\n",
    "        'Date': test_index_range,\n",
    "        'Actual_Target': y_test,\n",
    "        'Predicted_Target': y_pred\n",
    "    })\n",
    "    predictions.append(fold_predictions)\n",
    "\n",
    "# Visualize the accuracy scores for each fold\n",
    "plt.figure(figsize=(8, 4))\n",
    "plt.plot(range(1, n_splits + 1), accuracy_scores, marker='o', linestyle='-')\n",
    "plt.title('Accuracy for Time Series Cross-Validation')\n",
    "plt.xlabel('Fold')\n",
    "plt.ylabel('Accuracy')\n",
    "plt.grid(True)\n",
    "plt.show()\n",
    "\n",
    "# Calculate the mean accuracy across all folds\n",
    "mean_accuracy = np.mean(accuracy_scores)\n",
    "print(f'Mean Accuracy across {n_splits} folds: {mean_accuracy:.2f}')\n",
    "\n",
    "# Concatenate all fold predictions into the final DataFrame\n",
    "final_df = pd.concat(predictions, ignore_index=True)\n",
    "\n",
    "# Display the final DataFrame with actual and predicted values\n",
    "print(final_df)\n"
   ]
  },
  {
   "cell_type": "code",
   "execution_count": null,
   "id": "ce365be9-3527-4fac-b627-b74ea2293565",
   "metadata": {},
   "outputs": [],
   "source": []
  },
  {
   "cell_type": "code",
   "execution_count": 33,
   "id": "0b4ac3be-8fe6-4f60-b84e-d08ce9044062",
   "metadata": {
    "tags": []
   },
   "outputs": [],
   "source": [
    "# import pandas as pd\n",
    "# from sklearn.ensemble import RandomForestClassifier\n",
    "# from sklearn.impute import SimpleImputer\n",
    "# from sklearn.metrics import accuracy_score, precision_score, recall_score, f1_score\n",
    "\n",
    "# # Specify the features (X) and target variable (y)\n",
    "# # Replace 'target_column' with the name of the column you want to predict\n",
    "# X = sp500.drop(columns=['Target'])\n",
    "# y = sp500['Target']\n",
    "\n",
    "# # Instantiate the imputer with a strategy (e.g., mean)\n",
    "# imputer = SimpleImputer(strategy='mean')\n",
    "\n",
    "# # Fit and transform the imputer on your feature matrix X\n",
    "# X_imputed = imputer.fit_transform(X)\n",
    "\n",
    "# # Train your classifier (RandomForestClassifier in this case) on the entire dataset\n",
    "# clf = RandomForestClassifier(random_state=42)\n",
    "# clf.fit(X_imputed, y)\n",
    "\n",
    "# # Make predictions on the entire dataset\n",
    "# y_pred = clf.predict(X_imputed)\n",
    "\n",
    "# # Define Metrics\n",
    "# # Calculate metrics using the correct variables\n",
    "# accuracy = accuracy_score(y, y_pred)\n",
    "# precision = precision_score(y, y_pred)\n",
    "# recall = recall_score(y, y_pred)\n",
    "# f1 = f1_score(y, y_pred)\n",
    "\n",
    "# # Create a DataFrame with the original features, true target values, and predicted values\n",
    "# final_df = pd.DataFrame({\n",
    "#     'Features': X.index,  # You can adjust this based on your actual feature columns\n",
    "#     'True_Target': y,\n",
    "#     'Predicted_Target': y_pred\n",
    "# })\n",
    "\n",
    "# # Print the shapes of the resulting datasets to verify\n",
    "# print(f\"X shape: {X.shape}\")\n",
    "# print(f\"y shape: {y.shape}\")\n",
    "# print(\"Accuracy:\", accuracy)\n",
    "# print(\"Precision:\", precision)\n",
    "# print(\"Recall:\", recall)\n",
    "# print(\"F1 Score:\", f1)\n",
    "\n",
    "# # Print the final DataFrame with features, true target, and predicted target\n",
    "# print(final_df)\n"
   ]
  },
  {
   "cell_type": "code",
   "execution_count": 34,
   "id": "5ec213a6-7d5f-4179-ba10-385d9062106c",
   "metadata": {
    "tags": []
   },
   "outputs": [
    {
     "name": "stdout",
     "output_type": "stream",
     "text": [
      "X_train shape: (6213, 7)\n",
      "y_train shape: (6213,)\n",
      "X_test shape: (1554, 7)\n",
      "y_test shape: (1554,)\n",
      "Accuracy: 0.8037323037323038\n",
      "Precision: 0.7961053837342497\n",
      "Recall: 0.8454987834549879\n",
      "F1 Score: 0.8200589970501474\n"
     ]
    },
    {
     "data": {
      "image/png": "[encoded data removed]",
      "text/plain": [
       "<Figure size 640x480 with 1 Axes>"
      ]
     },
     "metadata": {},
     "output_type": "display_data"
    }
   ],
   "source": [
    "import pandas as pd\n",
    "from sklearn.ensemble import RandomForestClassifier\n",
    "from sklearn.impute import SimpleImputer\n",
    "from sklearn.metrics import accuracy_score, precision_score, recall_score, f1_score, roc_curve, auc\n",
    "from sklearn.model_selection import train_test_split\n",
    "import matplotlib.pyplot as plt\n",
    "\n",
    "# Specify the features (X) and target variable (y)\n",
    "# Replace 'target_column' with the name of the column you want to predict\n",
    "X = sp500.drop(columns=['Target'])\n",
    "y = sp500['Target']\n",
    "\n",
    "# Split the data into training (80%) and testing (20%) sets\n",
    "X_train, X_test, y_train, y_test = train_test_split(X, y, test_size=0.2, random_state=42)\n",
    "\n",
    "# Instantiate the imputer with a strategy (e.g., mean)\n",
    "imputer = SimpleImputer(strategy='mean')\n",
    "\n",
    "# Fit and transform the imputer on your feature matrix X_train\n",
    "X_train_imputed = imputer.fit_transform(X_train)\n",
    "\n",
    "# Train your classifier (RandomForestClassifier in this case) on the training dataset\n",
    "clf = RandomForestClassifier(random_state=42)\n",
    "clf.fit(X_train_imputed, y_train)\n",
    "\n",
    "# Make predictions on the testing dataset\n",
    "X_test_imputed = imputer.transform(X_test)  # Use transform, not fit_transform\n",
    "y_pred = clf.predict(X_test_imputed)\n",
    "\n",
    "# Calculate metrics using the correct variables\n",
    "accuracy = accuracy_score(y_test, y_pred)\n",
    "precision = precision_score(y_test, y_pred)\n",
    "recall = recall_score(y_test, y_pred)\n",
    "f1 = f1_score(y_test, y_pred)\n",
    "\n",
    "# Create a DataFrame with the true target values and predicted values\n",
    "final_df = pd.DataFrame({\n",
    "    'True_Target': y_test,\n",
    "    'Predicted_Target': y_pred\n",
    "})\n",
    "\n",
    "# Print the shapes of the resulting datasets to verify\n",
    "print(f\"X_train shape: {X_train.shape}\")\n",
    "print(f\"y_train shape: {y_train.shape}\")\n",
    "print(f\"X_test shape: {X_test.shape}\")\n",
    "print(f\"y_test shape: {y_test.shape}\")\n",
    "print(\"Accuracy:\", accuracy)\n",
    "print(\"Precision:\", precision)\n",
    "print(\"Recall:\", recall)\n",
    "print(\"F1 Score:\", f1)\n",
    "\n",
    "# Calculate ROC curve\n",
    "y_scores = clf.predict_proba(X_test_imputed)[:, 1]  # Use predicted probabilities for positive class\n",
    "fpr, tpr, thresholds = roc_curve(y_test, y_scores)\n",
    "\n",
    "# Calculate the AUC (Area Under the Curve)\n",
    "roc_auc = auc(fpr, tpr)\n",
    "\n",
    "# Plot the ROC curve\n",
    "plt.figure()\n",
    "plt.plot(fpr, tpr, color='darkorange', lw=2, label=f'ROC curve (area = {roc_auc:.2f})')\n",
    "plt.plot([0, 1], [0, 1], color='navy', lw=2, linestyle='--')\n",
    "plt.xlim([0.0, 1.0])\n",
    "plt.ylim([0.0, 1.05])\n",
    "plt.xlabel('False Positive Rate')\n",
    "plt.ylabel('True Positive Rate')\n",
    "plt.title('Receiver Operating Characteristic (ROC) Curve')\n",
    "plt.legend(loc='lower right')\n",
    "plt.show()\n"
   ]
  },
  {
   "cell_type": "code",
   "execution_count": 35,
   "id": "d4c791fa-0e48-4e9d-9a04-7da3a35c6669",
   "metadata": {
    "tags": []
   },
   "outputs": [],
   "source": [
    "sp500 = pd.concat([sp500, final_df], axis=1)\n"
   ]
  },
  {
   "cell_type": "code",
   "execution_count": null,
   "id": "9d7853d4-1345-4cce-a527-16c525ec3a2e",
   "metadata": {},
   "outputs": [],
   "source": []
  },
  {
   "cell_type": "code",
   "execution_count": 36,
   "id": "663d2ce4-e960-4d96-bb8e-fbf48c0033b5",
   "metadata": {
    "tags": []
   },
   "outputs": [
    {
     "ename": "NameError",
     "evalue": "name 'X_imputed' is not defined",
     "output_type": "error",
     "traceback": [
      "\u001b[1;31m---------------------------------------------------------------------------\u001b[0m",
      "\u001b[1;31mNameError\u001b[0m                                 Traceback (most recent call last)",
      "Cell \u001b[1;32mIn[36], line 43\u001b[0m\n\u001b[0;32m     41\u001b[0m \u001b[38;5;66;03m# Plot the learning curve\u001b[39;00m\n\u001b[0;32m     42\u001b[0m title \u001b[38;5;241m=\u001b[39m \u001b[38;5;124m\"\u001b[39m\u001b[38;5;124mLearning Curve (RandomForestClassifier)\u001b[39m\u001b[38;5;124m\"\u001b[39m\n\u001b[1;32m---> 43\u001b[0m plot_learning_curve(clf, title, \u001b[43mX_imputed\u001b[49m, y, cv\u001b[38;5;241m=\u001b[39m\u001b[38;5;28;01mNone\u001b[39;00m, n_jobs\u001b[38;5;241m=\u001b[39m\u001b[38;5;241m-\u001b[39m\u001b[38;5;241m1\u001b[39m)\n\u001b[0;32m     45\u001b[0m plt\u001b[38;5;241m.\u001b[39mshow()\n",
      "\u001b[1;31mNameError\u001b[0m: name 'X_imputed' is not defined"
     ]
    }
   ],
   "source": [
    "import numpy as np\n",
    "import matplotlib.pyplot as plt\n",
    "from sklearn.model_selection import learning_curve\n",
    "\n",
    "# Define a function to plot the learning curve\n",
    "def plot_learning_curve(estimator, title, X, y, ylim=None, cv=None,\n",
    "                        n_jobs=None, train_sizes=np.linspace(.1, 1.0, 5)):\n",
    "    plt.figure(figsize=(10, 6))\n",
    "    plt.title(title)\n",
    "    if ylim is not None:\n",
    "        plt.ylim(*ylim)\n",
    "    plt.xlabel(\"Training examples\")\n",
    "    plt.ylabel(\"Score\")\n",
    "    \n",
    "    train_sizes, train_scores, test_scores = learning_curve(\n",
    "        estimator, X, y, cv=cv, n_jobs=n_jobs, train_sizes=train_sizes)\n",
    "    \n",
    "    train_scores_mean = np.mean(train_scores, axis=1)\n",
    "    train_scores_std = np.std(train_scores, axis=1)\n",
    "    test_scores_mean = np.mean(test_scores, axis=1)\n",
    "    test_scores_std = np.std(test_scores, axis=1)\n",
    "    \n",
    "    plt.grid()\n",
    "\n",
    "    plt.fill_between(train_sizes, train_scores_mean - train_scores_std,\n",
    "                     train_scores_mean + train_scores_std, alpha=0.1,\n",
    "                     color=\"r\")\n",
    "    plt.fill_between(train_sizes, test_scores_mean - test_scores_std,\n",
    "                     test_scores_mean + test_scores_std, alpha=0.1, color=\"g\")\n",
    "    plt.plot(train_sizes, train_scores_mean, 'o-', color=\"r\",\n",
    "             label=\"Training score\")\n",
    "    plt.plot(train_sizes, test_scores_mean, 'o-', color=\"g\",\n",
    "             label=\"Cross-validation score\")\n",
    "\n",
    "    plt.legend(loc=\"best\")\n",
    "    return plt\n",
    "\n",
    "# Create a RandomForestClassifier\n",
    "clf = RandomForestClassifier(random_state=42)\n",
    "\n",
    "# Plot the learning curve\n",
    "title = \"Learning Curve (RandomForestClassifier)\"\n",
    "plot_learning_curve(clf, title, X_imputed, y, cv=None, n_jobs=-1)\n",
    "\n",
    "plt.show()\n"
   ]
  },
  {
   "cell_type": "code",
   "execution_count": null,
   "id": "e7101611-1ff2-477f-bc26-23f2e7bc23e6",
   "metadata": {
    "tags": []
   },
   "outputs": [],
   "source": [
    "import matplotlib.pyplot as plt\n",
    "from sklearn.metrics import roc_curve, auc\n",
    "\n",
    "# Train your classifier (RandomForestClassifier in this case) on the entire dataset\n",
    "clf = RandomForestClassifier(random_state=42)\n",
    "clf.fit(X_imputed, y)\n",
    "\n",
    "# Predict probabilities instead of labels\n",
    "y_pred_prob = clf.predict_proba(X_imputed)[:, 1]\n",
    "\n",
    "# Calculate ROC curve and AUC\n",
    "fpr, tpr, thresholds = roc_curve(y, y_pred_prob)\n",
    "roc_auc = auc(fpr, tpr)\n",
    "\n",
    "# Plot ROC curve\n",
    "plt.figure(figsize=(8, 6))\n",
    "plt.plot(fpr, tpr, color='darkorange', lw=2, label=f'ROC curve (AUC = {roc_auc:.2f})')\n",
    "plt.plot([0, 1], [0, 1], color='navy', lw=2, linestyle='--')\n",
    "plt.xlim([0.0, 1.0])\n",
    "plt.ylim([0.0, 1.05])\n",
    "plt.xlabel('False Positive Rate')\n",
    "plt.ylabel('True Positive Rate')\n",
    "plt.title('Receiver Operating Characteristic (ROC) Curve')\n",
    "plt.legend(loc='lower right')\n",
    "plt.show()\n"
   ]
  },
  {
   "cell_type": "markdown",
   "id": "ad4b297a-2433-4941-939a-1c5eebeca1d8",
   "metadata": {},
   "source": [
    "***TUNING**"
   ]
  },
  {
   "cell_type": "code",
   "execution_count": 35,
   "id": "476af913-589a-49a6-9b1d-5ace56fecb87",
   "metadata": {
    "tags": []
   },
   "outputs": [
    {
     "name": "stdout",
     "output_type": "stream",
     "text": [
      "Fitting 3 folds for each of 108 candidates, totalling 324 fits\n"
     ]
    },
    {
     "name": "stderr",
     "output_type": "stream",
     "text": [
      "C:\\Users\\hp\\anaconda3\\lib\\site-packages\\sklearn\\impute\\_base.py:555: UserWarning: Skipping features without any observed values: ['True_Target' 'Predicted_Target']. At least one non-missing value is needed for imputation with strategy='mean'.\n",
      "  warnings.warn(\n"
     ]
    },
    {
     "name": "stdout",
     "output_type": "stream",
     "text": [
      "Best Parameters:\n",
      "{'classifier__max_depth': 10, 'classifier__min_samples_leaf': 1, 'classifier__min_samples_split': 2, 'classifier__n_estimators': 50}\n",
      "Accuracy: 0.6222664015904572\n",
      "Precision: 0.6286644951140065\n",
      "Recall: 0.7174721189591078\n",
      "F1 Score: 0.6701388888888888\n"
     ]
    },
    {
     "name": "stderr",
     "output_type": "stream",
     "text": [
      "C:\\Users\\hp\\anaconda3\\lib\\site-packages\\sklearn\\impute\\_base.py:555: UserWarning: Skipping features without any observed values: ['True_Target' 'Predicted_Target']. At least one non-missing value is needed for imputation with strategy='mean'.\n",
      "  warnings.warn(\n"
     ]
    }
   ],
   "source": [
    "import pandas as pd\n",
    "from sklearn.model_selection import train_test_split, GridSearchCV\n",
    "from sklearn.ensemble import RandomForestClassifier\n",
    "from sklearn.metrics import accuracy_score, precision_score, recall_score, f1_score\n",
    "from sklearn.impute import SimpleImputer\n",
    "from sklearn.pipeline import Pipeline\n",
    "\n",
    "# Specify the features (X) and target variable (y)\n",
    "# Replace 'target_column' with the name of the column you want to predict\n",
    "X = sp500.drop(columns=['Target'])\n",
    "y = sp500['Target']\n",
    "\n",
    "# Split the data into training and testing sets\n",
    "# The test_size parameter determines the proportion of data to be used for testing (e.g., 0.2 for 20% testing data)\n",
    "X_train, X_test, y_train, y_test = train_test_split(X, y, test_size=0.8, random_state=42)\n",
    "\n",
    "# Create a pipeline that includes imputation and a RandomForestClassifier\n",
    "pipeline = Pipeline([\n",
    "    ('imputer', SimpleImputer(strategy='mean')),  # Choose an appropriate strategy\n",
    "    ('classifier', RandomForestClassifier(random_state=42))\n",
    "])\n",
    "\n",
    "# Define a parameter grid for grid search\n",
    "param_grid = {\n",
    "    'classifier__n_estimators': [50, 100, 200],\n",
    "    'classifier__max_depth': [None, 10, 20, 30],\n",
    "    'classifier__min_samples_split': [2, 5, 10],\n",
    "    'classifier__min_samples_leaf': [1, 2, 4]\n",
    "}\n",
    "\n",
    "# Create a GridSearchCV object\n",
    "grid_search = GridSearchCV(estimator=pipeline, param_grid=param_grid, cv=3, n_jobs=-1, verbose=2, scoring='accuracy')\n",
    "\n",
    "# Fit the GridSearchCV to the data\n",
    "grid_search.fit(X_train, y_train)\n",
    "\n",
    "# Get the best parameters from grid search\n",
    "best_params = grid_search.best_params_\n",
    "print(\"Best Parameters:\")\n",
    "print(best_params)\n",
    "\n",
    "# Use the best model for predictions\n",
    "best_model = grid_search.best_estimator_\n",
    "y_pred = best_model.predict(X_test)\n",
    "\n",
    "# Calculate metrics using the best model\n",
    "accuracy = accuracy_score(y_test, y_pred)\n",
    "precision = precision_score(y_test, y_pred)\n",
    "recall = recall_score(y_test, y_pred)\n",
    "f1 = f1_score(y_test, y_pred)\n",
    "\n",
    "# Create a DataFrame with actual and predicted values\n",
    "final_df = pd.DataFrame({'Actual_Target': y_test, 'Predicted_Target': y_pred})\n",
    "\n",
    "# Concatenate the final DataFrame with the original data (if needed)\n",
    "sp500 = pd.concat([sp500, final_df], axis=1)\n",
    "\n",
    "# Print the evaluation metrics\n",
    "print(\"Accuracy:\", accuracy)\n",
    "print(\"Precision:\", precision)\n",
    "print(\"Recall:\", recall)\n",
    "print(\"F1 Score:\", f1)\n"
   ]
  },
  {
   "cell_type": "code",
   "execution_count": 36,
   "id": "e2fc48a2-212a-4ca0-ae40-094a46fefce0",
   "metadata": {
    "tags": []
   },
   "outputs": [
    {
     "data": {
      "text/html": [
       "<div>\n",
       "<style scoped>\n",
       "    .dataframe tbody tr th:only-of-type {\n",
       "        vertical-align: middle;\n",
       "    }\n",
       "\n",
       "    .dataframe tbody tr th {\n",
       "        vertical-align: top;\n",
       "    }\n",
       "\n",
       "    .dataframe thead th {\n",
       "        text-align: right;\n",
       "    }\n",
       "</style>\n",
       "<table border=\"1\" class=\"dataframe\">\n",
       "  <thead>\n",
       "    <tr style=\"text-align: right;\">\n",
       "      <th></th>\n",
       "      <th>Open</th>\n",
       "      <th>High</th>\n",
       "      <th>Low</th>\n",
       "      <th>Close</th>\n",
       "      <th>Adj Close</th>\n",
       "      <th>Volume</th>\n",
       "      <th>Tomorrow</th>\n",
       "      <th>Target</th>\n",
       "      <th>True_Target</th>\n",
       "      <th>Predicted_Target</th>\n",
       "      <th>Actual_Target</th>\n",
       "      <th>Predicted_Target</th>\n",
       "    </tr>\n",
       "    <tr>\n",
       "      <th>Date</th>\n",
       "      <th></th>\n",
       "      <th></th>\n",
       "      <th></th>\n",
       "      <th></th>\n",
       "      <th></th>\n",
       "      <th></th>\n",
       "      <th></th>\n",
       "      <th></th>\n",
       "      <th></th>\n",
       "      <th></th>\n",
       "      <th></th>\n",
       "      <th></th>\n",
       "    </tr>\n",
       "  </thead>\n",
       "  <tbody>\n",
       "    <tr>\n",
       "      <th>2018-11-07</th>\n",
       "      <td>277.559998</td>\n",
       "      <td>281.100006</td>\n",
       "      <td>277.079987</td>\n",
       "      <td>281.010010</td>\n",
       "      <td>258.509674</td>\n",
       "      <td>102752100</td>\n",
       "      <td>280.500000</td>\n",
       "      <td>0</td>\n",
       "      <td>NaN</td>\n",
       "      <td>NaN</td>\n",
       "      <td>0.0</td>\n",
       "      <td>0.0</td>\n",
       "    </tr>\n",
       "    <tr>\n",
       "      <th>2018-11-08</th>\n",
       "      <td>280.109985</td>\n",
       "      <td>281.220001</td>\n",
       "      <td>279.220001</td>\n",
       "      <td>280.500000</td>\n",
       "      <td>258.040527</td>\n",
       "      <td>65584900</td>\n",
       "      <td>277.760010</td>\n",
       "      <td>0</td>\n",
       "      <td>NaN</td>\n",
       "      <td>NaN</td>\n",
       "      <td>NaN</td>\n",
       "      <td>NaN</td>\n",
       "    </tr>\n",
       "    <tr>\n",
       "      <th>2018-11-09</th>\n",
       "      <td>279.029999</td>\n",
       "      <td>279.239990</td>\n",
       "      <td>276.179993</td>\n",
       "      <td>277.760010</td>\n",
       "      <td>255.519943</td>\n",
       "      <td>98812600</td>\n",
       "      <td>272.570007</td>\n",
       "      <td>0</td>\n",
       "      <td>NaN</td>\n",
       "      <td>NaN</td>\n",
       "      <td>0.0</td>\n",
       "      <td>0.0</td>\n",
       "    </tr>\n",
       "    <tr>\n",
       "      <th>2018-11-12</th>\n",
       "      <td>277.190002</td>\n",
       "      <td>277.459991</td>\n",
       "      <td>271.989990</td>\n",
       "      <td>272.570007</td>\n",
       "      <td>250.745544</td>\n",
       "      <td>99673600</td>\n",
       "      <td>272.059998</td>\n",
       "      <td>0</td>\n",
       "      <td>NaN</td>\n",
       "      <td>NaN</td>\n",
       "      <td>0.0</td>\n",
       "      <td>0.0</td>\n",
       "    </tr>\n",
       "    <tr>\n",
       "      <th>2018-11-13</th>\n",
       "      <td>273.089996</td>\n",
       "      <td>275.329987</td>\n",
       "      <td>271.250000</td>\n",
       "      <td>272.059998</td>\n",
       "      <td>250.276352</td>\n",
       "      <td>98176600</td>\n",
       "      <td>270.200012</td>\n",
       "      <td>0</td>\n",
       "      <td>NaN</td>\n",
       "      <td>NaN</td>\n",
       "      <td>0.0</td>\n",
       "      <td>0.0</td>\n",
       "    </tr>\n",
       "    <tr>\n",
       "      <th>...</th>\n",
       "      <td>...</td>\n",
       "      <td>...</td>\n",
       "      <td>...</td>\n",
       "      <td>...</td>\n",
       "      <td>...</td>\n",
       "      <td>...</td>\n",
       "      <td>...</td>\n",
       "      <td>...</td>\n",
       "      <td>...</td>\n",
       "      <td>...</td>\n",
       "      <td>...</td>\n",
       "      <td>...</td>\n",
       "    </tr>\n",
       "    <tr>\n",
       "      <th>2023-10-31</th>\n",
       "      <td>416.179993</td>\n",
       "      <td>418.529999</td>\n",
       "      <td>414.209991</td>\n",
       "      <td>418.200012</td>\n",
       "      <td>418.200012</td>\n",
       "      <td>79665200</td>\n",
       "      <td>422.660004</td>\n",
       "      <td>1</td>\n",
       "      <td>NaN</td>\n",
       "      <td>NaN</td>\n",
       "      <td>1.0</td>\n",
       "      <td>1.0</td>\n",
       "    </tr>\n",
       "    <tr>\n",
       "      <th>2023-11-01</th>\n",
       "      <td>419.200012</td>\n",
       "      <td>423.500000</td>\n",
       "      <td>418.649994</td>\n",
       "      <td>422.660004</td>\n",
       "      <td>422.660004</td>\n",
       "      <td>98068100</td>\n",
       "      <td>430.760010</td>\n",
       "      <td>1</td>\n",
       "      <td>NaN</td>\n",
       "      <td>NaN</td>\n",
       "      <td>1.0</td>\n",
       "      <td>1.0</td>\n",
       "    </tr>\n",
       "    <tr>\n",
       "      <th>2023-11-02</th>\n",
       "      <td>426.579987</td>\n",
       "      <td>430.920013</td>\n",
       "      <td>426.559998</td>\n",
       "      <td>430.760010</td>\n",
       "      <td>430.760010</td>\n",
       "      <td>94938900</td>\n",
       "      <td>434.690002</td>\n",
       "      <td>1</td>\n",
       "      <td>NaN</td>\n",
       "      <td>NaN</td>\n",
       "      <td>NaN</td>\n",
       "      <td>NaN</td>\n",
       "    </tr>\n",
       "    <tr>\n",
       "      <th>2023-11-03</th>\n",
       "      <td>433.140015</td>\n",
       "      <td>436.290009</td>\n",
       "      <td>433.010010</td>\n",
       "      <td>434.690002</td>\n",
       "      <td>434.690002</td>\n",
       "      <td>100110800</td>\n",
       "      <td>435.690002</td>\n",
       "      <td>1</td>\n",
       "      <td>NaN</td>\n",
       "      <td>NaN</td>\n",
       "      <td>1.0</td>\n",
       "      <td>0.0</td>\n",
       "    </tr>\n",
       "    <tr>\n",
       "      <th>2023-11-06</th>\n",
       "      <td>435.470001</td>\n",
       "      <td>436.149994</td>\n",
       "      <td>433.679993</td>\n",
       "      <td>435.690002</td>\n",
       "      <td>435.690002</td>\n",
       "      <td>67719600</td>\n",
       "      <td>NaN</td>\n",
       "      <td>0</td>\n",
       "      <td>NaN</td>\n",
       "      <td>NaN</td>\n",
       "      <td>0.0</td>\n",
       "      <td>0.0</td>\n",
       "    </tr>\n",
       "  </tbody>\n",
       "</table>\n",
       "<p>1257 rows × 12 columns</p>\n",
       "</div>"
      ],
      "text/plain": [
       "                  Open        High         Low       Close   Adj Close  \\\n",
       "Date                                                                     \n",
       "2018-11-07  277.559998  281.100006  277.079987  281.010010  258.509674   \n",
       "2018-11-08  280.109985  281.220001  279.220001  280.500000  258.040527   \n",
       "2018-11-09  279.029999  279.239990  276.179993  277.760010  255.519943   \n",
       "2018-11-12  277.190002  277.459991  271.989990  272.570007  250.745544   \n",
       "2018-11-13  273.089996  275.329987  271.250000  272.059998  250.276352   \n",
       "...                ...         ...         ...         ...         ...   \n",
       "2023-10-31  416.179993  418.529999  414.209991  418.200012  418.200012   \n",
       "2023-11-01  419.200012  423.500000  418.649994  422.660004  422.660004   \n",
       "2023-11-02  426.579987  430.920013  426.559998  430.760010  430.760010   \n",
       "2023-11-03  433.140015  436.290009  433.010010  434.690002  434.690002   \n",
       "2023-11-06  435.470001  436.149994  433.679993  435.690002  435.690002   \n",
       "\n",
       "               Volume    Tomorrow  Target  True_Target  Predicted_Target  \\\n",
       "Date                                                                       \n",
       "2018-11-07  102752100  280.500000       0          NaN               NaN   \n",
       "2018-11-08   65584900  277.760010       0          NaN               NaN   \n",
       "2018-11-09   98812600  272.570007       0          NaN               NaN   \n",
       "2018-11-12   99673600  272.059998       0          NaN               NaN   \n",
       "2018-11-13   98176600  270.200012       0          NaN               NaN   \n",
       "...               ...         ...     ...          ...               ...   \n",
       "2023-10-31   79665200  422.660004       1          NaN               NaN   \n",
       "2023-11-01   98068100  430.760010       1          NaN               NaN   \n",
       "2023-11-02   94938900  434.690002       1          NaN               NaN   \n",
       "2023-11-03  100110800  435.690002       1          NaN               NaN   \n",
       "2023-11-06   67719600         NaN       0          NaN               NaN   \n",
       "\n",
       "            Actual_Target  Predicted_Target  \n",
       "Date                                         \n",
       "2018-11-07            0.0               0.0  \n",
       "2018-11-08            NaN               NaN  \n",
       "2018-11-09            0.0               0.0  \n",
       "2018-11-12            0.0               0.0  \n",
       "2018-11-13            0.0               0.0  \n",
       "...                   ...               ...  \n",
       "2023-10-31            1.0               1.0  \n",
       "2023-11-01            1.0               1.0  \n",
       "2023-11-02            NaN               NaN  \n",
       "2023-11-03            1.0               0.0  \n",
       "2023-11-06            0.0               0.0  \n",
       "\n",
       "[1257 rows x 12 columns]"
      ]
     },
     "execution_count": 36,
     "metadata": {},
     "output_type": "execute_result"
    }
   ],
   "source": [
    "sp500"
   ]
  },
  {
   "cell_type": "code",
   "execution_count": 38,
   "id": "79a3d3b9-bf36-41d0-b29d-323f79289ccc",
   "metadata": {
    "tags": []
   },
   "outputs": [],
   "source": [
    "# import pandas as pd\n",
    "# from sklearn.model_selection import train_test_split\n",
    "# from sklearn.ensemble import RandomForestClassifier\n",
    "# from sklearn.metrics import accuracy_score, precision_score, recall_score, f1_score\n",
    "\n",
    "# # Specify the features (X) and target variable (y)\n",
    "# # Replace 'target_column' with the name of the column you want to predict\n",
    "# X = sp500.drop(columns=['Target'])\n",
    "# y = sp500['Target']\n",
    "\n",
    "# # Split the data into training and testing sets\n",
    "# # The test_size parameter determines the proportion of data to be used for testing (e.g., 0.2 for 20% testing data)\n",
    "# X_train, X_test, y_train, y_test = train_test_split(X, y, test_size=0.8, random_state=42)\n",
    "\n",
    "# # Create a RandomForestClassifier with the best hyperparameters\n",
    "# clf = RandomForestClassifier(\n",
    "#     random_state=42,\n",
    "#     max_depth=30,\n",
    "#     min_samples_leaf=1,\n",
    "#     min_samples_split=2,\n",
    "#     n_estimators=100\n",
    "# )\n",
    "\n",
    "# # Train the classifier with the best hyperparameters\n",
    "# clf.fit(X_train, y_train)\n",
    "\n",
    "# # Make predictions on the test set\n",
    "# y_pred = clf.predict(X_test)\n",
    "\n",
    "# # Define Metrics\n",
    "# # Calculate metrics using the best model\n",
    "# accuracy = accuracy_score(y_test, y_pred)\n",
    "# precision = precision_score(y_test, y_pred)\n",
    "# recall = recall_score(y_test, y_pred)\n",
    "# f1 = f1_score(y_test, y_pred)\n",
    "\n",
    "# # Print the evaluation metrics\n",
    "# print(\"Accuracy:\", accuracy)\n",
    "# print(\"Precision:\", precision)\n",
    "# print(\"Recall:\", recall)\n",
    "# print(\"F1 Score:\", f1)\n"
   ]
  },
  {
   "cell_type": "code",
   "execution_count": 39,
   "id": "51c3eba4-a580-4a86-b26f-b46f0b784247",
   "metadata": {
    "tags": []
   },
   "outputs": [
    {
     "ename": "ValueError",
     "evalue": "Input X contains NaN.\nRandomForestClassifier does not accept missing values encoded as NaN natively. For supervised learning, you might want to consider sklearn.ensemble.HistGradientBoostingClassifier and Regressor which accept missing values encoded as NaNs natively. Alternatively, it is possible to preprocess the data, for instance by using an imputer transformer in a pipeline or drop samples with missing values. See https://scikit-learn.org/stable/modules/impute.html You can find a list of all estimators that handle NaN values at the following page: https://scikit-learn.org/stable/modules/impute.html#estimators-that-handle-nan-values",
     "output_type": "error",
     "traceback": [
      "\u001b[1;31m---------------------------------------------------------------------------\u001b[0m",
      "\u001b[1;31mValueError\u001b[0m                                Traceback (most recent call last)",
      "Cell \u001b[1;32mIn[39], line 25\u001b[0m\n\u001b[0;32m     16\u001b[0m clf \u001b[38;5;241m=\u001b[39m RandomForestClassifier(\n\u001b[0;32m     17\u001b[0m     random_state\u001b[38;5;241m=\u001b[39m\u001b[38;5;241m42\u001b[39m,\n\u001b[0;32m     18\u001b[0m     max_depth\u001b[38;5;241m=\u001b[39m\u001b[38;5;241m30\u001b[39m,\n\u001b[1;32m   (...)\u001b[0m\n\u001b[0;32m     21\u001b[0m     n_estimators\u001b[38;5;241m=\u001b[39m\u001b[38;5;241m100\u001b[39m\n\u001b[0;32m     22\u001b[0m )\n\u001b[0;32m     24\u001b[0m \u001b[38;5;66;03m# Train the classifier with the best hyperparameters\u001b[39;00m\n\u001b[1;32m---> 25\u001b[0m \u001b[43mclf\u001b[49m\u001b[38;5;241;43m.\u001b[39;49m\u001b[43mfit\u001b[49m\u001b[43m(\u001b[49m\u001b[43mX_train\u001b[49m\u001b[43m,\u001b[49m\u001b[43m \u001b[49m\u001b[43my_train\u001b[49m\u001b[43m)\u001b[49m\n\u001b[0;32m     27\u001b[0m \u001b[38;5;66;03m# Make predictions on the test set\u001b[39;00m\n\u001b[0;32m     28\u001b[0m y_pred \u001b[38;5;241m=\u001b[39m clf\u001b[38;5;241m.\u001b[39mpredict(X_test)\n",
      "File \u001b[1;32m~\\anaconda3\\lib\\site-packages\\sklearn\\base.py:1151\u001b[0m, in \u001b[0;36m_fit_context.<locals>.decorator.<locals>.wrapper\u001b[1;34m(estimator, *args, **kwargs)\u001b[0m\n\u001b[0;32m   1144\u001b[0m     estimator\u001b[38;5;241m.\u001b[39m_validate_params()\n\u001b[0;32m   1146\u001b[0m \u001b[38;5;28;01mwith\u001b[39;00m config_context(\n\u001b[0;32m   1147\u001b[0m     skip_parameter_validation\u001b[38;5;241m=\u001b[39m(\n\u001b[0;32m   1148\u001b[0m         prefer_skip_nested_validation \u001b[38;5;129;01mor\u001b[39;00m global_skip_validation\n\u001b[0;32m   1149\u001b[0m     )\n\u001b[0;32m   1150\u001b[0m ):\n\u001b[1;32m-> 1151\u001b[0m     \u001b[38;5;28;01mreturn\u001b[39;00m fit_method(estimator, \u001b[38;5;241m*\u001b[39margs, \u001b[38;5;241m*\u001b[39m\u001b[38;5;241m*\u001b[39mkwargs)\n",
      "File \u001b[1;32m~\\anaconda3\\lib\\site-packages\\sklearn\\ensemble\\_forest.py:348\u001b[0m, in \u001b[0;36mBaseForest.fit\u001b[1;34m(self, X, y, sample_weight)\u001b[0m\n\u001b[0;32m    346\u001b[0m \u001b[38;5;28;01mif\u001b[39;00m issparse(y):\n\u001b[0;32m    347\u001b[0m     \u001b[38;5;28;01mraise\u001b[39;00m \u001b[38;5;167;01mValueError\u001b[39;00m(\u001b[38;5;124m\"\u001b[39m\u001b[38;5;124msparse multilabel-indicator for y is not supported.\u001b[39m\u001b[38;5;124m\"\u001b[39m)\n\u001b[1;32m--> 348\u001b[0m X, y \u001b[38;5;241m=\u001b[39m \u001b[38;5;28;43mself\u001b[39;49m\u001b[38;5;241;43m.\u001b[39;49m\u001b[43m_validate_data\u001b[49m\u001b[43m(\u001b[49m\n\u001b[0;32m    349\u001b[0m \u001b[43m    \u001b[49m\u001b[43mX\u001b[49m\u001b[43m,\u001b[49m\u001b[43m \u001b[49m\u001b[43my\u001b[49m\u001b[43m,\u001b[49m\u001b[43m \u001b[49m\u001b[43mmulti_output\u001b[49m\u001b[38;5;241;43m=\u001b[39;49m\u001b[38;5;28;43;01mTrue\u001b[39;49;00m\u001b[43m,\u001b[49m\u001b[43m \u001b[49m\u001b[43maccept_sparse\u001b[49m\u001b[38;5;241;43m=\u001b[39;49m\u001b[38;5;124;43m\"\u001b[39;49m\u001b[38;5;124;43mcsc\u001b[39;49m\u001b[38;5;124;43m\"\u001b[39;49m\u001b[43m,\u001b[49m\u001b[43m \u001b[49m\u001b[43mdtype\u001b[49m\u001b[38;5;241;43m=\u001b[39;49m\u001b[43mDTYPE\u001b[49m\n\u001b[0;32m    350\u001b[0m \u001b[43m\u001b[49m\u001b[43m)\u001b[49m\n\u001b[0;32m    351\u001b[0m \u001b[38;5;28;01mif\u001b[39;00m sample_weight \u001b[38;5;129;01mis\u001b[39;00m \u001b[38;5;129;01mnot\u001b[39;00m \u001b[38;5;28;01mNone\u001b[39;00m:\n\u001b[0;32m    352\u001b[0m     sample_weight \u001b[38;5;241m=\u001b[39m _check_sample_weight(sample_weight, X)\n",
      "File \u001b[1;32m~\\anaconda3\\lib\\site-packages\\sklearn\\base.py:621\u001b[0m, in \u001b[0;36mBaseEstimator._validate_data\u001b[1;34m(self, X, y, reset, validate_separately, cast_to_ndarray, **check_params)\u001b[0m\n\u001b[0;32m    619\u001b[0m         y \u001b[38;5;241m=\u001b[39m check_array(y, input_name\u001b[38;5;241m=\u001b[39m\u001b[38;5;124m\"\u001b[39m\u001b[38;5;124my\u001b[39m\u001b[38;5;124m\"\u001b[39m, \u001b[38;5;241m*\u001b[39m\u001b[38;5;241m*\u001b[39mcheck_y_params)\n\u001b[0;32m    620\u001b[0m     \u001b[38;5;28;01melse\u001b[39;00m:\n\u001b[1;32m--> 621\u001b[0m         X, y \u001b[38;5;241m=\u001b[39m check_X_y(X, y, \u001b[38;5;241m*\u001b[39m\u001b[38;5;241m*\u001b[39mcheck_params)\n\u001b[0;32m    622\u001b[0m     out \u001b[38;5;241m=\u001b[39m X, y\n\u001b[0;32m    624\u001b[0m \u001b[38;5;28;01mif\u001b[39;00m \u001b[38;5;129;01mnot\u001b[39;00m no_val_X \u001b[38;5;129;01mand\u001b[39;00m check_params\u001b[38;5;241m.\u001b[39mget(\u001b[38;5;124m\"\u001b[39m\u001b[38;5;124mensure_2d\u001b[39m\u001b[38;5;124m\"\u001b[39m, \u001b[38;5;28;01mTrue\u001b[39;00m):\n",
      "File \u001b[1;32m~\\anaconda3\\lib\\site-packages\\sklearn\\utils\\validation.py:1147\u001b[0m, in \u001b[0;36mcheck_X_y\u001b[1;34m(X, y, accept_sparse, accept_large_sparse, dtype, order, copy, force_all_finite, ensure_2d, allow_nd, multi_output, ensure_min_samples, ensure_min_features, y_numeric, estimator)\u001b[0m\n\u001b[0;32m   1142\u001b[0m         estimator_name \u001b[38;5;241m=\u001b[39m _check_estimator_name(estimator)\n\u001b[0;32m   1143\u001b[0m     \u001b[38;5;28;01mraise\u001b[39;00m \u001b[38;5;167;01mValueError\u001b[39;00m(\n\u001b[0;32m   1144\u001b[0m         \u001b[38;5;124mf\u001b[39m\u001b[38;5;124m\"\u001b[39m\u001b[38;5;132;01m{\u001b[39;00mestimator_name\u001b[38;5;132;01m}\u001b[39;00m\u001b[38;5;124m requires y to be passed, but the target y is None\u001b[39m\u001b[38;5;124m\"\u001b[39m\n\u001b[0;32m   1145\u001b[0m     )\n\u001b[1;32m-> 1147\u001b[0m X \u001b[38;5;241m=\u001b[39m \u001b[43mcheck_array\u001b[49m\u001b[43m(\u001b[49m\n\u001b[0;32m   1148\u001b[0m \u001b[43m    \u001b[49m\u001b[43mX\u001b[49m\u001b[43m,\u001b[49m\n\u001b[0;32m   1149\u001b[0m \u001b[43m    \u001b[49m\u001b[43maccept_sparse\u001b[49m\u001b[38;5;241;43m=\u001b[39;49m\u001b[43maccept_sparse\u001b[49m\u001b[43m,\u001b[49m\n\u001b[0;32m   1150\u001b[0m \u001b[43m    \u001b[49m\u001b[43maccept_large_sparse\u001b[49m\u001b[38;5;241;43m=\u001b[39;49m\u001b[43maccept_large_sparse\u001b[49m\u001b[43m,\u001b[49m\n\u001b[0;32m   1151\u001b[0m \u001b[43m    \u001b[49m\u001b[43mdtype\u001b[49m\u001b[38;5;241;43m=\u001b[39;49m\u001b[43mdtype\u001b[49m\u001b[43m,\u001b[49m\n\u001b[0;32m   1152\u001b[0m \u001b[43m    \u001b[49m\u001b[43morder\u001b[49m\u001b[38;5;241;43m=\u001b[39;49m\u001b[43morder\u001b[49m\u001b[43m,\u001b[49m\n\u001b[0;32m   1153\u001b[0m \u001b[43m    \u001b[49m\u001b[43mcopy\u001b[49m\u001b[38;5;241;43m=\u001b[39;49m\u001b[43mcopy\u001b[49m\u001b[43m,\u001b[49m\n\u001b[0;32m   1154\u001b[0m \u001b[43m    \u001b[49m\u001b[43mforce_all_finite\u001b[49m\u001b[38;5;241;43m=\u001b[39;49m\u001b[43mforce_all_finite\u001b[49m\u001b[43m,\u001b[49m\n\u001b[0;32m   1155\u001b[0m \u001b[43m    \u001b[49m\u001b[43mensure_2d\u001b[49m\u001b[38;5;241;43m=\u001b[39;49m\u001b[43mensure_2d\u001b[49m\u001b[43m,\u001b[49m\n\u001b[0;32m   1156\u001b[0m \u001b[43m    \u001b[49m\u001b[43mallow_nd\u001b[49m\u001b[38;5;241;43m=\u001b[39;49m\u001b[43mallow_nd\u001b[49m\u001b[43m,\u001b[49m\n\u001b[0;32m   1157\u001b[0m \u001b[43m    \u001b[49m\u001b[43mensure_min_samples\u001b[49m\u001b[38;5;241;43m=\u001b[39;49m\u001b[43mensure_min_samples\u001b[49m\u001b[43m,\u001b[49m\n\u001b[0;32m   1158\u001b[0m \u001b[43m    \u001b[49m\u001b[43mensure_min_features\u001b[49m\u001b[38;5;241;43m=\u001b[39;49m\u001b[43mensure_min_features\u001b[49m\u001b[43m,\u001b[49m\n\u001b[0;32m   1159\u001b[0m \u001b[43m    \u001b[49m\u001b[43mestimator\u001b[49m\u001b[38;5;241;43m=\u001b[39;49m\u001b[43mestimator\u001b[49m\u001b[43m,\u001b[49m\n\u001b[0;32m   1160\u001b[0m \u001b[43m    \u001b[49m\u001b[43minput_name\u001b[49m\u001b[38;5;241;43m=\u001b[39;49m\u001b[38;5;124;43m\"\u001b[39;49m\u001b[38;5;124;43mX\u001b[39;49m\u001b[38;5;124;43m\"\u001b[39;49m\u001b[43m,\u001b[49m\n\u001b[0;32m   1161\u001b[0m \u001b[43m\u001b[49m\u001b[43m)\u001b[49m\n\u001b[0;32m   1163\u001b[0m y \u001b[38;5;241m=\u001b[39m _check_y(y, multi_output\u001b[38;5;241m=\u001b[39mmulti_output, y_numeric\u001b[38;5;241m=\u001b[39my_numeric, estimator\u001b[38;5;241m=\u001b[39mestimator)\n\u001b[0;32m   1165\u001b[0m check_consistent_length(X, y)\n",
      "File \u001b[1;32m~\\anaconda3\\lib\\site-packages\\sklearn\\utils\\validation.py:959\u001b[0m, in \u001b[0;36mcheck_array\u001b[1;34m(array, accept_sparse, accept_large_sparse, dtype, order, copy, force_all_finite, ensure_2d, allow_nd, ensure_min_samples, ensure_min_features, estimator, input_name)\u001b[0m\n\u001b[0;32m    953\u001b[0m         \u001b[38;5;28;01mraise\u001b[39;00m \u001b[38;5;167;01mValueError\u001b[39;00m(\n\u001b[0;32m    954\u001b[0m             \u001b[38;5;124m\"\u001b[39m\u001b[38;5;124mFound array with dim \u001b[39m\u001b[38;5;132;01m%d\u001b[39;00m\u001b[38;5;124m. \u001b[39m\u001b[38;5;132;01m%s\u001b[39;00m\u001b[38;5;124m expected <= 2.\u001b[39m\u001b[38;5;124m\"\u001b[39m\n\u001b[0;32m    955\u001b[0m             \u001b[38;5;241m%\u001b[39m (array\u001b[38;5;241m.\u001b[39mndim, estimator_name)\n\u001b[0;32m    956\u001b[0m         )\n\u001b[0;32m    958\u001b[0m     \u001b[38;5;28;01mif\u001b[39;00m force_all_finite:\n\u001b[1;32m--> 959\u001b[0m         \u001b[43m_assert_all_finite\u001b[49m\u001b[43m(\u001b[49m\n\u001b[0;32m    960\u001b[0m \u001b[43m            \u001b[49m\u001b[43marray\u001b[49m\u001b[43m,\u001b[49m\n\u001b[0;32m    961\u001b[0m \u001b[43m            \u001b[49m\u001b[43minput_name\u001b[49m\u001b[38;5;241;43m=\u001b[39;49m\u001b[43minput_name\u001b[49m\u001b[43m,\u001b[49m\n\u001b[0;32m    962\u001b[0m \u001b[43m            \u001b[49m\u001b[43mestimator_name\u001b[49m\u001b[38;5;241;43m=\u001b[39;49m\u001b[43mestimator_name\u001b[49m\u001b[43m,\u001b[49m\n\u001b[0;32m    963\u001b[0m \u001b[43m            \u001b[49m\u001b[43mallow_nan\u001b[49m\u001b[38;5;241;43m=\u001b[39;49m\u001b[43mforce_all_finite\u001b[49m\u001b[43m \u001b[49m\u001b[38;5;241;43m==\u001b[39;49m\u001b[43m \u001b[49m\u001b[38;5;124;43m\"\u001b[39;49m\u001b[38;5;124;43mallow-nan\u001b[39;49m\u001b[38;5;124;43m\"\u001b[39;49m\u001b[43m,\u001b[49m\n\u001b[0;32m    964\u001b[0m \u001b[43m        \u001b[49m\u001b[43m)\u001b[49m\n\u001b[0;32m    966\u001b[0m \u001b[38;5;28;01mif\u001b[39;00m ensure_min_samples \u001b[38;5;241m>\u001b[39m \u001b[38;5;241m0\u001b[39m:\n\u001b[0;32m    967\u001b[0m     n_samples \u001b[38;5;241m=\u001b[39m _num_samples(array)\n",
      "File \u001b[1;32m~\\anaconda3\\lib\\site-packages\\sklearn\\utils\\validation.py:124\u001b[0m, in \u001b[0;36m_assert_all_finite\u001b[1;34m(X, allow_nan, msg_dtype, estimator_name, input_name)\u001b[0m\n\u001b[0;32m    121\u001b[0m \u001b[38;5;28;01mif\u001b[39;00m first_pass_isfinite:\n\u001b[0;32m    122\u001b[0m     \u001b[38;5;28;01mreturn\u001b[39;00m\n\u001b[1;32m--> 124\u001b[0m \u001b[43m_assert_all_finite_element_wise\u001b[49m\u001b[43m(\u001b[49m\n\u001b[0;32m    125\u001b[0m \u001b[43m    \u001b[49m\u001b[43mX\u001b[49m\u001b[43m,\u001b[49m\n\u001b[0;32m    126\u001b[0m \u001b[43m    \u001b[49m\u001b[43mxp\u001b[49m\u001b[38;5;241;43m=\u001b[39;49m\u001b[43mxp\u001b[49m\u001b[43m,\u001b[49m\n\u001b[0;32m    127\u001b[0m \u001b[43m    \u001b[49m\u001b[43mallow_nan\u001b[49m\u001b[38;5;241;43m=\u001b[39;49m\u001b[43mallow_nan\u001b[49m\u001b[43m,\u001b[49m\n\u001b[0;32m    128\u001b[0m \u001b[43m    \u001b[49m\u001b[43mmsg_dtype\u001b[49m\u001b[38;5;241;43m=\u001b[39;49m\u001b[43mmsg_dtype\u001b[49m\u001b[43m,\u001b[49m\n\u001b[0;32m    129\u001b[0m \u001b[43m    \u001b[49m\u001b[43mestimator_name\u001b[49m\u001b[38;5;241;43m=\u001b[39;49m\u001b[43mestimator_name\u001b[49m\u001b[43m,\u001b[49m\n\u001b[0;32m    130\u001b[0m \u001b[43m    \u001b[49m\u001b[43minput_name\u001b[49m\u001b[38;5;241;43m=\u001b[39;49m\u001b[43minput_name\u001b[49m\u001b[43m,\u001b[49m\n\u001b[0;32m    131\u001b[0m \u001b[43m\u001b[49m\u001b[43m)\u001b[49m\n",
      "File \u001b[1;32m~\\anaconda3\\lib\\site-packages\\sklearn\\utils\\validation.py:173\u001b[0m, in \u001b[0;36m_assert_all_finite_element_wise\u001b[1;34m(X, xp, allow_nan, msg_dtype, estimator_name, input_name)\u001b[0m\n\u001b[0;32m    156\u001b[0m \u001b[38;5;28;01mif\u001b[39;00m estimator_name \u001b[38;5;129;01mand\u001b[39;00m input_name \u001b[38;5;241m==\u001b[39m \u001b[38;5;124m\"\u001b[39m\u001b[38;5;124mX\u001b[39m\u001b[38;5;124m\"\u001b[39m \u001b[38;5;129;01mand\u001b[39;00m has_nan_error:\n\u001b[0;32m    157\u001b[0m     \u001b[38;5;66;03m# Improve the error message on how to handle missing values in\u001b[39;00m\n\u001b[0;32m    158\u001b[0m     \u001b[38;5;66;03m# scikit-learn.\u001b[39;00m\n\u001b[0;32m    159\u001b[0m     msg_err \u001b[38;5;241m+\u001b[39m\u001b[38;5;241m=\u001b[39m (\n\u001b[0;32m    160\u001b[0m         \u001b[38;5;124mf\u001b[39m\u001b[38;5;124m\"\u001b[39m\u001b[38;5;130;01m\\n\u001b[39;00m\u001b[38;5;132;01m{\u001b[39;00mestimator_name\u001b[38;5;132;01m}\u001b[39;00m\u001b[38;5;124m does not accept missing values\u001b[39m\u001b[38;5;124m\"\u001b[39m\n\u001b[0;32m    161\u001b[0m         \u001b[38;5;124m\"\u001b[39m\u001b[38;5;124m encoded as NaN natively. For supervised learning, you might want\u001b[39m\u001b[38;5;124m\"\u001b[39m\n\u001b[1;32m   (...)\u001b[0m\n\u001b[0;32m    171\u001b[0m         \u001b[38;5;124m\"\u001b[39m\u001b[38;5;124m#estimators-that-handle-nan-values\u001b[39m\u001b[38;5;124m\"\u001b[39m\n\u001b[0;32m    172\u001b[0m     )\n\u001b[1;32m--> 173\u001b[0m \u001b[38;5;28;01mraise\u001b[39;00m \u001b[38;5;167;01mValueError\u001b[39;00m(msg_err)\n",
      "\u001b[1;31mValueError\u001b[0m: Input X contains NaN.\nRandomForestClassifier does not accept missing values encoded as NaN natively. For supervised learning, you might want to consider sklearn.ensemble.HistGradientBoostingClassifier and Regressor which accept missing values encoded as NaNs natively. Alternatively, it is possible to preprocess the data, for instance by using an imputer transformer in a pipeline or drop samples with missing values. See https://scikit-learn.org/stable/modules/impute.html You can find a list of all estimators that handle NaN values at the following page: https://scikit-learn.org/stable/modules/impute.html#estimators-that-handle-nan-values"
     ]
    }
   ],
   "source": [
    "import pandas as pd\n",
    "from sklearn.model_selection import train_test_split\n",
    "from sklearn.ensemble import RandomForestClassifier\n",
    "from sklearn.metrics import accuracy_score, precision_score, recall_score, f1_score\n",
    "\n",
    "# Specify the features (X) and target variable (y)\n",
    "# Replace 'target_column' with the name of the column you want to predict\n",
    "X = sp500.drop(columns=['Target'])\n",
    "y = sp500['Target']\n",
    "\n",
    "# Split the data into training and testing sets\n",
    "# The test_size parameter determines the proportion of data to be used for testing (e.g., 0.2 for 20% testing data)\n",
    "X_train, X_test, y_train, y_test = train_test_split(X, y, test_size=0.8, random_state=42)\n",
    "\n",
    "# Create a RandomForestClassifier with the best hyperparameters\n",
    "clf = RandomForestClassifier(\n",
    "    random_state=42,\n",
    "    max_depth=30,\n",
    "    min_samples_leaf=1,\n",
    "    min_samples_split=2,\n",
    "    n_estimators=100\n",
    ")\n",
    "\n",
    "# Train the classifier with the best hyperparameters\n",
    "clf.fit(X_train, y_train)\n",
    "\n",
    "# Make predictions on the test set\n",
    "y_pred = clf.predict(X_test)\n",
    "\n",
    "# Define Metrics\n",
    "# Calculate metrics using the best model\n",
    "accuracy = accuracy_score(y_test, y_pred)\n",
    "precision = precision_score(y_test, y_pred)\n",
    "recall = recall_score(y_test, y_pred)\n",
    "f1 = f1_score(y_test, y_pred)\n",
    "\n",
    "# Create a DataFrame for predictions and concatenate it with the original test data\n",
    "predictions_df = pd.DataFrame({'Actual_Target': y_test, 'Predicted_Target': y_pred})\n",
    "final_df = pd.concat([X_test, predictions_df], axis=1)\n",
    "\n",
    "# Print the evaluation metrics\n",
    "print(\"Accuracy:\", accuracy)\n",
    "print(\"Precision:\", precision)\n",
    "print(\"Recall:\", recall)\n",
    "print(\"F1 Score:\", f1)\n",
    "\n",
    "# Print the final DataFrame with predictions and actual targets\n",
    "print(\"\\nFinal DataFrame with Predictions and Actual Targets:\")\n",
    "print(final_df)\n"
   ]
  },
  {
   "cell_type": "code",
   "execution_count": null,
   "id": "60db3703-48fd-4198-b453-cd899484e32d",
   "metadata": {
    "tags": []
   },
   "outputs": [],
   "source": [
    "final_df"
   ]
  },
  {
   "cell_type": "code",
   "execution_count": null,
   "id": "4675fa5d-db54-4cca-9453-831989119b41",
   "metadata": {
    "tags": []
   },
   "outputs": [],
   "source": [
    "import numpy as np\n",
    "import matplotlib.pyplot as plt\n",
    "from sklearn.model_selection import learning_curve\n",
    "\n",
    "def plot_learning_curve(estimator, title, X, y, ylim=None, cv=None, train_sizes=np.linspace(.1, 1.0, 5)):\n",
    "    \"\"\"\n",
    "    Generate a simple plot of the test and training learning curve.\n",
    "    \n",
    "    Parameters:\n",
    "    - estimator: Your classifier\n",
    "    - title: Title for the chart\n",
    "    - X: Training data\n",
    "    - y: Target values\n",
    "    - ylim: Tuple (min, max) defining the y-axis limits\n",
    "    - cv: Cross-validation strategy (e.g., StratifiedKFold)\n",
    "    - train_sizes: Array of training set sizes to use for plotting the learning curve\n",
    "    \"\"\"\n",
    "    plt.figure()\n",
    "    plt.title(title)\n",
    "    if ylim is not None:\n",
    "        plt.ylim(*ylim)\n",
    "    plt.xlabel(\"Training examples\")\n",
    "    plt.ylabel(\"Score\")\n",
    "    \n",
    "    train_sizes, train_scores, test_scores = learning_curve(\n",
    "        estimator, X, y, cv=cv, train_sizes=train_sizes, scoring='accuracy', n_jobs=-1)\n",
    "    \n",
    "    train_scores_mean = np.mean(train_scores, axis=1)\n",
    "    train_scores_std = np.std(train_scores, axis=1)\n",
    "    test_scores_mean = np.mean(test_scores, axis=1)\n",
    "    test_scores_std = np.std(test_scores, axis=1)\n",
    "    \n",
    "    plt.grid()\n",
    "\n",
    "    plt.fill_between(train_sizes, train_scores_mean - train_scores_std,\n",
    "                     train_scores_mean + train_scores_std, alpha=0.1,\n",
    "                     color=\"r\")\n",
    "    plt.fill_between(train_sizes, test_scores_mean - test_scores_std,\n",
    "                     test_scores_mean + test_scores_std, alpha=0.1, color=\"g\")\n",
    "    plt.plot(train_sizes, train_scores_mean, 'o-', color=\"r\",\n",
    "             label=\"Training score\")\n",
    "    plt.plot(train_sizes, test_scores_mean, 'o-', color=\"g\",\n",
    "             label=\"Cross-validation score\")\n",
    "\n",
    "    plt.legend(loc=\"best\")\n",
    "    return plt\n",
    "\n",
    "# Specify the features (X) and target variable (y)\n",
    "# Replace 'target_column' with the name of the column you want to predict\n",
    "X = sp500.drop(columns=['Target'])\n",
    "y = sp500['Target']\n",
    "\n",
    "# Create a RandomForestClassifier with the best hyperparameters\n",
    "clf = RandomForestClassifier(\n",
    "    random_state=42,\n",
    "    max_depth=30,\n",
    "    min_samples_leaf=1,\n",
    "    min_samples_split=2,\n",
    "    n_estimators=100\n",
    ")\n",
    "\n",
    "# Plot the learning curve\n",
    "title = \"Learning Curves (Random Forest Classifier)\"\n",
    "cv = 3  # Number of cross-validation folds\n",
    "plot_learning_curve(clf, title, X, y, cv=cv)\n",
    "\n",
    "plt.show()\n"
   ]
  },
  {
   "cell_type": "code",
   "execution_count": null,
   "id": "e0610052-d135-49e7-8d36-d205acfbe599",
   "metadata": {
    "tags": []
   },
   "outputs": [],
   "source": [
    "import matplotlib.pyplot as plt\n",
    "from sklearn.metrics import roc_curve, roc_auc_score\n",
    "from sklearn.ensemble import RandomForestClassifier\n",
    "from sklearn.model_selection import train_test_split\n",
    "\n",
    "# Specify the features (X) and target variable (y)\n",
    "# Replace 'target_column' with the name of the column you want to predict\n",
    "X = sp500.drop(columns=['Target'])\n",
    "y = sp500['Target']\n",
    "\n",
    "# Split the data into training and testing sets\n",
    "# The test_size parameter determines the proportion of data to be used for testing (e.g., 0.2 for 20% testing data)\n",
    "X_train, X_test, y_train, y_test = train_test_split(X, y, test_size=0.8, random_state=42)\n",
    "\n",
    "# Create a RandomForestClassifier with the best hyperparameters\n",
    "clf = RandomForestClassifier(\n",
    "    random_state=42,\n",
    "    max_depth=30,\n",
    "    min_samples_leaf=1,\n",
    "    min_samples_split=2,\n",
    "    n_estimators=100\n",
    ")\n",
    "\n",
    "# Train the classifier\n",
    "clf.fit(X_train, y_train)\n",
    "\n",
    "# Predict probabilities for the positive class\n",
    "y_prob = clf.predict_proba(X_test)[:, 1]\n",
    "\n",
    "# Calculate ROC curve and AUC score\n",
    "fpr, tpr, thresholds = roc_curve(y_test, y_prob)\n",
    "roc_auc = roc_auc_score(y_test, y_prob)\n",
    "\n",
    "# Plot the ROC curve\n",
    "plt.figure()\n",
    "plt.plot(fpr, tpr, color='darkorange', lw=2, label=f'ROC curve (AUC = {roc_auc:.2f})')\n",
    "plt.plot([0, 1], [0, 1], color='navy', lw=2, linestyle='--')\n",
    "plt.xlim([0.0, 1.0])\n",
    "plt.ylim([0.0, 1.05])\n",
    "plt.xlabel('False Positive Rate')\n",
    "plt.ylabel('True Positive Rate')\n",
    "plt.title('Receiver Operating Characteristic (ROC) Curve')\n",
    "plt.legend(loc='lower right')\n",
    "plt.show()\n"
   ]
  },
  {
   "cell_type": "code",
   "execution_count": null,
   "id": "0f98ec10-cbf5-443b-b627-3b9683dc90fa",
   "metadata": {
    "tags": []
   },
   "outputs": [],
   "source": [
    "# from sklearn.metrics import mean_absolute_error, mean_squared_error, r2_score\n",
    "\n",
    "# # Train your regression model\n",
    "# # ...\n",
    "\n",
    "# # Make predictions\n",
    "# y_pred = model.predict(X_test)\n",
    "\n",
    "# # Calculate regression metrics\n",
    "# mae = mean_absolute_error(y_test, y_pred)\n",
    "# mse = mean_squared_error(y_test, y_pred)\n",
    "# rmse = mean_squared_error(y_test, y_pred, squared=False)\n",
    "# r2 = r2_score(y_test, y_pred)\n",
    "\n",
    "# # Print regression metrics\n",
    "# print(\"Mean Absolute Error:\", mae)\n",
    "# print(\"Mean Squared Error:\", mse)\n",
    "# print(\"Root Mean Squared Error:\", rmse)\n",
    "# print(\"R-squared (R^2):\", r2)\n"
   ]
  },
  {
   "cell_type": "code",
   "execution_count": null,
   "id": "cdaee6cf-6af8-403e-805f-59e097951095",
   "metadata": {},
   "outputs": [],
   "source": []
  },
  {
   "cell_type": "code",
   "execution_count": null,
   "id": "a4c33791-714e-49d8-ba66-79fb56c64e71",
   "metadata": {},
   "outputs": [],
   "source": []
  },
  {
   "cell_type": "markdown",
   "id": "9b65e801-0bd6-4e30-8d76-ec167746e310",
   "metadata": {},
   "source": [
    "***SPLITTING INTO TRAIN AND TEST***"
   ]
  },
  {
   "cell_type": "code",
   "execution_count": null,
   "id": "c99785ba-447d-4b3f-a91f-41b4e758b57a",
   "metadata": {
    "tags": []
   },
   "outputs": [],
   "source": [
    "# from sklearn.ensemble import RandomForestClassifier\n",
    "# from sklearn.metrics import accuracy_score, precision_score, recall_score, f1_score\n",
    "\n",
    "# model = RandomForestClassifier(random_state=1)\n",
    "\n",
    "# # Assuming 'sp500' is your DataFrame\n",
    "# predictors = [\"Close\", \"Volume\", \"Open\", \"High\", \"Low\", \"Adj Close\"]\n",
    "\n",
    "# # Select the training data without using iloc or numeric slicing\n",
    "# train = sp500.loc[sp500.index < sp500.index[-100]]\n",
    "\n",
    "# # Select the test data without using iloc or numeric slicing\n",
    "# test = sp500.loc[sp500.index >= sp500.index[-100]]\n",
    "\n",
    "# model.fit(train[predictors], train[\"Target\"])\n",
    "\n",
    "# # Make predictions on the test set\n",
    "# test_predictions = model.predict(test[predictors])\n",
    "\n",
    "# # Actual target values in the test set\n",
    "# test_actual = test[\"Target\"]\n",
    "\n",
    "# # Calculate metrics\n",
    "# accuracy = accuracy_score(test_actual, test_predictions)\n",
    "# precision = precision_score(test_actual, test_predictions)\n",
    "# recall = recall_score(test_actual, test_predictions)\n",
    "# f1 = f1_score(test_actual, test_predictions)\n",
    "\n",
    "# print(\"Accuracy:\", accuracy)\n",
    "# print(\"Precision:\", precision)\n",
    "# print(\"Recall:\", recall)\n",
    "# print(\"F1 Score:\", f1)\n"
   ]
  },
  {
   "cell_type": "code",
   "execution_count": null,
   "id": "2f91ba31-ec58-45eb-99a0-08bb72730f3d",
   "metadata": {},
   "outputs": [],
   "source": []
  },
  {
   "cell_type": "raw",
   "id": "e66c0568-0b48-410d-b4f1-091b82756d3d",
   "metadata": {},
   "source": [
    "***This is what the above code does:\n",
    "RandomForestClassifier: This is an implementation of the Random Forest algorithm, which is an ensemble learning method that combines multiple decision trees to make predictions.    \n",
    "**accuracy_score, precision_score, recall_score, f1_score: These are functions from the sklearn.metrics module that calculate various evaluation metrics for classification models.    \n",
    "**A RandomForestClassifier instance is created with a specified random seed (random_state=1). The random seed ensures reproducibility of the results.    \n",
    "***\"Close\", \"Volume\", \"Open\", \"High\", \"Low\", \"Adj Close\", and a binary \"Target\" column indicating the class labels.\n",
    "**The dataset is split into a training set and a test set. The last 100 rows of the dataset are used for testing, and the remaining data is used for training.\n",
    "**The list predictors contains the names of the columns that are used as features to predict the target variable (\"Target\").\n",
    "***The model is trained using the features in the training data and the corresponding target labels.\n",
    "**The trained model is used to predict the target labels for the test set using the features in test[predictors].\n",
    "**The actual target values from the test set are stored in the test_actual variable.\n",
    "The model's predictions are stored in the test_predictions variable.\n",
    "The code calculates various evaluation metrics including accuracy, precision, recall, and F1 score using the predictions and the actual target values.\n",
    "**The purpose of this code is to demonstrate the process of training a Random Forest Classifier on financial data and evaluating its performance using common classification metrics. This can be helpful for assessing the predictive power of the model on unseen data.\n",
    "\n"
   ]
  },
  {
   "cell_type": "code",
   "execution_count": null,
   "id": "7d210593-ad59-45d5-ad0d-95ceb68ccda5",
   "metadata": {},
   "outputs": [],
   "source": []
  },
  {
   "cell_type": "markdown",
   "id": "50e008a2-b564-4056-ba62-ef50f4a80dc5",
   "metadata": {
    "tags": []
   },
   "source": [
    "**NNN*"
   ]
  },
  {
   "cell_type": "code",
   "execution_count": null,
   "id": "75ec18a7-506c-4c62-9624-b23117ed69fc",
   "metadata": {
    "tags": []
   },
   "outputs": [],
   "source": [
    "# import pandas as pd\n",
    "# import xgboost as xgb\n",
    "# from sklearn.metrics import accuracy_score, precision_score, recall_score, f1_score\n",
    "\n",
    "# # Load your data into the 'sp500' DataFrame\n",
    "\n",
    "# # Split data into training and testing sets\n",
    "# train_size = int(0.8 * len(sp500))\n",
    "# train, test = sp500[:train_size], sp500[train_size:]\n",
    "\n",
    "# # Define predictors and target column\n",
    "# predictors = [\"Close\", \"Volume\", \"Open\", \"High\", \"Low\", \"Adj Close\"]\n",
    "# target_column = \"Target\"\n",
    "\n",
    "# # Prepare the data for XGBoost\n",
    "# X_train, y_train = train[predictors], train[target_column]\n",
    "# X_test, y_test = test[predictors], test[target_column]\n",
    "\n",
    "# # Create an XGBoost model\n",
    "# model = xgb.XGBClassifier(random_state=1)\n",
    "\n",
    "# # Fit the model on the training data\n",
    "# model.fit(X_train, y_train)\n",
    "\n",
    "# # Make predictions on the test set\n",
    "# test_predictions = model.predict(X_test)\n",
    "\n",
    "# # Calculate metrics\n",
    "# accuracy = accuracy_score(y_test, test_predictions)\n",
    "# precision = precision_score(y_test, test_predictions)\n",
    "# recall = recall_score(y_test, test_predictions)\n",
    "# f1 = f1_score(y_test, test_predictions)\n",
    "\n",
    "# print(\"Accuracy:\", accuracy)\n",
    "# print(\"Precision:\", precision)\n",
    "# print(\"Recall:\", recall)\n",
    "# print(\"F1 Score:\", f1)\n"
   ]
  },
  {
   "cell_type": "code",
   "execution_count": null,
   "id": "46f5eaca-cc61-4b84-a536-e23edea2baa6",
   "metadata": {
    "tags": []
   },
   "outputs": [],
   "source": [
    "# from sklearn.ensemble import RandomForestClassifier\n",
    "# from sklearn.model_selection import RandomizedSearchCV\n",
    "# from sklearn.metrics import accuracy_score, precision_score, recall_score, f1_score\n",
    "\n",
    "# # Define the parameter grid to search through\n",
    "# param_grid = {\n",
    "#     'n_estimators': [100, 200, 300],\n",
    "#     'max_depth': [None, 10, 20, 30],\n",
    "#     'min_samples_split': [2, 5, 10],\n",
    "#     'min_samples_leaf': [1, 2, 4]\n",
    "# }\n",
    "\n",
    "# model = RandomForestClassifier(random_state=1)\n",
    "\n",
    "# # Perform random search with cross-validation\n",
    "# random_search = RandomizedSearchCV(\n",
    "#     model, param_distributions=param_grid, n_iter=10, scoring='accuracy', cv=5, random_state=1\n",
    "# )\n",
    "\n",
    "# train = sp500.iloc[:-100]\n",
    "# test = sp500.iloc[-100:]\n",
    "\n",
    "# predictors = [\"Close\", \"Volume\", \"Open\", \"High\", \"Low\", \"Adj Close\"]\n",
    "\n",
    "# # Fit the random search to the training data\n",
    "# random_search.fit(train[predictors], train[\"Target\"])\n",
    "\n",
    "# # Get the best model\n",
    "# best_model = random_search.best_estimator_\n",
    "\n",
    "# # Make predictions on the test set using the best model\n",
    "# test_predictions = best_model.predict(test[predictors])\n",
    "\n",
    "# # Actual target values in the test set\n",
    "# test_actual = test[\"Target\"]\n",
    "\n",
    "# # Calculate metrics\n",
    "# accuracy = accuracy_score(test_actual, test_predictions)\n",
    "# precision = precision_score(test_actual, test_predictions)\n",
    "# recall = recall_score(test_actual, test_predictions)\n",
    "# f1 = f1_score(test_actual, test_predictions)\n",
    "\n",
    "# print(\"Best Parameters:\", random_search.best_params_)\n",
    "# print(\"Accuracy:\", accuracy)\n",
    "# print(\"Precision:\", precision)\n",
    "# print(\"Recall:\", recall)\n",
    "# print(\"F1 Score:\", f1)\n"
   ]
  },
  {
   "cell_type": "code",
   "execution_count": null,
   "id": "f6c9b6fb-ef6e-44fb-b81a-70741ffd475a",
   "metadata": {
    "tags": []
   },
   "outputs": [],
   "source": [
    "import pandas as pd\n",
    "from sklearn.model_selection import train_test_split\n",
    "from sklearn.ensemble import RandomForestClassifier\n",
    "from sklearn.metrics import accuracy_score, precision_score, recall_score, f1_score\n",
    "\n",
    "# Define a function to perform backtesting\n",
    "def perform_backtest(classifier, X, y, test_size=0.8, random_state=42):\n",
    "    # Split the data into training and testing sets\n",
    "    X_train, X_test, y_train, y_test = train_test_split(X, y, test_size=test_size, random_state=random_state)\n",
    "\n",
    "    # Train the classifier\n",
    "    classifier.fit(X_train, y_train)\n",
    "\n",
    "    # Make predictions on the test set\n",
    "    y_pred = classifier.predict(X_test)\n",
    "\n",
    "    # Calculate metrics\n",
    "    accuracy = accuracy_score(y_test, y_pred)\n",
    "    precision = precision_score(y_test, y_pred)\n",
    "    recall = recall_score(y_test, y_pred)\n",
    "    f1 = f1_score(y_test, y_pred)\n",
    "\n",
    "    return {\n",
    "        'Accuracy': accuracy,\n",
    "        'Precision': precision,\n",
    "        'Recall': recall,\n",
    "        'F1 Score': f1\n",
    "    }\n",
    "\n",
    "# Specify the features (X) and target variable (y)\n",
    "# Replace 'target_column' with the name of the column you want to predict\n",
    "X = sp500.drop(columns=['Target'])\n",
    "y = sp500['Target']\n",
    "\n",
    "# Create a RandomForestClassifier\n",
    "clf = RandomForestClassifier(random_state=42)\n",
    "\n",
    "# Perform backtest and store the results in a dictionary\n",
    "backtest_results = perform_backtest(clf, X, y)\n",
    "\n",
    "# Print backtest results\n",
    "print(\"Backtest Results:\")\n",
    "for metric, value in backtest_results.items():\n",
    "    print(f\"{metric}: {value}\")\n"
   ]
  },
  {
   "cell_type": "raw",
   "id": "fc036c3c-8a8a-4543-9c1a-d2433a0689cf",
   "metadata": {},
   "source": [
    "***def backtest(data, model, predictors, start=2500, step=250):: This line defines a function named backtest that takes several arguments:\n",
    "data: The dataset on which the backtest will be performed.\n",
    "model: The machine learning model used for prediction.\n",
    "predictors: A list of column names that are used as features for prediction.\n",
    "start: The starting index for the backtest. Default value is 2500.\n",
    "step: The step size for moving the testing window. Default value is 250.\n",
    "***all_predictions = []: This initializes an empty list to store the predicted results from each iteration of the backtest\n",
    "***The for loop iterates through the dataset using a sliding window approach.\n",
    "The loop starts from the start index and increments by the specified step size until the end of the dataset.\n",
    "***Inside the loop:\n",
    "train = data.iloc[0:i].copy(): This creates a copy of the training data from the beginning up to the current index i.\n",
    "test = data.iloc[i:(i+step)].copy(): This creates a copy of the testing data using a window of step size starting from index i.\n",
    "predictions = predict(train, test, predictors, model): The predict function is called to make predictions using the provided training and testing data, predictors, and model.\n",
    "all_predictions.append(predictions): The predictions for the current iteration are appended to the all_predictions list.\n",
    "***After the loop completes, pd.concat(all_predictions) concatenates all the prediction DataFrames from different iterations into a single DataFrame.\n",
    "The function returns the concatenated DataFrame containing the backtest predictions for each iteration.\n",
    "****In summary, this backtest function performs a rolling backtest of a machine learning model on a dataset.\n",
    "It evaluates the model's performance using a sliding window approach and returns a DataFrame with the combined results of all iterations.\n",
    "This approach is often used to assess the model's performance across different time periods and identify potential changes in predictive accuracy."
   ]
  },
  {
   "cell_type": "raw",
   "id": "384cf534-72ff-4c26-bd62-9dc384cbd44c",
   "metadata": {},
   "source": [
    "***predictions = backtest(sp500, model, predictors): This line of code calls the backtest function and passes the following arguments:\n",
    "\n",
    "sp500: The dataset on which the backtest will be performed.\n",
    "model: The machine learning model used for prediction.\n",
    "predictors: A list of column names that are used as features for prediction.\n",
    "**The backtest function is executed with the provided arguments. It performs the backtest by iterating over the dataset using a sliding window approach and making predictions using the specified model and predictors.\n",
    "****The result of the backtest function call is assigned to the variable predictions. This variable will contain a DataFrame with the combined results of all iterations of the backtest.\n",
    "***In summary, the code uses the backtest function to evaluate the performance of the specified machine learning model on the sp500 dataset using rolling backtest methodology. The resulting predictions DataFrame will contain the actual target values and the corresponding predicted values for each iteration of the backtest."
   ]
  },
  {
   "cell_type": "raw",
   "id": "fc1199ee-0584-4e98-8711-8e7bd28ef62e",
   "metadata": {},
   "source": [
    "***predictions[\"Predictions\"]: This code extracts the \"Predictions\" column from the predictions DataFrame.\n",
    "The \"Predictions\" column is assumed to contain the predicted values from a machine learning model.\n",
    "**.value_counts(): This is a Pandas function that calculates the frequency of unique values in a Series. \n",
    "When applied to the \"Predictions\" column, it returns a Series where the index represents unique predicted values,\n",
    "and the corresponding values represent the frequency of each unique prediction.\n",
    "***In summary, the code is calculating the frequency distribution of predicted values in the \"Predictions\" column of the predictions DataFrame. \n",
    "The resulting Series will provide insight into the distribution of predicted outcomes from the machine learning model's backtest. \n",
    "This can help you understand how well the model's predictions align with the actual values and whether the model is biased toward specific predictions.\n",
    "****THE MODEL PREDICTED 0 12109 TIMES AND 1 9414 TIMES ,O MEANS STOCK PRICES TO DROP WHILE 1 MEANS STOCK PRICES TO RISE"
   ]
  },
  {
   "cell_type": "code",
   "execution_count": null,
   "id": "382237ab-ff4a-4eef-9f7b-239002824c31",
   "metadata": {
    "tags": []
   },
   "outputs": [],
   "source": [
    "model = RandomForestClassifier(random_state=1)\n"
   ]
  },
  {
   "cell_type": "code",
   "execution_count": null,
   "id": "1e23b157-e1c6-48d3-8026-2f4c7b6014d6",
   "metadata": {
    "tags": []
   },
   "outputs": [],
   "source": [
    "def predict(train, test, predictors, model):\n",
    "    model.fit(train[predictors], train[\"Target\"])\n",
    "    preds = model.predict_proba(test[predictors])[:,1]\n",
    "    preds[preds >=.6] = 1\n",
    "    preds[preds <.6] = 0\n",
    "    preds = pd.Series(preds, index=test.index, name=\"Predictions\")\n",
    "    combined = pd.concat([test[\"Target\"], preds], axis=1)\n",
    "    return combined"
   ]
  },
  {
   "cell_type": "raw",
   "id": "14ed7fac-667b-4ccf-9248-ce344a6ab12b",
   "metadata": {},
   "source": [
    "***horizons = [2, 5, 60, 250, 1000]: This line defines a list of different time horizons for which new features will be calculated.\n",
    "**new_predictors = []: This initializes an empty list that will store the names of the new predictor columns.\n",
    "**After the loop completes, the new_predictors list will contain the names of all the newly created feature columns based on the rolling averages and trends for the specified horizons.\n",
    "\n",
    "In summary, this code adds new features to the sp500 DataFrame based on rolling averages and trends calculated for different time horizons. These features can be used as predictors for machine learning models in time series analysis.\n",
    "\n"
   ]
  },
  {
   "cell_type": "code",
   "execution_count": null,
   "id": "3c6c3735-eeed-4797-9b64-2bac09a19284",
   "metadata": {
    "tags": []
   },
   "outputs": [],
   "source": [
    "predictions = backtest(sp500, model, new_predictors)\n"
   ]
  },
  {
   "cell_type": "code",
   "execution_count": null,
   "id": "5f13b555-7dec-46a9-ae11-d5483b41f728",
   "metadata": {
    "tags": []
   },
   "outputs": [],
   "source": [
    "predictions[\"Predictions\"].value_counts()"
   ]
  },
  {
   "cell_type": "markdown",
   "id": "464f9637-4cb2-407b-9185-9f67f0c2f117",
   "metadata": {
    "tags": []
   },
   "source": [
    "precision_score(predictions[\"Target\"], predictions[\"Predictions\"])\n"
   ]
  },
  {
   "cell_type": "code",
   "execution_count": null,
   "id": "a50c20d0-5469-4b79-9b6c-0831d990e7f7",
   "metadata": {
    "tags": []
   },
   "outputs": [],
   "source": [
    "predictions[\"Target\"].value_counts() / predictions.shape[0]\n"
   ]
  },
  {
   "cell_type": "code",
   "execution_count": null,
   "id": "db702561-71e9-4e14-a67b-c2033e892e96",
   "metadata": {
    "tags": []
   },
   "outputs": [],
   "source": [
    "predictions"
   ]
  },
  {
   "cell_type": "code",
   "execution_count": null,
   "id": "7ac75409-9f44-48c7-8421-d2ed4dd91b6c",
   "metadata": {
    "tags": []
   },
   "outputs": [],
   "source": [
    "print (predictions)"
   ]
  },
  {
   "cell_type": "code",
   "execution_count": null,
   "id": "ff3d0e94-8cd1-40e4-88b7-e7c07962cadf",
   "metadata": {
    "tags": []
   },
   "outputs": [],
   "source": [
    "predictions.to_excel(\"predictions.xlsx\", index=True)\n"
   ]
  },
  {
   "cell_type": "markdown",
   "id": "50d4d785-f666-4588-b4af-0538f2352439",
   "metadata": {},
   "source": [
    "***MODEL SELECTION & COMPARISON***"
   ]
  },
  {
   "cell_type": "markdown",
   "id": "951c93c2-e328-49e6-baad-78251c0b0d3f",
   "metadata": {},
   "source": [
    "***LET US USE XG BOOST**"
   ]
  },
  {
   "cell_type": "code",
   "execution_count": null,
   "id": "8e944d16-3153-441e-b0c7-f7955c0e8979",
   "metadata": {
    "tags": []
   },
   "outputs": [],
   "source": [
    "import pandas as pd\n",
    "from sklearn.model_selection import train_test_split\n",
    "from xgboost import XGBClassifier\n",
    "from sklearn.metrics import accuracy_score\n"
   ]
  },
  {
   "cell_type": "code",
   "execution_count": null,
   "id": "c0560507-ab99-437a-bf59-b356a83f6b96",
   "metadata": {
    "tags": []
   },
   "outputs": [],
   "source": [
    "import pandas as pd\n",
    "import xgboost as xgb\n",
    "from sklearn.metrics import accuracy_score, precision_score, recall_score, f1_score\n",
    "\n",
    "# Load your data into the 'sp500' DataFrame\n",
    "\n",
    "train_size = int(0.8 * len(sp500))\n",
    "train, test = sp500[:train_size], sp500[train_size:]\n",
    "\n",
    "# Define predictors and target column\n",
    "predictors = [\n",
    "    \"Close\", \"Volume\", \"Open\", \"High\", \"Low\", \"Adj Close\",\n",
    "    \"Close_Ratio_2\", \"Trend_2\", \"Close_Ratio_5\", \"Trend_5\",\n",
    "    \"Close_Ratio_60\", \"Trend_60\", \"Close_Ratio_250\", \"Trend_250\",\n",
    "    \"Close_Ratio_1000\", \"Trend_1000\"\n",
    "]\n",
    "target_column = \"Target\"\n",
    "\n",
    "# Prepare the data for XGBoost\n",
    "X_train, y_train = train[predictors], train[target_column]\n",
    "X_test, y_test = test[predictors], test[target_column]\n",
    "\n",
    "# Create an XGBoost model\n",
    "model = xgb.XGBClassifier(random_state=1)\n",
    "\n",
    "# Fit the model on the training data\n",
    "model.fit(X_train, y_train)\n",
    "\n",
    "# Make predictions on the test set\n",
    "test_predictions = model.predict(X_test)\n",
    "\n",
    "# Calculate metrics\n",
    "accuracy = accuracy_score(y_test, test_predictions)\n",
    "precision = precision_score(y_test, test_predictions)\n",
    "recall = recall_score(y_test, test_predictions)\n",
    "f1 = f1_score(y_test, test_predictions)\n",
    "\n",
    "print(\"Accuracy:\", accuracy)\n",
    "print(\"Precision:\", precision)\n",
    "print(\"Recall:\", recall)\n",
    "print(\"F1 Score:\", f1)\n"
   ]
  },
  {
   "cell_type": "code",
   "execution_count": null,
   "id": "122f5284-6cf1-47b2-bba0-d5fcc80a3b55",
   "metadata": {
    "tags": []
   },
   "outputs": [],
   "source": [
    "import pandas as pd\n",
    "from sklearn.model_selection import train_test_split\n",
    "from xgboost import XGBClassifier\n",
    "from sklearn.metrics import accuracy_score\n"
   ]
  },
  {
   "cell_type": "code",
   "execution_count": null,
   "id": "0754a00d-1f05-41ce-a422-0983de1a4b4f",
   "metadata": {
    "tags": []
   },
   "outputs": [],
   "source": [
    "def combined(train, test):\n",
    "    return pd.concat([train, test], ignore_index=True)\n"
   ]
  },
  {
   "cell_type": "code",
   "execution_count": null,
   "id": "6634841c-5916-4054-b4ce-255ba9b99448",
   "metadata": {
    "tags": []
   },
   "outputs": [],
   "source": [
    "def predict(train, test, predictors, model):\n",
    "    X_train = train[predictors]\n",
    "    y_train = train['Target']\n",
    "    X_test = test[predictors]\n",
    "    y_test = test['Target']\n",
    "\n",
    "    # Train the model\n",
    "    model.fit(X_train, y_train)\n",
    "\n",
    "    # Make predictions\n",
    "    y_pred = model.predict(X_test)\n",
    "\n",
    "    # Calculate accuracy\n",
    "    accuracy = accuracy_score(y_test, y_pred)\n",
    "\n",
    "    return accuracy\n"
   ]
  },
  {
   "cell_type": "code",
   "execution_count": null,
   "id": "418bf059-e489-4bbb-8647-595e02494e0a",
   "metadata": {
    "tags": []
   },
   "outputs": [],
   "source": [
    "def backtest(data, model, predictors):\n",
    "    # Split data into train and test sets\n",
    "    train, test = train_test_split(data, test_size=0.2, random_state=42)\n",
    "    all_predictions = []\n",
    "\n",
    "    # Predict using the model\n",
    "    accuracy = predict(train, test, predictors, model)\n",
    "\n",
    "    return accuracy\n"
   ]
  },
  {
   "cell_type": "code",
   "execution_count": null,
   "id": "ac7c7ee8-e524-41ad-a320-63353c0eb2ad",
   "metadata": {
    "tags": []
   },
   "outputs": [],
   "source": [
    "predictors = [\"Close\", \"Volume\", \"Open\", \"High\", \"Low\",\"Adj Close\"]  # Replace with actual predictor column names\n",
    "Target = 'Tomorrow'  # Replace with actual target column name\n"
   ]
  },
  {
   "cell_type": "code",
   "execution_count": null,
   "id": "71aa6ed4-f253-4d9b-bca5-ab49ff3a2cd7",
   "metadata": {
    "tags": []
   },
   "outputs": [],
   "source": [
    "model = XGBClassifier()  # You can customize the model by passing appropriate parameters\n"
   ]
  },
  {
   "cell_type": "code",
   "execution_count": null,
   "id": "b389f08d-eac8-44eb-b419-79cd552d08b3",
   "metadata": {
    "tags": []
   },
   "outputs": [],
   "source": [
    "def backtest(data, model, predictors):\n",
    "    # Split data into train and test sets\n",
    "    train, test = train_test_split(data, test_size=0.2, random_state=42)\n",
    "    all_predictions = []\n",
    "\n",
    "    # Predict using the model\n",
    "    accuracy = predict(train, test, predictors, model)\n",
    "\n",
    "    return accuracy\n"
   ]
  },
  {
   "cell_type": "code",
   "execution_count": null,
   "id": "95fefb9d-d9c3-400a-82de-22b4cf5d46bc",
   "metadata": {
    "tags": []
   },
   "outputs": [],
   "source": [
    "predictions = backtest(sp500, model, predictors)\n",
    "print(\"Accuracy:\", predictions)\n"
   ]
  },
  {
   "cell_type": "code",
   "execution_count": null,
   "id": "59559ab3-10c3-485a-83ec-b771b846a55e",
   "metadata": {
    "tags": []
   },
   "outputs": [],
   "source": [
    "combined = pd.concat([test[\"Target\"], preds], axis=1)\n",
    "combined.plot()"
   ]
  },
  {
   "cell_type": "code",
   "execution_count": null,
   "id": "a79d06f5-3c9f-4231-9faf-27f76a4f8ea7",
   "metadata": {
    "tags": []
   },
   "outputs": [],
   "source": [
    "def backtest(data, model, predictors):\n",
    "    # Split data into train and test sets\n",
    "    train, test = train_test_split(data, test_size=0.2, random_state=42)\n",
    "    \n",
    "    # Train the model\n",
    "    model.fit(train[predictors], train['Target'])\n",
    "    \n",
    "    # Predict using the model\n",
    "    predictions = model.predict(test[predictors])\n",
    "    \n",
    "    # Add predictions to the test DataFrame\n",
    "    test['predictions'] = predictions\n",
    "    \n",
    "    # Calculate accuracy\n",
    "    accuracy = accuracy_score(test['Target'], predictions)\n",
    "    \n",
    "    return accuracy, test[['Target', 'predictions']]\n"
   ]
  },
  {
   "cell_type": "code",
   "execution_count": null,
   "id": "e867f97c-08dc-4959-aa20-ce410238c60c",
   "metadata": {
    "tags": []
   },
   "outputs": [],
   "source": [
    "def backtest(data, model, predictors):\n",
    "    # Split data into train and test sets without shuffling\n",
    "    train, test = train_test_split(data, test_size=0.8, random_state=42, shuffle=False)\n",
    "    \n",
    "    # Train the model\n",
    "    model.fit(train[predictors], train['Target'])\n",
    "    \n",
    "    # Predict using the model\n",
    "    predictions = model.predict(test[predictors])\n",
    "    \n",
    "    # Add predictions to the test DataFrame\n",
    "    test['predictions'] = predictions\n",
    "    \n",
    "    # Calculate accuracy\n",
    "    accuracy = accuracy_score(test['Target'], predictions)\n",
    "    \n",
    "    return accuracy, test[['Target', 'predictions']]\n"
   ]
  },
  {
   "cell_type": "code",
   "execution_count": null,
   "id": "d3a628c1-52a2-4ad2-acc1-ff6e1ff68080",
   "metadata": {
    "tags": []
   },
   "outputs": [],
   "source": [
    "result = backtest(sp500, model, predictors)\n",
    "accuracy = result[0]\n",
    "df_predictions = result[1]\n",
    "\n",
    "print(\"Accuracy:\", accuracy)\n",
    "print(\"DataFrame with target and predictions columns:\")\n",
    "print(df_predictions)\n"
   ]
  },
  {
   "cell_type": "code",
   "execution_count": null,
   "id": "31ee7cc9-56ee-4464-b129-1de25d8ea1fa",
   "metadata": {},
   "outputs": [],
   "source": []
  },
  {
   "cell_type": "markdown",
   "id": "8539c32f-0a8b-4516-8e37-8bc776955eae",
   "metadata": {},
   "source": [
    "****LET US USE LINEAR REGRESSION***"
   ]
  },
  {
   "cell_type": "code",
   "execution_count": null,
   "id": "8b7fe90f-91be-457b-a666-31700dc92f44",
   "metadata": {
    "tags": []
   },
   "outputs": [],
   "source": [
    "from sklearn.linear_model import LinearRegression\n"
   ]
  },
  {
   "cell_type": "code",
   "execution_count": null,
   "id": "b225f3aa-769f-48a2-b673-9f6331444d66",
   "metadata": {
    "tags": []
   },
   "outputs": [],
   "source": [
    "model = LinearRegression()\n"
   ]
  },
  {
   "cell_type": "code",
   "execution_count": null,
   "id": "eab91c18-0a38-4079-a4c7-a206328212ec",
   "metadata": {
    "tags": []
   },
   "outputs": [],
   "source": [
    "def predict(train, test, predictors, model, threshold=0.5):\n",
    "    X_train = train[predictors]\n",
    "    y_train = train['Target']\n",
    "    X_test = test[predictors]\n",
    "\n",
    "    # Train the model\n",
    "    model.fit(X_train, y_train)\n",
    "\n",
    "    # Make predictions\n",
    "    y_pred = model.predict(X_test)\n",
    "\n",
    "    # Convert predictions to binary classes based on threshold\n",
    "    y_pred_binary = [1 if pred >= threshold else 0 for pred in y_pred]\n",
    "\n",
    "    return y_pred_binary\n"
   ]
  },
  {
   "cell_type": "code",
   "execution_count": null,
   "id": "11c1a95a-d034-4e6e-9ea9-24b930f418f6",
   "metadata": {
    "tags": []
   },
   "outputs": [],
   "source": [
    "def backtest(data, model, predictors, threshold=0.5):\n",
    "    # Split data into train and test sets without shuffling\n",
    "    train, test = train_test_split(data, test_size=0.2, random_state=42, shuffle=False)\n",
    "\n",
    "    # Train the model\n",
    "    model.fit(train[predictors], train['Target'])\n",
    "\n",
    "    # Predict using the model\n",
    "    predictions = predict(train, test, predictors, model, threshold)\n",
    "\n",
    "    # Add predictions to the test DataFrame\n",
    "    test['predictions'] = predictions\n",
    "\n",
    "    # Calculate accuracy\n",
    "    accuracy = accuracy_score(test['Target'], predictions)\n",
    "\n",
    "    return accuracy, test[['Target', 'predictions']]\n"
   ]
  },
  {
   "cell_type": "code",
   "execution_count": null,
   "id": "528a3640-3b83-4665-a0b9-d8bc015e6017",
   "metadata": {
    "tags": []
   },
   "outputs": [],
   "source": [
    "result = backtest(sp500, model, predictors, threshold=0.5)\n",
    "accuracy = result[0]\n",
    "df_predictions = result[1]\n",
    "\n",
    "print(\"Accuracy:\", accuracy)\n",
    "print(\"DataFrame with target and predictions columns:\")\n",
    "print(df_predictions)\n"
   ]
  },
  {
   "cell_type": "code",
   "execution_count": null,
   "id": "f970a2b5-ffb9-4077-9bd9-9f82749b0040",
   "metadata": {},
   "outputs": [],
   "source": []
  },
  {
   "cell_type": "code",
   "execution_count": null,
   "id": "a7ec08c5-ad11-4b9f-822e-655dd2aef29c",
   "metadata": {},
   "outputs": [],
   "source": []
  },
  {
   "cell_type": "code",
   "execution_count": null,
   "id": "3c8e52bf-fb53-42b2-894b-8e27b7b7652f",
   "metadata": {},
   "outputs": [],
   "source": []
  },
  {
   "cell_type": "markdown",
   "id": "ff3d7ece-e1ed-4015-94d8-21cfc5b86f08",
   "metadata": {},
   "source": [
    "****HYPERPARAMETER TUNING**\n",
    "\n"
   ]
  },
  {
   "cell_type": "code",
   "execution_count": null,
   "id": "d881bba5-092c-435a-883a-5d8b9d70542f",
   "metadata": {
    "tags": []
   },
   "outputs": [],
   "source": [
    "from sklearn.ensemble import RandomForestClassifier\n",
    "from sklearn.model_selection import RandomizedSearchCV\n",
    "from sklearn.metrics import accuracy_score, precision_score, recall_score, f1_score\n",
    "\n",
    "# Define the parameter grid to search through\n",
    "param_grid = {\n",
    "    'n_estimators': [100, 200, 300],\n",
    "    'max_depth': [None, 10, 20, 30],\n",
    "    'min_samples_split': [2, 5, 10],\n",
    "    'min_samples_leaf': [1, 2, 4]\n",
    "}\n",
    "\n",
    "model = RandomForestClassifier(random_state=1)\n",
    "\n",
    "# Perform random search with cross-validation\n",
    "random_search = RandomizedSearchCV(\n",
    "    model, param_distributions=param_grid, n_iter=10, scoring='accuracy', cv=5, random_state=1\n",
    ")\n",
    "\n",
    "train = sp500.iloc[:-100]\n",
    "test = sp500.iloc[-100:]\n",
    "\n",
    "predictors = [\"Close\", \"Volume\", \"Open\", \"High\", \"Low\", \"Adj Close\"]\n",
    "\n",
    "# Fit the random search to the training data\n",
    "random_search.fit(train[predictors], train[\"Target\"])\n",
    "\n",
    "# Get the best model\n",
    "best_model = random_search.best_estimator_\n",
    "\n",
    "# Make predictions on the test set using the best model\n",
    "test_predictions = best_model.predict(test[predictors])\n",
    "\n",
    "# Actual target values in the test set\n",
    "test_actual = test[\"Target\"]\n",
    "\n",
    "# Calculate metrics\n",
    "accuracy = accuracy_score(test_actual, test_predictions)\n",
    "precision = precision_score(test_actual, test_predictions)\n",
    "recall = recall_score(test_actual, test_predictions)\n",
    "f1 = f1_score(test_actual, test_predictions)\n",
    "\n",
    "print(\"Best Parameters:\", random_search.best_params_)\n",
    "print(\"Accuracy:\", accuracy)\n",
    "print(\"Precision:\", precision)\n",
    "print(\"Recall:\", recall)\n",
    "print(\"F1 Score:\", f1)\n"
   ]
  },
  {
   "cell_type": "code",
   "execution_count": null,
   "id": "a580e3e1-8f8b-4eef-a58b-f1056e482444",
   "metadata": {
    "tags": []
   },
   "outputs": [],
   "source": [
    "import numpy as np\n",
    "import matplotlib.pyplot as plt\n",
    "from sklearn.model_selection import learning_curve\n",
    "from sklearn.model_selection import train_test_split\n",
    "\n",
    "# Load your data into the 'sp500' DataFrame\n",
    "\n",
    "# Define your predictors and target column\n",
    "predictors = [\"Close\", \"Volume\", \"Open\", \"High\", \"Low\", \"Adj Close\"]\n",
    "target_column = \"Target\"\n",
    "\n",
    "# Split data into training and testing sets\n",
    "train_size = int(0.8 * len(sp500))\n",
    "train, test = sp500[:train_size], sp500[train_size:]\n",
    "\n",
    "# Define the RandomForestClassifier with the best hyperparameters from the tuning\n",
    "best_params = {'n_estimators': 200, 'max_depth': 20, 'min_samples_split': 5, 'min_samples_leaf': 1}\n",
    "model = RandomForestClassifier(random_state=1, **best_params)\n",
    "\n",
    "# Create learning curve\n",
    "train_sizes, train_scores, test_scores = learning_curve(\n",
    "    model, train[predictors], train[target_column], cv=5, scoring='accuracy', n_jobs=-1\n",
    ")\n",
    "\n",
    "# Calculate mean and standard deviation for train and test scores\n",
    "train_scores_mean = np.mean(train_scores, axis=1)\n",
    "train_scores_std = np.std(train_scores, axis=1)\n",
    "test_scores_mean = np.mean(test_scores, axis=1)\n",
    "test_scores_std = np.std(test_scores, axis=1)\n",
    "\n",
    "# Plot learning curve\n",
    "plt.figure(figsize=(10, 6))\n",
    "plt.plot(train_sizes, train_scores_mean, label='Train Accuracy')\n",
    "plt.plot(train_sizes, test_scores_mean, label='Validation Accuracy')\n",
    "\n",
    "# Fill the area between the mean scores and standard deviations\n",
    "plt.fill_between(\n",
    "    train_sizes,\n",
    "    train_scores_mean - train_scores_std,\n",
    "    train_scores_mean + train_scores_std,\n",
    "    alpha=0.2\n",
    ")\n",
    "plt.fill_between(\n",
    "    train_sizes,\n",
    "    test_scores_mean - test_scores_std,\n",
    "    test_scores_mean + test_scores_std,\n",
    "    alpha=0.2\n",
    ")\n",
    "\n",
    "plt.xlabel(\"Training Examples\")\n",
    "plt.ylabel(\"Accuracy\")\n",
    "plt.title(\"Learning Curve\")\n",
    "plt.legend()\n",
    "plt.grid()\n",
    "plt.show()\n"
   ]
  },
  {
   "cell_type": "code",
   "execution_count": null,
   "id": "6d970c68-4afc-47f4-9358-e705046a60f0",
   "metadata": {},
   "outputs": [],
   "source": []
  },
  {
   "cell_type": "code",
   "execution_count": null,
   "id": "6922e754-9964-4711-8899-195f989b24c4",
   "metadata": {},
   "outputs": [],
   "source": []
  },
  {
   "cell_type": "markdown",
   "id": "ce45a3b5-2ad9-4a8a-a309-e272141d2e82",
   "metadata": {},
   "source": [
    "***HYPERPARAMETER TUNING**"
   ]
  },
  {
   "cell_type": "code",
   "execution_count": null,
   "id": "6ab5470e-865f-416d-84d3-9e7251ad5cdc",
   "metadata": {},
   "outputs": [],
   "source": []
  },
  {
   "cell_type": "code",
   "execution_count": null,
   "id": "bd9006ad-a5a0-4546-85cc-e23f0751295d",
   "metadata": {},
   "outputs": [],
   "source": [
    "\n",
    "# Define the parameter grid to search through\n",
    "param_grid = {\n",
    "    'n_estimators': [100, 200, 300],\n",
    "    'max_depth': [None, 10, 20, 30],\n",
    "    'min_samples_split': [2, 5, 10],\n",
    "    'min_samples_leaf': [1, 2, 4]\n",
    "}\n",
    "\n",
    "model = RandomForestClassifier(random_state=1)\n",
    "\n",
    "# Perform random search with cross-validation\n",
    "random_search = RandomizedSearchCV(\n",
    "    model, param_distributions=param_grid, n_iter=10, scoring='accuracy', cv=5, random_state=1\n",
    ")\n",
    "\n",
    "train = sp500.iloc[:-100]\n",
    "test = sp500.iloc[-100:]\n",
    "\n",
    "predictors = [\"Close\", \"Volume\", \"Open\", \"High\", \"Low\", \"Adj Close\"]\n",
    "\n",
    "# Fit the random search to the training data\n",
    "random_search.fit(train[predictors], train[\"Target\"])\n",
    "\n",
    "# Get the best model\n",
    "best_model = random_search.best_estimator_\n",
    "\n",
    "# Make predictions on the test set using the best model\n",
    "test_predictions = best_model.predict(test[predictors])\n",
    "\n",
    "# Actual target values in the test set\n",
    "test_actual = test[\"Target\"]\n",
    "\n",
    "# Calculate metrics\n",
    "accuracy = accuracy_score(test_actual, test_predictions)\n",
    "precision = precision_score(test_actual, test_predictions)\n",
    "recall = recall_score(test_actual, test_predictions)\n",
    "f1 = f1_score(test_actual, test_predictions)\n",
    "\n",
    "print(\"Best Parameters:\", random_search.best_params_)\n",
    "print(\"Accuracy:\", accuracy)\n",
    "print(\"Precision:\", precision)\n",
    "print(\"Recall:\", recall)\n",
    "print(\"F1 Score:\", f1)\n"
   ]
  },
  {
   "cell_type": "code",
   "execution_count": null,
   "id": "f2ceb22b-d093-4328-9941-9e3850f675ed",
   "metadata": {},
   "outputs": [],
   "source": []
  },
  {
   "cell_type": "markdown",
   "id": "e77aec6b-0731-4d90-9529-7ddea5f72b19",
   "metadata": {},
   "source": [
    "***TUNE PARAMETERS AND PLOT LEARNING CURVE***"
   ]
  },
  {
   "cell_type": "code",
   "execution_count": null,
   "id": "156e6c69-60bb-4ba3-81ed-65d08210e717",
   "metadata": {
    "tags": []
   },
   "outputs": [],
   "source": [
    "\n",
    "\n",
    "# Define the parameter grid to search through\n",
    "param_grid = {\n",
    "    'n_estimators': [100, 200, 300],\n",
    "    'max_depth': [None, 10, 20, 30],\n",
    "    'min_samples_split': [2, 5, 10],\n",
    "    'min_samples_leaf': [1, 2, 4]\n",
    "}\n",
    "\n",
    "model = RandomForestClassifier(random_state=1)\n",
    "\n",
    "# Perform random search with cross-validation\n",
    "random_search = RandomizedSearchCV(\n",
    "    model, param_distributions=param_grid, n_iter=10, scoring='accuracy', cv=5, random_state=1\n",
    ")\n",
    "\n",
    "train = sp500.iloc[:-100]\n",
    "test = sp500.iloc[-100:]\n",
    "\n",
    "predictors = [\"Close\", \"Volume\", \"Open\", \"High\", \"Low\", \"Adj Close\"]\n",
    "\n",
    "# Fit the random search to the training data\n",
    "random_search.fit(train[predictors], train[\"Target\"])\n",
    "\n",
    "# Get the best model\n",
    "best_model = random_search.best_estimator_\n",
    "\n",
    "# Make predictions on the test set using the best model\n",
    "test_predictions = best_model.predict(test[predictors])\n",
    "\n",
    "# Actual target values in the test set\n",
    "test_actual = test[\"Target\"]\n",
    "\n",
    "# Calculate metrics\n",
    "accuracy = accuracy_score(test_actual, test_predictions)\n",
    "precision = precision_score(test_actual, test_predictions)\n",
    "recall = recall_score(test_actual, test_predictions)\n",
    "f1 = f1_score(test_actual, test_predictions)\n",
    "\n",
    "print(\"Best Parameters:\", random_search.best_params_)\n",
    "print(\"Accuracy:\", accuracy)\n",
    "print(\"Precision:\", precision)\n",
    "print(\"Recall:\", recall)\n",
    "print(\"F1 Score:\", f1)\n",
    "\n",
    "# Learning curve\n",
    "train_sizes, train_scores, test_scores = learning_curve(\n",
    "    best_model, train[predictors], train[\"Target\"], cv=5, scoring='accuracy', \n",
    "    train_sizes=np.linspace(0.1, 1.0, 10)\n",
    ")\n",
    "\n",
    "# Calculate mean and standard deviation for training and validation scores\n",
    "train_scores_mean = np.mean(train_scores, axis=1)\n",
    "train_scores_std = np.std(train_scores, axis=1)\n",
    "test_scores_mean = np.mean(test_scores, axis=1)\n",
    "test_scores_std = np.std(test_scores, axis=1)\n",
    "\n",
    "# Plot learning curve\n",
    "plt.figure()\n",
    "plt.title(\"Learning Curve\")\n",
    "plt.xlabel(\"Training Examples\")\n",
    "plt.ylabel(\"Score\")\n",
    "plt.grid()\n",
    "\n",
    "plt.fill_between(\n",
    "    train_sizes, train_scores_mean - train_scores_std,\n",
    "    train_scores_mean + train_scores_std, alpha=0.1, color=\"r\"\n",
    ")\n",
    "plt.fill_between(\n",
    "    train_sizes, test_scores_mean - test_scores_std,\n",
    "    test_scores_mean + test_scores_std, alpha=0.1, color=\"g\"\n",
    ")\n",
    "\n",
    "plt.plot(train_sizes, train_scores_mean, 'o-', color=\"r\", label=\"Training score\")\n",
    "plt.plot(train_sizes, test_scores_mean, 'o-', color=\"g\", label=\"Cross-validation score\")\n",
    "\n",
    "plt.legend(loc=\"best\")\n",
    "plt.show()\n"
   ]
  },
  {
   "cell_type": "code",
   "execution_count": null,
   "id": "07640af6-c1a7-42ec-b47d-7be83fc728d1",
   "metadata": {
    "tags": []
   },
   "outputs": [],
   "source": [
    "# test[\"Target\"]: This extracts the \"Target\" column from the DataFrame test, assuming that \"Target\" is a column in the DataFrame that contains the actual target values.\n",
    "# preds: This refers to a variable containing predicted values. Assuming that preds contains predicted values for the target variable.\n",
    "# combined = pd.concat([test[\"Target\"], preds], axis=1): This concatenates the actual target values and the predicted values along the horizontal axis (axis=1). This creates a DataFrame called combined where the first column contains the actual target values from the test DataFrame, and the second column contains the predicted values from the preds variable.\n",
    "# combined.plot(): This plots the data in the combined DataFrame. Since the DataFrame contains actual and predicted values for the target variable, the plot will visualize how well the predicted values match the actual values over time. Depending on the data and the nature of the problem, you might see trends, patterns, or discrepancies between the actual and predicted values on the plot.\n",
    "combined = pd.concat([test[\"Target\"], preds], axis=1)\n",
    "combined.plot()"
   ]
  },
  {
   "cell_type": "code",
   "execution_count": null,
   "id": "6a26b389-b592-4a00-9044-ea6cbaf0d9e9",
   "metadata": {
    "tags": []
   },
   "outputs": [],
   "source": [
    "def predict(train, test, predictors, model):\n",
    "    model.fit(train[predictors], train[\"Target\"])\n",
    "    preds = model.predict(test[predictors])\n",
    "    preds = pd.Series(preds, index=test.index, name=\"Predictions\")\n",
    "    combined = pd.concat([test[\"Target\"], preds], axis=1)\n",
    "    return combined"
   ]
  },
  {
   "cell_type": "code",
   "execution_count": null,
   "id": "ed26275a-b09d-464f-bb69-dfc33feccd79",
   "metadata": {
    "tags": []
   },
   "outputs": [],
   "source": [
    "def backtest(data, model, predictors, start=2500, step=250):\n",
    "    all_predictions = []\n",
    "\n",
    "    for i in range(start, data.shape[0], step):\n",
    "        train = data.iloc[0:i].copy()\n",
    "        test = data.iloc[i:(i+step)].copy()\n",
    "        predictions = predict(train, test, predictors, model)\n",
    "        all_predictions.append(predictions)\n",
    "    \n",
    "    return pd.concat(all_predictions)"
   ]
  },
  {
   "cell_type": "code",
   "execution_count": null,
   "id": "912d9bb8-b54d-488a-846d-7dbeb9c64ef5",
   "metadata": {
    "tags": []
   },
   "outputs": [],
   "source": [
    "predictions = backtest(sp500, model, predictors)"
   ]
  },
  {
   "cell_type": "code",
   "execution_count": null,
   "id": "8b4c3cd5-f748-48ce-a5e7-462a9f0802a5",
   "metadata": {},
   "outputs": [],
   "source": [
    "predictions[\"Predictions\"].value_counts()"
   ]
  },
  {
   "cell_type": "code",
   "execution_count": null,
   "id": "63d33838-a92e-4e94-b52d-77e16783ec7b",
   "metadata": {},
   "outputs": [],
   "source": [
    "predictions[\"Target\"].value_counts() / predictions.shape[0]\n"
   ]
  },
  {
   "cell_type": "code",
   "execution_count": null,
   "id": "3a8618dc-7003-40ef-8b5a-74b04c6f141f",
   "metadata": {},
   "outputs": [],
   "source": [
    "predictions"
   ]
  },
  {
   "cell_type": "code",
   "execution_count": null,
   "id": "266c7f45-8fc3-42f0-bcc4-49eb50c73cbd",
   "metadata": {
    "tags": []
   },
   "outputs": [],
   "source": [
    "predictions5=predictions"
   ]
  },
  {
   "cell_type": "code",
   "execution_count": null,
   "id": "c4cf9818-cab8-4c44-bfa0-0c10b8aee1b3",
   "metadata": {},
   "outputs": [],
   "source": [
    "predictions5.to_excel(\"predictions5.xlsx\", index=True)\n"
   ]
  },
  {
   "cell_type": "code",
   "execution_count": null,
   "id": "f1997c40-f94e-4ce9-bb8c-4e8e36093b96",
   "metadata": {},
   "outputs": [],
   "source": []
  },
  {
   "cell_type": "markdown",
   "id": "fc933b38-c27d-4fb4-91ef-a7309c759a4a",
   "metadata": {},
   "source": [
    "***TUNE TO ADJUST PARAMETER GRIDS TO SEE WHICH SET GIVES BETTER ACCURACY**"
   ]
  },
  {
   "cell_type": "code",
   "execution_count": null,
   "id": "22ab7514-e3d9-4235-838e-e6e74f29bd04",
   "metadata": {},
   "outputs": [],
   "source": [
    "\n",
    "# Define the parameter grid to search through\n",
    "param_grid = {\n",
    "    'n_estimators': [100, 200, 300, 400, 500],\n",
    "    'max_depth': [None, 10, 20, 30],\n",
    "    'min_samples_split': [2, 5, 10, 15, 20],\n",
    "    'min_samples_leaf': [1, 2, 4, 6, 8]\n",
    "}\n",
    "\n",
    "model = RandomForestClassifier(random_state=1)\n",
    "\n",
    "# Perform random search with cross-validation\n",
    "random_search = RandomizedSearchCV(\n",
    "    model, param_distributions=param_grid, n_iter=10, scoring='accuracy', cv=5, random_state=1\n",
    ")\n",
    "\n",
    "train = sp500.iloc[:-100]\n",
    "test = sp500.iloc[-100:]\n",
    "\n",
    "predictors = [\"Close\", \"Volume\", \"Open\", \"High\", \"Low\", \"Adj Close\"]\n",
    "\n",
    "# Fit the random search to the training data\n",
    "random_search.fit(train[predictors], train[\"Target\"])\n",
    "\n",
    "# Get the best model\n",
    "best_model = random_search.best_estimator_\n",
    "\n",
    "# Make predictions on the test set using the best model\n",
    "test_predictions = best_model.predict(test[predictors])\n",
    "\n",
    "# Actual target values in the test set\n",
    "test_actual = test[\"Target\"]\n",
    "\n",
    "# Calculate metrics\n",
    "accuracy = accuracy_score(test_actual, test_predictions)\n",
    "precision = precision_score(test_actual, test_predictions)\n",
    "recall = recall_score(test_actual, test_predictions)\n",
    "f1 = f1_score(test_actual, test_predictions)\n",
    "\n",
    "print(\"Best Parameters:\", random_search.best_params_)\n",
    "print(\"Accuracy:\", accuracy)\n",
    "print(\"Precision:\", precision)\n",
    "print(\"Recall:\", recall)\n",
    "print(\"F1 Score:\", f1)\n",
    "\n",
    "# Learning curve\n",
    "train_sizes, train_scores, test_scores = learning_curve(\n",
    "    best_model, train[predictors], train[\"Target\"], cv=5, scoring='accuracy', \n",
    "    train_sizes=np.linspace(0.1, 1.0, 10)\n",
    ")\n",
    "\n",
    "# Calculate mean and standard deviation for training and validation scores\n",
    "train_scores_mean = np.mean(train_scores, axis=1)\n",
    "train_scores_std = np.std(train_scores, axis=1)\n",
    "test_scores_mean = np.mean(test_scores, axis=1)\n",
    "test_scores_std = np.std(test_scores, axis=1)\n",
    "\n",
    "# Plot learning curve\n",
    "plt.figure()\n",
    "plt.title(\"Learning Curve\")\n",
    "plt.xlabel(\"Training Examples\")\n",
    "plt.ylabel(\"Score\")\n",
    "plt.grid()\n",
    "\n",
    "plt.fill_between(\n",
    "    train_sizes, train_scores_mean - train_scores_std,\n",
    "    train_scores_mean + train_scores_std, alpha=0.1, color=\"r\"\n",
    ")\n",
    "plt.fill_between(\n",
    "    train_sizes, test_scores_mean - test_scores_std,\n",
    "    test_scores_mean + test_scores_std, alpha=0.1, color=\"g\"\n",
    ")\n",
    "\n",
    "plt.plot(train_sizes, train_scores_mean, 'o-', color=\"r\", label=\"Training score\")\n",
    "plt.plot(train_sizes, test_scores_mean, 'o-', color=\"g\", label=\"Cross-validation score\")\n",
    "\n",
    "plt.legend(loc=\"best\")\n",
    "plt.show()\n",
    "\n"
   ]
  },
  {
   "cell_type": "code",
   "execution_count": null,
   "id": "d65b5e03-e3c6-483c-9109-1c8139bddff2",
   "metadata": {},
   "outputs": [],
   "source": [
    "\n",
    "\n",
    "# Define the parameter grid to search through\n",
    "param_grid = {\n",
    "    'n_estimators': [50, 100, 150],\n",
    "    'max_depth': [None, 5, 10],\n",
    "    'min_samples_split': [3, 6, 9],\n",
    "    'min_samples_leaf': [2, 4, 6]\n",
    "}\n",
    "\n",
    "model = RandomForestClassifier(random_state=1)\n",
    "\n",
    "# Perform random search with cross-validation\n",
    "random_search = RandomizedSearchCV(\n",
    "    model, param_distributions=param_grid, n_iter=10, scoring='accuracy', cv=5, random_state=1\n",
    ")\n",
    "\n",
    "train = sp500.iloc[:-100]\n",
    "test = sp500.iloc[-100:]\n",
    "\n",
    "predictors = [\"Close\", \"Volume\", \"Open\", \"High\", \"Low\", \"Adj Close\"]\n",
    "\n",
    "# Fit the random search to the training data\n",
    "random_search.fit(train[predictors], train[\"Target\"])\n",
    "\n",
    "# Get the best model\n",
    "best_model = random_search.best_estimator_\n",
    "\n",
    "# Make predictions on the test set using the best model\n",
    "test_predictions = best_model.predict(test[predictors])\n",
    "\n",
    "# Actual target values in the test set\n",
    "test_actual = test[\"Target\"]\n",
    "\n",
    "# Calculate metrics\n",
    "accuracy = accuracy_score(test_actual, test_predictions)\n",
    "precision = precision_score(test_actual, test_predictions)\n",
    "recall = recall_score(test_actual, test_predictions)\n",
    "f1 = f1_score(test_actual, test_predictions)\n",
    "\n",
    "print(\"Best Parameters:\", random_search.best_params_)\n",
    "print(\"Accuracy:\", accuracy)\n",
    "print(\"Precision:\", precision)\n",
    "print(\"Recall:\", recall)\n",
    "print(\"F1 Score:\", f1)\n",
    "\n",
    "# Learning curve\n",
    "train_sizes, train_scores, test_scores = learning_curve(\n",
    "    best_model, train[predictors], train[\"Target\"], cv=5, scoring='accuracy', \n",
    "    train_sizes=np.linspace(0.1, 1.0, 10)\n",
    ")\n",
    "\n",
    "# Calculate mean and standard deviation for training and validation scores\n",
    "train_scores_mean = np.mean(train_scores, axis=1)\n",
    "train_scores_std = np.std(train_scores, axis=1)\n",
    "test_scores_mean = np.mean(test_scores, axis=1)\n",
    "test_scores_std = np.std(test_scores, axis=1)\n",
    "\n",
    "# Plot learning curve\n",
    "plt.figure()\n",
    "plt.title(\"Learning Curve\")\n",
    "plt.xlabel(\"Training Examples\")\n",
    "plt.ylabel(\"Score\")\n",
    "plt.grid()\n",
    "\n",
    "plt.fill_between(\n",
    "    train_sizes, train_scores_mean - train_scores_std,\n",
    "    train_scores_mean + train_scores_std, alpha=0.1, color=\"r\"\n",
    ")\n",
    "plt.fill_between(\n",
    "    train_sizes, test_scores_mean - test_scores_std,\n",
    "    test_scores_mean + test_scores_std, alpha=0.1, color=\"g\"\n",
    ")\n",
    "\n",
    "plt.plot(train_sizes, train_scores_mean, 'o-', color=\"r\", label=\"Training score\")\n",
    "plt.plot(train_sizes, test_scores_mean, 'o-', color=\"g\", label=\"Cross-validation score\")\n",
    "\n",
    "plt.legend(loc=\"best\")\n",
    "plt.show()\n"
   ]
  },
  {
   "cell_type": "code",
   "execution_count": null,
   "id": "31628ee2-e16d-49c5-96ec-c032fed1efc8",
   "metadata": {
    "tags": []
   },
   "outputs": [],
   "source": [
    "# test[\"Target\"]: This extracts the \"Target\" column from the DataFrame test, assuming that \"Target\" is a column in the DataFrame that contains the actual target values.\n",
    "# preds: This refers to a variable containing predicted values. Assuming that preds contains predicted values for the target variable.\n",
    "# combined = pd.concat([test[\"Target\"], preds], axis=1): This concatenates the actual target values and the predicted values along the horizontal axis (axis=1). This creates a DataFrame called combined where the first column contains the actual target values from the test DataFrame, and the second column contains the predicted values from the preds variable.\n",
    "# combined.plot(): This plots the data in the combined DataFrame. Since the DataFrame contains actual and predicted values for the target variable, the plot will visualize how well the predicted values match the actual values over time. Depending on the data and the nature of the problem, you might see trends, patterns, or discrepancies between the actual and predicted values on the plot.\n",
    "combined = pd.concat([test[\"Target\"], preds], axis=1)\n",
    "combined.plot()"
   ]
  },
  {
   "cell_type": "code",
   "execution_count": null,
   "id": "51304cd3-2035-4364-9699-214023820182",
   "metadata": {
    "tags": []
   },
   "outputs": [],
   "source": [
    "def predict(train, test, predictors, model):\n",
    "    model.fit(train[predictors], train[\"Target\"])\n",
    "    preds = model.predict(test[predictors])\n",
    "    preds = pd.Series(preds, index=test.index, name=\"Predictions\")\n",
    "    combined = pd.concat([test[\"Target\"], preds], axis=1)\n",
    "    return combined"
   ]
  },
  {
   "cell_type": "code",
   "execution_count": null,
   "id": "45d5d5e3-48d9-4669-98aa-98d3d4f1b598",
   "metadata": {
    "tags": []
   },
   "outputs": [],
   "source": [
    "def backtest(data, model, predictors, start=2500, step=250):\n",
    "    all_predictions = []\n",
    "\n",
    "    for i in range(start, data.shape[0], step):\n",
    "        train = data.iloc[0:i].copy()\n",
    "        test = data.iloc[i:(i+step)].copy()\n",
    "        predictions = predict(train, test, predictors, model)\n",
    "        all_predictions.append(predictions)\n",
    "    \n",
    "    return pd.concat(all_predictions)"
   ]
  },
  {
   "cell_type": "code",
   "execution_count": null,
   "id": "10d21630-c6f5-4e03-a7b5-aca303de70c6",
   "metadata": {
    "tags": []
   },
   "outputs": [],
   "source": [
    "predictions = backtest(sp500, model, predictors)"
   ]
  },
  {
   "cell_type": "code",
   "execution_count": null,
   "id": "6b479937-322b-4f7f-adc7-8afc9194964c",
   "metadata": {
    "tags": []
   },
   "outputs": [],
   "source": [
    "predictions[\"Predictions\"].value_counts()"
   ]
  },
  {
   "cell_type": "code",
   "execution_count": null,
   "id": "c066dbf8-2e55-4498-903d-730f438263ed",
   "metadata": {
    "tags": []
   },
   "outputs": [],
   "source": [
    "predictions[\"Target\"].value_counts() / predictions.shape[0]\n"
   ]
  },
  {
   "cell_type": "code",
   "execution_count": null,
   "id": "32d6feeb-c2f2-42c1-a661-30ebc7cf7d36",
   "metadata": {
    "tags": []
   },
   "outputs": [],
   "source": [
    "predictions"
   ]
  },
  {
   "cell_type": "code",
   "execution_count": null,
   "id": "8afd0d09-4c43-4474-a026-4ee69dcec460",
   "metadata": {
    "tags": []
   },
   "outputs": [],
   "source": [
    "predictions9=predictions"
   ]
  },
  {
   "cell_type": "code",
   "execution_count": null,
   "id": "3e4358b0-722b-4405-8cf6-c2fc23c27d68",
   "metadata": {
    "tags": []
   },
   "outputs": [],
   "source": [
    "predictions9.to_excel(\"predictions9.xlsx\", index=True)\n"
   ]
  },
  {
   "cell_type": "code",
   "execution_count": null,
   "id": "eac09aff-ed24-450c-87c3-4bb2ac87dcd4",
   "metadata": {},
   "outputs": [],
   "source": []
  },
  {
   "cell_type": "code",
   "execution_count": null,
   "id": "898203fc-a737-4212-9f85-c118fecf009f",
   "metadata": {
    "tags": []
   },
   "outputs": [],
   "source": [
    "\n",
    "\n",
    "# Define the parameter grid to search through\n",
    "param_grid = {\n",
    "    'n_estimators': [50, 100, 150],\n",
    "    'max_depth': [None, 5, 10],\n",
    "    'min_samples_split': [3, 6, 9],\n",
    "    'min_samples_leaf': [2, 4, 6]\n",
    "}\n",
    "\n",
    "model = RandomForestClassifier(random_state=1)\n",
    "\n",
    "# Perform random search with cross-validation\n",
    "random_search = RandomizedSearchCV(\n",
    "    model, param_distributions=param_grid, n_iter=10, scoring='accuracy', cv=5, random_state=1\n",
    ")\n",
    "\n",
    "train = sp500.iloc[:-100]\n",
    "test = sp500.iloc[-100:]\n",
    "\n",
    "predictors = [\"Close\", \"Volume\", \"Open\", \"High\", \"Low\", \"Adj Close\"]\n",
    "\n",
    "# Fit the random search to the training data\n",
    "random_search.fit(train[predictors], train[\"Target\"])\n",
    "\n",
    "# Get the best model\n",
    "best_model = random_search.best_estimator_\n",
    "\n",
    "# Make predictions on the test set using the best model\n",
    "test_predictions = best_model.predict(test[predictors])\n",
    "\n",
    "# Actual target values in the test set\n",
    "test_actual = test[\"Target\"]\n",
    "\n",
    "# Calculate metrics\n",
    "accuracy = accuracy_score(test_actual, test_predictions)\n",
    "precision = precision_score(test_actual, test_predictions)\n",
    "recall = recall_score(test_actual, test_predictions)\n",
    "f1 = f1_score(test_actual, test_predictions)\n",
    "\n",
    "print(\"Best Parameters:\", random_search.best_params_)\n",
    "print(\"Accuracy:\", accuracy)\n",
    "print(\"Precision:\", precision)\n",
    "print(\"Recall:\", recall)\n",
    "print(\"F1 Score:\", f1)\n",
    "\n",
    "# Learning curve\n",
    "train_sizes, train_scores, test_scores = learning_curve(\n",
    "    best_model, train[predictors], train[\"Target\"], cv=5, scoring='accuracy', \n",
    "    train_sizes=np.linspace(0.1, 1.0, 10)\n",
    ")\n",
    "\n",
    "# Calculate mean and standard deviation for training and validation scores\n",
    "train_scores_mean = np.mean(train_scores, axis=1)\n",
    "train_scores_std = np.std(train_scores, axis=1)\n",
    "test_scores_mean = np.mean(test_scores, axis=1)\n",
    "test_scores_std = np.std(test_scores, axis=1)\n",
    "\n",
    "# Plot learning curve\n",
    "plt.figure()\n",
    "plt.title(\"Learning Curve\")\n",
    "plt.xlabel(\"Training Examples\")\n",
    "plt.ylabel(\"Score\")\n",
    "plt.grid()\n",
    "\n",
    "plt.fill_between(\n",
    "    train_sizes, train_scores_mean - train_scores_std,\n",
    "    train_scores_mean + train_scores_std, alpha=0.1, color=\"r\"\n",
    ")\n",
    "plt.fill_between(\n",
    "    train_sizes, test_scores_mean - test_scores_std,\n",
    "    test_scores_mean + test_scores_std, alpha=0.1, color=\"g\"\n",
    ")\n",
    "\n",
    "plt.plot(train_sizes, train_scores_mean, 'o-', color=\"r\", label=\"Training score\")\n",
    "plt.plot(train_sizes, test_scores_mean, 'o-', color=\"g\", label=\"Cross-validation score\")\n",
    "\n",
    "plt.legend(loc=\"best\")\n",
    "plt.show()\n"
   ]
  },
  {
   "cell_type": "code",
   "execution_count": null,
   "id": "2eaeb2eb-f870-4dc4-9a1d-49f623ada8f6",
   "metadata": {
    "tags": []
   },
   "outputs": [],
   "source": [
    "# test[\"Target\"]: This extracts the \"Target\" column from the DataFrame test, assuming that \"Target\" is a column in the DataFrame that contains the actual target values.\n",
    "# preds: This refers to a variable containing predicted values. Assuming that preds contains predicted values for the target variable.\n",
    "# combined = pd.concat([test[\"Target\"], preds], axis=1): This concatenates the actual target values and the predicted values along the horizontal axis (axis=1). This creates a DataFrame called combined where the first column contains the actual target values from the test DataFrame, and the second column contains the predicted values from the preds variable.\n",
    "# combined.plot(): This plots the data in the combined DataFrame. Since the DataFrame contains actual and predicted values for the target variable, the plot will visualize how well the predicted values match the actual values over time. Depending on the data and the nature of the problem, you might see trends, patterns, or discrepancies between the actual and predicted values on the plot.\n",
    "combined = pd.concat([test[\"Target\"], preds], axis=1)\n",
    "combined.plot()"
   ]
  },
  {
   "cell_type": "code",
   "execution_count": null,
   "id": "f3e8588f-3cc6-4a99-8d4d-f6d60d14e10c",
   "metadata": {
    "tags": []
   },
   "outputs": [],
   "source": [
    "def predict(train, test, predictors, model):\n",
    "    model.fit(train[predictors], train[\"Target\"])\n",
    "    preds = model.predict(test[predictors])\n",
    "    preds = pd.Series(preds, index=test.index, name=\"Predictions\")\n",
    "    combined = pd.concat([test[\"Target\"], preds], axis=1)\n",
    "    return combined"
   ]
  },
  {
   "cell_type": "code",
   "execution_count": null,
   "id": "eed03a24-c823-4af9-9ec6-0db103505762",
   "metadata": {
    "tags": []
   },
   "outputs": [],
   "source": [
    "def backtest(data, model, predictors, start=2500, step=250):\n",
    "    all_predictions = []\n",
    "\n",
    "    for i in range(start, data.shape[0], step):\n",
    "        train = data.iloc[0:i].copy()\n",
    "        test = data.iloc[i:(i+step)].copy()\n",
    "        predictions = predict(train, test, predictors, model)\n",
    "        all_predictions.append(predictions)\n",
    "    \n",
    "    return pd.concat(all_predictions)"
   ]
  },
  {
   "cell_type": "code",
   "execution_count": null,
   "id": "902d8ab3-f2d4-4a16-831d-b249ef2baed4",
   "metadata": {
    "tags": []
   },
   "outputs": [],
   "source": [
    "predictions = backtest(sp500, model, predictors)"
   ]
  },
  {
   "cell_type": "code",
   "execution_count": null,
   "id": "564c3915-4c9c-4c91-9553-eff780421aea",
   "metadata": {
    "tags": []
   },
   "outputs": [],
   "source": [
    "predictions[\"Predictions\"].value_counts()"
   ]
  },
  {
   "cell_type": "code",
   "execution_count": null,
   "id": "d44b4e02-c91c-4422-884f-c2e6fe950b20",
   "metadata": {
    "tags": []
   },
   "outputs": [],
   "source": [
    "predictions[\"Target\"].value_counts() / predictions.shape[0]\n"
   ]
  },
  {
   "cell_type": "code",
   "execution_count": null,
   "id": "193d6fbf-a12e-4a4d-aac9-c433444cfaae",
   "metadata": {
    "tags": []
   },
   "outputs": [],
   "source": [
    "predictions"
   ]
  },
  {
   "cell_type": "code",
   "execution_count": null,
   "id": "874f1e28-2dce-471b-bd79-7302bc335b80",
   "metadata": {
    "tags": []
   },
   "outputs": [],
   "source": [
    "predictions10=predictions"
   ]
  },
  {
   "cell_type": "code",
   "execution_count": null,
   "id": "19736f53-5473-47b9-bb3d-082ce27325dc",
   "metadata": {
    "tags": []
   },
   "outputs": [],
   "source": [
    "predictions10.to_excel(\"predictions10.xlsx\", index=True)\n"
   ]
  },
  {
   "cell_type": "code",
   "execution_count": null,
   "id": "c5b9e0b1-dca6-4296-ac6d-6fae5d18b76f",
   "metadata": {},
   "outputs": [],
   "source": []
  },
  {
   "cell_type": "code",
   "execution_count": null,
   "id": "d9da3948-17be-44bd-8fa0-17cf48dd0426",
   "metadata": {
    "tags": []
   },
   "outputs": [],
   "source": [
    "\n",
    "\n",
    "# Define the parameter grid to search through\n",
    "param_grid = {\n",
    "    'n_estimators': [50, 100, 150],\n",
    "    'max_depth': [None, 6, 12],\n",
    "    'min_samples_split': [3, 6, 9],\n",
    "    'min_samples_leaf': [2, 4, 6]\n",
    "}\n",
    "\n",
    "model = RandomForestClassifier(random_state=1)\n",
    "\n",
    "# Perform random search with cross-validation\n",
    "random_search = RandomizedSearchCV(\n",
    "    model, param_distributions=param_grid, n_iter=10, scoring='accuracy', cv=5, random_state=1\n",
    ")\n",
    "\n",
    "train = sp500.iloc[:-2000]\n",
    "test = sp500.iloc[-2000:]\n",
    "\n",
    "predictors = [\"Close\", \"Volume\", \"Open\", \"High\", \"Low\", \"Adj Close\"]\n",
    "\n",
    "# Fit the random search to the training data\n",
    "random_search.fit(train[predictors], train[\"Target\"])\n",
    "\n",
    "# Get the best model\n",
    "best_model = random_search.best_estimator_\n",
    "best_accuracy=random_search.best_score_\n",
    "\n",
    "# Make predictions on the test set using the best model\n",
    "test_predictions = best_model.predict(test[predictors])\n",
    "\n",
    "# Actual target values in the test set\n",
    "test_actual = test[\"Target\"]\n",
    "\n",
    "# Calculate metrics\n",
    "accuracy = accuracy_score(test_actual, test_predictions)\n",
    "precision = precision_score(test_actual, test_predictions)\n",
    "recall = recall_score(test_actual, test_predictions)\n",
    "f1 = f1_score(test_actual, test_predictions)\n",
    "\n",
    "print(\"Best Parameters:\", random_search.best_params_)\n",
    "print(\"best_accuracy:\", random_search.best_score_)\n",
    "print(\"Accuracy:\", accuracy)\n",
    "print(\"Precision:\", precision)\n",
    "print(\"Recall:\", recall)\n",
    "print(\"F1 Score:\", f1)\n",
    "\n",
    "# Learning curve\n",
    "train_sizes, train_scores, test_scores = learning_curve(\n",
    "    best_model, train[predictors], train[\"Target\"], cv=5, scoring='accuracy', \n",
    "    train_sizes=np.linspace(0.1, 1.0, 10)\n",
    ")\n",
    "\n",
    "# Calculate mean and standard deviation for training and validation scores\n",
    "train_scores_mean = np.mean(train_scores, axis=1)\n",
    "train_scores_std = np.std(train_scores, axis=1)\n",
    "test_scores_mean = np.mean(test_scores, axis=1)\n",
    "test_scores_std = np.std(test_scores, axis=1)\n",
    "\n",
    "# Plot learning curve\n",
    "plt.figure()\n",
    "plt.title(\"Learning Curve\")\n",
    "plt.xlabel(\"Training Examples\")\n",
    "plt.ylabel(\"Score\")\n",
    "plt.grid()\n",
    "\n",
    "plt.fill_between(\n",
    "    train_sizes, train_scores_mean - train_scores_std,\n",
    "    train_scores_mean + train_scores_std, alpha=0.1, color=\"r\"\n",
    ")\n",
    "plt.fill_between(\n",
    "    train_sizes, test_scores_mean - test_scores_std,\n",
    "    test_scores_mean + test_scores_std, alpha=0.1, color=\"g\"\n",
    ")\n",
    "\n",
    "plt.plot(train_sizes, train_scores_mean, 'o-', color=\"r\", label=\"Training score\")\n",
    "plt.plot(train_sizes, test_scores_mean, 'o-', color=\"g\", label=\"Cross-validation score\")\n",
    "\n",
    "plt.legend(loc=\"best\")\n",
    "plt.show()\n"
   ]
  },
  {
   "cell_type": "code",
   "execution_count": null,
   "id": "d2d16b59-00a1-4f0b-a41e-6cb5c43b4b5f",
   "metadata": {
    "tags": []
   },
   "outputs": [],
   "source": [
    "# Define the parameter grid to search through\n",
    "param_grid = {\n",
    "    'n_estimators': [150, 200, 250],\n",
    "    'max_depth': [None, 8, 10],\n",
    "    'min_samples_split': [2, 4, 6],\n",
    "    'min_samples_leaf': [1, 3, 5]\n",
    "}\n",
    "\n",
    "model = RandomForestClassifier(random_state=1)\n",
    "\n",
    "# Perform random search with cross-validation\n",
    "random_search = RandomizedSearchCV(\n",
    "    model, param_distributions=param_grid, n_iter=10, scoring='accuracy', cv=5, random_state=1\n",
    ")\n",
    "\n",
    "train = sp500.iloc[:-100]\n",
    "test = sp500.iloc[-100:]\n",
    "\n",
    "predictors = [\"Close\", \"Volume\", \"Open\", \"High\", \"Low\", \"Adj Close\"]\n",
    "\n",
    "# Fit the random search to the training data\n",
    "random_search.fit(train[predictors], train[\"Target\"])\n",
    "\n",
    "# Get the best model\n",
    "best_model = random_search.best_estimator_\n",
    "\n",
    "# Make predictions on the test set using the best model\n",
    "test_predictions = best_model.predict(test[predictors])\n",
    "\n",
    "# Actual target values in the test set\n",
    "test_actual = test[\"Target\"]\n",
    "\n",
    "# Calculate metrics\n",
    "accuracy = accuracy_score(test_actual, test_predictions)\n",
    "precision = precision_score(test_actual, test_predictions)\n",
    "recall = recall_score(test_actual, test_predictions)\n",
    "f1 = f1_score(test_actual, test_predictions)\n",
    "\n",
    "print(\"Best Parameters:\", random_search.best_params_)\n",
    "print(\"Accuracy:\", accuracy)\n",
    "print(\"Precision:\", precision)\n",
    "print(\"Recall:\", recall)\n",
    "print(\"F1 Score:\", f1)\n",
    "\n",
    "# Learning curve\n",
    "train_sizes, train_scores, test_scores = learning_curve(\n",
    "    best_model, train[predictors], train[\"Target\"], cv=5, scoring='accuracy', \n",
    "    train_sizes=np.linspace(0.1, 1.0, 10)\n",
    ")\n",
    "\n",
    "# Calculate mean and standard deviation for training and validation scores\n",
    "train_scores_mean = np.mean(train_scores, axis=1)\n",
    "train_scores_std = np.std(train_scores, axis=1)\n",
    "test_scores_mean = np.mean(test_scores, axis=1)\n",
    "test_scores_std = np.std(test_scores, axis=1)\n",
    "\n",
    "# Plot learning curve\n",
    "plt.figure()\n",
    "plt.title(\"Learning Curve\")\n",
    "plt.xlabel(\"Training Examples\")\n",
    "plt.ylabel(\"Score\")\n",
    "plt.grid()\n",
    "\n",
    "plt.fill_between(\n",
    "    train_sizes, train_scores_mean - train_scores_std,\n",
    "    train_scores_mean + train_scores_std, alpha=0.1, color=\"r\"\n",
    ")\n",
    "plt.fill_between(\n",
    "    train_sizes, test_scores_mean - test_scores_std,\n",
    "    test_scores_mean + test_scores_std, alpha=0.1, color=\"g\"\n",
    ")\n",
    "\n",
    "plt.plot(train_sizes, train_scores_mean, 'o-', color=\"r\", label=\"Training score\")\n",
    "plt.plot(train_sizes, test_scores_mean, 'o-', color=\"g\", label=\"Cross-validation score\")\n",
    "\n",
    "plt.legend(loc=\"best\")\n",
    "plt.show()\n"
   ]
  },
  {
   "cell_type": "code",
   "execution_count": null,
   "id": "55df4a75-8097-4b3e-999f-e91aa597ed1b",
   "metadata": {},
   "outputs": [],
   "source": [
    "# test[\"Target\"]: This extracts the \"Target\" column from the DataFrame test, assuming that \"Target\" is a column in the DataFrame that contains the actual target values.\n",
    "# preds: This refers to a variable containing predicted values. Assuming that preds contains predicted values for the target variable.\n",
    "# combined = pd.concat([test[\"Target\"], preds], axis=1): This concatenates the actual target values and the predicted values along the horizontal axis (axis=1). This creates a DataFrame called combined where the first column contains the actual target values from the test DataFrame, and the second column contains the predicted values from the preds variable.\n",
    "# combined.plot(): This plots the data in the combined DataFrame. Since the DataFrame contains actual and predicted values for the target variable, the plot will visualize how well the predicted values match the actual values over time. Depending on the data and the nature of the problem, you might see trends, patterns, or discrepancies between the actual and predicted values on the plot.\n",
    "combined = pd.concat([test[\"Target\"], preds], axis=1)\n",
    "combined.plot()"
   ]
  },
  {
   "cell_type": "code",
   "execution_count": null,
   "id": "dfd03a9a-4092-4e74-b9ac-8ec3ce88efd0",
   "metadata": {},
   "outputs": [],
   "source": [
    "def predict(train, test, predictors, model):\n",
    "    model.fit(train[predictors], train[\"Target\"])\n",
    "    preds = model.predict(test[predictors])\n",
    "    preds = pd.Series(preds, index=test.index, name=\"Predictions\")\n",
    "    combined = pd.concat([test[\"Target\"], preds], axis=1)\n",
    "    return combined"
   ]
  },
  {
   "cell_type": "code",
   "execution_count": null,
   "id": "c6486678-0495-436e-b0fc-3b8bdf81ef6e",
   "metadata": {},
   "outputs": [],
   "source": [
    "def backtest(data, model, predictors, start=2500, step=250):\n",
    "    all_predictions = []\n",
    "\n",
    "    for i in range(start, data.shape[0], step):\n",
    "        train = data.iloc[0:i].copy()\n",
    "        test = data.iloc[i:(i+step)].copy()\n",
    "        predictions = predict(train, test, predictors, model)\n",
    "        all_predictions.append(predictions)\n",
    "    \n",
    "    return pd.concat(all_predictions)"
   ]
  },
  {
   "cell_type": "code",
   "execution_count": null,
   "id": "b76cd850-2b87-4dc4-9106-d8163100b820",
   "metadata": {},
   "outputs": [],
   "source": [
    "predictions = backtest(sp500, model, predictors)"
   ]
  },
  {
   "cell_type": "code",
   "execution_count": null,
   "id": "5e558a80-8770-477b-8b21-5e5fc9f5d31c",
   "metadata": {},
   "outputs": [],
   "source": [
    "predictions[\"Predictions\"].value_counts()"
   ]
  },
  {
   "cell_type": "code",
   "execution_count": null,
   "id": "fffe41d9-315c-4045-884f-02040bdb22bc",
   "metadata": {},
   "outputs": [],
   "source": [
    "predictions[\"Target\"].value_counts() / predictions.shape[0]\n"
   ]
  },
  {
   "cell_type": "code",
   "execution_count": null,
   "id": "a58a9325-a874-4307-8198-2aecae6e42ca",
   "metadata": {},
   "outputs": [],
   "source": [
    "predictions"
   ]
  },
  {
   "cell_type": "code",
   "execution_count": null,
   "id": "f482cdd0-6b38-4a90-8736-257dc2df9d71",
   "metadata": {},
   "outputs": [],
   "source": [
    "predictions6=predictions"
   ]
  },
  {
   "cell_type": "code",
   "execution_count": null,
   "id": "6ef0a45b-e932-4793-8104-ab7923a19193",
   "metadata": {},
   "outputs": [],
   "source": [
    "predictions6.to_excel(\"predictions5.xlsx\", index=True)\n"
   ]
  },
  {
   "cell_type": "code",
   "execution_count": null,
   "id": "a7cd194c-35e6-4513-b937-fb717dfe375e",
   "metadata": {
    "tags": []
   },
   "outputs": [],
   "source": [
    "# # Define the parameter grid to search through\n",
    "# param_grid = {\n",
    "#     'n_estimators': [100, 150, 200],\n",
    "#     'max_depth': [None, 6, 8],\n",
    "#     'min_samples_split': [3, 6, 9],\n",
    "#     'min_samples_leaf': [1, 2, 3]\n",
    "# }\n",
    "\n",
    "# model = RandomForestClassifier(random_state=1)\n",
    "\n",
    "# # Perform random search with cross-validation\n",
    "# random_search = RandomizedSearchCV(\n",
    "#     model, param_distributions=param_grid, n_iter=10, scoring='accuracy', cv=5, random_state=1\n",
    "# )\n",
    "\n",
    "# train = sp500.iloc[:-100]\n",
    "# test = sp500.iloc[-100:]\n",
    "\n",
    "# predictors = [\"Close\", \"Volume\", \"Open\", \"High\", \"Low\", \"Adj Close\"]\n",
    "\n",
    "# # Fit the random search to the training data\n",
    "# random_search.fit(train[predictors], train[\"Target\"])\n",
    "\n",
    "# # Get the best model\n",
    "# best_model = random_search.best_estimator_\n",
    "\n",
    "# # Make predictions on the test set using the best model\n",
    "# test_predictions = best_model.predict(test[predictors])\n",
    "\n",
    "# # Actual target values in the test set\n",
    "# test_actual = test[\"Target\"]\n",
    "\n",
    "# # Calculate metrics\n",
    "# accuracy = accuracy_score(test_actual, test_predictions)\n",
    "# precision = precision_score(test_actual, test_predictions)\n",
    "# recall = recall_score(test_actual, test_predictions)\n",
    "# f1 = f1_score(test_actual, test_predictions)\n",
    "\n",
    "# print(\"Best Parameters:\", random_search.best_params_)\n",
    "# print(\"Accuracy:\", accuracy)\n",
    "# print(\"Precision:\", precision)\n",
    "# print(\"Recall:\", recall)\n",
    "# print(\"F1 Score:\", f1)\n",
    "\n",
    "# # Learning curve\n",
    "# train_sizes, train_scores, test_scores = learning_curve(\n",
    "#     best_model, train[predictors], train[\"Target\"], cv=5, scoring='accuracy', \n",
    "#     train_sizes=np.linspace(0.1, 1.0, 10)\n",
    "# )\n",
    "\n",
    "# # Calculate mean and standard deviation for training and validation scores\n",
    "# train_scores_mean = np.mean(train_scores, axis=1)\n",
    "# train_scores_std = np.std(train_scores, axis=1)\n",
    "# test_scores_mean = np.mean(test_scores, axis=1)\n",
    "# test_scores_std = np.std(test_scores, axis=1)\n",
    "\n",
    "# # Plot learning curve\n",
    "# plt.figure()\n",
    "# plt.title(\"Learning Curve\")\n",
    "# plt.xlabel(\"Training Examples\")\n",
    "# plt.ylabel(\"Score\")\n",
    "# plt.grid()\n",
    "\n",
    "# plt.fill_between(\n",
    "#     train_sizes, train_scores_mean - train_scores_std,\n",
    "#     train_scores_mean + train_scores_std, alpha=0.1, color=\"r\"\n",
    "# )\n",
    "# plt.fill_between(\n",
    "#     train_sizes, test_scores_mean - test_scores_std,\n",
    "#     test_scores_mean + test_scores_std, alpha=0.1, color=\"g\"\n",
    "# )\n",
    "\n",
    "# plt.plot(train_sizes, train_scores_mean, 'o-', color=\"r\", label=\"Training score\")\n",
    "# plt.plot(train_sizes, test_scores_mean, 'o-', color=\"g\", label=\"Cross-validation score\")\n",
    "\n",
    "# plt.legend(loc=\"best\")\n",
    "# plt.show()\n"
   ]
  },
  {
   "cell_type": "code",
   "execution_count": null,
   "id": "fa58891f-8cac-443e-9f93-3b063db3ffc8",
   "metadata": {},
   "outputs": [],
   "source": []
  },
  {
   "cell_type": "raw",
   "id": "a9839ca5-1ab3-4ba7-ae44-0a8100000017",
   "metadata": {},
   "source": [
    "**N/B:;Overfitting is likely to occur when dealing with models to predict trends on financial data like stock data due to the follwing reasons:\n",
    "***Complexity of Financial Data: Stock market data is inherently noisy and influenced by a multitude of factors, many of which might be unpredictable. This complexity can lead to models fitting the noise in the training data rather than capturing true underlying patterns.\n",
    "**Limited Historical Data: The availability of historical stock market data might be limited, especially for developing accurate predictive models. With a small dataset, models can more easily memorize the data and perform poorly on unseen data.\n",
    "\n",
    "***Feature Engineering: Building relevant features for stock price prediction is challenging. Incorrectly chosen features or too many features can lead to overfitting.\n",
    "**Hyperparameter Tuning: Machine learning models have hyperparameters that need to be set properly. If hyperparameters are not tuned correctly, the model might become overly complex and overfit.\n",
    "***Lack of True Patterns: Stock prices can be influenced by random and unpredictable events, making it difficult for models to capture consistent patterns.\n",
    "***Market Behavior Changes: Market behavior can change over time due to economic shifts, policy changes, technological advancements, etc. A model trained on one period might not perform well on another due to these changes."
   ]
  },
  {
   "cell_type": "code",
   "execution_count": null,
   "id": "5781fdba-714e-494d-94e6-1b97d22326fc",
   "metadata": {},
   "outputs": [],
   "source": []
  },
  {
   "cell_type": "code",
   "execution_count": null,
   "id": "4b8e6dff-b982-43f3-9652-0acaae4b7c1b",
   "metadata": {},
   "outputs": [],
   "source": []
  },
  {
   "cell_type": "code",
   "execution_count": null,
   "id": "fc9e119e-de0f-45d6-8164-57e3ba1a089b",
   "metadata": {},
   "outputs": [],
   "source": []
  },
  {
   "cell_type": "code",
   "execution_count": null,
   "id": "ba0fda59-149c-47d4-90b0-666939d2fb5f",
   "metadata": {},
   "outputs": [],
   "source": []
  }
 ],
 "metadata": {
  "kernelspec": {
   "display_name": "Python 3 (ipykernel)",
   "language": "python",
   "name": "python3"
  },
  "language_info": {
   "codemirror_mode": {
    "name": "ipython",
    "version": 3
   },
   "file_extension": ".py",
   "mimetype": "text/x-python",
   "name": "python",
   "nbconvert_exporter": "python",
   "pygments_lexer": "ipython3",
   "version": "3.10.9"
  }
 },
 "nbformat": 4,
 "nbformat_minor": 5
}

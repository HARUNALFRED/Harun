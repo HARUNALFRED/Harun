{
  "cells": [
    {
      "cell_type": "code",
      "execution_count": null,
      "id": "e7bb886d-f980-48f5-b778-00001a68872f",
      "metadata": {
        "tags": [],
        "id": "e7bb886d-f980-48f5-b778-00001a68872f"
      },
      "outputs": [],
      "source": [
        "# Load in our libraries\n",
        "import pandas as pd\n",
        "import numpy as np\n",
        "import re\n",
        "import sklearn\n",
        "import seaborn as sns\n",
        "import matplotlib.pyplot as plt\n",
        "%matplotlib inline\n",
        "\n",
        "import warnings\n",
        "warnings.filterwarnings('ignore')\n",
        "\n",
        "from collections import Counter\n",
        "\n",
        "from sklearn.ensemble import RandomForestClassifier, VotingClassifier\n",
        "from sklearn.neighbors import KNeighborsClassifier\n",
        "from sklearn.svm import SVC\n",
        "from sklearn.model_selection import GridSearchCV, cross_val_score, StratifiedKFold, learning_curve\n",
        "from sklearn.feature_selection import SelectFromModel, SelectKBest\n",
        "from sklearn.model_selection import StratifiedKFold\n",
        "from sklearn.model_selection import GridSearchCV\n",
        "from sklearn.ensemble import GradientBoostingClassifier\n",
        "from datetime import datetime\n",
        "\n",
        "sns.set(style='dark', context='notebook', palette='deep')\n",
        "pd.options.display.max_columns = 100\n"
      ]
    },
    {
      "cell_type": "code",
      "execution_count": null,
      "id": "44c2ed9b-d491-4375-beb2-7b062e6db2e7",
      "metadata": {
        "tags": [],
        "id": "44c2ed9b-d491-4375-beb2-7b062e6db2e7"
      },
      "outputs": [],
      "source": [
        "import pandas as pd\n",
        "\n",
        "# Step 1: Read the Excel file into a DataFrame\n",
        "training_csv = 'Copy_of_Days_in_Default.xlsx'\n",
        "df = pd.read_excel(training_csv)\n",
        "#Step 2: Read the Csv file into a Dataframe\n",
        "training_csv2 = 'Onfon.csv'\n",
        "df1 = pd.read_csv(training_csv2)\n"
      ]
    },
    {
      "cell_type": "code",
      "execution_count": null,
      "id": "473fb74e-11c8-4c69-86ca-22e962f3175f",
      "metadata": {
        "tags": [],
        "id": "473fb74e-11c8-4c69-86ca-22e962f3175f"
      },
      "outputs": [],
      "source": [
        "# df"
      ]
    },
    {
      "cell_type": "code",
      "execution_count": null,
      "id": "3cb4659c-88be-4aa4-b1d0-f461bdf1e099",
      "metadata": {
        "tags": [],
        "id": "3cb4659c-88be-4aa4-b1d0-f461bdf1e099"
      },
      "outputs": [],
      "source": [
        "# Convert the 'Msisdn' column to strings\n",
        "df['Msisdn'] = df['Msisdn'].astype(str)\n",
        "\n",
        "# Replace '254' with '0' and store it as a string\n",
        "df['Msisdn'] = df['Msisdn'].str.replace('^254', '0')"
      ]
    },
    {
      "cell_type": "code",
      "execution_count": null,
      "id": "035b2c36-7e4b-4879-a418-17954794a974",
      "metadata": {
        "tags": [],
        "id": "035b2c36-7e4b-4879-a418-17954794a974"
      },
      "outputs": [],
      "source": [
        "# df"
      ]
    },
    {
      "cell_type": "code",
      "execution_count": null,
      "id": "bba338b3-3f40-4bd7-a828-5ee54dd15d68",
      "metadata": {
        "tags": [],
        "id": "bba338b3-3f40-4bd7-a828-5ee54dd15d68",
        "outputId": "c7aae022-b443-427e-85cf-c81e9eca73ae"
      },
      "outputs": [
        {
          "data": {
            "text/plain": [
              "(54194, 2)"
            ]
          },
          "execution_count": 6,
          "metadata": {},
          "output_type": "execute_result"
        }
      ],
      "source": [
        "df.shape"
      ]
    },
    {
      "cell_type": "code",
      "execution_count": null,
      "id": "1eff33ea-bce4-4310-a10a-f4537eab1d95",
      "metadata": {
        "tags": [],
        "id": "1eff33ea-bce4-4310-a10a-f4537eab1d95"
      },
      "outputs": [],
      "source": [
        "# df.info()"
      ]
    },
    {
      "cell_type": "code",
      "execution_count": null,
      "id": "f041be9a-9662-4579-8b01-1c11bae32bfa",
      "metadata": {
        "tags": [],
        "id": "f041be9a-9662-4579-8b01-1c11bae32bfa"
      },
      "outputs": [],
      "source": [
        "# Convert the 'Msisdn' column in df to a string data type\n",
        "df['Msisdn'] = df['Msisdn'].astype(str)\n"
      ]
    },
    {
      "cell_type": "code",
      "execution_count": null,
      "id": "cc5214e6-cd6a-43d5-9ecf-c9dc283c1ad0",
      "metadata": {
        "tags": [],
        "id": "cc5214e6-cd6a-43d5-9ecf-c9dc283c1ad0"
      },
      "outputs": [],
      "source": [
        "# df.info()"
      ]
    },
    {
      "cell_type": "code",
      "execution_count": null,
      "id": "3acb596f-6e56-4773-a119-7c4aff08ea42",
      "metadata": {
        "tags": [],
        "id": "3acb596f-6e56-4773-a119-7c4aff08ea42"
      },
      "outputs": [],
      "source": [
        "df1['MSISDN'] = df1['MSISDN'].astype(str).apply(lambda x: x.zfill(10))\n"
      ]
    },
    {
      "cell_type": "code",
      "execution_count": null,
      "id": "55b1d427-91f6-45f8-8d32-e6bf4d99627a",
      "metadata": {
        "tags": [],
        "id": "55b1d427-91f6-45f8-8d32-e6bf4d99627a",
        "outputId": "60fae596-3c6a-4d69-882c-d6970a443209"
      },
      "outputs": [
        {
          "data": {
            "text/html": [
              "<div>\n",
              "<style scoped>\n",
              "    .dataframe tbody tr th:only-of-type {\n",
              "        vertical-align: middle;\n",
              "    }\n",
              "\n",
              "    .dataframe tbody tr th {\n",
              "        vertical-align: top;\n",
              "    }\n",
              "\n",
              "    .dataframe thead th {\n",
              "        text-align: right;\n",
              "    }\n",
              "</style>\n",
              "<table border=\"1\" class=\"dataframe\">\n",
              "  <thead>\n",
              "    <tr style=\"text-align: right;\">\n",
              "      <th></th>\n",
              "      <th>MSISDN</th>\n",
              "      <th>DateOfBirth</th>\n",
              "      <th>Gender</th>\n",
              "      <th>DATA_EXTRACTION_DATE</th>\n",
              "      <th>PAYMENT_TYPE</th>\n",
              "      <th>RECHARGE_MODE</th>\n",
              "      <th>SUBSCRIPTION_PERIOD</th>\n",
              "      <th>TRANSACTION_PERIOD</th>\n",
              "      <th>COUNT_OF_BLOCKS</th>\n",
              "      <th>TRANSACTION_RECIEVERS</th>\n",
              "      <th>LIMIT</th>\n",
              "      <th>TOPUP_CONSUMPTION</th>\n",
              "      <th>TOPUP_CONSUMPTION_6</th>\n",
              "      <th>ACTIVE_STATUS</th>\n",
              "      <th>TRANSACTIONS_RECIEVED</th>\n",
              "      <th>ACCOUNT_DEBIT</th>\n",
              "      <th>ACCOUNT_CREDIT</th>\n",
              "      <th>PAYMENT_TRXN</th>\n",
              "      <th>NUMBER_OF_PAYMENT_TRXN</th>\n",
              "      <th>VALUE_SENT</th>\n",
              "      <th>HIGHEST_VALUE</th>\n",
              "      <th>VALUE_RECIEVED</th>\n",
              "      <th>TRXN_COUNT</th>\n",
              "      <th>TOTAL_RECIEPTS_VALUE</th>\n",
              "      <th>PAYMENT_VALUE_2</th>\n",
              "      <th>PAYMENT_COUNT_2</th>\n",
              "      <th>BANK_TRANS</th>\n",
              "      <th>OTHER_RECEIPTS</th>\n",
              "      <th>TOTAL_BANK_TRANS</th>\n",
              "      <th>TOTAL_PAYMENTS</th>\n",
              "      <th>TOTAL_MONEY_IN_3</th>\n",
              "      <th>TOTAL_MONEY_OUT_3</th>\n",
              "      <th>CURR_POINTS</th>\n",
              "      <th>RDM_POINTS_6</th>\n",
              "      <th>LOAN_COUNT</th>\n",
              "      <th>LOAN_BLACKLIST</th>\n",
              "      <th>COUNT_OF_OVERDUE_LOANS</th>\n",
              "      <th>LOAN_BLACKLIST_DAYS</th>\n",
              "      <th>CURR_DEVICE_MAKE</th>\n",
              "      <th>CURR_DEVICE_RRP</th>\n",
              "    </tr>\n",
              "  </thead>\n",
              "  <tbody>\n",
              "    <tr>\n",
              "      <th>0</th>\n",
              "      <td>0729033822</td>\n",
              "      <td>12/31/1963</td>\n",
              "      <td>M</td>\n",
              "      <td>8/25/2023</td>\n",
              "      <td>Pre Paid</td>\n",
              "      <td>Voucher recharge through USSD from self phone</td>\n",
              "      <td>10</td>\n",
              "      <td>10</td>\n",
              "      <td>0</td>\n",
              "      <td>1</td>\n",
              "      <td>0</td>\n",
              "      <td>4</td>\n",
              "      <td>5</td>\n",
              "      <td>0</td>\n",
              "      <td>7</td>\n",
              "      <td>1</td>\n",
              "      <td>7</td>\n",
              "      <td>0</td>\n",
              "      <td>0</td>\n",
              "      <td>3</td>\n",
              "      <td>4</td>\n",
              "      <td>7</td>\n",
              "      <td>5</td>\n",
              "      <td>NaN</td>\n",
              "      <td>0</td>\n",
              "      <td>0</td>\n",
              "      <td>0</td>\n",
              "      <td>0</td>\n",
              "      <td>1</td>\n",
              "      <td>6</td>\n",
              "      <td>1</td>\n",
              "      <td>3</td>\n",
              "      <td>3</td>\n",
              "      <td>3</td>\n",
              "      <td>6</td>\n",
              "      <td>1</td>\n",
              "      <td>4</td>\n",
              "      <td>4</td>\n",
              "      <td>0</td>\n",
              "      <td>0</td>\n",
              "    </tr>\n",
              "    <tr>\n",
              "      <th>1</th>\n",
              "      <td>0710919310</td>\n",
              "      <td>7/5/1991</td>\n",
              "      <td>M</td>\n",
              "      <td>8/25/2023</td>\n",
              "      <td>Pre Paid</td>\n",
              "      <td>MOBILE MONEY</td>\n",
              "      <td>6</td>\n",
              "      <td>7</td>\n",
              "      <td>0</td>\n",
              "      <td>8</td>\n",
              "      <td>0</td>\n",
              "      <td>7</td>\n",
              "      <td>9</td>\n",
              "      <td>0</td>\n",
              "      <td>10</td>\n",
              "      <td>10</td>\n",
              "      <td>10</td>\n",
              "      <td>8</td>\n",
              "      <td>7</td>\n",
              "      <td>9</td>\n",
              "      <td>8</td>\n",
              "      <td>9</td>\n",
              "      <td>8</td>\n",
              "      <td>NaN</td>\n",
              "      <td>7</td>\n",
              "      <td>1</td>\n",
              "      <td>6</td>\n",
              "      <td>0</td>\n",
              "      <td>10</td>\n",
              "      <td>10</td>\n",
              "      <td>8</td>\n",
              "      <td>8</td>\n",
              "      <td>8</td>\n",
              "      <td>0</td>\n",
              "      <td>1</td>\n",
              "      <td>0</td>\n",
              "      <td>0</td>\n",
              "      <td>0</td>\n",
              "      <td>0</td>\n",
              "      <td>0</td>\n",
              "    </tr>\n",
              "    <tr>\n",
              "      <th>2</th>\n",
              "      <td>0759977784</td>\n",
              "      <td>8/6/2003</td>\n",
              "      <td>M</td>\n",
              "      <td>8/25/2023</td>\n",
              "      <td>Pre Paid</td>\n",
              "      <td>Voucher recharge through USSD from self phone</td>\n",
              "      <td>3</td>\n",
              "      <td>4</td>\n",
              "      <td>0</td>\n",
              "      <td>1</td>\n",
              "      <td>0</td>\n",
              "      <td>3</td>\n",
              "      <td>2</td>\n",
              "      <td>0</td>\n",
              "      <td>2</td>\n",
              "      <td>0</td>\n",
              "      <td>2</td>\n",
              "      <td>0</td>\n",
              "      <td>0</td>\n",
              "      <td>1</td>\n",
              "      <td>1</td>\n",
              "      <td>2</td>\n",
              "      <td>3</td>\n",
              "      <td>NaN</td>\n",
              "      <td>0</td>\n",
              "      <td>0</td>\n",
              "      <td>0</td>\n",
              "      <td>0</td>\n",
              "      <td>0</td>\n",
              "      <td>2</td>\n",
              "      <td>0</td>\n",
              "      <td>2</td>\n",
              "      <td>0</td>\n",
              "      <td>0</td>\n",
              "      <td>0</td>\n",
              "      <td>1</td>\n",
              "      <td>0</td>\n",
              "      <td>0</td>\n",
              "      <td>0</td>\n",
              "      <td>0</td>\n",
              "    </tr>\n",
              "    <tr>\n",
              "      <th>3</th>\n",
              "      <td>0701491826</td>\n",
              "      <td>3/10/2000</td>\n",
              "      <td>M</td>\n",
              "      <td>6/9/2023</td>\n",
              "      <td>Pre Paid</td>\n",
              "      <td>Voucher recharge through USSD from self phone</td>\n",
              "      <td>4</td>\n",
              "      <td>5</td>\n",
              "      <td>0</td>\n",
              "      <td>7</td>\n",
              "      <td>0</td>\n",
              "      <td>4</td>\n",
              "      <td>4</td>\n",
              "      <td>0</td>\n",
              "      <td>7</td>\n",
              "      <td>5</td>\n",
              "      <td>7</td>\n",
              "      <td>0</td>\n",
              "      <td>9</td>\n",
              "      <td>8</td>\n",
              "      <td>6</td>\n",
              "      <td>6</td>\n",
              "      <td>6</td>\n",
              "      <td>NaN</td>\n",
              "      <td>0</td>\n",
              "      <td>0</td>\n",
              "      <td>0</td>\n",
              "      <td>0</td>\n",
              "      <td>8</td>\n",
              "      <td>8</td>\n",
              "      <td>8</td>\n",
              "      <td>8</td>\n",
              "      <td>0</td>\n",
              "      <td>0</td>\n",
              "      <td>0</td>\n",
              "      <td>0</td>\n",
              "      <td>0</td>\n",
              "      <td>0</td>\n",
              "      <td>0</td>\n",
              "      <td>0</td>\n",
              "    </tr>\n",
              "    <tr>\n",
              "      <th>4</th>\n",
              "      <td>0712558538</td>\n",
              "      <td>8/18/1999</td>\n",
              "      <td>F</td>\n",
              "      <td>8/25/2023</td>\n",
              "      <td>Pre Paid</td>\n",
              "      <td>Voucher recharge through USSD from self phone</td>\n",
              "      <td>4</td>\n",
              "      <td>5</td>\n",
              "      <td>0</td>\n",
              "      <td>0</td>\n",
              "      <td>0</td>\n",
              "      <td>2</td>\n",
              "      <td>3</td>\n",
              "      <td>5</td>\n",
              "      <td>1</td>\n",
              "      <td>0</td>\n",
              "      <td>0</td>\n",
              "      <td>0</td>\n",
              "      <td>0</td>\n",
              "      <td>0</td>\n",
              "      <td>0</td>\n",
              "      <td>1</td>\n",
              "      <td>1</td>\n",
              "      <td>NaN</td>\n",
              "      <td>0</td>\n",
              "      <td>0</td>\n",
              "      <td>0</td>\n",
              "      <td>0</td>\n",
              "      <td>0</td>\n",
              "      <td>0</td>\n",
              "      <td>0</td>\n",
              "      <td>0</td>\n",
              "      <td>2</td>\n",
              "      <td>0</td>\n",
              "      <td>1</td>\n",
              "      <td>0</td>\n",
              "      <td>0</td>\n",
              "      <td>0</td>\n",
              "      <td>0</td>\n",
              "      <td>0</td>\n",
              "    </tr>\n",
              "    <tr>\n",
              "      <th>...</th>\n",
              "      <td>...</td>\n",
              "      <td>...</td>\n",
              "      <td>...</td>\n",
              "      <td>...</td>\n",
              "      <td>...</td>\n",
              "      <td>...</td>\n",
              "      <td>...</td>\n",
              "      <td>...</td>\n",
              "      <td>...</td>\n",
              "      <td>...</td>\n",
              "      <td>...</td>\n",
              "      <td>...</td>\n",
              "      <td>...</td>\n",
              "      <td>...</td>\n",
              "      <td>...</td>\n",
              "      <td>...</td>\n",
              "      <td>...</td>\n",
              "      <td>...</td>\n",
              "      <td>...</td>\n",
              "      <td>...</td>\n",
              "      <td>...</td>\n",
              "      <td>...</td>\n",
              "      <td>...</td>\n",
              "      <td>...</td>\n",
              "      <td>...</td>\n",
              "      <td>...</td>\n",
              "      <td>...</td>\n",
              "      <td>...</td>\n",
              "      <td>...</td>\n",
              "      <td>...</td>\n",
              "      <td>...</td>\n",
              "      <td>...</td>\n",
              "      <td>...</td>\n",
              "      <td>...</td>\n",
              "      <td>...</td>\n",
              "      <td>...</td>\n",
              "      <td>...</td>\n",
              "      <td>...</td>\n",
              "      <td>...</td>\n",
              "      <td>...</td>\n",
              "    </tr>\n",
              "    <tr>\n",
              "      <th>59520</th>\n",
              "      <td>0115821322</td>\n",
              "      <td>1/3/1976</td>\n",
              "      <td>M</td>\n",
              "      <td>8/20/2023</td>\n",
              "      <td>Pre Paid</td>\n",
              "      <td>Voucher recharge through USSD from self phone</td>\n",
              "      <td>1</td>\n",
              "      <td>1</td>\n",
              "      <td>0</td>\n",
              "      <td>0</td>\n",
              "      <td>0</td>\n",
              "      <td>0</td>\n",
              "      <td>0</td>\n",
              "      <td>5</td>\n",
              "      <td>0</td>\n",
              "      <td>0</td>\n",
              "      <td>0</td>\n",
              "      <td>0</td>\n",
              "      <td>0</td>\n",
              "      <td>0</td>\n",
              "      <td>0</td>\n",
              "      <td>0</td>\n",
              "      <td>0</td>\n",
              "      <td>NaN</td>\n",
              "      <td>0</td>\n",
              "      <td>0</td>\n",
              "      <td>0</td>\n",
              "      <td>0</td>\n",
              "      <td>0</td>\n",
              "      <td>0</td>\n",
              "      <td>0</td>\n",
              "      <td>0</td>\n",
              "      <td>0</td>\n",
              "      <td>0</td>\n",
              "      <td>0</td>\n",
              "      <td>0</td>\n",
              "      <td>0</td>\n",
              "      <td>0</td>\n",
              "      <td>0</td>\n",
              "      <td>0</td>\n",
              "    </tr>\n",
              "    <tr>\n",
              "      <th>59521</th>\n",
              "      <td>0000000000</td>\n",
              "      <td>0</td>\n",
              "      <td>M</td>\n",
              "      <td>0</td>\n",
              "      <td>Pre Paid</td>\n",
              "      <td>MOBILE MONEY 3rd. Party Topup</td>\n",
              "      <td>0</td>\n",
              "      <td>0</td>\n",
              "      <td>0</td>\n",
              "      <td>0</td>\n",
              "      <td>0</td>\n",
              "      <td>0</td>\n",
              "      <td>0</td>\n",
              "      <td>0</td>\n",
              "      <td>0</td>\n",
              "      <td>0</td>\n",
              "      <td>0</td>\n",
              "      <td>0</td>\n",
              "      <td>0</td>\n",
              "      <td>0</td>\n",
              "      <td>0</td>\n",
              "      <td>0</td>\n",
              "      <td>0</td>\n",
              "      <td>0.0</td>\n",
              "      <td>0</td>\n",
              "      <td>0</td>\n",
              "      <td>0</td>\n",
              "      <td>0</td>\n",
              "      <td>0</td>\n",
              "      <td>0</td>\n",
              "      <td>0</td>\n",
              "      <td>0</td>\n",
              "      <td>0</td>\n",
              "      <td>0</td>\n",
              "      <td>0</td>\n",
              "      <td>0</td>\n",
              "      <td>0</td>\n",
              "      <td>0</td>\n",
              "      <td>0</td>\n",
              "      <td>0</td>\n",
              "    </tr>\n",
              "    <tr>\n",
              "      <th>59522</th>\n",
              "      <td>0799909137</td>\n",
              "      <td>3/3/1999</td>\n",
              "      <td>M</td>\n",
              "      <td>8/20/2023</td>\n",
              "      <td>Pre Paid</td>\n",
              "      <td>MOBILE MONEY</td>\n",
              "      <td>2</td>\n",
              "      <td>3</td>\n",
              "      <td>0</td>\n",
              "      <td>7</td>\n",
              "      <td>0</td>\n",
              "      <td>4</td>\n",
              "      <td>3</td>\n",
              "      <td>5</td>\n",
              "      <td>7</td>\n",
              "      <td>3</td>\n",
              "      <td>7</td>\n",
              "      <td>0</td>\n",
              "      <td>3</td>\n",
              "      <td>7</td>\n",
              "      <td>7</td>\n",
              "      <td>8</td>\n",
              "      <td>7</td>\n",
              "      <td>NaN</td>\n",
              "      <td>0</td>\n",
              "      <td>0</td>\n",
              "      <td>0</td>\n",
              "      <td>0</td>\n",
              "      <td>7</td>\n",
              "      <td>7</td>\n",
              "      <td>8</td>\n",
              "      <td>7</td>\n",
              "      <td>0</td>\n",
              "      <td>5</td>\n",
              "      <td>0</td>\n",
              "      <td>1</td>\n",
              "      <td>0</td>\n",
              "      <td>0</td>\n",
              "      <td>0</td>\n",
              "      <td>0</td>\n",
              "    </tr>\n",
              "    <tr>\n",
              "      <th>59523</th>\n",
              "      <td>0790329797</td>\n",
              "      <td>6/20/1996</td>\n",
              "      <td>F</td>\n",
              "      <td>8/20/2023</td>\n",
              "      <td>Pre Paid</td>\n",
              "      <td>MOBILE MONEY</td>\n",
              "      <td>3</td>\n",
              "      <td>4</td>\n",
              "      <td>0</td>\n",
              "      <td>3</td>\n",
              "      <td>0</td>\n",
              "      <td>0</td>\n",
              "      <td>6</td>\n",
              "      <td>7</td>\n",
              "      <td>2</td>\n",
              "      <td>5</td>\n",
              "      <td>3</td>\n",
              "      <td>0</td>\n",
              "      <td>0</td>\n",
              "      <td>4</td>\n",
              "      <td>4</td>\n",
              "      <td>2</td>\n",
              "      <td>4</td>\n",
              "      <td>NaN</td>\n",
              "      <td>0</td>\n",
              "      <td>0</td>\n",
              "      <td>0</td>\n",
              "      <td>0</td>\n",
              "      <td>5</td>\n",
              "      <td>4</td>\n",
              "      <td>0</td>\n",
              "      <td>0</td>\n",
              "      <td>0</td>\n",
              "      <td>4</td>\n",
              "      <td>1</td>\n",
              "      <td>1</td>\n",
              "      <td>1</td>\n",
              "      <td>1</td>\n",
              "      <td>0</td>\n",
              "      <td>0</td>\n",
              "    </tr>\n",
              "    <tr>\n",
              "      <th>59524</th>\n",
              "      <td>0714036348</td>\n",
              "      <td>1/1/1990</td>\n",
              "      <td>NaN</td>\n",
              "      <td>8/20/2023</td>\n",
              "      <td>Pre Paid</td>\n",
              "      <td>Voucher recharge through USSD from self phone</td>\n",
              "      <td>8</td>\n",
              "      <td>9</td>\n",
              "      <td>0</td>\n",
              "      <td>8</td>\n",
              "      <td>0</td>\n",
              "      <td>9</td>\n",
              "      <td>10</td>\n",
              "      <td>0</td>\n",
              "      <td>10</td>\n",
              "      <td>8</td>\n",
              "      <td>3</td>\n",
              "      <td>4</td>\n",
              "      <td>10</td>\n",
              "      <td>9</td>\n",
              "      <td>6</td>\n",
              "      <td>6</td>\n",
              "      <td>8</td>\n",
              "      <td>NaN</td>\n",
              "      <td>3</td>\n",
              "      <td>4</td>\n",
              "      <td>1</td>\n",
              "      <td>0</td>\n",
              "      <td>8</td>\n",
              "      <td>10</td>\n",
              "      <td>8</td>\n",
              "      <td>9</td>\n",
              "      <td>2</td>\n",
              "      <td>9</td>\n",
              "      <td>1</td>\n",
              "      <td>0</td>\n",
              "      <td>1</td>\n",
              "      <td>1</td>\n",
              "      <td>0</td>\n",
              "      <td>0</td>\n",
              "    </tr>\n",
              "  </tbody>\n",
              "</table>\n",
              "<p>59525 rows × 40 columns</p>\n",
              "</div>"
            ],
            "text/plain": [
              "           MSISDN DateOfBirth Gender DATA_EXTRACTION_DATE PAYMENT_TYPE  \\\n",
              "0      0729033822  12/31/1963      M            8/25/2023     Pre Paid   \n",
              "1      0710919310    7/5/1991      M            8/25/2023     Pre Paid   \n",
              "2      0759977784    8/6/2003      M            8/25/2023     Pre Paid   \n",
              "3      0701491826   3/10/2000      M             6/9/2023     Pre Paid   \n",
              "4      0712558538   8/18/1999      F            8/25/2023     Pre Paid   \n",
              "...           ...         ...    ...                  ...          ...   \n",
              "59520  0115821322    1/3/1976      M            8/20/2023     Pre Paid   \n",
              "59521  0000000000           0      M                    0     Pre Paid   \n",
              "59522  0799909137    3/3/1999      M            8/20/2023     Pre Paid   \n",
              "59523  0790329797   6/20/1996      F            8/20/2023     Pre Paid   \n",
              "59524  0714036348    1/1/1990    NaN            8/20/2023     Pre Paid   \n",
              "\n",
              "                                       RECHARGE_MODE  SUBSCRIPTION_PERIOD  \\\n",
              "0      Voucher recharge through USSD from self phone                   10   \n",
              "1                                       MOBILE MONEY                    6   \n",
              "2      Voucher recharge through USSD from self phone                    3   \n",
              "3      Voucher recharge through USSD from self phone                    4   \n",
              "4      Voucher recharge through USSD from self phone                    4   \n",
              "...                                              ...                  ...   \n",
              "59520  Voucher recharge through USSD from self phone                    1   \n",
              "59521                  MOBILE MONEY 3rd. Party Topup                    0   \n",
              "59522                                   MOBILE MONEY                    2   \n",
              "59523                                   MOBILE MONEY                    3   \n",
              "59524  Voucher recharge through USSD from self phone                    8   \n",
              "\n",
              "       TRANSACTION_PERIOD  COUNT_OF_BLOCKS  TRANSACTION_RECIEVERS  LIMIT  \\\n",
              "0                      10                0                      1      0   \n",
              "1                       7                0                      8      0   \n",
              "2                       4                0                      1      0   \n",
              "3                       5                0                      7      0   \n",
              "4                       5                0                      0      0   \n",
              "...                   ...              ...                    ...    ...   \n",
              "59520                   1                0                      0      0   \n",
              "59521                   0                0                      0      0   \n",
              "59522                   3                0                      7      0   \n",
              "59523                   4                0                      3      0   \n",
              "59524                   9                0                      8      0   \n",
              "\n",
              "       TOPUP_CONSUMPTION  TOPUP_CONSUMPTION_6  ACTIVE_STATUS  \\\n",
              "0                      4                    5              0   \n",
              "1                      7                    9              0   \n",
              "2                      3                    2              0   \n",
              "3                      4                    4              0   \n",
              "4                      2                    3              5   \n",
              "...                  ...                  ...            ...   \n",
              "59520                  0                    0              5   \n",
              "59521                  0                    0              0   \n",
              "59522                  4                    3              5   \n",
              "59523                  0                    6              7   \n",
              "59524                  9                   10              0   \n",
              "\n",
              "       TRANSACTIONS_RECIEVED  ACCOUNT_DEBIT  ACCOUNT_CREDIT  PAYMENT_TRXN  \\\n",
              "0                          7              1               7             0   \n",
              "1                         10             10              10             8   \n",
              "2                          2              0               2             0   \n",
              "3                          7              5               7             0   \n",
              "4                          1              0               0             0   \n",
              "...                      ...            ...             ...           ...   \n",
              "59520                      0              0               0             0   \n",
              "59521                      0              0               0             0   \n",
              "59522                      7              3               7             0   \n",
              "59523                      2              5               3             0   \n",
              "59524                     10              8               3             4   \n",
              "\n",
              "       NUMBER_OF_PAYMENT_TRXN  VALUE_SENT  HIGHEST_VALUE  VALUE_RECIEVED  \\\n",
              "0                           0           3              4               7   \n",
              "1                           7           9              8               9   \n",
              "2                           0           1              1               2   \n",
              "3                           9           8              6               6   \n",
              "4                           0           0              0               1   \n",
              "...                       ...         ...            ...             ...   \n",
              "59520                       0           0              0               0   \n",
              "59521                       0           0              0               0   \n",
              "59522                       3           7              7               8   \n",
              "59523                       0           4              4               2   \n",
              "59524                      10           9              6               6   \n",
              "\n",
              "       TRXN_COUNT  TOTAL_RECIEPTS_VALUE  PAYMENT_VALUE_2  PAYMENT_COUNT_2  \\\n",
              "0               5                   NaN                0                0   \n",
              "1               8                   NaN                7                1   \n",
              "2               3                   NaN                0                0   \n",
              "3               6                   NaN                0                0   \n",
              "4               1                   NaN                0                0   \n",
              "...           ...                   ...              ...              ...   \n",
              "59520           0                   NaN                0                0   \n",
              "59521           0                   0.0                0                0   \n",
              "59522           7                   NaN                0                0   \n",
              "59523           4                   NaN                0                0   \n",
              "59524           8                   NaN                3                4   \n",
              "\n",
              "       BANK_TRANS  OTHER_RECEIPTS  TOTAL_BANK_TRANS  TOTAL_PAYMENTS  \\\n",
              "0               0               0                 1               6   \n",
              "1               6               0                10              10   \n",
              "2               0               0                 0               2   \n",
              "3               0               0                 8               8   \n",
              "4               0               0                 0               0   \n",
              "...           ...             ...               ...             ...   \n",
              "59520           0               0                 0               0   \n",
              "59521           0               0                 0               0   \n",
              "59522           0               0                 7               7   \n",
              "59523           0               0                 5               4   \n",
              "59524           1               0                 8              10   \n",
              "\n",
              "       TOTAL_MONEY_IN_3  TOTAL_MONEY_OUT_3  CURR_POINTS  RDM_POINTS_6  \\\n",
              "0                     1                  3            3             3   \n",
              "1                     8                  8            8             0   \n",
              "2                     0                  2            0             0   \n",
              "3                     8                  8            0             0   \n",
              "4                     0                  0            2             0   \n",
              "...                 ...                ...          ...           ...   \n",
              "59520                 0                  0            0             0   \n",
              "59521                 0                  0            0             0   \n",
              "59522                 8                  7            0             5   \n",
              "59523                 0                  0            0             4   \n",
              "59524                 8                  9            2             9   \n",
              "\n",
              "       LOAN_COUNT  LOAN_BLACKLIST  COUNT_OF_OVERDUE_LOANS  \\\n",
              "0               6               1                       4   \n",
              "1               1               0                       0   \n",
              "2               0               1                       0   \n",
              "3               0               0                       0   \n",
              "4               1               0                       0   \n",
              "...           ...             ...                     ...   \n",
              "59520           0               0                       0   \n",
              "59521           0               0                       0   \n",
              "59522           0               1                       0   \n",
              "59523           1               1                       1   \n",
              "59524           1               0                       1   \n",
              "\n",
              "       LOAN_BLACKLIST_DAYS  CURR_DEVICE_MAKE  CURR_DEVICE_RRP  \n",
              "0                        4                 0                0  \n",
              "1                        0                 0                0  \n",
              "2                        0                 0                0  \n",
              "3                        0                 0                0  \n",
              "4                        0                 0                0  \n",
              "...                    ...               ...              ...  \n",
              "59520                    0                 0                0  \n",
              "59521                    0                 0                0  \n",
              "59522                    0                 0                0  \n",
              "59523                    1                 0                0  \n",
              "59524                    1                 0                0  \n",
              "\n",
              "[59525 rows x 40 columns]"
            ]
          },
          "execution_count": 11,
          "metadata": {},
          "output_type": "execute_result"
        }
      ],
      "source": [
        "df1"
      ]
    },
    {
      "cell_type": "code",
      "execution_count": null,
      "id": "6c1db95b-e96c-4158-9888-5338900d8dcf",
      "metadata": {
        "id": "6c1db95b-e96c-4158-9888-5338900d8dcf"
      },
      "outputs": [],
      "source": []
    },
    {
      "cell_type": "code",
      "execution_count": null,
      "id": "ce9cfe16-2a63-4a09-90f9-f3107a3e4b54",
      "metadata": {
        "tags": [],
        "id": "ce9cfe16-2a63-4a09-90f9-f3107a3e4b54"
      },
      "outputs": [],
      "source": [
        "# merged_df\n"
      ]
    },
    {
      "cell_type": "code",
      "execution_count": null,
      "id": "f91775a6-7727-487f-ba59-a9b29e90d196",
      "metadata": {
        "tags": [],
        "id": "f91775a6-7727-487f-ba59-a9b29e90d196"
      },
      "outputs": [],
      "source": [
        "import pandas as pd\n",
        "\n",
        "# Check for common values\n",
        "common_values = set(df['Msisdn']).intersection(df1['MSISDN'])\n",
        "\n",
        "if len(common_values) == 0:\n",
        "    print(\"No common values found in 'Msisdn' and 'MSISDN' columns.\")\n",
        "else:\n",
        "    # Merge df and df1 on the 'Msisdn' and 'MSISDN' columns, respectively\n",
        "    merged_df = df.merge(df1, left_on='Msisdn', right_on='MSISDN', how='inner')\n",
        "\n",
        "    # Display the merged DataFrame\n",
        "    # merged_df.head()\n"
      ]
    },
    {
      "cell_type": "code",
      "execution_count": null,
      "id": "7a58ad4e-d786-4c69-a1c7-85bec6f79fdb",
      "metadata": {
        "tags": [],
        "id": "7a58ad4e-d786-4c69-a1c7-85bec6f79fdb"
      },
      "outputs": [],
      "source": [
        "# # Print the unique values in each column\n",
        "# for column in merged_df.columns:\n",
        "#     unique_values = merged_df[column].unique()\n",
        "#     unique_count = len(unique_values)\n",
        "\n",
        "#     print(f\"Column: {column}\")\n",
        "#     print(f\"Number of Unique Values: {unique_count}\")\n",
        "#     print(f\"Unique Values:\")\n",
        "#     print(unique_values)\n",
        "#     print(\"\\n\")\n"
      ]
    },
    {
      "cell_type": "code",
      "execution_count": null,
      "id": "f8f7a361-a46b-4c35-8a46-423d30996f16",
      "metadata": {
        "tags": [],
        "id": "f8f7a361-a46b-4c35-8a46-423d30996f16"
      },
      "outputs": [],
      "source": [
        "# merged_df"
      ]
    },
    {
      "cell_type": "code",
      "execution_count": null,
      "id": "a5065996-3d07-4f63-b8f2-dfc2ea33f5d8",
      "metadata": {
        "tags": [],
        "id": "a5065996-3d07-4f63-b8f2-dfc2ea33f5d8"
      },
      "outputs": [],
      "source": [
        "merged_df.rename(columns={'Days In Default': 'days_defaulted'}, inplace=True)\n"
      ]
    },
    {
      "cell_type": "code",
      "execution_count": null,
      "id": "339f24dc-45a7-4b4c-9918-0d3d7bcd29a6",
      "metadata": {
        "tags": [],
        "id": "339f24dc-45a7-4b4c-9918-0d3d7bcd29a6"
      },
      "outputs": [],
      "source": [
        "# merged_df"
      ]
    },
    {
      "cell_type": "code",
      "execution_count": null,
      "id": "e955276e-0621-4af0-87b0-7d936ed2fd53",
      "metadata": {
        "tags": [],
        "id": "e955276e-0621-4af0-87b0-7d936ed2fd53",
        "outputId": "616c82ba-83cc-45b9-dbe2-d5339130dd15"
      },
      "outputs": [
        {
          "name": "stdout",
          "output_type": "stream",
          "text": [
            "Minimum Value: -159\n",
            "Maximum Value: 362\n",
            "Median Value: 0.0\n",
            "Mode Value: 0\n",
            "Mean Value: 13.08750896608259\n"
          ]
        }
      ],
      "source": [
        "# Calculate the minimum value\n",
        "min_value = merged_df['days_defaulted'].min()\n",
        "\n",
        "# Calculate the maximum value\n",
        "max_value = merged_df['days_defaulted'].max()\n",
        "\n",
        "# Calculate the median\n",
        "median_value = merged_df['days_defaulted'].median()\n",
        "\n",
        "# Calculate the mode (returns a Series, so we take the first element)\n",
        "mode_value = merged_df['days_defaulted'].mode().iloc[0]\n",
        "\n",
        "# Calculate the mean\n",
        "mean_value = merged_df['days_defaulted'].mean()\n",
        "\n",
        "# Display the results\n",
        "print(f\"Minimum Value: {min_value}\")\n",
        "print(f\"Maximum Value: {max_value}\")\n",
        "print(f\"Median Value: {median_value}\")\n",
        "print(f\"Mode Value: {mode_value}\")\n",
        "print(f\"Mean Value: {mean_value}\")"
      ]
    },
    {
      "cell_type": "code",
      "execution_count": null,
      "id": "3ea3ea32-ad6b-4b2b-850a-c1424946e876",
      "metadata": {
        "tags": [],
        "id": "3ea3ea32-ad6b-4b2b-850a-c1424946e876"
      },
      "outputs": [],
      "source": [
        "\n",
        "# Define the ranges\n",
        "# Define the ranges with intervals of 3\n",
        "ranges = [(-float('inf'), 2), (3, 5), (6, 8), (9, 11), (12, 14), (15, 17),\n",
        "          (18, 20), (21, 23), (24, 26), (27, 29), (30, float('inf'))]\n",
        "\n",
        "\n",
        "# Use pd.cut() to categorize 'days_defaulted' into the specified ranges\n",
        "merged_df['range'] = pd.cut(merged_df['days_defaulted'], bins=[start-1 for start, _ in ranges] + [float('inf')], labels=[f'{start}-{end}' for start, end in ranges])\n",
        "\n",
        "# Calculate the count of 'Msisdn' for each range\n",
        "range_counts = merged_df['range'].value_counts().sort_index()\n",
        "\n",
        "# Display the count of 'Msisdn' for each range\n",
        "# print(range_counts)"
      ]
    },
    {
      "cell_type": "code",
      "execution_count": null,
      "id": "3d41f8b4-8bfe-4d99-8b0e-ad189b8f22ca",
      "metadata": {
        "id": "3d41f8b4-8bfe-4d99-8b0e-ad189b8f22ca"
      },
      "outputs": [],
      "source": [
        "# Define the ranges with intervals of 3\n",
        "ranges = [(-float('inf'), 2), (3, 5), (6, 8), (9, 11), (12, 14), (15, 17),\n",
        "          (18, 20), (21, 23), (24, 26), (27, 29), (30, float('inf'))]\n",
        "\n",
        "# Use pd.cut() to categorize 'days_defaulted' into the specified ranges\n",
        "merged_df['range'] = pd.cut(merged_df['days_defaulted'], bins=[start-1 for start, _ in ranges] + [float('inf')], labels=[f'{start}-{end}' for start, end in ranges])\n",
        "\n",
        "# Calculate the count of 'Msisdn' for each range\n",
        "range_counts = merged_df['range'].value_counts().sort_index()\n",
        "\n",
        "# # Plot the histogram\n",
        "# plt.figure(figsize=(10, 6))\n",
        "# plt.bar(range_counts.index, range_counts.values, width=0.8, align='center', alpha=0.7)\n",
        "# plt.xlabel('Ranges')\n",
        "# plt.ylabel('Frequency')\n",
        "# plt.title('Histogram of Ranges vs. Frequency')\n",
        "# plt.xticks(rotation=45, ha='right')\n",
        "# plt.tight_layout()\n",
        "# plt.show()\n"
      ]
    },
    {
      "cell_type": "code",
      "execution_count": null,
      "id": "282415eb-f283-466b-a783-e782da8bc347",
      "metadata": {
        "tags": [],
        "id": "282415eb-f283-466b-a783-e782da8bc347"
      },
      "outputs": [],
      "source": [
        "# 6756/9797*100"
      ]
    },
    {
      "cell_type": "code",
      "execution_count": null,
      "id": "971130e6-5866-4497-9e8e-e871f807aa18",
      "metadata": {
        "tags": [],
        "id": "971130e6-5866-4497-9e8e-e871f807aa18"
      },
      "outputs": [],
      "source": [
        "# Create a new column based on the condition\n",
        "merged_df['Target'] = np.where(merged_df['days_defaulted'] <= 15, 0, 1)\n"
      ]
    },
    {
      "cell_type": "code",
      "execution_count": null,
      "id": "b54d842a-5470-4374-b845-f7962e564df9",
      "metadata": {
        "tags": [],
        "id": "b54d842a-5470-4374-b845-f7962e564df9"
      },
      "outputs": [],
      "source": [
        "# merged_df"
      ]
    },
    {
      "cell_type": "code",
      "execution_count": null,
      "id": "4816796e-b5bc-46f3-9d0e-4694cc7a672d",
      "metadata": {
        "tags": [],
        "id": "4816796e-b5bc-46f3-9d0e-4694cc7a672d",
        "outputId": "617552ef-fea6-4465-de50-d9ca1046568a"
      },
      "outputs": [
        {
          "data": {
            "text/plain": [
              "(9759, 44)"
            ]
          },
          "execution_count": 24,
          "metadata": {},
          "output_type": "execute_result"
        }
      ],
      "source": [
        "merged_df.shape"
      ]
    },
    {
      "cell_type": "code",
      "execution_count": null,
      "id": "fd23bc6b-2a94-4c9e-acbb-27f9dcef8074",
      "metadata": {
        "tags": [],
        "id": "fd23bc6b-2a94-4c9e-acbb-27f9dcef8074"
      },
      "outputs": [],
      "source": [
        "# merged_df.info()"
      ]
    },
    {
      "cell_type": "code",
      "execution_count": null,
      "id": "262a3565-abde-465e-9ee0-c08776ad8359",
      "metadata": {
        "tags": [],
        "id": "262a3565-abde-465e-9ee0-c08776ad8359"
      },
      "outputs": [],
      "source": [
        "# merged_df.isnull().sum()"
      ]
    },
    {
      "cell_type": "code",
      "execution_count": null,
      "id": "965ad022-1492-4873-b3f8-fe331fbe09d9",
      "metadata": {
        "id": "965ad022-1492-4873-b3f8-fe331fbe09d9"
      },
      "outputs": [],
      "source": [
        "# Convert the 'DateOfBirth' column to datetime\n",
        "merged_df['DateOfBirth'] = pd.to_datetime(merged_df['DateOfBirth'])\n",
        "\n",
        "# Calculate age by subtracting the 'DateOfBirth' from the current date\n",
        "current_date = datetime.now()\n",
        "merged_df['Age'] = (current_date - merged_df['DateOfBirth']).astype('<m8[Y]')\n"
      ]
    },
    {
      "cell_type": "code",
      "execution_count": null,
      "id": "710b89eb-ec52-46c2-85ae-0d70a986eb2d",
      "metadata": {
        "tags": [],
        "id": "710b89eb-ec52-46c2-85ae-0d70a986eb2d"
      },
      "outputs": [],
      "source": [
        "# merged_df"
      ]
    },
    {
      "cell_type": "raw",
      "id": "dc625a18-51b0-456b-85df-547bc2b46608",
      "metadata": {
        "tags": [],
        "id": "dc625a18-51b0-456b-85df-547bc2b46608"
      },
      "source": [
        "Let me drop some columns\n",
        "Msisdn- Not rellevant because it is a unique identifier\n",
        "days_defaulted- Used to create the  dependent target varriable, so that is why I see no significance\n",
        "MSISDN-unique identifier of a customer too\n",
        "DateOfBirth-used it to generate age column so it is no longer relevant\n",
        "DATA_EXTRACTION_DATE-Just the date data was collected ,not significant\n",
        "TOTAL_RECIEPTS_VALUE-This is totally blank so has no value\n",
        "range-this isjust a range column I created to check range in the days defaulted to choose the threshhold"
      ]
    },
    {
      "cell_type": "code",
      "execution_count": null,
      "id": "e5bd9a5e-51d3-4274-b5e5-1d55125fc642",
      "metadata": {
        "tags": [],
        "id": "e5bd9a5e-51d3-4274-b5e5-1d55125fc642"
      },
      "outputs": [],
      "source": [
        "merged_df = merged_df.drop([ \"days_defaulted\", \"MSISDN\", \"DateOfBirth\", \"DATA_EXTRACTION_DATE\", \"TOTAL_RECIEPTS_VALUE\",\"range\"], axis=1)\n"
      ]
    },
    {
      "cell_type": "code",
      "execution_count": null,
      "id": "254e0320-3b4c-4cd3-a2ef-08312d6c9d50",
      "metadata": {
        "tags": [],
        "id": "254e0320-3b4c-4cd3-a2ef-08312d6c9d50"
      },
      "outputs": [],
      "source": [
        "# merged_df.info()"
      ]
    },
    {
      "cell_type": "code",
      "execution_count": null,
      "id": "770bd02b-cf5e-4972-9142-0c725e98a4ef",
      "metadata": {
        "tags": [],
        "id": "770bd02b-cf5e-4972-9142-0c725e98a4ef"
      },
      "outputs": [],
      "source": [
        "# merged_df.isnull().sum()"
      ]
    },
    {
      "cell_type": "code",
      "execution_count": null,
      "id": "5b49bd7e-7fc2-45a9-bccb-45cce943aa54",
      "metadata": {
        "id": "5b49bd7e-7fc2-45a9-bccb-45cce943aa54"
      },
      "outputs": [],
      "source": []
    },
    {
      "cell_type": "markdown",
      "id": "eca57098-f11f-4831-84e3-e2a873c48cc1",
      "metadata": {
        "id": "eca57098-f11f-4831-84e3-e2a873c48cc1"
      },
      "source": [
        "**LET ME HANDLE MISSING VALUES IN age column NOW**"
      ]
    },
    {
      "cell_type": "markdown",
      "id": "9169db68-c002-4571-9fde-5ae261ee6023",
      "metadata": {
        "id": "9169db68-c002-4571-9fde-5ae261ee6023"
      },
      "source": [
        "there are 3 missing values in age column,let me check which percentage of the data is it"
      ]
    },
    {
      "cell_type": "code",
      "execution_count": null,
      "id": "c75ca756-11c1-42df-9249-a067af1a2a71",
      "metadata": {
        "tags": [],
        "id": "c75ca756-11c1-42df-9249-a067af1a2a71"
      },
      "outputs": [],
      "source": [
        "# 3/9759*100"
      ]
    },
    {
      "cell_type": "markdown",
      "id": "58cdf02e-7651-4699-8e63-58eb071a72a8",
      "metadata": {
        "id": "58cdf02e-7651-4699-8e63-58eb071a72a8"
      },
      "source": [
        "WE can see it is a verry smaller portion of the data , therefore I will drop them"
      ]
    },
    {
      "cell_type": "code",
      "execution_count": null,
      "id": "18f00a11-84b7-4d7c-ad14-378edba714b8",
      "metadata": {
        "id": "18f00a11-84b7-4d7c-ad14-378edba714b8"
      },
      "outputs": [],
      "source": [
        "merged_df.dropna(subset=['Age'], inplace=True)\n"
      ]
    },
    {
      "cell_type": "code",
      "execution_count": null,
      "id": "8fffa72c-1411-4e26-85f3-349336aafbec",
      "metadata": {
        "tags": [],
        "id": "8fffa72c-1411-4e26-85f3-349336aafbec",
        "outputId": "cb520d78-4fe1-46b3-a792-90d73cf6bfbe"
      },
      "outputs": [
        {
          "data": {
            "text/plain": [
              "Msisdn                      0\n",
              "Gender                    231\n",
              "PAYMENT_TYPE                0\n",
              "RECHARGE_MODE               0\n",
              "SUBSCRIPTION_PERIOD         0\n",
              "TRANSACTION_PERIOD          0\n",
              "COUNT_OF_BLOCKS             0\n",
              "TRANSACTION_RECIEVERS       0\n",
              "LIMIT                       0\n",
              "TOPUP_CONSUMPTION           0\n",
              "TOPUP_CONSUMPTION_6         0\n",
              "ACTIVE_STATUS               0\n",
              "TRANSACTIONS_RECIEVED       0\n",
              "ACCOUNT_DEBIT               0\n",
              "ACCOUNT_CREDIT              0\n",
              "PAYMENT_TRXN                0\n",
              "NUMBER_OF_PAYMENT_TRXN      0\n",
              "VALUE_SENT                  0\n",
              "HIGHEST_VALUE               0\n",
              "VALUE_RECIEVED              0\n",
              "TRXN_COUNT                  0\n",
              "PAYMENT_VALUE_2             0\n",
              "PAYMENT_COUNT_2             0\n",
              "BANK_TRANS                  0\n",
              "OTHER_RECEIPTS              0\n",
              "TOTAL_BANK_TRANS            0\n",
              "TOTAL_PAYMENTS              0\n",
              "TOTAL_MONEY_IN_3            0\n",
              "TOTAL_MONEY_OUT_3           0\n",
              "CURR_POINTS                 0\n",
              "RDM_POINTS_6                0\n",
              "LOAN_COUNT                  0\n",
              "LOAN_BLACKLIST              0\n",
              "COUNT_OF_OVERDUE_LOANS      0\n",
              "LOAN_BLACKLIST_DAYS         0\n",
              "CURR_DEVICE_MAKE            0\n",
              "CURR_DEVICE_RRP             0\n",
              "Target                      0\n",
              "Age                         0\n",
              "dtype: int64"
            ]
          },
          "execution_count": 34,
          "metadata": {},
          "output_type": "execute_result"
        }
      ],
      "source": [
        "merged_df.isnull().sum()"
      ]
    },
    {
      "cell_type": "markdown",
      "id": "d8c90dd6-dee8-4bf2-93b6-abf6d1c1a4a1",
      "metadata": {
        "id": "d8c90dd6-dee8-4bf2-93b6-abf6d1c1a4a1"
      },
      "source": [
        "I will check how to handle missing values in Gender column later in the code after tackling some bivariate statistics"
      ]
    },
    {
      "cell_type": "code",
      "execution_count": null,
      "id": "df7c082c-216e-447d-a279-fd32d7feca7f",
      "metadata": {
        "id": "df7c082c-216e-447d-a279-fd32d7feca7f"
      },
      "outputs": [],
      "source": []
    },
    {
      "cell_type": "markdown",
      "id": "b15c46c9-825e-4a08-b7ec-fee8fb28048d",
      "metadata": {
        "id": "b15c46c9-825e-4a08-b7ec-fee8fb28048d"
      },
      "source": [
        "## BIVARIATE & MULTIVARIATE ANALYSIS"
      ]
    },
    {
      "cell_type": "code",
      "execution_count": null,
      "id": "91ca6620-abb5-46ca-a917-fcea8225e289",
      "metadata": {
        "id": "91ca6620-abb5-46ca-a917-fcea8225e289"
      },
      "outputs": [],
      "source": [
        "## Let me change Age to a Categorical Varriable now"
      ]
    },
    {
      "cell_type": "code",
      "execution_count": null,
      "id": "0c4d322b-f147-4094-971c-8cfdb64e7be4",
      "metadata": {
        "tags": [],
        "id": "0c4d322b-f147-4094-971c-8cfdb64e7be4"
      },
      "outputs": [],
      "source": []
    },
    {
      "cell_type": "code",
      "execution_count": null,
      "id": "4da00c0e-f84b-4204-8d37-97bdefe83a30",
      "metadata": {
        "id": "4da00c0e-f84b-4204-8d37-97bdefe83a30"
      },
      "outputs": [],
      "source": []
    },
    {
      "cell_type": "markdown",
      "id": "fe992fcb-ad80-4ae6-9c75-f026abc3bf8c",
      "metadata": {
        "tags": [],
        "id": "fe992fcb-ad80-4ae6-9c75-f026abc3bf8c"
      },
      "source": [
        "Now since we only have categorical varriables , we will not base the predictive ability of variables on correlation ,I will explore other means to to gauge the predictive abilities of your columns. Correlation is generally not the best measure for categorical-categorical relationships because it's designed for continuous variables and doesn't provide a complete picture of the associations in categorical data"
      ]
    },
    {
      "cell_type": "markdown",
      "id": "fd35bcec-3a5b-46ed-ac4c-320ca46c66f0",
      "metadata": {
        "tags": [],
        "id": "fd35bcec-3a5b-46ed-ac4c-320ca46c66f0"
      },
      "source": [
        "## Let's Explore Chi-Square Test"
      ]
    },
    {
      "cell_type": "markdown",
      "id": "7aaa00a7-cbd0-4443-9bd1-0f1ca01d98cf",
      "metadata": {
        "id": "7aaa00a7-cbd0-4443-9bd1-0f1ca01d98cf"
      },
      "source": [
        "## Let us check Relation betweeen columns and the Target"
      ]
    },
    {
      "cell_type": "code",
      "execution_count": null,
      "id": "5fc4c0c7-5c63-471c-9adb-a1d86e4e0c79",
      "metadata": {
        "tags": [],
        "id": "5fc4c0c7-5c63-471c-9adb-a1d86e4e0c79"
      },
      "outputs": [],
      "source": [
        "# from scipy.stats import chi2_contingency\n",
        "\n",
        "# # Create a list of columns (excluding the 'Target' column) for which you want to calculate p-values\n",
        "# columns_to_test = ['Gender', 'PAYMENT_TYPE', 'RECHARGE_MODE', 'SUBSCRIPTION_PERIOD', 'TRANSACTION_PERIOD', 'COUNT_OF_BLOCKS', 'TRANSACTION_RECIEVERS', 'LIMIT', 'TOPUP_CONSUMPTION', 'TOPUP_CONSUMPTION_6', 'ACTIVE_STATUS', 'TRANSACTIONS_RECIEVED', 'ACCOUNT_DEBIT', 'ACCOUNT_CREDIT', 'PAYMENT_TRXN', 'NUMBER_OF_PAYMENT_TRXN', 'VALUE_SENT', 'HIGHEST_VALUE', 'VALUE_RECIEVED', 'TRXN_COUNT', 'PAYMENT_VALUE_2', 'PAYMENT_COUNT_2', 'BANK_TRANS', 'OTHER_RECEIPTS', 'TOTAL_BANK_TRANS', 'TOTAL_PAYMENTS', 'TOTAL_MONEY_IN_3', 'TOTAL_MONEY_OUT_3', 'CURR_POINTS', 'RDM_POINTS_6', 'LOAN_COUNT', 'LOAN_BLACKLIST', 'COUNT_OF_OVERDUE_LOANS', 'LOAN_BLACKLIST_DAYS', 'CURR_DEVICE_MAKE', 'CURR_DEVICE_RRP']\n",
        "\n",
        "# # Iterate over the columns and calculate p-values\n",
        "# for column in columns_to_test:\n",
        "#     contingency_table = pd.crosstab(merged_df[column], merged_df['Target'])\n",
        "#     chi2, p, _, _ = chi2_contingency(contingency_table)\n",
        "#     print(f\"Chi-squared Statistic for {column}: {chi2}\")\n",
        "#     print(f\"P-Value for {column}: {p}\")\n",
        "\n",
        "#     # Interpret the results\n",
        "#     if p < 0.05:\n",
        "#         print(f\"There is a statistically significant association between {column} and Target.\")\n",
        "#     else:\n",
        "#         print(f\"There is no statistically significant association between {column} and Target.\")\n",
        "#     print(\"\\n\")\n"
      ]
    },
    {
      "cell_type": "markdown",
      "id": "31c0fb9f-c58f-489f-a74e-7ebeda7a2600",
      "metadata": {
        "id": "31c0fb9f-c58f-489f-a74e-7ebeda7a2600"
      },
      "source": [
        "## MULTIVARIATE ANALYSIS"
      ]
    },
    {
      "cell_type": "markdown",
      "id": "27f1c385-e3b4-4c76-8af3-1212b01312cc",
      "metadata": {
        "id": "27f1c385-e3b4-4c76-8af3-1212b01312cc"
      },
      "source": [
        "## will calculate p-values for associations between all pairs of columns and store them in a DataFrame. You can ## we then inspect the p-values to identify columns that seem to be related based on statistical significance."
      ]
    },
    {
      "cell_type": "code",
      "execution_count": null,
      "id": "f6716620-edd4-462a-a62c-803e77a653e0",
      "metadata": {
        "tags": [],
        "id": "f6716620-edd4-462a-a62c-803e77a653e0"
      },
      "outputs": [],
      "source": [
        "# from itertools import combinations\n",
        "# from scipy.stats import chi2_contingency\n",
        "\n",
        "# # Create a list of independent variable columns (exclude 'Target' if necessary)\n",
        "# independent_columns = ['Gender', 'PAYMENT_TYPE', 'RECHARGE_MODE', 'SUBSCRIPTION_PERIOD', 'TRANSACTION_PERIOD', 'COUNT_OF_BLOCKS', 'TRANSACTION_RECIEVERS', 'LIMIT', 'TOPUP_CONSUMPTION', 'TOPUP_CONSUMPTION_6', 'ACTIVE_STATUS', 'TRANSACTIONS_RECIEVED', 'ACCOUNT_DEBIT', 'ACCOUNT_CREDIT', 'PAYMENT_TRXN', 'NUMBER_OF_PAYMENT_TRXN', 'VALUE_SENT', 'HIGHEST_VALUE', 'VALUE_RECIEVED', 'TRXN_COUNT', 'PAYMENT_VALUE_2', 'PAYMENT_COUNT_2', 'BANK_TRANS', 'OTHER_RECEIPTS', 'TOTAL_BANK_TRANS', 'TOTAL_PAYMENTS', 'TOTAL_MONEY_IN_3', 'TOTAL_MONEY_OUT_3', 'CURR_POINTS', 'RDM_POINTS_6', 'LOAN_COUNT', 'LOAN_BLACKLIST', 'COUNT_OF_OVERDUE_LOANS', 'LOAN_BLACKLIST_DAYS', 'CURR_DEVICE_MAKE', 'CURR_DEVICE_RRP']\n",
        "\n",
        "# # Create a dictionary to store chi-square results\n",
        "# chi_square_results = {}\n",
        "\n",
        "# # Iterate over all combinations of independent variables\n",
        "# for combo in combinations(independent_columns, 2):\n",
        "#     var1, var2 = combo\n",
        "\n",
        "#     contingency_table = pd.crosstab(merged_df[var1], merged_df[var2])\n",
        "#     chi2, p, _, _ = chi2_contingency(contingency_table)\n",
        "\n",
        "#     chi_square_results[f\"{var1} vs. {var2}\"] = {\n",
        "#         \"Chi-squared Statistic\": chi2,\n",
        "#         \"P-Value\": p\n",
        "#     }\n",
        "\n",
        "#     print(f\"Chi-squared Statistic for {var1} vs. {var2}: {chi2}\")\n",
        "#     print(f\"P-Value for {var1} vs. {var2}: {p}\")\n",
        "\n",
        "#     # Interpret the results\n",
        "#     if p < 0.05:\n",
        "#         print(f\"There is a statistically significant association between {var1} and {var2}.\")\n",
        "#     else:\n",
        "#         print(f\"There is no statistically significant association between {var1} and {var2}.\")\n",
        "#     print(\"\\n\")\n",
        "\n",
        "# # You can access the results in chi_square_results dictionary for further analysis\n"
      ]
    },
    {
      "cell_type": "markdown",
      "id": "e9fa2157-de09-40ad-a273-0cc031d464ca",
      "metadata": {
        "id": "e9fa2157-de09-40ad-a273-0cc031d464ca"
      },
      "source": [
        "## We can now explore Cramér's V"
      ]
    },
    {
      "cell_type": "markdown",
      "id": "5832f4bc-86ba-4522-a82c-87c5416a653e",
      "metadata": {
        "id": "5832f4bc-86ba-4522-a82c-87c5416a653e"
      },
      "source": [
        "Cramér's V: Cramér's V is a measure of association between two categorical variables. It ranges from 0 to 1, with higher values indicating a stronger association. It's an extension of the chi-square test statistic."
      ]
    },
    {
      "cell_type": "code",
      "execution_count": null,
      "id": "c35a9c4a-7fe8-4295-a894-d8433fd6d93c",
      "metadata": {
        "tags": [],
        "id": "c35a9c4a-7fe8-4295-a894-d8433fd6d93c"
      },
      "outputs": [],
      "source": [
        "# from scipy.stats import chi2_contingency\n",
        "\n",
        "# # Create a list of columns (excluding the 'Target' column) for which you want to calculate Cramér's V\n",
        "# columns_to_test = ['Gender', 'PAYMENT_TYPE', 'RECHARGE_MODE', 'SUBSCRIPTION_PERIOD', 'TRANSACTION_PERIOD', 'COUNT_OF_BLOCKS', 'TRANSACTION_RECIEVERS', 'LIMIT', 'TOPUP_CONSUMPTION', 'TOPUP_CONSUMPTION_6', 'ACTIVE_STATUS', 'TRANSACTIONS_RECIEVED', 'ACCOUNT_DEBIT', 'ACCOUNT_CREDIT', 'PAYMENT_TRXN', 'NUMBER_OF_PAYMENT_TRXN', 'VALUE_SENT', 'HIGHEST_VALUE', 'VALUE_RECIEVED', 'TRXN_COUNT', 'PAYMENT_VALUE_2', 'PAYMENT_COUNT_2', 'BANK_TRANS', 'OTHER_RECEIPTS', 'TOTAL_BANK_TRANS', 'TOTAL_PAYMENTS', 'TOTAL_MONEY_IN_3', 'TOTAL_MONEY_OUT_3', 'CURR_POINTS', 'RDM_POINTS_6', 'LOAN_COUNT', 'LOAN_BLACKLIST', 'COUNT_OF_OVERDUE_LOANS', 'LOAN_BLACKLIST_DAYS', 'CURR_DEVICE_MAKE', 'CURR_DEVICE_RRP']\n",
        "\n",
        "# # Function to calculate Cramér's V\n",
        "# def cramers_v(confusion_matrix):\n",
        "#     chi2 = chi2_contingency(confusion_matrix)[0]\n",
        "#     n = confusion_matrix.sum().sum()\n",
        "#     phi2 = chi2 / n\n",
        "#     r, k = confusion_matrix.shape\n",
        "#     phi2corr = max(0, phi2 - ((k - 1) * (r - 1)) / (n - 1))\n",
        "#     rcorr = r - ((r - 1)**2) / (n - 1)\n",
        "#     kcorr = k - ((k - 1)**2) / (n - 1)\n",
        "#     return np.sqrt(phi2corr / min((kcorr - 1), (rcorr - 1)))\n",
        "\n",
        "# # Iterate over the columns and calculate Cramér's V\n",
        "# for column in columns_to_test:\n",
        "#     confusion_matrix = pd.crosstab(merged_df[column], merged_df['Target'])\n",
        "#     cramers_v_value = cramers_v(confusion_matrix.values)\n",
        "#     print(f\"Cramér's V for {column}: {cramers_v_value}\")\n",
        "\n",
        "#     # Interpret the results\n",
        "#     if cramers_v_value >= 0.1:\n",
        "#         print(f\"There is a moderate to strong association between {column} and Target.\")\n",
        "#     else:\n",
        "#         print(f\"There is no or a weak association between {column} and Target.\")\n",
        "#     print(\"\\n\")\n"
      ]
    },
    {
      "cell_type": "markdown",
      "id": "6903da0d-f94c-4340-aa3a-2256b022d1f2",
      "metadata": {
        "id": "6903da0d-f94c-4340-aa3a-2256b022d1f2"
      },
      "source": [
        "**Let me explore this on Crammers-V**"
      ]
    },
    {
      "cell_type": "code",
      "execution_count": null,
      "id": "8ed2008d-289e-4c11-b666-7957570cde08",
      "metadata": {
        "tags": [],
        "id": "8ed2008d-289e-4c11-b666-7957570cde08"
      },
      "outputs": [],
      "source": [
        "# from itertools import combinations\n",
        "# import numpy as np\n",
        "# import pandas as pd\n",
        "# from scipy.stats import chi2_contingency\n",
        "\n",
        "# # Create a list of independent variable columns (exclude 'Target' if necessary)\n",
        "# independent_columns = ['Gender', 'PAYMENT_TYPE', 'RECHARGE_MODE', 'SUBSCRIPTION_PERIOD', 'TRANSACTION_PERIOD', 'COUNT_OF_BLOCKS', 'TRANSACTION_RECIEVERS', 'LIMIT', 'TOPUP_CONSUMPTION', 'TOPUP_CONSUMPTION_6', 'ACTIVE_STATUS', 'TRANSACTIONS_RECIEVED', 'ACCOUNT_DEBIT', 'ACCOUNT_CREDIT', 'PAYMENT_TRXN', 'NUMBER_OF_PAYMENT_TRXN', 'VALUE_SENT', 'HIGHEST_VALUE', 'VALUE_RECIEVED', 'TRXN_COUNT', 'PAYMENT_VALUE_2', 'PAYMENT_COUNT_2', 'BANK_TRANS', 'OTHER_RECEIPTS', 'TOTAL_BANK_TRANS', 'TOTAL_PAYMENTS', 'TOTAL_MONEY_IN_3', 'TOTAL_MONEY_OUT_3', 'CURR_POINTS', 'RDM_POINTS_6', 'LOAN_COUNT', 'LOAN_BLACKLIST', 'COUNT_OF_OVERDUE_LOANS', 'LOAN_BLACKLIST_DAYS', 'CURR_DEVICE_MAKE', 'CURR_DEVICE_RRP']\n",
        "\n",
        "# # Create a dictionary to store Cramer's V results\n",
        "# cramers_v_results = {}\n",
        "\n",
        "# # Iterate over all combinations of independent variables\n",
        "# for combo in combinations(independent_columns, 2):\n",
        "#     var1, var2 = combo\n",
        "\n",
        "#     contingency_table = pd.crosstab(merged_df[var1], merged_df[var2])\n",
        "#     chi2, _, _, _ = chi2_contingency(contingency_table)\n",
        "\n",
        "#     n = contingency_table.sum().sum()\n",
        "#     phi2 = chi2 / n\n",
        "#     r, k = contingency_table.shape\n",
        "#     phi2_corr = max(0, phi2 - ((k-1)*(r-1)) / (n-1))\n",
        "#     r_corr = r - ((r-1)**2) / (n-1)\n",
        "#     k_corr = k - ((k-1)**2) / (n-1)\n",
        "\n",
        "#     cramers_v = np.sqrt(phi2_corr / (min((k_corr-1), (r_corr-1))))\n",
        "\n",
        "#     cramers_v_results[f\"{var1} vs. {var2}\"] = cramers_v\n",
        "\n",
        "#     print(f\"Cramer's V for {var1} vs. {var2}: {cramers_v}\")\n",
        "\n",
        "#     # Interpret the results\n",
        "#     if cramers_v > 0.1:\n",
        "#         print(f\"There is a moderate association between {var1} and {var2}.\")\n",
        "#     else:\n",
        "#         print(f\"There is no substantial association between {var1} and {var2}.\")\n",
        "#     print(\"\\n\")\n",
        "\n",
        "# # You can access the results in cramers_v_results dictionary for further analysis\n"
      ]
    },
    {
      "cell_type": "markdown",
      "id": "b8f330f5-821a-4122-b18e-19f216c70887",
      "metadata": {
        "id": "b8f330f5-821a-4122-b18e-19f216c70887"
      },
      "source": [
        "**I will drop the COUNT_OF_OVERDUE_LOANS, and retain LOAN_BLACKLIST, because LOAN_BLACKLIST has lower P value and higher Crammers V in relation to the Target**"
      ]
    },
    {
      "cell_type": "markdown",
      "id": "5a4ce436-4619-44a4-8376-3108e760c527",
      "metadata": {
        "id": "5a4ce436-4619-44a4-8376-3108e760c527"
      },
      "source": [
        "**I will drop the SUBSCRIPTION_PERIOD, and retain LOAN_BLACKLIST, because LOAN_BLACKLIST has lower P value and higher Crammers V in relation to the Target**"
      ]
    },
    {
      "cell_type": "markdown",
      "id": "e9d3a043-454a-4f63-8805-b0eeec149466",
      "metadata": {
        "id": "e9d3a043-454a-4f63-8805-b0eeec149466"
      },
      "source": [
        "## BIVARIATE ANALYSIS"
      ]
    },
    {
      "cell_type": "markdown",
      "id": "bf1f8c64-7edc-47b1-b91b-aa01cca99e6e",
      "metadata": {
        "id": "bf1f8c64-7edc-47b1-b91b-aa01cca99e6e"
      },
      "source": [
        "## LET ME EXPLORE GENDER"
      ]
    },
    {
      "cell_type": "code",
      "execution_count": null,
      "id": "f42e670f-b4fd-437b-bf94-9020e7c3ce68",
      "metadata": {
        "id": "f42e670f-b4fd-437b-bf94-9020e7c3ce68"
      },
      "outputs": [],
      "source": []
    },
    {
      "cell_type": "code",
      "execution_count": null,
      "id": "304308b1-7cc1-43f4-b90b-cee855ff9de4",
      "metadata": {
        "tags": [],
        "id": "304308b1-7cc1-43f4-b90b-cee855ff9de4"
      },
      "outputs": [],
      "source": [
        "# # Explore Gender vs Target\n",
        "# g = sns.catplot(x=\"Gender\", y=\"Target\", data=merged_df, kind=\"bar\", height=6, palette=\"muted\")\n",
        "# g.despine(left=True)\n",
        "# g.set_ylabels(\"Target probability\")\n"
      ]
    },
    {
      "cell_type": "code",
      "execution_count": null,
      "id": "f1dbe4b8-b215-4fbc-8f15-51a5a586ff0b",
      "metadata": {
        "tags": [],
        "id": "f1dbe4b8-b215-4fbc-8f15-51a5a586ff0b"
      },
      "outputs": [],
      "source": [
        "# import seaborn as sns\n",
        "# import matplotlib.pyplot as plt\n",
        "\n",
        "# # Replace missing values (NaN) in 'Gender' column with 'Missing' for visualization\n",
        "# merged_df['Gender'].fillna('Missing', inplace=True)\n",
        "\n",
        "# # Create a bar plot to show the distribution of 'Gender' by 'Target' values\n",
        "# plt.figure(figsize=(12, 6))\n",
        "# sns.countplot(data=merged_df, x='Gender', hue='Target', palette={0: 'blue', 1: 'green', 'Missing': 'red'})\n",
        "# plt.title('Distribution of Gender by Target')\n",
        "# plt.xlabel('Gender')\n",
        "# plt.ylabel('Count')\n",
        "\n",
        "# plt.tight_layout()\n",
        "# plt.show()\n"
      ]
    },
    {
      "cell_type": "markdown",
      "id": "558e2d1e-9767-403e-b140-29e5c0f83ab2",
      "metadata": {
        "id": "558e2d1e-9767-403e-b140-29e5c0f83ab2"
      },
      "source": [
        "**To check Percentage**"
      ]
    },
    {
      "cell_type": "code",
      "execution_count": null,
      "id": "ce0faa5a-75c4-4611-af56-6128da63e383",
      "metadata": {
        "tags": [],
        "id": "ce0faa5a-75c4-4611-af56-6128da63e383"
      },
      "outputs": [],
      "source": [
        "# import seaborn as sns\n",
        "# import matplotlib.pyplot as plt\n",
        "\n",
        "# # Replace missing values (NaN) in 'Gender' column with 'Missing' for visualization\n",
        "# merged_df['Gender'].fillna('Missing', inplace=True)\n",
        "\n",
        "# # Calculate the percentage of 'Gender' by 'Target' values\n",
        "# percentage_df = (merged_df.groupby(['Gender', 'Target']).size() / len(merged_df)).reset_index(name='Percentage')\n",
        "\n",
        "# # Create a bar plot to show the distribution of 'Gender' by 'Target' values\n",
        "# plt.figure(figsize=(12, 6))\n",
        "# sns.barplot(data=percentage_df, x='Gender', y='Percentage', hue='Target', palette={0: 'blue', 1: 'green', 'Missing': 'red'})\n",
        "# plt.title('Distribution of Gender by Target')\n",
        "# plt.xlabel('Gender')\n",
        "# plt.ylabel('Percentage of Count')\n",
        "\n",
        "# # Print the percentages for each class and each 'Target' value\n",
        "# for index, row in percentage_df.iterrows():\n",
        "#     gender = row['Gender']\n",
        "#     target = row['Target']\n",
        "#     percentage = row['Percentage']\n",
        "#     print(f\"Gender: {gender}, Target: {target}, Percentage: {percentage:.2%}\")\n",
        "\n",
        "# plt.tight_layout()\n",
        "# plt.show()\n"
      ]
    },
    {
      "cell_type": "markdown",
      "id": "0250c61d-251c-4978-a9d9-636d0c35eaf1",
      "metadata": {
        "id": "0250c61d-251c-4978-a9d9-636d0c35eaf1"
      },
      "source": [
        "**WE can see from the above that both Default and non default is dominated by Male**"
      ]
    },
    {
      "cell_type": "markdown",
      "id": "74ceda8d-7b8b-4e3b-9927-68e18df9d316",
      "metadata": {
        "id": "74ceda8d-7b8b-4e3b-9927-68e18df9d316"
      },
      "source": [
        "**Let us now fill missing values in the Gender Column now using the mode basing the proportion of * *"
      ]
    },
    {
      "cell_type": "code",
      "execution_count": null,
      "id": "fa55f4f3-3ec9-488b-b496-498f81a8e739",
      "metadata": {
        "id": "fa55f4f3-3ec9-488b-b496-498f81a8e739"
      },
      "outputs": [],
      "source": [
        "# import pandas as pd\n",
        "# import numpy as np\n",
        "\n",
        "# # Convert the 'Gender' column to string data type before imputation\n",
        "# merged_df['Gender'] = merged_df['Gender'].astype(str)\n",
        "\n",
        "# # Calculate the overall proportions of 'M' and 'F' in the existing data\n",
        "# gender_proportions = merged_df['Gender'].value_counts(normalize=True)\n",
        "\n",
        "# # Function to impute missing values based on overall proportions\n",
        "# def impute_gender(row):\n",
        "#     if row['Gender'] == 'Gender_Missing':\n",
        "#         # Randomly impute \"M\" or \"F\" based on the overall proportions\n",
        "#         imputed_gender = np.random.choice(gender_proportions.index, p=gender_proportions.values)\n",
        "#         return imputed_gender\n",
        "#     else:\n",
        "#         return row['Gender']\n",
        "\n",
        "# # Apply the function to impute missing values\n",
        "# merged_df['Gender'] = merged_df.apply(impute_gender, axis=1)\n",
        "\n",
        "# # Check if there are still missing values\n",
        "# missing_values_count = (merged_df['Gender'] == 'Gender_Missing').sum()\n",
        "# print(f\"Missing values in 'Gender' column after imputation: {missing_values_count}\")\n"
      ]
    },
    {
      "cell_type": "code",
      "execution_count": null,
      "id": "510c0833-fc05-4355-9fc7-ab439a01fed2",
      "metadata": {
        "id": "510c0833-fc05-4355-9fc7-ab439a01fed2"
      },
      "outputs": [],
      "source": [
        "# import pandas as pd\n",
        "# import numpy as np\n",
        "\n",
        "# # Calculate proportions of 'M' and 'F' based on 'Target' values\n",
        "# proportions_by_target = merged_df.groupby(['Target', 'Gender']).size().unstack(fill_value=0)\n",
        "# proportions_by_target = proportions_by_target.div(proportions_by_target.sum(axis=1), axis=0)\n",
        "\n",
        "# # Function to impute missing values based on 'Target' and proportions\n",
        "# def impute_gender(row):\n",
        "#     if pd.isna(row['Gender']):\n",
        "#         target_value = row['Target']\n",
        "#         imputed_gender = np.random.choice(proportions_by_target.loc[target_value].index, p=proportions_by_target.loc[target_value].values)\n",
        "#         return imputed_gender\n",
        "#     else:\n",
        "#         return row['Gender']\n",
        "\n",
        "# # Apply the function to impute missing values\n",
        "# merged_df['Gender'] = merged_df.apply(impute_gender, axis=1)\n",
        "\n",
        "# # Check if there are still missing values\n",
        "# missing_values_count = merged_df['Gender'].isna().sum()\n",
        "# print(f\"Missing values in 'Gender' column after imputation: {missing_values_count}\")\n"
      ]
    },
    {
      "cell_type": "code",
      "execution_count": null,
      "id": "58e133bd-1c70-48d9-968e-7d70a4e54ae7",
      "metadata": {
        "id": "58e133bd-1c70-48d9-968e-7d70a4e54ae7"
      },
      "outputs": [],
      "source": [
        "merged_df.dropna(subset=['Gender'], inplace=True)\n"
      ]
    },
    {
      "cell_type": "code",
      "execution_count": null,
      "id": "995ffdb9-2d5c-4867-8634-4df7ff10feb0",
      "metadata": {
        "id": "995ffdb9-2d5c-4867-8634-4df7ff10feb0"
      },
      "outputs": [],
      "source": []
    },
    {
      "cell_type": "code",
      "execution_count": null,
      "id": "3552fe30-cb2f-42ce-aafa-a18c5eda275a",
      "metadata": {
        "id": "3552fe30-cb2f-42ce-aafa-a18c5eda275a"
      },
      "outputs": [],
      "source": [
        "# import pandas as pd\n",
        "# import scipy.stats as stats\n",
        "\n",
        "# # Define a list of columns to test\n",
        "# columns_to_test = merged_df.columns.difference(['Age'])  # Exclude 'Age'\n",
        "\n",
        "# # Create an empty dictionary to store the results\n",
        "# anova_results = {}\n",
        "\n",
        "# # Perform ANOVA for each column\n",
        "# for column in columns_to_test:\n",
        "#     unique_values = merged_df[column].unique()\n",
        "#     if len(unique_values) > 1:  # Check if there are multiple groups in the column\n",
        "#         try:\n",
        "#             # Perform ANOVA\n",
        "#             f_statistic, p_value = stats.f_oneway(*[merged_df['Age'][merged_df[column] == group_value] for group_value in unique_values])\n",
        "\n",
        "#             # Store the results\n",
        "#             anova_results[column] = {'F-statistic': f_statistic, 'p-value': p_value}\n",
        "#         except KeyError:\n",
        "#             print(f\"Column '{column}' not found in the dataset.\")\n",
        "\n",
        "# # Function to interpret the p-value\n",
        "# def interpret_p_value(p_value):\n",
        "#     if p_value < 0.05:\n",
        "#         return \"Strong Relationship\"\n",
        "#     elif p_value < 0.1:\n",
        "#         return \"Moderate Relationship\"\n",
        "#     else:\n",
        "#         return \"Weak Relationship\"\n",
        "\n",
        "# # Print the results\n",
        "# for column, results in anova_results.items():\n",
        "#     p_value = results['p-value']\n",
        "#     relationship_strength = interpret_p_value(p_value)\n",
        "#     print(f\"{column}: {relationship_strength} (p-value: {p_value:.4f})\")\n"
      ]
    },
    {
      "cell_type": "code",
      "execution_count": null,
      "id": "b27d0ea6-acc3-47d8-86cc-478669c157c2",
      "metadata": {
        "id": "b27d0ea6-acc3-47d8-86cc-478669c157c2"
      },
      "outputs": [],
      "source": []
    },
    {
      "cell_type": "code",
      "execution_count": null,
      "id": "f68d5653-74ee-4637-8141-fe0059e62ed2",
      "metadata": {
        "tags": [],
        "id": "f68d5653-74ee-4637-8141-fe0059e62ed2"
      },
      "outputs": [],
      "source": [
        "# import pandas as pd\n",
        "# import scipy.stats as stats\n",
        "\n",
        "# # Define a list of columns to test\n",
        "# columns_to_test = merged_df.columns.difference(['Age'])  # Exclude 'Age'\n",
        "\n",
        "# # Create an empty dictionary to store the results\n",
        "# kw_results = {}\n",
        "\n",
        "# # Perform Kruskal-Wallis test for each column\n",
        "# for column in columns_to_test:\n",
        "#     unique_values = merged_df[column].unique()\n",
        "#     if len(unique_values) > 1:  # Check if there are multiple groups in the column\n",
        "#         try:\n",
        "#             # Perform Kruskal-Wallis test\n",
        "#             groups = [merged_df['Age'][merged_df[column] == group_value] for group_value in unique_values]\n",
        "#             k_statistic, p_value = stats.kruskal(*groups)\n",
        "\n",
        "#             # Store the results\n",
        "#             kw_results[column] = {'Kruskal-Statistic': k_statistic, 'p-value': p_value}\n",
        "#         except KeyError:\n",
        "#             print(f\"Column '{column}' not found in the dataset.\")\n",
        "\n",
        "# # Function to interpret the p-value\n",
        "# def interpret_p_value(p_value):\n",
        "#     if p_value < 0.05:\n",
        "#         return \"Strong Relationship\"\n",
        "#     elif p_value < 0.1:\n",
        "#         return \"Moderate Relationship\"\n",
        "#     else:\n",
        "#         return \"Weak Relationship\"\n",
        "\n",
        "# # Print the results\n",
        "# for column, results in kw_results.items():\n",
        "#     p_value = results['p-value']\n",
        "#     relationship_strength = interpret_p_value(p_value)\n",
        "#     print(f\"{column}: {relationship_strength} (p-value: {p_value:.4f})\")\n"
      ]
    },
    {
      "cell_type": "code",
      "execution_count": null,
      "id": "62fcdaff-14ce-47b9-ad90-06fc0fa1602e",
      "metadata": {
        "id": "62fcdaff-14ce-47b9-ad90-06fc0fa1602e"
      },
      "outputs": [],
      "source": []
    },
    {
      "cell_type": "code",
      "execution_count": null,
      "id": "f3ac6a5d-f59c-40ab-87f9-0be97e1bea8f",
      "metadata": {
        "tags": [],
        "id": "f3ac6a5d-f59c-40ab-87f9-0be97e1bea8f"
      },
      "outputs": [],
      "source": [
        "# import pandas as pd\n",
        "# import scipy.stats as stats\n",
        "\n",
        "# # Define a list of columns to test\n",
        "# columns_to_test = merged_df.columns.difference(['Age'])  # Exclude 'Age'\n",
        "\n",
        "# # Create an empty dictionary to store the results\n",
        "# pbs_results = {}\n",
        "\n",
        "# # Perform Point-Biserial Correlation for each column\n",
        "# for column in columns_to_test:\n",
        "#     try:\n",
        "#         # Ensure 'Age' is treated as a continuous variable\n",
        "#         age = merged_df['Age'].astype(float)\n",
        "\n",
        "#         # Convert the categorical variable to a binary variable\n",
        "#         binary_variable = (merged_df[column] == merged_df[column].mode()[0]).astype(int)\n",
        "\n",
        "#         # Calculate Point-Biserial Correlation\n",
        "#         pbs_corr, p_value = stats.pointbiserialr(binary_variable, age)\n",
        "\n",
        "#         # Store the results\n",
        "#         pbs_results[column] = {'Point-Biserial Correlation': pbs_corr, 'p-value': p_value}\n",
        "#     except KeyError:\n",
        "#         print(f\"Column '{column}' not found in the dataset.\")\n",
        "\n",
        "# # Function to interpret the p-value and correlation strength\n",
        "# def interpret_p_value(p_value):\n",
        "#     if p_value < 0.05:\n",
        "#         return \"Strong Relationship\"\n",
        "#     elif p_value < 0.1:\n",
        "#         return \"Moderate Relationship\"\n",
        "#     else:\n",
        "#         return \"Weak Relationship\"\n",
        "\n",
        "# # Print the results\n",
        "# for column, results in pbs_results.items():\n",
        "#     p_value = results['p-value']\n",
        "#     correlation_strength = interpret_p_value(p_value)\n",
        "#     pbs_corr = results['Point-Biserial Correlation']\n",
        "#     print(f\"{column}: {correlation_strength}, Point-Biserial Correlation: {pbs_corr:.4f}, p-value: {p_value:.4f}\")\n"
      ]
    },
    {
      "cell_type": "code",
      "execution_count": null,
      "id": "24f0e5d1-290c-4baf-bbf6-0a8bf71c8e51",
      "metadata": {
        "id": "24f0e5d1-290c-4baf-bbf6-0a8bf71c8e51"
      },
      "outputs": [],
      "source": []
    },
    {
      "cell_type": "markdown",
      "id": "57de3c92-7773-4ca0-b48b-ba99ca273a1d",
      "metadata": {
        "id": "57de3c92-7773-4ca0-b48b-ba99ca273a1d"
      },
      "source": [
        "## Let me explore Age"
      ]
    },
    {
      "cell_type": "code",
      "execution_count": null,
      "id": "2bdd2963-3acc-4cc4-81a0-6a89435f2280",
      "metadata": {
        "id": "2bdd2963-3acc-4cc4-81a0-6a89435f2280"
      },
      "outputs": [],
      "source": [
        "# # Explore Age vs Survived\n",
        "# g = sns.FacetGrid(merged_df, col='Target')\n",
        "# g = g.map(sns.distplot, \"Age\")"
      ]
    },
    {
      "cell_type": "code",
      "execution_count": null,
      "id": "5c38454b-ba9e-4c35-911b-995f4b18786d",
      "metadata": {
        "tags": [],
        "id": "5c38454b-ba9e-4c35-911b-995f4b18786d"
      },
      "outputs": [],
      "source": [
        "# # Filter the DataFrame for Target = 0 and create a distplot\n",
        "# plt.figure(figsize=(12, 6))\n",
        "# plt.subplot(1, 2, 1)\n",
        "# sns.histplot(merged_df[merged_df['Target'] == 0]['Age'], color='blue', kde=True)\n",
        "# plt.title('Distribution of Age for Target = 0')\n",
        "\n",
        "# # Filter the DataFrame for Target = 1 and create a distplot\n",
        "# plt.subplot(1, 2, 2)\n",
        "# sns.histplot(merged_df[merged_df['Target'] == 1]['Age'], color='green', kde=True)\n",
        "# plt.title('Distribution of Age for Target = 1')\n",
        "\n",
        "# plt.tight_layout()\n",
        "# plt.show()\n"
      ]
    },
    {
      "cell_type": "markdown",
      "id": "4973190b-e228-428c-981e-88f0d2f6ab7d",
      "metadata": {
        "tags": [],
        "id": "4973190b-e228-428c-981e-88f0d2f6ab7d"
      },
      "source": [
        "**Since I am able to see that most people lie between 30 to 50 range in years**"
      ]
    },
    {
      "cell_type": "markdown",
      "id": "92caa39b-a69f-40ae-b708-07ea68d1ea05",
      "metadata": {
        "id": "92caa39b-a69f-40ae-b708-07ea68d1ea05"
      },
      "source": [
        "**From the above distant plots we are able to notice a notable pattern for the positive class which we are much interested in ,From the above plots we can seee and maybe passively conclude that people aged between 0 to 40 range  are more likely to default in  which is the vice vasa state considering persons aged between 40 to 100 years range , So in a nutshell , Age and default rate have inverse relationship"
      ]
    },
    {
      "cell_type": "markdown",
      "id": "a13d409e-5bc6-4ee3-9aab-f3ae17d35cff",
      "metadata": {
        "id": "a13d409e-5bc6-4ee3-9aab-f3ae17d35cff"
      },
      "source": [
        "## Explore PAYMENT_TYPE"
      ]
    },
    {
      "cell_type": "code",
      "execution_count": null,
      "id": "f314dc3c-e539-43be-81a8-e358d57bd632",
      "metadata": {
        "id": "f314dc3c-e539-43be-81a8-e358d57bd632"
      },
      "outputs": [],
      "source": [
        "# # Filter the DataFrame for Target = 0 and create a distplot\n",
        "# plt.figure(figsize=(12, 6))\n",
        "# plt.subplot(1, 2, 1)\n",
        "# sns.histplot(merged_df[merged_df['Target'] == 0]['PAYMENT_TYPE'], color='blue', kde=True)\n",
        "# plt.title('Distribution of PAYMENT_TYPE for Target = 0')\n",
        "\n",
        "# # Filter the DataFrame for Target = 1 and create a distplot\n",
        "# plt.subplot(1, 2, 2)\n",
        "# sns.histplot(merged_df[merged_df['Target'] == 1]['PAYMENT_TYPE'], color='green', kde=True)\n",
        "# plt.title('Distribution of Gender for Target = 1')\n",
        "\n",
        "# plt.tight_layout()\n",
        "# plt.show()\n"
      ]
    },
    {
      "cell_type": "markdown",
      "id": "3ee634a8-4a8b-40a0-a5de-e61d3d00725f",
      "metadata": {
        "id": "3ee634a8-4a8b-40a0-a5de-e61d3d00725f"
      },
      "source": [
        "**I can conclude that payment method is highly skewed to one side having a longer tail and therefore I will drop it because it can cause bias in my final result**"
      ]
    },
    {
      "cell_type": "markdown",
      "id": "bdc071a6-73e4-4537-992b-97d61b46c776",
      "metadata": {
        "tags": [],
        "id": "bdc071a6-73e4-4537-992b-97d61b46c776"
      },
      "source": [
        "## Explore COUNT_OF_BLOCKS"
      ]
    },
    {
      "cell_type": "code",
      "execution_count": null,
      "id": "7aeed689-dfca-4e4b-b2be-362cae9d66c5",
      "metadata": {
        "tags": [],
        "id": "7aeed689-dfca-4e4b-b2be-362cae9d66c5"
      },
      "outputs": [],
      "source": [
        "# # Filter the DataFrame for Target = 0 and create a distplot\n",
        "# plt.figure(figsize=(12, 6))\n",
        "# plt.subplot(1, 2, 1)\n",
        "# sns.histplot(merged_df[merged_df['Target'] == 0]['COUNT_OF_BLOCKS'], color='blue', kde=True)\n",
        "# plt.title('Distribution of COUNT_OF_BLOCKS for Target = 0')\n",
        "\n",
        "# # Filter the DataFrame for Target = 1 and create a distplot\n",
        "# plt.subplot(1, 2, 2)\n",
        "# sns.histplot(merged_df[merged_df['Target'] == 1]['COUNT_OF_BLOCKS'], color='green', kde=True)\n",
        "# plt.title('Distribution of COUNT_OF_BLOCKS for Target = 1')\n",
        "\n",
        "# plt.tight_layout()\n",
        "# plt.show()\n"
      ]
    },
    {
      "cell_type": "markdown",
      "id": "29bfb8a0-f380-41ac-b7e9-5c10f203bfb1",
      "metadata": {
        "id": "29bfb8a0-f380-41ac-b7e9-5c10f203bfb1"
      },
      "source": [
        "**I can conclude that COUNT_OF_BLOCKS  is highly skewed to one side having a longer tail and therefore I will drop it because it can cause bias in my final result**"
      ]
    },
    {
      "cell_type": "markdown",
      "id": "f4ac4ac9-e12f-4afb-b35d-d1251857ab04",
      "metadata": {
        "id": "f4ac4ac9-e12f-4afb-b35d-d1251857ab04"
      },
      "source": [
        "## Explore TRANSACTION_RECIEVERS"
      ]
    },
    {
      "cell_type": "code",
      "execution_count": null,
      "id": "e838d5fd-ca00-4e6e-82ea-69a631710297",
      "metadata": {
        "tags": [],
        "id": "e838d5fd-ca00-4e6e-82ea-69a631710297"
      },
      "outputs": [],
      "source": [
        "# # Filter the DataFrame for Target = 0 and create a distplot\n",
        "# plt.figure(figsize=(12, 6))\n",
        "# plt.subplot(1, 2, 1)\n",
        "# sns.histplot(merged_df[merged_df['Target'] == 0]['TRANSACTION_RECIEVERS'], color='blue', kde=True)\n",
        "# plt.title('Distribution of TRANSACTION_RECIEVERS for Target = 0')\n",
        "\n",
        "# # Filter the DataFrame for Target = 1 and create a distplot\n",
        "# plt.subplot(1, 2, 2)\n",
        "# sns.histplot(merged_df[merged_df['Target'] == 1]['TRANSACTION_RECIEVERS'], color='green', kde=True)\n",
        "# plt.title('Distribution of TRANSACTION_RECIEVERS for Target = 1')\n",
        "\n",
        "# plt.tight_layout()\n",
        "# plt.show()\n"
      ]
    },
    {
      "cell_type": "markdown",
      "id": "fceb3d68-750b-463b-8728-a452d511ab79",
      "metadata": {
        "id": "fceb3d68-750b-463b-8728-a452d511ab79"
      },
      "source": [
        "## Explore LIMIT"
      ]
    },
    {
      "cell_type": "code",
      "execution_count": null,
      "id": "47311107-1eed-4c13-afc2-44819fd1cd01",
      "metadata": {
        "tags": [],
        "id": "47311107-1eed-4c13-afc2-44819fd1cd01"
      },
      "outputs": [],
      "source": [
        "# # Filter the DataFrame for Target = 0 and create a distplot\n",
        "# plt.figure(figsize=(12, 6))\n",
        "# plt.subplot(1, 2, 1)\n",
        "# sns.histplot(merged_df[merged_df['Target'] == 0]['LIMIT'], color='blue', kde=True)\n",
        "# plt.title('Distribution of LIMIT for Target = 0')\n",
        "\n",
        "# # Filter the DataFrame for Target = 1 and create a distplot\n",
        "# plt.subplot(1, 2, 2)\n",
        "# sns.histplot(merged_df[merged_df['Target'] == 1]['LIMIT'], color='green', kde=True)\n",
        "# plt.title('Distribution of LIMIT for Target = 1')\n",
        "\n",
        "# plt.tight_layout()\n",
        "# plt.show()\n"
      ]
    },
    {
      "cell_type": "markdown",
      "id": "bb6fe2fd-25e7-4f66-80e8-6249ac93c1a0",
      "metadata": {
        "id": "bb6fe2fd-25e7-4f66-80e8-6249ac93c1a0"
      },
      "source": [
        "## Explore PAYMENT_TRXN"
      ]
    },
    {
      "cell_type": "code",
      "execution_count": null,
      "id": "71023e8a-db13-4a6e-b487-0d9323804c04",
      "metadata": {
        "tags": [],
        "id": "71023e8a-db13-4a6e-b487-0d9323804c04"
      },
      "outputs": [],
      "source": [
        "# # Filter the DataFrame for Target = 0 and create a distplot\n",
        "# plt.figure(figsize=(12, 6))\n",
        "# plt.subplot(1, 2, 1)\n",
        "# sns.histplot(merged_df[merged_df['PAYMENT_TRXN'] == 0]['PAYMENT_TRXN'], color='blue', kde=True)\n",
        "# plt.title('Distribution of PAYMENT_TRXN for Target = 0')\n",
        "\n",
        "# # Filter the DataFrame for Target = 1 and create a distplot\n",
        "# plt.subplot(1, 2, 2)\n",
        "# sns.histplot(merged_df[merged_df['Target'] == 1]['PAYMENT_TRXN'], color='green', kde=True)\n",
        "# plt.title('Distribution of PAYMENT_TRXN for Target = 1')\n",
        "\n",
        "# plt.tight_layout()\n",
        "# plt.show()\n"
      ]
    },
    {
      "cell_type": "markdown",
      "id": "f804f81b-cdff-4c52-89d1-cee469dd1cbd",
      "metadata": {
        "tags": [],
        "id": "f804f81b-cdff-4c52-89d1-cee469dd1cbd"
      },
      "source": [
        "## Explore PAYMENT_COUNT_2"
      ]
    },
    {
      "cell_type": "code",
      "execution_count": null,
      "id": "fcb90c1d-3623-462c-85e4-d162211d31c8",
      "metadata": {
        "tags": [],
        "id": "fcb90c1d-3623-462c-85e4-d162211d31c8"
      },
      "outputs": [],
      "source": [
        "# # Filter the DataFrame for Target = 0 and create a distplot\n",
        "# plt.figure(figsize=(12, 6))\n",
        "# plt.subplot(1, 2, 1)\n",
        "# sns.histplot(merged_df[merged_df['PAYMENT_COUNT_2'] == 0]['PAYMENT_COUNT_2'], color='blue', kde=True)\n",
        "# plt.title('Distribution of PAYMENT_COUNT_2 for Target = 0')\n",
        "\n",
        "# # Filter the DataFrame for Target = 1 and create a distplot\n",
        "# plt.subplot(1, 2, 2)\n",
        "# sns.histplot(merged_df[merged_df['Target'] == 1]['PAYMENT_COUNT_2'], color='green', kde=True)\n",
        "# plt.title('Distribution of PAYMENT_COUNT_2 for Target = 1')\n",
        "\n",
        "# plt.tight_layout()\n",
        "# plt.show()\n"
      ]
    },
    {
      "cell_type": "markdown",
      "id": "37dd4075-702c-4ef2-823a-0d846031854b",
      "metadata": {
        "id": "37dd4075-702c-4ef2-823a-0d846031854b"
      },
      "source": [
        "## Explore LOAN_COUNT"
      ]
    },
    {
      "cell_type": "code",
      "execution_count": null,
      "id": "07f5dc6a-a199-4770-8258-ae9ba221eeb5",
      "metadata": {
        "tags": [],
        "id": "07f5dc6a-a199-4770-8258-ae9ba221eeb5"
      },
      "outputs": [],
      "source": [
        "# # Filter the DataFrame for Target = 0 and create a distplot\n",
        "# plt.figure(figsize=(12, 6))\n",
        "# plt.subplot(1, 2, 1)\n",
        "# sns.histplot(merged_df[merged_df['LOAN_COUNT'] == 0]['LOAN_COUNT'], color='blue', kde=True)\n",
        "# plt.title('Distribution of LOAN_COUNT for Target = 0')\n",
        "\n",
        "# # Filter the DataFrame for Target = 1 and create a distplot\n",
        "# plt.subplot(1, 2, 2)\n",
        "# sns.histplot(merged_df[merged_df['Target'] == 1]['LOAN_COUNT'], color='green', kde=True)\n",
        "# plt.title('Distribution of LOAN_COUNT for Target = 1')\n",
        "\n",
        "# plt.tight_layout()\n",
        "# plt.show()\n"
      ]
    },
    {
      "cell_type": "code",
      "execution_count": null,
      "id": "c31c779e-8973-4036-b055-dbf1ac0e8ea8",
      "metadata": {
        "tags": [],
        "id": "c31c779e-8973-4036-b055-dbf1ac0e8ea8"
      },
      "outputs": [],
      "source": [
        "## Explore PAYMENT_VALUE_2"
      ]
    },
    {
      "cell_type": "code",
      "execution_count": null,
      "id": "bc57861b-fae2-4f9f-b9cd-3075643cff5e",
      "metadata": {
        "tags": [],
        "id": "bc57861b-fae2-4f9f-b9cd-3075643cff5e"
      },
      "outputs": [],
      "source": [
        "# # Filter the DataFrame for Target = 0 and create a distplot\n",
        "# plt.figure(figsize=(12, 6))\n",
        "# plt.subplot(1, 2, 1)\n",
        "# sns.histplot(merged_df[merged_df['PAYMENT_VALUE_2'] == 0]['PAYMENT_VALUE_2'], color='blue', kde=True)\n",
        "# plt.title('Distribution of PAYMENT_VALUE_2 for Target = 0')\n",
        "\n",
        "# # Filter the DataFrame for Target = 1 and create a distplot\n",
        "# plt.subplot(1, 2, 2)\n",
        "# sns.histplot(merged_df[merged_df['Target'] == 1]['PAYMENT_VALUE_2'], color='green', kde=True)\n",
        "# plt.title('Distribution of PAYMENT_VALUE_2 for Target = 1')\n",
        "\n",
        "# plt.tight_layout()\n",
        "# plt.show()\n"
      ]
    },
    {
      "cell_type": "markdown",
      "id": "967e16d9-f1da-49c3-92f4-091c25ce5953",
      "metadata": {
        "id": "967e16d9-f1da-49c3-92f4-091c25ce5953"
      },
      "source": [
        "We can see that te above columns have resembling charts when plotted in relation to the target and from the chi square tests too have same characteristics and non signifficant so I will drop them"
      ]
    },
    {
      "cell_type": "markdown",
      "id": "f9402fe9-f0d8-4d36-a13a-c3517e3fb8a1",
      "metadata": {
        "id": "f9402fe9-f0d8-4d36-a13a-c3517e3fb8a1"
      },
      "source": [
        "**Let me drop some more columns beacause they are too lesser  signifficant to my Target**"
      ]
    },
    {
      "cell_type": "code",
      "execution_count": null,
      "id": "f4aceedf-519b-48cd-a14e-09621e9f5a5d",
      "metadata": {
        "tags": [],
        "id": "f4aceedf-519b-48cd-a14e-09621e9f5a5d"
      },
      "outputs": [],
      "source": [
        "# dropping the columns\n",
        "merged_df.drop(['PAYMENT_TYPE','COUNT_OF_BLOCKS','TRANSACTION_RECIEVERS','LIMIT','PAYMENT_TRXN','PAYMENT_COUNT_2','LOAN_COUNT','PAYMENT_VALUE_2','COUNT_OF_OVERDUE_LOANS','RECHARGE_MODE'], axis=1, inplace=True)"
      ]
    },
    {
      "cell_type": "code",
      "execution_count": null,
      "id": "4cdb8b70-cf2f-4b7c-a3e0-a8aba4875e1e",
      "metadata": {
        "id": "4cdb8b70-cf2f-4b7c-a3e0-a8aba4875e1e"
      },
      "outputs": [],
      "source": [
        "# merged_df.info()"
      ]
    },
    {
      "cell_type": "markdown",
      "id": "60091819-0827-475c-9a4f-5d418e84186e",
      "metadata": {
        "id": "60091819-0827-475c-9a4f-5d418e84186e"
      },
      "source": [
        "Now we are set to go because our data has no missing values anymore"
      ]
    },
    {
      "cell_type": "code",
      "execution_count": null,
      "id": "bc507f0b-4f2a-4cf0-b7f4-54e9f55bd33d",
      "metadata": {
        "tags": [],
        "id": "bc507f0b-4f2a-4cf0-b7f4-54e9f55bd33d"
      },
      "outputs": [],
      "source": [
        "# Define a list of columns to be converted to string\n",
        "columns_to_convert = [col for col in merged_df.columns if col not in [ 'Age','Gender', 'Target']]\n",
        "\n",
        "# Change the data type of selected columns to string\n",
        "merged_df[columns_to_convert] = merged_df[columns_to_convert].astype(str)\n"
      ]
    },
    {
      "cell_type": "code",
      "execution_count": null,
      "id": "b264a062-1cd0-4cfb-8aca-683c77335a5f",
      "metadata": {
        "tags": [],
        "id": "b264a062-1cd0-4cfb-8aca-683c77335a5f",
        "outputId": "99201399-624e-44a4-ee02-8bfcdb57eef4"
      },
      "outputs": [
        {
          "name": "stdout",
          "output_type": "stream",
          "text": [
            "<class 'pandas.core.frame.DataFrame'>\n",
            "Int64Index: 9525 entries, 0 to 9758\n",
            "Data columns (total 29 columns):\n",
            " #   Column                  Non-Null Count  Dtype  \n",
            "---  ------                  --------------  -----  \n",
            " 0   Msisdn                  9525 non-null   object \n",
            " 1   Gender                  9525 non-null   object \n",
            " 2   SUBSCRIPTION_PERIOD     9525 non-null   object \n",
            " 3   TRANSACTION_PERIOD      9525 non-null   object \n",
            " 4   TOPUP_CONSUMPTION       9525 non-null   object \n",
            " 5   TOPUP_CONSUMPTION_6     9525 non-null   object \n",
            " 6   ACTIVE_STATUS           9525 non-null   object \n",
            " 7   TRANSACTIONS_RECIEVED   9525 non-null   object \n",
            " 8   ACCOUNT_DEBIT           9525 non-null   object \n",
            " 9   ACCOUNT_CREDIT          9525 non-null   object \n",
            " 10  NUMBER_OF_PAYMENT_TRXN  9525 non-null   object \n",
            " 11  VALUE_SENT              9525 non-null   object \n",
            " 12  HIGHEST_VALUE           9525 non-null   object \n",
            " 13  VALUE_RECIEVED          9525 non-null   object \n",
            " 14  TRXN_COUNT              9525 non-null   object \n",
            " 15  BANK_TRANS              9525 non-null   object \n",
            " 16  OTHER_RECEIPTS          9525 non-null   object \n",
            " 17  TOTAL_BANK_TRANS        9525 non-null   object \n",
            " 18  TOTAL_PAYMENTS          9525 non-null   object \n",
            " 19  TOTAL_MONEY_IN_3        9525 non-null   object \n",
            " 20  TOTAL_MONEY_OUT_3       9525 non-null   object \n",
            " 21  CURR_POINTS             9525 non-null   object \n",
            " 22  RDM_POINTS_6            9525 non-null   object \n",
            " 23  LOAN_BLACKLIST          9525 non-null   object \n",
            " 24  LOAN_BLACKLIST_DAYS     9525 non-null   object \n",
            " 25  CURR_DEVICE_MAKE        9525 non-null   object \n",
            " 26  CURR_DEVICE_RRP         9525 non-null   object \n",
            " 27  Target                  9525 non-null   int32  \n",
            " 28  Age                     9525 non-null   float64\n",
            "dtypes: float64(1), int32(1), object(27)\n",
            "memory usage: 2.1+ MB\n"
          ]
        }
      ],
      "source": [
        "merged_df.info()"
      ]
    },
    {
      "cell_type": "markdown",
      "id": "734c9e1e-12ff-4bc7-877f-4eb809532e76",
      "metadata": {
        "tags": [],
        "id": "734c9e1e-12ff-4bc7-877f-4eb809532e76"
      },
      "source": [
        "## Detecting outliers"
      ]
    },
    {
      "cell_type": "code",
      "execution_count": null,
      "id": "5cea8918-72bf-4734-9715-7d95d0e70cb9",
      "metadata": {
        "id": "5cea8918-72bf-4734-9715-7d95d0e70cb9",
        "outputId": "a6ae3632-bf4a-4086-aa44-d3f0b8797c0c"
      },
      "outputs": [
        {
          "data": {
            "image/png": "[encoded data removed]",
            "text/plain": [
              "<Figure size 1200x600 with 1 Axes>"
            ]
          },
          "metadata": {},
          "output_type": "display_data"
        }
      ],
      "source": [
        "import matplotlib.pyplot as plt\n",
        "\n",
        "# Assuming 'Age' is the column you want to visualize\n",
        "age_data = merged_df['Age']\n",
        "\n",
        "# Create a histogram plot to show the distribution of 'Age'\n",
        "plt.figure(figsize=(12, 6))\n",
        "plt.hist(age_data, bins=20, color='blue', alpha=0.7, edgecolor='black', density=True)\n",
        "plt.xlabel('Age')\n",
        "plt.ylabel('Density')\n",
        "plt.title('Distribution of Age')\n",
        "\n",
        "plt.tight_layout()\n",
        "plt.show()\n"
      ]
    },
    {
      "cell_type": "code",
      "execution_count": null,
      "id": "af353399-4f77-4f2f-a797-3010fe2f4c77",
      "metadata": {
        "id": "af353399-4f77-4f2f-a797-3010fe2f4c77"
      },
      "outputs": [],
      "source": []
    },
    {
      "cell_type": "code",
      "execution_count": null,
      "id": "0c5687fe-bda5-411a-b2e4-5831f2e1d4b8",
      "metadata": {
        "tags": [],
        "id": "0c5687fe-bda5-411a-b2e4-5831f2e1d4b8",
        "outputId": "21e534a9-66a2-4f63-9cf9-5b1ce94cb67b"
      },
      "outputs": [
        {
          "data": {
            "image/png": "[encoded data removed]",
            "text/plain": [
              "<Figure size 1200x600 with 1 Axes>"
            ]
          },
          "metadata": {},
          "output_type": "display_data"
        }
      ],
      "source": [
        "import matplotlib.pyplot as plt\n",
        "\n",
        "# Assuming 'Age' is the column you want to visualize\n",
        "age_data = merged_df['Age']\n",
        "\n",
        "# Create a scatterplot to visualize the distribution of 'Age'\n",
        "plt.figure(figsize=(12, 6))\n",
        "plt.scatter(age_data, age_data.index, alpha=0.5, color='blue')\n",
        "plt.xlabel('Age')\n",
        "plt.ylabel('Density')\n",
        "plt.title('Scatterplot of Age vs. Density')\n",
        "\n",
        "plt.tight_layout()\n",
        "plt.show()\n"
      ]
    },
    {
      "cell_type": "markdown",
      "id": "7ae4160e-2a24-4bff-a6ea-f5e06f61b01c",
      "metadata": {
        "id": "7ae4160e-2a24-4bff-a6ea-f5e06f61b01c"
      },
      "source": [
        "from the above we can see that we have some customers who are above the age of 80"
      ]
    },
    {
      "cell_type": "code",
      "execution_count": null,
      "id": "b64d66d9-fe88-4f18-8f41-4718fe1ffa78",
      "metadata": {
        "tags": [],
        "id": "b64d66d9-fe88-4f18-8f41-4718fe1ffa78",
        "outputId": "50131d24-daca-43e5-af35-0d33a20ec72a"
      },
      "outputs": [
        {
          "name": "stdout",
          "output_type": "stream",
          "text": [
            "Column 'Target' has 0 outliers.\n",
            "Column 'Age' has 2 outliers.\n",
            "Problematic columns with significant outliers: []\n"
          ]
        }
      ],
      "source": [
        "import pandas as pd\n",
        "\n",
        "# Define a function to detect outliers using the IQR method\n",
        "def detect_outliers(df):\n",
        "    outliers = []\n",
        "    for col in df.columns:\n",
        "        if pd.api.types.is_numeric_dtype(df[col]):\n",
        "            Q1 = df[col].quantile(0.25)\n",
        "            Q3 = df[col].quantile(0.90)\n",
        "            IQR = Q3 - Q1\n",
        "            lower_bound = Q1 - 1.5 * IQR\n",
        "            upper_bound = Q3 + 1.5 * IQR\n",
        "            column_outliers = df[(df[col] < lower_bound) | (df[col] > upper_bound)]\n",
        "            outliers.append((col, len(column_outliers)))\n",
        "    return outliers\n",
        "\n",
        "# Detect outliers in the entire DataFrame merged_df\n",
        "outliers = detect_outliers(merged_df)\n",
        "\n",
        "# Print the columns with the count of outliers\n",
        "for col, count in outliers:\n",
        "    print(f\"Column '{col}' has {count} outliers.\")\n",
        "\n",
        "# You can choose a threshold for the count of outliers to identify columns with significant outliers\n",
        "# For example, if you want to consider columns with more than 10 outliers as problematic:\n",
        "problematic_columns = [col for col, count in outliers if count > 10]\n",
        "print(\"Problematic columns with significant outliers:\", problematic_columns)\n"
      ]
    },
    {
      "cell_type": "markdown",
      "id": "489bf41f-b55a-462f-8cf2-4702a8411fb8",
      "metadata": {
        "id": "489bf41f-b55a-462f-8cf2-4702a8411fb8"
      },
      "source": [
        "**I set  my  threshhold for the outlier detection to be 0.25 to 0.90 because from my analysis and scatterplot, some people aged more than 70 years are buying phones and making payments. Depending on the context of your analysis, these data points may not be outliers but rather legitimate observations. Therefore, it's essential to consider**"
      ]
    },
    {
      "cell_type": "code",
      "execution_count": null,
      "id": "0acf39ef-83fc-4276-9462-05f0bedc9bda",
      "metadata": {
        "tags": [],
        "id": "0acf39ef-83fc-4276-9462-05f0bedc9bda"
      },
      "outputs": [],
      "source": [
        "import pandas as pd\n",
        "\n",
        "# Assuming merged_df is your DataFrame\n",
        "# Define a function to remove outliers using the IQR method\n",
        "def remove_outliers(df, column_name):\n",
        "    Q1 = df[column_name].quantile(0.25)\n",
        "    Q3 = df[column_name].quantile(0.90)\n",
        "    IQR = Q3 - Q1\n",
        "    lower_bound = Q1 - 1.5 * IQR\n",
        "    upper_bound = Q3 + 1.5 * IQR\n",
        "    df_no_outliers = df[(df[column_name] >= lower_bound) & (df[column_name] <= upper_bound)]\n",
        "    return df_no_outliers\n",
        "\n",
        "# Specify the column you want to check for outliers (e.g., 'Age')\n",
        "column_to_check = 'Age'\n",
        "\n",
        "# Remove outliers from the DataFrame\n",
        "merged_df_no_outliers = remove_outliers(merged_df, column_to_check)\n",
        "\n",
        "# merged_df_no_outliers now contains the data with outliers removed\n"
      ]
    },
    {
      "cell_type": "markdown",
      "id": "0f9221c3-1573-42a0-a1af-bb2841e02190",
      "metadata": {
        "id": "0f9221c3-1573-42a0-a1af-bb2841e02190"
      },
      "source": [
        "**therefore, I will drop the one outlier because it comprises a lesser portion of my dataset**"
      ]
    },
    {
      "cell_type": "code",
      "execution_count": null,
      "id": "5763c372-a8c8-44e7-b84c-98e8f4f5f30c",
      "metadata": {
        "tags": [],
        "id": "5763c372-a8c8-44e7-b84c-98e8f4f5f30c"
      },
      "outputs": [],
      "source": [
        "merged_df=merged_df_no_outliers"
      ]
    },
    {
      "cell_type": "code",
      "execution_count": null,
      "id": "d6acefbe-821d-425a-849f-458315f8c953",
      "metadata": {
        "id": "d6acefbe-821d-425a-849f-458315f8c953"
      },
      "outputs": [],
      "source": [
        "# merged_df.Age = pd.qcut(merged_df.Age.values, 20).codes"
      ]
    },
    {
      "cell_type": "code",
      "execution_count": 4,
      "id": "fc4562a7-b887-4b2f-9edf-673e61cf8f1d",
      "metadata": {
        "tags": [],
        "id": "fc4562a7-b887-4b2f-9edf-673e61cf8f1d"
      },
      "outputs": [],
      "source": [
        "# merged_df"
      ]
    },
    {
      "cell_type": "code",
      "execution_count": null,
      "id": "d6ec74a0-9f6d-4173-b4f3-6540bb7cfb7d",
      "metadata": {
        "tags": [],
        "id": "d6ec74a0-9f6d-4173-b4f3-6540bb7cfb7d"
      },
      "outputs": [],
      "source": [
        "# Assuming 'Msisdn' is the column you want to set as the index in the DataFrame 'merged_df'\n",
        "merged_df.set_index('Msisdn', inplace=True)\n"
      ]
    },
    {
      "cell_type": "code",
      "execution_count": 5,
      "id": "0d71d4f8-b641-4479-8336-6b9b6549d450",
      "metadata": {
        "tags": [],
        "id": "0d71d4f8-b641-4479-8336-6b9b6549d450"
      },
      "outputs": [],
      "source": [
        "# merged_df"
      ]
    },
    {
      "cell_type": "markdown",
      "id": "cd604b80-bc73-4956-8a4e-4de623942a15",
      "metadata": {
        "id": "cd604b80-bc73-4956-8a4e-4de623942a15"
      },
      "source": [
        "SINCE WE HAVE CONFIRMED OUR DATASET HAS NO MISSING VALUES AND OUTLIERS WE CAN NOW EXPLORE OUR TARGET VARRIABLE"
      ]
    },
    {
      "cell_type": "markdown",
      "id": "0844172b-555b-403e-b603-b234ed34b1fd",
      "metadata": {
        "id": "0844172b-555b-403e-b603-b234ed34b1fd"
      },
      "source": [
        "## TARGET DISTRIBUTION"
      ]
    },
    {
      "cell_type": "code",
      "execution_count": null,
      "id": "b1f9c5c8-fb53-4034-be95-305e6b6303b3",
      "metadata": {
        "id": "b1f9c5c8-fb53-4034-be95-305e6b6303b3"
      },
      "outputs": [],
      "source": []
    },
    {
      "cell_type": "code",
      "execution_count": null,
      "id": "584de6ab-20e4-4db4-9753-9a790f9d58c7",
      "metadata": {
        "tags": [],
        "id": "584de6ab-20e4-4db4-9753-9a790f9d58c7",
        "outputId": "a8e44403-bfdc-4c91-e78d-7d67796b55bd"
      },
      "outputs": [
        {
          "data": {
            "image/png": "[encoded data removed]",
            "text/plain": [
              "<Figure size 1000x600 with 1 Axes>"
            ]
          },
          "metadata": {},
          "output_type": "display_data"
        }
      ],
      "source": [
        "ax = sns.countplot(x = merged_df.Target ,palette=\"Set3\")\n",
        "sns.set(font_scale=1.5)\n",
        "ax.set_ylim(top = 10000)\n",
        "ax.set_xlabel('Default')\n",
        "ax.set_ylabel('Frequency')\n",
        "fig = plt.gcf()\n",
        "fig.set_size_inches(10,6)\n",
        "ax.set_ylim(top=10000)\n",
        "plt.show()"
      ]
    },
    {
      "cell_type": "markdown",
      "id": "70f855ee-4773-404b-87b2-14fc1ba61d7b",
      "metadata": {
        "tags": [],
        "id": "70f855ee-4773-404b-87b2-14fc1ba61d7b"
      },
      "source": [
        "## Let's Explore some of our Variables"
      ]
    },
    {
      "cell_type": "markdown",
      "id": "25f380ea-9157-49d3-8250-927f9d7b0f68",
      "metadata": {
        "id": "25f380ea-9157-49d3-8250-927f9d7b0f68"
      },
      "source": [
        "## Let's Explore Age Now"
      ]
    },
    {
      "cell_type": "code",
      "execution_count": null,
      "id": "d1cf63c8-c5c6-4ae1-a52d-4f9e818c5136",
      "metadata": {
        "id": "d1cf63c8-c5c6-4ae1-a52d-4f9e818c5136",
        "outputId": "bfa21f27-4aee-4951-c5f9-2f47af09abb9"
      },
      "outputs": [
        {
          "data": {
            "image/png": "[encoded data removed]",
            "text/plain": [
              "<Figure size 600x300 with 2 Axes>"
            ]
          },
          "metadata": {},
          "output_type": "display_data"
        }
      ],
      "source": [
        "# Explore Age vs Target\n",
        "g = sns.FacetGrid(merged_df, col='Target')\n",
        "g = g.map(sns.distplot, \"Age\")"
      ]
    },
    {
      "cell_type": "code",
      "execution_count": null,
      "id": "6b41530b-5513-4526-8b82-ed7f0eab4ce4",
      "metadata": {
        "id": "6b41530b-5513-4526-8b82-ed7f0eab4ce4"
      },
      "outputs": [],
      "source": []
    },
    {
      "cell_type": "markdown",
      "id": "edf21e5e-d59d-4545-8bb2-ef21cc28e575",
      "metadata": {
        "id": "edf21e5e-d59d-4545-8bb2-ef21cc28e575"
      },
      "source": [
        "**From the above distant plots we are able to notice a notable pattern for the positive class which we are much interested in ,From the above plots we can seee and maybe passively conclude that people aged between 0 to 50 range  are likely to default in  which is the vice vasa state considering persons aged between 50 to 100 years range , So in a nutshell , Age and default rate have inverse relationship"
      ]
    },
    {
      "cell_type": "code",
      "execution_count": null,
      "id": "c286578c-70c9-4c87-878b-47dcfdb2e911",
      "metadata": {
        "tags": [],
        "id": "c286578c-70c9-4c87-878b-47dcfdb2e911"
      },
      "outputs": [],
      "source": []
    },
    {
      "cell_type": "markdown",
      "id": "77e869f1-eb7c-43a2-884e-0ad858550089",
      "metadata": {
        "id": "77e869f1-eb7c-43a2-884e-0ad858550089"
      },
      "source": [
        "we can see also an inverse relationshop between the count of overdue loans and the target varriable"
      ]
    },
    {
      "cell_type": "markdown",
      "id": "52984a2e-8959-4573-b2eb-c8acd7f3cc29",
      "metadata": {
        "id": "52984a2e-8959-4573-b2eb-c8acd7f3cc29"
      },
      "source": [
        "## Let's Explore NUMBER_OF_PAYMENT_TRXN"
      ]
    },
    {
      "cell_type": "code",
      "execution_count": null,
      "id": "0e438d98-7270-4dca-b502-c0dcdf3ce3a1",
      "metadata": {
        "tags": [],
        "id": "0e438d98-7270-4dca-b502-c0dcdf3ce3a1",
        "outputId": "48c622d3-df27-432d-d995-239d5eafe5c5"
      },
      "outputs": [
        {
          "data": {
            "image/png": "[encoded data removed]",
            "text/plain": [
              "<Figure size 600x300 with 2 Axes>"
            ]
          },
          "metadata": {},
          "output_type": "display_data"
        }
      ],
      "source": [
        "# Explore COUNT_OF_OVERDUE_LOANS vs Target with wider spacing\n",
        "g = sns.FacetGrid(merged_df, col='Target', col_wrap=2)  # Set col_wrap to control the number of columns\n",
        "g = g.map(sns.distplot, \"NUMBER_OF_PAYMENT_TRXN\")\n",
        "\n",
        "# Show the plot\n",
        "plt.show()\n"
      ]
    },
    {
      "cell_type": "code",
      "execution_count": null,
      "id": "8ca15c83-581d-4ad1-96f6-3c70562f95e1",
      "metadata": {
        "id": "8ca15c83-581d-4ad1-96f6-3c70562f95e1"
      },
      "outputs": [],
      "source": []
    },
    {
      "cell_type": "markdown",
      "id": "c251fd85-444a-4e15-a9af-27c540830f61",
      "metadata": {
        "id": "c251fd85-444a-4e15-a9af-27c540830f61"
      },
      "source": [
        "## Explore ACCOUNT_DEBIT"
      ]
    },
    {
      "cell_type": "code",
      "execution_count": null,
      "id": "458a7868-d957-4090-ad70-5e315a3a0b91",
      "metadata": {
        "tags": [],
        "id": "458a7868-d957-4090-ad70-5e315a3a0b91",
        "outputId": "b3720816-4323-44e4-b502-a2d7d8ac4875"
      },
      "outputs": [
        {
          "data": {
            "image/png": "[encoded data removed]",
            "text/plain": [
              "<Figure size 600x300 with 2 Axes>"
            ]
          },
          "metadata": {},
          "output_type": "display_data"
        }
      ],
      "source": [
        "# Explore ACCOUNT_DEBIT vs Target with wider spacing\n",
        "g = sns.FacetGrid(merged_df, col='Target', col_wrap=2)  # Set col_wrap to control the number of columns\n",
        "g = g.map(sns.distplot, \"ACCOUNT_DEBIT\")\n",
        "\n",
        "# Show the plot\n",
        "plt.show()\n"
      ]
    },
    {
      "cell_type": "code",
      "execution_count": null,
      "id": "ffec8cbf-1202-4bfe-8607-bb8da24eb511",
      "metadata": {
        "id": "ffec8cbf-1202-4bfe-8607-bb8da24eb511"
      },
      "outputs": [],
      "source": []
    },
    {
      "cell_type": "markdown",
      "id": "de0825de-1df9-4e36-8310-2b2532535c7d",
      "metadata": {
        "id": "de0825de-1df9-4e36-8310-2b2532535c7d"
      },
      "source": [
        "## Explore ACCOUNT_CREDIT"
      ]
    },
    {
      "cell_type": "code",
      "execution_count": null,
      "id": "f6d462f3-e8eb-44a1-a8c6-5ca721d0d611",
      "metadata": {
        "tags": [],
        "id": "f6d462f3-e8eb-44a1-a8c6-5ca721d0d611",
        "outputId": "3f8a68c3-7171-4fae-97ab-809eb09b6b1e"
      },
      "outputs": [
        {
          "data": {
            "image/png": "[encoded data removed]",
            "text/plain": [
              "<Figure size 600x300 with 2 Axes>"
            ]
          },
          "metadata": {},
          "output_type": "display_data"
        }
      ],
      "source": [
        "# Explore ACCOUNT_CREDIT vs Target with wider spacing\n",
        "g = sns.FacetGrid(merged_df, col='Target', col_wrap=2)  # Set col_wrap to control the number of columns\n",
        "g = g.map(sns.distplot, \"ACCOUNT_CREDIT\")\n",
        "\n",
        "# Show the plot\n",
        "plt.show()\n"
      ]
    },
    {
      "cell_type": "markdown",
      "id": "7196ece7-d82f-4867-a362-e47e65bbecc3",
      "metadata": {
        "id": "7196ece7-d82f-4867-a362-e47e65bbecc3"
      },
      "source": [
        "## Explore SUBSCRIPTION_PERIOD"
      ]
    },
    {
      "cell_type": "code",
      "execution_count": null,
      "id": "fe97367b-950f-40a6-a1c3-2e3aeb747616",
      "metadata": {
        "tags": [],
        "id": "fe97367b-950f-40a6-a1c3-2e3aeb747616",
        "outputId": "f21be9ac-20ee-4c14-d78c-ea1b14562bed"
      },
      "outputs": [
        {
          "data": {
            "image/png": "[encoded data removed]",
            "text/plain": [
              "<Figure size 600x300 with 2 Axes>"
            ]
          },
          "metadata": {},
          "output_type": "display_data"
        }
      ],
      "source": [
        "# Explore SUBSCRIPTION_PERIOD vs Target with wider spacing\n",
        "g = sns.FacetGrid(merged_df, col='Target', col_wrap=2)  # Set col_wrap to control the number of columns\n",
        "g = g.map(sns.distplot, \"SUBSCRIPTION_PERIOD\")\n",
        "\n",
        "# Show the plot\n",
        "plt.show()\n"
      ]
    },
    {
      "cell_type": "code",
      "execution_count": null,
      "id": "df8c8b04-2643-44de-b3ba-ad8df65cac34",
      "metadata": {
        "id": "df8c8b04-2643-44de-b3ba-ad8df65cac34"
      },
      "outputs": [],
      "source": [
        "## Explore TOTAL_BANK_TRANS"
      ]
    },
    {
      "cell_type": "code",
      "execution_count": null,
      "id": "7bcc5db9-322b-4414-b61d-380418b77c03",
      "metadata": {
        "tags": [],
        "id": "7bcc5db9-322b-4414-b61d-380418b77c03",
        "outputId": "fc1b807b-2b19-4bd7-97e4-ec3f16770f83"
      },
      "outputs": [
        {
          "data": {
            "image/png": "[encoded data removed]",
            "text/plain": [
              "<Figure size 600x300 with 2 Axes>"
            ]
          },
          "metadata": {},
          "output_type": "display_data"
        }
      ],
      "source": [
        "# Explore TOTAL_BANK_TRANS vs Target with wider spacing\n",
        "g = sns.FacetGrid(merged_df, col='Target', col_wrap=2)  # Set col_wrap to control the number of columns\n",
        "g = g.map(sns.distplot, \"TOTAL_BANK_TRANS\")\n",
        "\n",
        "# Show the plot\n",
        "plt.show()\n"
      ]
    },
    {
      "cell_type": "code",
      "execution_count": null,
      "id": "4f1b64f8-4aae-495d-a5d9-bcb14ae2c2a0",
      "metadata": {
        "tags": [],
        "id": "4f1b64f8-4aae-495d-a5d9-bcb14ae2c2a0"
      },
      "outputs": [],
      "source": []
    },
    {
      "cell_type": "code",
      "execution_count": null,
      "id": "c5ab1ba7-0a17-43e7-9b47-e195ba78d33e",
      "metadata": {
        "tags": [],
        "id": "c5ab1ba7-0a17-43e7-9b47-e195ba78d33e"
      },
      "outputs": [],
      "source": [
        "# dropping the columns\n",
        "merged_df.drop(['SUBSCRIPTION_PERIOD'], axis=1, inplace=True)"
      ]
    },
    {
      "cell_type": "code",
      "execution_count": null,
      "id": "64b84fa5-dc2b-4197-bb65-be3742a4234c",
      "metadata": {
        "id": "64b84fa5-dc2b-4197-bb65-be3742a4234c",
        "outputId": "d57a88ee-0c91-4ef9-c4ff-0850999a860b"
      },
      "outputs": [
        {
          "name": "stdout",
          "output_type": "stream",
          "text": [
            "<class 'pandas.core.frame.DataFrame'>\n",
            "Index: 9523 entries, 0720325859 to 0722476935\n",
            "Data columns (total 27 columns):\n",
            " #   Column                  Non-Null Count  Dtype  \n",
            "---  ------                  --------------  -----  \n",
            " 0   Gender                  9523 non-null   object \n",
            " 1   TRANSACTION_PERIOD      9523 non-null   object \n",
            " 2   TOPUP_CONSUMPTION       9523 non-null   object \n",
            " 3   TOPUP_CONSUMPTION_6     9523 non-null   object \n",
            " 4   ACTIVE_STATUS           9523 non-null   object \n",
            " 5   TRANSACTIONS_RECIEVED   9523 non-null   object \n",
            " 6   ACCOUNT_DEBIT           9523 non-null   object \n",
            " 7   ACCOUNT_CREDIT          9523 non-null   object \n",
            " 8   NUMBER_OF_PAYMENT_TRXN  9523 non-null   object \n",
            " 9   VALUE_SENT              9523 non-null   object \n",
            " 10  HIGHEST_VALUE           9523 non-null   object \n",
            " 11  VALUE_RECIEVED          9523 non-null   object \n",
            " 12  TRXN_COUNT              9523 non-null   object \n",
            " 13  BANK_TRANS              9523 non-null   object \n",
            " 14  OTHER_RECEIPTS          9523 non-null   object \n",
            " 15  TOTAL_BANK_TRANS        9523 non-null   object \n",
            " 16  TOTAL_PAYMENTS          9523 non-null   object \n",
            " 17  TOTAL_MONEY_IN_3        9523 non-null   object \n",
            " 18  TOTAL_MONEY_OUT_3       9523 non-null   object \n",
            " 19  CURR_POINTS             9523 non-null   object \n",
            " 20  RDM_POINTS_6            9523 non-null   object \n",
            " 21  LOAN_BLACKLIST          9523 non-null   object \n",
            " 22  LOAN_BLACKLIST_DAYS     9523 non-null   object \n",
            " 23  CURR_DEVICE_MAKE        9523 non-null   object \n",
            " 24  CURR_DEVICE_RRP         9523 non-null   object \n",
            " 25  Target                  9523 non-null   int32  \n",
            " 26  Age                     9523 non-null   float64\n",
            "dtypes: float64(1), int32(1), object(25)\n",
            "memory usage: 2.2+ MB\n"
          ]
        }
      ],
      "source": [
        "merged_df.info()"
      ]
    },
    {
      "cell_type": "code",
      "execution_count": null,
      "id": "a3b384f9-1a77-41f8-95e9-16bb8080f02c",
      "metadata": {
        "id": "a3b384f9-1a77-41f8-95e9-16bb8080f02c"
      },
      "outputs": [],
      "source": [
        "# categorical_columns = [\n",
        "#      'TRANSACTION_PERIOD',\n",
        "#     'TOPUP_CONSUMPTION', 'TOPUP_CONSUMPTION_6', 'ACTIVE_STATUS',\n",
        "#     'TRANSACTIONS_RECIEVED', 'ACCOUNT_DEBIT', 'ACCOUNT_CREDIT',\n",
        "#     'NUMBER_OF_PAYMENT_TRXN', 'VALUE_SENT', 'HIGHEST_VALUE',\n",
        "#     'VALUE_RECIEVED', 'TRXN_COUNT', 'BANK_TRANS', 'OTHER_RECEIPTS',\n",
        "#     'TOTAL_BANK_TRANS', 'TOTAL_PAYMENTS', 'TOTAL_MONEY_IN_3',\n",
        "#     'TOTAL_MONEY_OUT_3', 'CURR_POINTS', 'RDM_POINTS_6',\n",
        "#     'LOAN_BLACKLIST_DAYS', 'CURR_DEVICE_MAKE', 'CURR_DEVICE_RRP'\n",
        "# ]\n",
        "\n",
        "# # Convert the specified columns to the 'category' data type\n",
        "# merged_df[categorical_columns] = merged_df[categorical_columns].astype('category')\n"
      ]
    },
    {
      "cell_type": "code",
      "execution_count": null,
      "id": "f95bd300-f686-4bbc-a556-2cf99bc92081",
      "metadata": {
        "id": "f95bd300-f686-4bbc-a556-2cf99bc92081",
        "outputId": "c31f61f0-5023-4504-ec3e-a77efebad8b5"
      },
      "outputs": [
        {
          "name": "stdout",
          "output_type": "stream",
          "text": [
            "<class 'pandas.core.frame.DataFrame'>\n",
            "Index: 9523 entries, 0720325859 to 0722476935\n",
            "Data columns (total 27 columns):\n",
            " #   Column                  Non-Null Count  Dtype  \n",
            "---  ------                  --------------  -----  \n",
            " 0   Gender                  9523 non-null   object \n",
            " 1   TRANSACTION_PERIOD      9523 non-null   object \n",
            " 2   TOPUP_CONSUMPTION       9523 non-null   object \n",
            " 3   TOPUP_CONSUMPTION_6     9523 non-null   object \n",
            " 4   ACTIVE_STATUS           9523 non-null   object \n",
            " 5   TRANSACTIONS_RECIEVED   9523 non-null   object \n",
            " 6   ACCOUNT_DEBIT           9523 non-null   object \n",
            " 7   ACCOUNT_CREDIT          9523 non-null   object \n",
            " 8   NUMBER_OF_PAYMENT_TRXN  9523 non-null   object \n",
            " 9   VALUE_SENT              9523 non-null   object \n",
            " 10  HIGHEST_VALUE           9523 non-null   object \n",
            " 11  VALUE_RECIEVED          9523 non-null   object \n",
            " 12  TRXN_COUNT              9523 non-null   object \n",
            " 13  BANK_TRANS              9523 non-null   object \n",
            " 14  OTHER_RECEIPTS          9523 non-null   object \n",
            " 15  TOTAL_BANK_TRANS        9523 non-null   object \n",
            " 16  TOTAL_PAYMENTS          9523 non-null   object \n",
            " 17  TOTAL_MONEY_IN_3        9523 non-null   object \n",
            " 18  TOTAL_MONEY_OUT_3       9523 non-null   object \n",
            " 19  CURR_POINTS             9523 non-null   object \n",
            " 20  RDM_POINTS_6            9523 non-null   object \n",
            " 21  LOAN_BLACKLIST          9523 non-null   object \n",
            " 22  LOAN_BLACKLIST_DAYS     9523 non-null   object \n",
            " 23  CURR_DEVICE_MAKE        9523 non-null   object \n",
            " 24  CURR_DEVICE_RRP         9523 non-null   object \n",
            " 25  Target                  9523 non-null   int32  \n",
            " 26  Age                     9523 non-null   float64\n",
            "dtypes: float64(1), int32(1), object(25)\n",
            "memory usage: 2.2+ MB\n"
          ]
        }
      ],
      "source": [
        "merged_df.info()"
      ]
    },
    {
      "cell_type": "markdown",
      "id": "22c41d2e-6760-4d0a-bc80-e3a5d50b531a",
      "metadata": {
        "id": "22c41d2e-6760-4d0a-bc80-e3a5d50b531a"
      },
      "source": [
        "## Let us do final null check before splitting our data into train and test"
      ]
    },
    {
      "cell_type": "code",
      "execution_count": null,
      "id": "6aabe223-9244-47cf-8e54-975432213827",
      "metadata": {
        "tags": [],
        "id": "6aabe223-9244-47cf-8e54-975432213827",
        "outputId": "5a4dfa11-442c-4648-e7b4-471c9638a4d4"
      },
      "outputs": [
        {
          "data": {
            "text/plain": [
              "Gender                    0\n",
              "TRANSACTION_PERIOD        0\n",
              "TOPUP_CONSUMPTION         0\n",
              "TOPUP_CONSUMPTION_6       0\n",
              "ACTIVE_STATUS             0\n",
              "TRANSACTIONS_RECIEVED     0\n",
              "ACCOUNT_DEBIT             0\n",
              "ACCOUNT_CREDIT            0\n",
              "NUMBER_OF_PAYMENT_TRXN    0\n",
              "VALUE_SENT                0\n",
              "HIGHEST_VALUE             0\n",
              "VALUE_RECIEVED            0\n",
              "TRXN_COUNT                0\n",
              "BANK_TRANS                0\n",
              "OTHER_RECEIPTS            0\n",
              "TOTAL_BANK_TRANS          0\n",
              "TOTAL_PAYMENTS            0\n",
              "TOTAL_MONEY_IN_3          0\n",
              "TOTAL_MONEY_OUT_3         0\n",
              "CURR_POINTS               0\n",
              "RDM_POINTS_6              0\n",
              "LOAN_BLACKLIST            0\n",
              "LOAN_BLACKLIST_DAYS       0\n",
              "CURR_DEVICE_MAKE          0\n",
              "CURR_DEVICE_RRP           0\n",
              "Target                    0\n",
              "Age                       0\n",
              "dtype: int64"
            ]
          },
          "execution_count": 85,
          "metadata": {},
          "output_type": "execute_result"
        }
      ],
      "source": [
        "merged_df.isnull().sum()"
      ]
    },
    {
      "cell_type": "code",
      "execution_count": null,
      "id": "7627cd99-61c1-4825-a69e-ae8aedf03fdf",
      "metadata": {
        "id": "7627cd99-61c1-4825-a69e-ae8aedf03fdf",
        "outputId": "c33ac711-cb22-419c-8cfe-6330765c3793"
      },
      "outputs": [
        {
          "name": "stdout",
          "output_type": "stream",
          "text": [
            "Column 'Gender':\n",
            "Unique Values (2 unique values):\n",
            "['M' 'F']\n",
            "Missing Values Count: 0\n",
            "\n",
            "\n",
            "Column 'TRANSACTION_PERIOD':\n",
            "Unique Values (11 unique values):\n",
            "['10' '9' '8' '5' '7' '6' '4' '1' '3' '2' '0']\n",
            "Missing Values Count: 0\n",
            "\n",
            "\n",
            "Column 'TOPUP_CONSUMPTION':\n",
            "Unique Values (11 unique values):\n",
            "['10' '5' '2' '9' '7' '8' '6' '1' '3' '4' '0']\n",
            "Missing Values Count: 0\n",
            "\n",
            "\n",
            "Column 'TOPUP_CONSUMPTION_6':\n",
            "Unique Values (11 unique values):\n",
            "['10' '9' '2' '7' '6' '5' '8' '3' '4' '0' '1']\n",
            "Missing Values Count: 0\n",
            "\n",
            "\n",
            "Column 'ACTIVE_STATUS':\n",
            "Unique Values (8 unique values):\n",
            "['1' '2' '0' '4' '3' '6' '5' '7']\n",
            "Missing Values Count: 0\n",
            "\n",
            "\n",
            "Column 'TRANSACTIONS_RECIEVED':\n",
            "Unique Values (11 unique values):\n",
            "['10' '6' '5' '8' '4' '3' '7' '9' '2' '0' '1']\n",
            "Missing Values Count: 0\n",
            "\n",
            "\n",
            "Column 'ACCOUNT_DEBIT':\n",
            "Unique Values (11 unique values):\n",
            "['10' '9' '2' '7' '8' '6' '5' '3' '4' '0' '1']\n",
            "Missing Values Count: 0\n",
            "\n",
            "\n",
            "Column 'ACCOUNT_CREDIT':\n",
            "Unique Values (11 unique values):\n",
            "['10' '7' '4' '9' '6' '8' '5' '3' '0' '2' '1']\n",
            "Missing Values Count: 0\n",
            "\n",
            "\n",
            "Column 'NUMBER_OF_PAYMENT_TRXN':\n",
            "Unique Values (11 unique values):\n",
            "['10' '9' '4' '5' '7' '0' '8' '3' '1' '6' '2']\n",
            "Missing Values Count: 0\n",
            "\n",
            "\n",
            "Column 'VALUE_SENT':\n",
            "Unique Values (11 unique values):\n",
            "['10' '6' '3' '7' '8' '5' '4' '9' '2' '1' '0']\n",
            "Missing Values Count: 0\n",
            "\n",
            "\n",
            "Column 'HIGHEST_VALUE':\n",
            "Unique Values (11 unique values):\n",
            "['9' '5' '2' '10' '8' '3' '4' '7' '1' '6' '0']\n",
            "Missing Values Count: 0\n",
            "\n",
            "\n",
            "Column 'VALUE_RECIEVED':\n",
            "Unique Values (11 unique values):\n",
            "['10' '7' '9' '5' '8' '2' '3' '6' '4' '0' '1']\n",
            "Missing Values Count: 0\n",
            "\n",
            "\n",
            "Column 'TRXN_COUNT':\n",
            "Unique Values (9 unique values):\n",
            "['8' '7' '5' '6' '4' '3' '2' '0' '1']\n",
            "Missing Values Count: 0\n",
            "\n",
            "\n",
            "Column 'BANK_TRANS':\n",
            "Unique Values (11 unique values):\n",
            "['10' '2' '0' '6' '8' '1' '4' '7' '5' '3' '9']\n",
            "Missing Values Count: 0\n",
            "\n",
            "\n",
            "Column 'OTHER_RECEIPTS':\n",
            "Unique Values (10 unique values):\n",
            "['0' '5' '3' '1' '4' '2' '6' '7' '8' '9']\n",
            "Missing Values Count: 0\n",
            "\n",
            "\n",
            "Column 'TOTAL_BANK_TRANS':\n",
            "Unique Values (11 unique values):\n",
            "['10' '8' '3' '6' '9' '5' '4' '7' '2' '1' '0']\n",
            "Missing Values Count: 0\n",
            "\n",
            "\n",
            "Column 'TOTAL_PAYMENTS':\n",
            "Unique Values (11 unique values):\n",
            "['10' '9' '4' '8' '6' '7' '5' '1' '3' '2' '0']\n",
            "Missing Values Count: 0\n",
            "\n",
            "\n",
            "Column 'TOTAL_MONEY_IN_3':\n",
            "Unique Values (11 unique values):\n",
            "['9' '6' '10' '3' '2' '8' '5' '4' '1' '7' '0']\n",
            "Missing Values Count: 0\n",
            "\n",
            "\n",
            "Column 'TOTAL_MONEY_OUT_3':\n",
            "Unique Values (9 unique values):\n",
            "['10' '6' '4' '8' '7' '9' '5' '3' '0']\n",
            "Missing Values Count: 0\n",
            "\n",
            "\n",
            "Column 'CURR_POINTS':\n",
            "Unique Values (11 unique values):\n",
            "['1' '3' '9' '2' '0' '7' '6' '5' '4' '8' '10']\n",
            "Missing Values Count: 0\n",
            "\n",
            "\n",
            "Column 'RDM_POINTS_6':\n",
            "Unique Values (11 unique values):\n",
            "['0' '1' '10' '9' '8' '5' '6' '7' '4' '2' '3']\n",
            "Missing Values Count: 0\n",
            "\n",
            "\n",
            "Column 'LOAN_BLACKLIST':\n",
            "Unique Values (2 unique values):\n",
            "['0' '1']\n",
            "Missing Values Count: 0\n",
            "\n",
            "\n",
            "Column 'LOAN_BLACKLIST_DAYS':\n",
            "Unique Values (10 unique values):\n",
            "['0' '3' '6' '8' '1' '9' '7' '4' '2' '5']\n",
            "Missing Values Count: 0\n",
            "\n",
            "\n",
            "Column 'CURR_DEVICE_MAKE':\n",
            "Unique Values (1 unique values):\n",
            "['0']\n",
            "Missing Values Count: 0\n",
            "\n",
            "\n",
            "Column 'CURR_DEVICE_RRP':\n",
            "Unique Values (1 unique values):\n",
            "['0']\n",
            "Missing Values Count: 0\n",
            "\n",
            "\n",
            "Column 'Target':\n",
            "Unique Values (2 unique values):\n",
            "[1 0]\n",
            "Missing Values Count: 0\n",
            "\n",
            "\n",
            "Column 'Age':\n",
            "Unique Values (64 unique values):\n",
            "[42. 36. 38. 30. 33. 27. 34. 29. 31. 37. 26. 49. 24. 25. 23. 53. 35. 46.\n",
            " 32. 28. 51. 50. 64. 41. 21. 43. 61. 44. 22. 39. 48. 20. 45. 75. 47. 40.\n",
            " 65. 76. 66. 52. 62. 60. 18. 55. 57. 68. 54. 19. 56. 59. 63. 71. 58. 67.\n",
            " 69. 70. 80. 79. 74. 83. 73. 72. 77. 78.]\n",
            "Missing Values Count: 0\n",
            "\n",
            "\n"
          ]
        }
      ],
      "source": [
        "# Get the count of missing values (NaN) for each column\n",
        "missing_values = merged_df.isnull().sum()\n",
        "\n",
        "# Print the unique values and missing value counts for each column\n",
        "for column in merged_df.columns:\n",
        "    unique_values = merged_df[column].unique()\n",
        "    unique_count = len(unique_values)\n",
        "    missing_count = missing_values[column]\n",
        "    print(f\"Column '{column}':\")\n",
        "    print(f\"Unique Values ({unique_count} unique values):\")\n",
        "    print(unique_values)\n",
        "    print(f\"Missing Values Count: {missing_count}\")\n",
        "    print(\"\\n\")\n"
      ]
    },
    {
      "cell_type": "code",
      "execution_count": null,
      "id": "58fada5f-5ca3-46c0-81b5-fe071ab5c933",
      "metadata": {
        "tags": [],
        "id": "58fada5f-5ca3-46c0-81b5-fe071ab5c933",
        "outputId": "afba2d1c-0e0c-47c9-d22e-0c3f3bfd937a"
      },
      "outputs": [
        {
          "name": "stdout",
          "output_type": "stream",
          "text": [
            "Index(['Gender', 'TRANSACTION_PERIOD', 'TOPUP_CONSUMPTION',\n",
            "       'TOPUP_CONSUMPTION_6', 'ACTIVE_STATUS', 'TRANSACTIONS_RECIEVED',\n",
            "       'ACCOUNT_DEBIT', 'ACCOUNT_CREDIT', 'NUMBER_OF_PAYMENT_TRXN',\n",
            "       'VALUE_SENT', 'HIGHEST_VALUE', 'VALUE_RECIEVED', 'TRXN_COUNT',\n",
            "       'BANK_TRANS', 'OTHER_RECEIPTS', 'TOTAL_BANK_TRANS', 'TOTAL_PAYMENTS',\n",
            "       'TOTAL_MONEY_IN_3', 'TOTAL_MONEY_OUT_3', 'CURR_POINTS', 'RDM_POINTS_6',\n",
            "       'LOAN_BLACKLIST', 'LOAN_BLACKLIST_DAYS', 'CURR_DEVICE_MAKE',\n",
            "       'CURR_DEVICE_RRP', 'Target', 'Age'],\n",
            "      dtype='object')\n"
          ]
        }
      ],
      "source": [
        "# List the column names in your dataset\n",
        "print(merged_df.columns)\n"
      ]
    },
    {
      "cell_type": "code",
      "execution_count": null,
      "id": "86d15360-2d24-400c-bc8a-313cd69e7f91",
      "metadata": {
        "id": "86d15360-2d24-400c-bc8a-313cd69e7f91"
      },
      "outputs": [],
      "source": []
    },
    {
      "cell_type": "markdown",
      "id": "c529d48a-0b5a-429e-bc14-dc2559da7f5f",
      "metadata": {
        "id": "c529d48a-0b5a-429e-bc14-dc2559da7f5f"
      },
      "source": [
        "## Building our credit scoring model\n"
      ]
    },
    {
      "cell_type": "markdown",
      "id": "d2ad8054-8408-4e19-8978-e44c7d4faf64",
      "metadata": {
        "id": "d2ad8054-8408-4e19-8978-e44c7d4faf64"
      },
      "source": [
        "## Let us split our data into 3, Train, Test and Validation sets"
      ]
    },
    {
      "cell_type": "code",
      "execution_count": null,
      "id": "4f26fcc1-cb6f-4ad3-a9ed-ff3d72e74dc4",
      "metadata": {
        "tags": [],
        "id": "4f26fcc1-cb6f-4ad3-a9ed-ff3d72e74dc4",
        "outputId": "62dabdde-937a-4f3b-e22c-d6023f917444"
      },
      "outputs": [
        {
          "name": "stdout",
          "output_type": "stream",
          "text": [
            "Train data shape: (6666, 27)\n",
            "Validation data shape: (1428, 27)\n",
            "Test data shape: (1429, 27)\n"
          ]
        }
      ],
      "source": [
        "from sklearn.model_selection import train_test_split\n",
        "\n",
        "# Splitting the data into train (70%) and temporary (30%)\n",
        "train_df, temp_df = train_test_split(merged_df, test_size=0.3, random_state=42)\n",
        "\n",
        "# Further splitting the temporary data into validation (15%) and test (15%)\n",
        "validation_df, test_df = train_test_split(temp_df, test_size=0.5, random_state=42)\n",
        "\n",
        "# Printing the shapes of the resulting datasets\n",
        "print(f\"Train data shape: {train_df.shape}\")\n",
        "print(f\"Validation data shape: {validation_df.shape}\")\n",
        "print(f\"Test data shape: {test_df.shape}\")\n"
      ]
    },
    {
      "cell_type": "code",
      "execution_count": null,
      "id": "069b4c78-399c-41a9-86a9-82293976103d",
      "metadata": {
        "tags": [],
        "id": "069b4c78-399c-41a9-86a9-82293976103d",
        "outputId": "7be9f6b0-ba46-43ab-eaeb-a4ca64aa9f6a"
      },
      "outputs": [
        {
          "name": "stdout",
          "output_type": "stream",
          "text": [
            "Index(['Gender', 'TRANSACTION_PERIOD', 'TOPUP_CONSUMPTION',\n",
            "       'TOPUP_CONSUMPTION_6', 'ACTIVE_STATUS', 'TRANSACTIONS_RECIEVED',\n",
            "       'ACCOUNT_DEBIT', 'ACCOUNT_CREDIT', 'NUMBER_OF_PAYMENT_TRXN',\n",
            "       'VALUE_SENT', 'HIGHEST_VALUE', 'VALUE_RECIEVED', 'TRXN_COUNT',\n",
            "       'BANK_TRANS', 'OTHER_RECEIPTS', 'TOTAL_BANK_TRANS', 'TOTAL_PAYMENTS',\n",
            "       'TOTAL_MONEY_IN_3', 'TOTAL_MONEY_OUT_3', 'CURR_POINTS', 'RDM_POINTS_6',\n",
            "       'LOAN_BLACKLIST', 'LOAN_BLACKLIST_DAYS', 'CURR_DEVICE_MAKE',\n",
            "       'CURR_DEVICE_RRP', 'Target', 'Age'],\n",
            "      dtype='object')\n"
          ]
        }
      ],
      "source": [
        "# List the column names in your dataset\n",
        "print(train_df.columns)\n"
      ]
    },
    {
      "cell_type": "code",
      "execution_count": null,
      "id": "aa0e85ee-a371-4abe-84ae-4bbc956c51df",
      "metadata": {
        "tags": [],
        "id": "aa0e85ee-a371-4abe-84ae-4bbc956c51df",
        "outputId": "09e492df-6d84-4d27-b68a-e75b9a6b3be9"
      },
      "outputs": [
        {
          "name": "stdout",
          "output_type": "stream",
          "text": [
            "Index(['Gender', 'TRANSACTION_PERIOD', 'TOPUP_CONSUMPTION',\n",
            "       'TOPUP_CONSUMPTION_6', 'ACTIVE_STATUS', 'TRANSACTIONS_RECIEVED',\n",
            "       'ACCOUNT_DEBIT', 'ACCOUNT_CREDIT', 'NUMBER_OF_PAYMENT_TRXN',\n",
            "       'VALUE_SENT', 'HIGHEST_VALUE', 'VALUE_RECIEVED', 'TRXN_COUNT',\n",
            "       'BANK_TRANS', 'OTHER_RECEIPTS', 'TOTAL_BANK_TRANS', 'TOTAL_PAYMENTS',\n",
            "       'TOTAL_MONEY_IN_3', 'TOTAL_MONEY_OUT_3', 'CURR_POINTS', 'RDM_POINTS_6',\n",
            "       'LOAN_BLACKLIST', 'LOAN_BLACKLIST_DAYS', 'CURR_DEVICE_MAKE',\n",
            "       'CURR_DEVICE_RRP', 'Target', 'Age'],\n",
            "      dtype='object')\n"
          ]
        }
      ],
      "source": [
        "# List the column names in your dataset\n",
        "print(validation_df.columns)\n"
      ]
    },
    {
      "cell_type": "code",
      "execution_count": null,
      "id": "59f9baeb-9f4d-4f66-9c96-444d40b62da2",
      "metadata": {
        "tags": [],
        "id": "59f9baeb-9f4d-4f66-9c96-444d40b62da2",
        "outputId": "7118dda6-e33d-4311-fc67-e9e861835dbd"
      },
      "outputs": [
        {
          "name": "stdout",
          "output_type": "stream",
          "text": [
            "Index(['Gender', 'TRANSACTION_PERIOD', 'TOPUP_CONSUMPTION',\n",
            "       'TOPUP_CONSUMPTION_6', 'ACTIVE_STATUS', 'TRANSACTIONS_RECIEVED',\n",
            "       'ACCOUNT_DEBIT', 'ACCOUNT_CREDIT', 'NUMBER_OF_PAYMENT_TRXN',\n",
            "       'VALUE_SENT', 'HIGHEST_VALUE', 'VALUE_RECIEVED', 'TRXN_COUNT',\n",
            "       'BANK_TRANS', 'OTHER_RECEIPTS', 'TOTAL_BANK_TRANS', 'TOTAL_PAYMENTS',\n",
            "       'TOTAL_MONEY_IN_3', 'TOTAL_MONEY_OUT_3', 'CURR_POINTS', 'RDM_POINTS_6',\n",
            "       'LOAN_BLACKLIST', 'LOAN_BLACKLIST_DAYS', 'CURR_DEVICE_MAKE',\n",
            "       'CURR_DEVICE_RRP', 'Target', 'Age'],\n",
            "      dtype='object')\n"
          ]
        }
      ],
      "source": [
        "# List the column names in your dataset\n",
        "print(test_df.columns)\n"
      ]
    },
    {
      "cell_type": "markdown",
      "id": "d01d8901-dd5b-4dff-b3c0-53b5bb5a63d8",
      "metadata": {
        "id": "d01d8901-dd5b-4dff-b3c0-53b5bb5a63d8"
      },
      "source": [
        "## Let me do one hot ENCODING FOR THE CATEGORICAL COLUMNS"
      ]
    },
    {
      "cell_type": "code",
      "execution_count": null,
      "id": "db751f92-229a-41df-aaec-40795a9452ef",
      "metadata": {
        "tags": [],
        "id": "db751f92-229a-41df-aaec-40795a9452ef"
      },
      "outputs": [],
      "source": [
        "# import pandas as pd\n",
        "\n",
        "# # Assuming merged_df is your DataFrame\n",
        "# # Create an empty DataFrame to store the one-hot encoded columns\n",
        "# merged_df_encoded = pd.DataFrame()\n",
        "\n",
        "# # Loop through each column in your DataFrame and one-hot encode it\n",
        "# for column in merged_df.columns:\n",
        "#     if merged_df[column].dtype == 'object':\n",
        "#         one_hot = pd.get_dummies(merged_df[column], prefix=column)\n",
        "#         merged_df_encoded = pd.concat([merged_df_encoded, one_hot], axis=1)\n",
        "#     else:\n",
        "#         merged_df_encoded = pd.concat([merged_df_encoded, merged_df[column]], axis=1)\n",
        "\n",
        "# # Now, merged_df_encoded contains all columns one-hot encoded\n"
      ]
    },
    {
      "cell_type": "code",
      "execution_count": null,
      "id": "f0e7fb21-7689-4994-becb-ef86c3467baf",
      "metadata": {
        "tags": [],
        "id": "f0e7fb21-7689-4994-becb-ef86c3467baf"
      },
      "outputs": [],
      "source": [
        "columns_to_encode = ['Gender', 'LOAN_BLACKLIST']\n",
        "\n"
      ]
    },
    {
      "cell_type": "code",
      "execution_count": null,
      "id": "7f291ed8-b595-40e4-8bfd-edba96a7a897",
      "metadata": {
        "tags": [],
        "id": "7f291ed8-b595-40e4-8bfd-edba96a7a897"
      },
      "outputs": [],
      "source": [
        "# Assuming you have 'train_df', 'validation_df', and 'test_df'\n",
        "train_df = pd.get_dummies(train_df, columns=columns_to_encode, prefix=columns_to_encode, drop_first=True)\n",
        "validation_df = pd.get_dummies(validation_df, columns=columns_to_encode, prefix=columns_to_encode, drop_first=True)\n",
        "test_df = pd.get_dummies(test_df, columns=columns_to_encode, prefix=columns_to_encode, drop_first=True)\n"
      ]
    },
    {
      "cell_type": "code",
      "execution_count": null,
      "id": "767e3411-0f4d-4be3-8102-79b7aed36cc1",
      "metadata": {
        "tags": [],
        "id": "767e3411-0f4d-4be3-8102-79b7aed36cc1",
        "outputId": "7dbe0593-df93-41a9-e675-0ae66cbf6ecd"
      },
      "outputs": [
        {
          "name": "stdout",
          "output_type": "stream",
          "text": [
            "<class 'pandas.core.frame.DataFrame'>\n",
            "Index: 6666 entries, 0792365624 to 0701834604\n",
            "Data columns (total 27 columns):\n",
            " #   Column                  Non-Null Count  Dtype  \n",
            "---  ------                  --------------  -----  \n",
            " 0   TRANSACTION_PERIOD      6666 non-null   object \n",
            " 1   TOPUP_CONSUMPTION       6666 non-null   object \n",
            " 2   TOPUP_CONSUMPTION_6     6666 non-null   object \n",
            " 3   ACTIVE_STATUS           6666 non-null   object \n",
            " 4   TRANSACTIONS_RECIEVED   6666 non-null   object \n",
            " 5   ACCOUNT_DEBIT           6666 non-null   object \n",
            " 6   ACCOUNT_CREDIT          6666 non-null   object \n",
            " 7   NUMBER_OF_PAYMENT_TRXN  6666 non-null   object \n",
            " 8   VALUE_SENT              6666 non-null   object \n",
            " 9   HIGHEST_VALUE           6666 non-null   object \n",
            " 10  VALUE_RECIEVED          6666 non-null   object \n",
            " 11  TRXN_COUNT              6666 non-null   object \n",
            " 12  BANK_TRANS              6666 non-null   object \n",
            " 13  OTHER_RECEIPTS          6666 non-null   object \n",
            " 14  TOTAL_BANK_TRANS        6666 non-null   object \n",
            " 15  TOTAL_PAYMENTS          6666 non-null   object \n",
            " 16  TOTAL_MONEY_IN_3        6666 non-null   object \n",
            " 17  TOTAL_MONEY_OUT_3       6666 non-null   object \n",
            " 18  CURR_POINTS             6666 non-null   object \n",
            " 19  RDM_POINTS_6            6666 non-null   object \n",
            " 20  LOAN_BLACKLIST_DAYS     6666 non-null   object \n",
            " 21  CURR_DEVICE_MAKE        6666 non-null   object \n",
            " 22  CURR_DEVICE_RRP         6666 non-null   object \n",
            " 23  Target                  6666 non-null   int32  \n",
            " 24  Age                     6666 non-null   float64\n",
            " 25  Gender_M                6666 non-null   uint8  \n",
            " 26  LOAN_BLACKLIST_1        6666 non-null   uint8  \n",
            "dtypes: float64(1), int32(1), object(23), uint8(2)\n",
            "memory usage: 1.3+ MB\n"
          ]
        }
      ],
      "source": [
        "train_df.info()"
      ]
    },
    {
      "cell_type": "code",
      "execution_count": null,
      "id": "2e70f05d-c963-4701-98f7-d3d2231c06fb",
      "metadata": {
        "tags": [],
        "id": "2e70f05d-c963-4701-98f7-d3d2231c06fb",
        "outputId": "c774dcf5-e929-4d83-b5e1-b0e941136c92"
      },
      "outputs": [
        {
          "name": "stdout",
          "output_type": "stream",
          "text": [
            "<class 'pandas.core.frame.DataFrame'>\n",
            "Index: 1428 entries, 0704738101 to 0795167158\n",
            "Data columns (total 27 columns):\n",
            " #   Column                  Non-Null Count  Dtype  \n",
            "---  ------                  --------------  -----  \n",
            " 0   TRANSACTION_PERIOD      1428 non-null   object \n",
            " 1   TOPUP_CONSUMPTION       1428 non-null   object \n",
            " 2   TOPUP_CONSUMPTION_6     1428 non-null   object \n",
            " 3   ACTIVE_STATUS           1428 non-null   object \n",
            " 4   TRANSACTIONS_RECIEVED   1428 non-null   object \n",
            " 5   ACCOUNT_DEBIT           1428 non-null   object \n",
            " 6   ACCOUNT_CREDIT          1428 non-null   object \n",
            " 7   NUMBER_OF_PAYMENT_TRXN  1428 non-null   object \n",
            " 8   VALUE_SENT              1428 non-null   object \n",
            " 9   HIGHEST_VALUE           1428 non-null   object \n",
            " 10  VALUE_RECIEVED          1428 non-null   object \n",
            " 11  TRXN_COUNT              1428 non-null   object \n",
            " 12  BANK_TRANS              1428 non-null   object \n",
            " 13  OTHER_RECEIPTS          1428 non-null   object \n",
            " 14  TOTAL_BANK_TRANS        1428 non-null   object \n",
            " 15  TOTAL_PAYMENTS          1428 non-null   object \n",
            " 16  TOTAL_MONEY_IN_3        1428 non-null   object \n",
            " 17  TOTAL_MONEY_OUT_3       1428 non-null   object \n",
            " 18  CURR_POINTS             1428 non-null   object \n",
            " 19  RDM_POINTS_6            1428 non-null   object \n",
            " 20  LOAN_BLACKLIST_DAYS     1428 non-null   object \n",
            " 21  CURR_DEVICE_MAKE        1428 non-null   object \n",
            " 22  CURR_DEVICE_RRP         1428 non-null   object \n",
            " 23  Target                  1428 non-null   int32  \n",
            " 24  Age                     1428 non-null   float64\n",
            " 25  Gender_M                1428 non-null   uint8  \n",
            " 26  LOAN_BLACKLIST_1        1428 non-null   uint8  \n",
            "dtypes: float64(1), int32(1), object(23), uint8(2)\n",
            "memory usage: 287.3+ KB\n"
          ]
        }
      ],
      "source": [
        "validation_df.info()"
      ]
    },
    {
      "cell_type": "code",
      "execution_count": null,
      "id": "2acbb9c3-9196-48e0-9322-49b3ab29ac81",
      "metadata": {
        "tags": [],
        "id": "2acbb9c3-9196-48e0-9322-49b3ab29ac81",
        "outputId": "f0dad44b-ab2c-4e6e-d1a1-dea5907e1c42"
      },
      "outputs": [
        {
          "name": "stdout",
          "output_type": "stream",
          "text": [
            "<class 'pandas.core.frame.DataFrame'>\n",
            "Index: 1429 entries, 0768784324 to 0715807900\n",
            "Data columns (total 27 columns):\n",
            " #   Column                  Non-Null Count  Dtype  \n",
            "---  ------                  --------------  -----  \n",
            " 0   TRANSACTION_PERIOD      1429 non-null   object \n",
            " 1   TOPUP_CONSUMPTION       1429 non-null   object \n",
            " 2   TOPUP_CONSUMPTION_6     1429 non-null   object \n",
            " 3   ACTIVE_STATUS           1429 non-null   object \n",
            " 4   TRANSACTIONS_RECIEVED   1429 non-null   object \n",
            " 5   ACCOUNT_DEBIT           1429 non-null   object \n",
            " 6   ACCOUNT_CREDIT          1429 non-null   object \n",
            " 7   NUMBER_OF_PAYMENT_TRXN  1429 non-null   object \n",
            " 8   VALUE_SENT              1429 non-null   object \n",
            " 9   HIGHEST_VALUE           1429 non-null   object \n",
            " 10  VALUE_RECIEVED          1429 non-null   object \n",
            " 11  TRXN_COUNT              1429 non-null   object \n",
            " 12  BANK_TRANS              1429 non-null   object \n",
            " 13  OTHER_RECEIPTS          1429 non-null   object \n",
            " 14  TOTAL_BANK_TRANS        1429 non-null   object \n",
            " 15  TOTAL_PAYMENTS          1429 non-null   object \n",
            " 16  TOTAL_MONEY_IN_3        1429 non-null   object \n",
            " 17  TOTAL_MONEY_OUT_3       1429 non-null   object \n",
            " 18  CURR_POINTS             1429 non-null   object \n",
            " 19  RDM_POINTS_6            1429 non-null   object \n",
            " 20  LOAN_BLACKLIST_DAYS     1429 non-null   object \n",
            " 21  CURR_DEVICE_MAKE        1429 non-null   object \n",
            " 22  CURR_DEVICE_RRP         1429 non-null   object \n",
            " 23  Target                  1429 non-null   int32  \n",
            " 24  Age                     1429 non-null   float64\n",
            " 25  Gender_M                1429 non-null   uint8  \n",
            " 26  LOAN_BLACKLIST_1        1429 non-null   uint8  \n",
            "dtypes: float64(1), int32(1), object(23), uint8(2)\n",
            "memory usage: 287.5+ KB\n"
          ]
        }
      ],
      "source": [
        "test_df.info()"
      ]
    },
    {
      "cell_type": "code",
      "execution_count": null,
      "id": "2c1e28e3-df5b-4017-ac85-a448afffebba",
      "metadata": {
        "tags": [],
        "id": "2c1e28e3-df5b-4017-ac85-a448afffebba",
        "outputId": "9b8bccd1-7fd3-47b6-87a7-331a661ed54c"
      },
      "outputs": [
        {
          "name": "stdout",
          "output_type": "stream",
          "text": [
            "Missing values in train: 0\n",
            "Missing values in validation: 0\n",
            "Missing values in test: 0\n"
          ]
        }
      ],
      "source": [
        "# Handle missing values in the 'Gender' column using proportions as previously shown\n",
        "# ...\n",
        "\n",
        "# Check for missing values\n",
        "missing_values_train = train_df.isnull().sum().sum()\n",
        "missing_values_validation = validation_df.isnull().sum().sum()\n",
        "missing_values_test = test_df.isnull().sum().sum()\n",
        "print(f\"Missing values in train: {missing_values_train}\")\n",
        "print(f\"Missing values in validation: {missing_values_validation}\")\n",
        "print(f\"Missing values in test: {missing_values_test}\")\n"
      ]
    },
    {
      "cell_type": "code",
      "execution_count": null,
      "id": "d21b3f2f-de61-4515-b735-c7532e606fd6",
      "metadata": {
        "id": "d21b3f2f-de61-4515-b735-c7532e606fd6"
      },
      "outputs": [],
      "source": []
    },
    {
      "cell_type": "code",
      "execution_count": null,
      "id": "981a958c-fc35-4d39-b6b5-5a361c2e3d3d",
      "metadata": {
        "tags": [],
        "id": "981a958c-fc35-4d39-b6b5-5a361c2e3d3d"
      },
      "outputs": [],
      "source": [
        "# # Split features and target for training set\n",
        "# X_train = train_df.drop(columns=['Target'])\n",
        "# y_train = train_df['Target']\n",
        "\n",
        "# # Split features and target for validation set\n",
        "# X_validation = validation_df.drop(columns=['Target'])\n",
        "# y_validation = validation_df['Target']\n"
      ]
    },
    {
      "cell_type": "code",
      "execution_count": null,
      "id": "3435b5af-97d4-43c6-9b93-d96746f7ca8e",
      "metadata": {
        "tags": [],
        "id": "3435b5af-97d4-43c6-9b93-d96746f7ca8e"
      },
      "outputs": [],
      "source": [
        "# Drop the 'Target' feature from the input data if it's included\n",
        "if 'Target' in train_df:\n",
        "    train_df = train_df.drop(columns=['Target'])\n"
      ]
    },
    {
      "cell_type": "code",
      "execution_count": null,
      "id": "813816ff-f60c-406f-9ccc-c420b84a5248",
      "metadata": {
        "id": "813816ff-f60c-406f-9ccc-c420b84a5248"
      },
      "outputs": [],
      "source": [
        "# Drop the 'Target' feature from the input data if it's included\n",
        "if 'Target' in validation_df:\n",
        "    validation_df = validation_df.drop(columns=['Target'])\n"
      ]
    },
    {
      "cell_type": "code",
      "execution_count": null,
      "id": "44f6be43-d781-4ace-88b8-ad8fd7b6711f",
      "metadata": {
        "id": "44f6be43-d781-4ace-88b8-ad8fd7b6711f"
      },
      "outputs": [],
      "source": [
        "if 'Target' in test_df:\n",
        "    test_df = test_df.drop(columns=['Target'])"
      ]
    },
    {
      "cell_type": "code",
      "execution_count": null,
      "id": "9ef688d7-2d9e-42cd-b517-8bbc7678809f",
      "metadata": {
        "tags": [],
        "id": "9ef688d7-2d9e-42cd-b517-8bbc7678809f"
      },
      "outputs": [],
      "source": [
        "import joblib\n",
        "\n",
        "# # Load the model from the file\n",
        "# loaded_model = joblib.load('tuned_random_forest.pkl')\n",
        "\n"
      ]
    },
    {
      "cell_type": "code",
      "execution_count": null,
      "id": "345ff555-cd3e-4a25-bd2a-1b84f96a62d9",
      "metadata": {
        "tags": [],
        "id": "345ff555-cd3e-4a25-bd2a-1b84f96a62d9"
      },
      "outputs": [],
      "source": [
        "# Load the model\n",
        "loaded_model = joblib.load('tuned_random_forest.pkl')\n",
        "\n",
        "# Load the 'msisdn' column\n",
        "msisdn_column = pd.read_csv('Msisdn.csv')\n",
        "\n",
        "# Reassign 'msisdn' column to the DataFrame if needed\n",
        "# Assuming the DataFrame without 'msisdn' column is X_test\n",
        "# X_test_with_msisdn = pd.concat([X_test.reset_index(drop=True), msisdn_column], axis=1)\n"
      ]
    },
    {
      "cell_type": "code",
      "execution_count": null,
      "id": "f2dddae2-8ced-4e59-864b-8c51c23c745b",
      "metadata": {
        "id": "f2dddae2-8ced-4e59-864b-8c51c23c745b"
      },
      "outputs": [],
      "source": [
        "import pandas as pd\n",
        "\n",
        "# Assuming you have binary predictions for train, validation, and test datasets\n",
        "# You can create a DataFrame with all data rows and their respective predicted values\n",
        "\n",
        "# Example binary predictions (replace with your actual binary predictions)\n",
        "train_predictions = loaded_model.predict(train_df)\n",
        "validation_predictions = loaded_model.predict(validation_df)\n",
        "test_predictions = loaded_model.predict(test_df)\n",
        "\n",
        "# Example probabilities (replace with your actual probabilities)\n",
        "train_probabilities = loaded_model.predict_proba(train_df)[:, 1]\n",
        "validation_probabilities = loaded_model.predict_proba(validation_df)[:, 1]\n",
        "test_probabilities = loaded_model.predict_proba(test_df)[:, 1]\n",
        "\n",
        "# Create DataFrames for train, validation, and test datasets\n",
        "train_df = pd.DataFrame({'Index': range(len(train_predictions)), 'Predicted_Target': train_predictions, 'Probability_of_Defaults': train_probabilities})\n",
        "validation_df = pd.DataFrame({'Index': range(len(train_predictions), len(train_predictions) + len(validation_predictions)), 'Predicted_Target': validation_predictions, 'Probability_of_Defaults': validation_probabilities})\n",
        "test_df = pd.DataFrame({'Index': range(len(train_predictions) + len(validation_predictions), len(train_predictions) + len(validation_predictions) + len(test_predictions)), 'Predicted_Target': test_predictions, 'Probability_of_Defaults': test_probabilities})\n",
        "\n",
        "# Combine them into one DataFrame\n",
        "all_predictions_df = pd.concat([train_df, validation_df, test_df], ignore_index=True)\n",
        "\n",
        "# Now, you have a DataFrame 'all_predictions_df' with all data rows, their respective binary predictions, and probability of defaulting.\n",
        "# It includes the 'Index', 'Predicted_Target', and 'Probability_of_Defaults' columns.\n",
        "\n",
        "# Define your score calculation logic here\n",
        "def calculate_score(probability):\n",
        "    # For example, you can convert the probability to a score between 0 and 100\n",
        "    # Adjust this logic based on your specific requirements\n",
        "    return int(probability * 100)\n",
        "\n",
        "# Apply the score calculation to each row\n",
        "all_predictions_df['Score'] = all_predictions_df['Probability_of_Defaults'].apply(calculate_score)\n"
      ]
    },
    {
      "cell_type": "code",
      "execution_count": 2,
      "id": "10f336f5-c2a8-4efa-9dc5-4649864e50b2",
      "metadata": {
        "tags": [],
        "id": "10f336f5-c2a8-4efa-9dc5-4649864e50b2"
      },
      "outputs": [],
      "source": [
        "# all_predictions_df"
      ]
    },
    {
      "cell_type": "code",
      "execution_count": null,
      "id": "5f0b2841-e516-4813-9689-99a810636672",
      "metadata": {
        "tags": [],
        "id": "5f0b2841-e516-4813-9689-99a810636672"
      },
      "outputs": [],
      "source": [
        "# Join 'Msisdn' column to the predictions DataFrame using index\n",
        "predictions_df = pd.concat([msisdn_column, all_predictions_df], axis=1)\n"
      ]
    },
    {
      "cell_type": "code",
      "execution_count": 3,
      "id": "d47cb19b-c999-4c4f-a4d5-68b961d2b73b",
      "metadata": {
        "tags": [],
        "id": "d47cb19b-c999-4c4f-a4d5-68b961d2b73b"
      },
      "outputs": [],
      "source": [
        "# predictions_df"
      ]
    },
    {
      "cell_type": "code",
      "execution_count": null,
      "id": "913762e2-d2a0-45c4-82cb-0ef27f0a5cf0",
      "metadata": {
        "tags": [],
        "id": "913762e2-d2a0-45c4-82cb-0ef27f0a5cf0"
      },
      "outputs": [],
      "source": [
        "# Assuming 'predictions_df' contains the DataFrame with predictions, probabilities, scores, and Msisdn information\n",
        "\n",
        "# Adding 254 to every value in the 'Msisdn' column and formatting it as '+254' followed by the updated value\n",
        "predictions_df['Msisdn'] = '+254' + (predictions_df['Msisdn'] + 254).astype(str)\n",
        "\n",
        "# Now, the 'Msisdn' column in 'predictions_df' will have the values formatted as '+254' followed by the updated Msisdn numbers\n",
        "# Drop Index Column\n",
        "predictions_df = predictions_df.drop(columns=['Index'], errors='ignore')\n"
      ]
    },
    {
      "cell_type": "code",
      "execution_count": 1,
      "id": "0692ce0c-23d0-4ce3-b784-45d26e08ae65",
      "metadata": {
        "tags": [],
        "id": "0692ce0c-23d0-4ce3-b784-45d26e08ae65"
      },
      "outputs": [],
      "source": [
        "# predictions_df"
      ]
    },
    {
      "cell_type": "code",
      "execution_count": null,
      "id": "f65c85df-3da2-4018-9291-d328f917b22d",
      "metadata": {
        "id": "f65c85df-3da2-4018-9291-d328f917b22d"
      },
      "outputs": [],
      "source": []
    },
    {
      "cell_type": "code",
      "execution_count": null,
      "id": "3d44f67e-29a1-4d75-8504-dd431e54bc82",
      "metadata": {
        "id": "3d44f67e-29a1-4d75-8504-dd431e54bc82"
      },
      "outputs": [],
      "source": []
    },
    {
      "cell_type": "code",
      "execution_count": null,
      "id": "d4b1b18b-2a83-4fb2-a834-81278aed0756",
      "metadata": {
        "id": "d4b1b18b-2a83-4fb2-a834-81278aed0756"
      },
      "outputs": [],
      "source": []
    },
    {
      "cell_type": "code",
      "execution_count": null,
      "id": "0a0f85d5-67f7-4a62-b1e1-8f4ed02a833f",
      "metadata": {
        "id": "0a0f85d5-67f7-4a62-b1e1-8f4ed02a833f"
      },
      "outputs": [],
      "source": []
    },
    {
      "cell_type": "code",
      "execution_count": null,
      "id": "9b8f3e99-4c0d-46b9-ad40-50ae98e47dcf",
      "metadata": {
        "id": "9b8f3e99-4c0d-46b9-ad40-50ae98e47dcf"
      },
      "outputs": [],
      "source": []
    },
    {
      "cell_type": "code",
      "execution_count": null,
      "id": "97a491bf-7699-4e2e-9505-eb08245be7b8",
      "metadata": {
        "id": "97a491bf-7699-4e2e-9505-eb08245be7b8"
      },
      "outputs": [],
      "source": []
    }
  ],
  "metadata": {
    "kernelspec": {
      "display_name": "Python 3 (ipykernel)",
      "language": "python",
      "name": "python3"
    },
    "language_info": {
      "codemirror_mode": {
        "name": "ipython",
        "version": 3
      },
      "file_extension": ".py",
      "mimetype": "text/x-python",
      "name": "python",
      "nbconvert_exporter": "python",
      "pygments_lexer": "ipython3",
      "version": "3.10.9"
    },
    "colab": {
      "provenance": []
    }
  },
  "nbformat": 4,
  "nbformat_minor": 5
}